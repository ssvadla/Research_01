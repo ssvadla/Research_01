{
  "nbformat": 4,
  "nbformat_minor": 0,
  "metadata": {
    "colab": {
      "name": "Supervised_allData_RF.ipynb",
      "provenance": [],
      "collapsed_sections": [],
      "authorship_tag": "ABX9TyN2eW5+kxX4OSRRInNq1NbH",
      "include_colab_link": true
    },
    "kernelspec": {
      "name": "python3",
      "display_name": "Python 3"
    },
    "language_info": {
      "name": "python"
    }
  },
  "cells": [
    {
      "cell_type": "markdown",
      "metadata": {
        "id": "view-in-github",
        "colab_type": "text"
      },
      "source": [
        "<a href=\"https://colab.research.google.com/github/ssvadla/Research_01/blob/main/Supervised_allData_RF.ipynb\" target=\"_parent\"><img src=\"https://colab.research.google.com/assets/colab-badge.svg\" alt=\"Open In Colab\"/></a>"
      ]
    },
    {
      "cell_type": "code",
      "metadata": {
        "colab": {
          "base_uri": "https://localhost:8080/",
          "height": 223
        },
        "id": "dKpWktcaIwIV",
        "outputId": "fe0bbda3-ffc1-4ef9-e10a-9fc8fac281c6"
      },
      "source": [
        "import pandas as pd\n",
        "from google.colab import drive\n",
        "\n",
        "drive.mount('/content/drive')\n",
        "\n",
        "train1 = pd.read_csv('/content/drive/My Drive/Research/train_data1.csv')\n",
        "train2 = pd.read_csv('/content/drive/My Drive/Research/train_data2.csv')\n",
        "train3 = pd.read_csv('/content/drive/My Drive/Research/train_data3.csv')\n",
        "train4 = pd.read_csv('/content/drive/My Drive/Research/train_data4.csv')\n",
        "train5 = pd.read_csv('/content/drive/My Drive/Research/train_data5.csv')\n",
        "train6 = pd.read_csv('/content/drive/My Drive/Research/train_data6.csv')\n",
        "train7 = pd.read_csv('/content/drive/My Drive/Research/train_data7.csv')\n",
        "train8 = pd.read_csv('/content/drive/My Drive/Research/train_data8.csv')\n",
        "train9 = pd.read_csv('/content/drive/My Drive/Research/train_data9.csv')\n",
        "train10 = pd.read_csv('/content/drive/My Drive/Research/train_data10.csv')\n",
        "train_highKappa = pd.read_csv('/content/drive/My Drive/Research/train_data_highkappa.csv')\n",
        "train1.head()"
      ],
      "execution_count": 1,
      "outputs": [
        {
          "output_type": "stream",
          "text": [
            "Mounted at /content/drive\n"
          ],
          "name": "stdout"
        },
        {
          "output_type": "execute_result",
          "data": {
            "text/html": [
              "<div>\n",
              "<style scoped>\n",
              "    .dataframe tbody tr th:only-of-type {\n",
              "        vertical-align: middle;\n",
              "    }\n",
              "\n",
              "    .dataframe tbody tr th {\n",
              "        vertical-align: top;\n",
              "    }\n",
              "\n",
              "    .dataframe thead th {\n",
              "        text-align: right;\n",
              "    }\n",
              "</style>\n",
              "<table border=\"1\" class=\"dataframe\">\n",
              "  <thead>\n",
              "    <tr style=\"text-align: right;\">\n",
              "      <th></th>\n",
              "      <th>Unnamed: 0</th>\n",
              "      <th>Sentence</th>\n",
              "      <th>Target</th>\n",
              "    </tr>\n",
              "  </thead>\n",
              "  <tbody>\n",
              "    <tr>\n",
              "      <th>0</th>\n",
              "      <td>659</td>\n",
              "      <td>Appellant had stated to the officers that she ...</td>\n",
              "      <td>Invalid</td>\n",
              "    </tr>\n",
              "    <tr>\n",
              "      <th>1</th>\n",
              "      <td>3456</td>\n",
              "      <td>We shall discuss the facts more fully in conne...</td>\n",
              "      <td>Others</td>\n",
              "    </tr>\n",
              "    <tr>\n",
              "      <th>2</th>\n",
              "      <td>2043</td>\n",
              "      <td>â€œPerjury is a false statement, either writte...</td>\n",
              "      <td>Invalid</td>\n",
              "    </tr>\n",
              "    <tr>\n",
              "      <th>3</th>\n",
              "      <td>3344</td>\n",
              "      <td>The offense is felony theft by false pretext; ...</td>\n",
              "      <td>Issue</td>\n",
              "    </tr>\n",
              "    <tr>\n",
              "      <th>4</th>\n",
              "      <td>3231</td>\n",
              "      <td>Numerous contentions urging the commission of ...</td>\n",
              "      <td>Issue</td>\n",
              "    </tr>\n",
              "  </tbody>\n",
              "</table>\n",
              "</div>"
            ],
            "text/plain": [
              "   Unnamed: 0                                           Sentence   Target\n",
              "0         659  Appellant had stated to the officers that she ...  Invalid\n",
              "1        3456  We shall discuss the facts more fully in conne...   Others\n",
              "2        2043  â€œPerjury is a false statement, either writte...  Invalid\n",
              "3        3344  The offense is felony theft by false pretext; ...    Issue\n",
              "4        3231  Numerous contentions urging the commission of ...    Issue"
            ]
          },
          "metadata": {
            "tags": []
          },
          "execution_count": 1
        }
      ]
    },
    {
      "cell_type": "code",
      "metadata": {
        "colab": {
          "base_uri": "https://localhost:8080/"
        },
        "id": "9SMd7aYJJsox",
        "outputId": "8256d22e-abab-4d43-ccf3-935194bde356"
      },
      "source": [
        "len(train1)\n"
      ],
      "execution_count": 2,
      "outputs": [
        {
          "output_type": "execute_result",
          "data": {
            "text/plain": [
              "3476"
            ]
          },
          "metadata": {
            "tags": []
          },
          "execution_count": 2
        }
      ]
    },
    {
      "cell_type": "code",
      "metadata": {
        "colab": {
          "base_uri": "https://localhost:8080/"
        },
        "id": "dAaBt7RZJzxI",
        "outputId": "fa5fbd0d-6ea3-4b5a-b2c8-293e972e06cc"
      },
      "source": [
        "len(train2)"
      ],
      "execution_count": 3,
      "outputs": [
        {
          "output_type": "execute_result",
          "data": {
            "text/plain": [
              "3476"
            ]
          },
          "metadata": {
            "tags": []
          },
          "execution_count": 3
        }
      ]
    },
    {
      "cell_type": "code",
      "metadata": {
        "id": "kU712KC3JmLM"
      },
      "source": [
        ""
      ],
      "execution_count": 3,
      "outputs": []
    },
    {
      "cell_type": "code",
      "metadata": {
        "colab": {
          "base_uri": "https://localhost:8080/"
        },
        "id": "c13Q_U4xOVv7",
        "outputId": "e82ffb60-d754-4f57-c2ca-1afdd3c8de9d"
      },
      "source": [
        "train = train1\n",
        "train_list = [train2,train3,train4,train5,train6,train7,train8,train9,train10,train_highKappa]\n",
        "for i in train_list:\n",
        "  print(i)\n",
        "  train = train.append(i)\n",
        "\n"
      ],
      "execution_count": 4,
      "outputs": [
        {
          "output_type": "stream",
          "text": [
            "      Unnamed: 0                                           Sentence    Target\n",
            "0            659  Appellant had stated to the officers that she ...   Invalid\n",
            "1           3456  We shall discuss the facts more fully in conne...    Others\n",
            "2           2043  â€œPerjury is a false statement, either writte...   Invalid\n",
            "3           3344  The offense is felony theft by false pretext; ...     Issue\n",
            "4           3231  Numerous contentions urging the commission of ...     Issue\n",
            "...          ...                                                ...       ...\n",
            "3471        1561  Therefore, the deletion of reference to the Cl...  Analysis\n",
            "3472         327  A paraffin test, which was made on the appella...  Analysis\n",
            "3473        1462  The sole question presented is the sufficiency...     Facts\n",
            "3474        1169  The answer was in response to the question ask...     Facts\n",
            "3475        1470  The Stateâ€™s evidence shows that in the sprin...   Invalid\n",
            "\n",
            "[3476 rows x 3 columns]\n",
            "      Unnamed: 0                                           Sentence    Target\n",
            "0            659  Appellant had stated to the officers that she ...   Invalid\n",
            "1           3456  We shall discuss the facts more fully in conne...    Others\n",
            "2           2043  â€œPerjury is a false statement, either writte...   Invalid\n",
            "3           3344  The offense is felony theft by false pretext; ...     Issue\n",
            "4           3231  Numerous contentions urging the commission of ...     Issue\n",
            "...          ...                                                ...       ...\n",
            "3471         621  Claims against the Commercial Port, and the Pu...     Facts\n",
            "3472         520  Appellantâ€™s first four claims for reversal r...     Issue\n",
            "3473         182  State, 52 N.Y.S.2d 894 (1945); 45 Cal.Jur.2d, ...    Others\n",
            "3474         841  In the case at bar the stateâ€™s witness did e...  Analysis\n",
            "3475         833  In rebuttal, the State called witnesses who te...     Facts\n",
            "\n",
            "[3476 rows x 3 columns]\n",
            "      Unnamed: 0                                           Sentence    Target\n",
            "0            659  Appellant had stated to the officers that she ...   Invalid\n",
            "1           3456  We shall discuss the facts more fully in conne...    Others\n",
            "2           2043  â€œPerjury is a false statement, either writte...   Invalid\n",
            "3           3344  The offense is felony theft by false pretext; ...     Issue\n",
            "4           3231  Numerous contentions urging the commission of ...     Issue\n",
            "...          ...                                                ...       ...\n",
            "3471         288  120, 157 S.W. 2d 648, where it was held that t...   Invalid\n",
            "3472          99           Handing v. United States, supra at 2904.    Others\n",
            "3473        1665  We find no error in the admission of the testi...  Analysis\n",
            "3474         181                   Smith v. United States, 97 S.Ct.   Invalid\n",
            "3475         916  It was further stipulated and agreed that had ...     Facts\n",
            "\n",
            "[3476 rows x 3 columns]\n",
            "      Unnamed: 0  ...            Target\n",
            "0            659  ...           Invalid\n",
            "1           3456  ...            Others\n",
            "2           2043  ...           Invalid\n",
            "3           3344  ...             Issue\n",
            "4           3231  ...             Issue\n",
            "...          ...  ...               ...\n",
            "3471         999  ...             Facts\n",
            "3472        1652  ...             Facts\n",
            "3473         422  ...             Facts\n",
            "3474         718  ...  Rule/Law/Holding\n",
            "3475        1608  ...             Facts\n",
            "\n",
            "[3476 rows x 3 columns]\n",
            "      Unnamed: 0  ...            Target\n",
            "0            659  ...           Invalid\n",
            "1           3456  ...            Others\n",
            "2           2043  ...           Invalid\n",
            "3           3344  ...             Issue\n",
            "4           3231  ...             Issue\n",
            "...          ...  ...               ...\n",
            "3471        1473  ...             Facts\n",
            "3472        1431  ...             Facts\n",
            "3473        1139  ...             Facts\n",
            "3474        1269  ...             Facts\n",
            "3475         274  ...  Rule/Law/Holding\n",
            "\n",
            "[3476 rows x 3 columns]\n",
            "      Unnamed: 0  ...            Target\n",
            "0            659  ...           Invalid\n",
            "1           3456  ...            Others\n",
            "2           2043  ...           Invalid\n",
            "3           3344  ...             Issue\n",
            "4           3231  ...             Issue\n",
            "...          ...  ...               ...\n",
            "3471        1020  ...             Facts\n",
            "3472         391  ...          Analysis\n",
            "3473        1522  ...             Facts\n",
            "3474         933  ...             Facts\n",
            "3475         909  ...  Rule/Law/Holding\n",
            "\n",
            "[3476 rows x 3 columns]\n",
            "      Unnamed: 0                                           Sentence   Target\n",
            "0            659  Appellant had stated to the officers that she ...  Invalid\n",
            "1           3456  We shall discuss the facts more fully in conne...   Others\n",
            "2           2043  â€œPerjury is a false statement, either writte...  Invalid\n",
            "3           3344  The offense is felony theft by false pretext; ...    Issue\n",
            "4           3231  Numerous contentions urging the commission of ...    Issue\n",
            "...          ...                                                ...      ...\n",
            "3471         738                      He just kept going like that.    Facts\n",
            "3472        1099  She further testified that she told the office...    Facts\n",
            "3473         613  Cecil Ray testified that Mrs. Stockard and app...    Facts\n",
            "3474        1690  We overrule appellantâ€™s remaining contention...    Facts\n",
            "3475        1210  The claim is for \"all injuries proximately cau...    Issue\n",
            "\n",
            "[3476 rows x 3 columns]\n",
            "      Unnamed: 0  ...            Target\n",
            "0            659  ...           Invalid\n",
            "1           3456  ...            Others\n",
            "2           2043  ...           Invalid\n",
            "3           3344  ...             Issue\n",
            "4           3231  ...             Issue\n",
            "...          ...  ...               ...\n",
            "3471         180  ...           Invalid\n",
            "3472         909  ...  Rule/Law/Holding\n",
            "3473         905  ...  Rule/Law/Holding\n",
            "3474        1360  ...          Analysis\n",
            "3475        1264  ...             Facts\n",
            "\n",
            "[3476 rows x 3 columns]\n",
            "      Unnamed: 0                                           Sentence    Target\n",
            "0            659  Appellant had stated to the officers that she ...   Invalid\n",
            "1           3456  We shall discuss the facts more fully in conne...    Others\n",
            "2           2043  â€œPerjury is a false statement, either writte...   Invalid\n",
            "3           3344  The offense is felony theft by false pretext; ...     Issue\n",
            "4           3231  Numerous contentions urging the commission of ...     Issue\n",
            "...          ...                                                ...       ...\n",
            "3471        1283  The evidence is sufficient to support the conv...  Analysis\n",
            "3472        1477  The stateâ€™s proof further shows that after a...   Invalid\n",
            "3473         780  Honyea testified that he obtained the pistol a...     Facts\n",
            "3474         628                Continuing, the Government asserts:    Others\n",
            "3475        1306  The first cause of action sounds in negligence...     Facts\n",
            "\n",
            "[3476 rows x 3 columns]\n",
            "      Unnamed: 0                                           Sentence    Target\n",
            "0            659  Appellant had stated to the officers that she ...   Invalid\n",
            "1           3456  We shall discuss the facts more fully in conne...    Others\n",
            "2           2043  â€œPerjury is a false statement, either writte...   Invalid\n",
            "3           3344  The offense is felony theft by false pretext; ...     Issue\n",
            "4           3231  Numerous contentions urging the commission of ...     Issue\n",
            "...          ...                                                ...       ...\n",
            "2946         677  Appellant presents as error an informal bill o...     Issue\n",
            "2947        3442  We are cited no authority, and know of none, w...  Analysis\n",
            "2948        3009  “I asked her to have intercourse with me and s...     Facts\n",
            "2949        1989  and Art. 82 P.C. which provide, in effect, tha...   Invalid\n",
            "2950        3006  “Appellant takes issue with our statement in t...   Invalid\n",
            "\n",
            "[2951 rows x 3 columns]\n"
          ],
          "name": "stdout"
        }
      ]
    },
    {
      "cell_type": "code",
      "metadata": {
        "colab": {
          "base_uri": "https://localhost:8080/"
        },
        "id": "UBmxReURPl8t",
        "outputId": "e7b6be59-fbc9-4700-8b51-2c6f8d35fd95"
      },
      "source": [
        "print(len(train))"
      ],
      "execution_count": 5,
      "outputs": [
        {
          "output_type": "stream",
          "text": [
            "37711\n"
          ],
          "name": "stdout"
        }
      ]
    },
    {
      "cell_type": "code",
      "metadata": {
        "colab": {
          "base_uri": "https://localhost:8080/"
        },
        "id": "4vzqrFjJK-SB",
        "outputId": "b924a5a9-dd54-4ccd-a76f-58180f2a388c"
      },
      "source": [
        "train.sort_values(\"Sentence\", inplace = True)\n",
        "print(len(train))\n"
      ],
      "execution_count": 6,
      "outputs": [
        {
          "output_type": "stream",
          "text": [
            "37711\n"
          ],
          "name": "stdout"
        }
      ]
    },
    {
      "cell_type": "code",
      "metadata": {
        "colab": {
          "base_uri": "https://localhost:8080/",
          "height": 362
        },
        "id": "KXtltgjCMlRe",
        "outputId": "5fa11f91-db81-4958-d697-7115af7c17f6"
      },
      "source": [
        "train.head(10)"
      ],
      "execution_count": 7,
      "outputs": [
        {
          "output_type": "execute_result",
          "data": {
            "text/html": [
              "<div>\n",
              "<style scoped>\n",
              "    .dataframe tbody tr th:only-of-type {\n",
              "        vertical-align: middle;\n",
              "    }\n",
              "\n",
              "    .dataframe tbody tr th {\n",
              "        vertical-align: top;\n",
              "    }\n",
              "\n",
              "    .dataframe thead th {\n",
              "        text-align: right;\n",
              "    }\n",
              "</style>\n",
              "<table border=\"1\" class=\"dataframe\">\n",
              "  <thead>\n",
              "    <tr style=\"text-align: right;\">\n",
              "      <th></th>\n",
              "      <th>Unnamed: 0</th>\n",
              "      <th>Sentence</th>\n",
              "      <th>Target</th>\n",
              "    </tr>\n",
              "  </thead>\n",
              "  <tbody>\n",
              "    <tr>\n",
              "      <th>1364</th>\n",
              "      <td>239</td>\n",
              "      <td>\"(I)n the First Amendment area 'government may...</td>\n",
              "      <td>Invalid</td>\n",
              "    </tr>\n",
              "    <tr>\n",
              "      <th>1364</th>\n",
              "      <td>239</td>\n",
              "      <td>\"(I)n the First Amendment area 'government may...</td>\n",
              "      <td>Invalid</td>\n",
              "    </tr>\n",
              "    <tr>\n",
              "      <th>3342</th>\n",
              "      <td>264</td>\n",
              "      <td>\"(I)n the First Amendment area 'government may...</td>\n",
              "      <td>Invalid</td>\n",
              "    </tr>\n",
              "    <tr>\n",
              "      <th>1364</th>\n",
              "      <td>239</td>\n",
              "      <td>\"(I)n the First Amendment area 'government may...</td>\n",
              "      <td>Invalid</td>\n",
              "    </tr>\n",
              "    <tr>\n",
              "      <th>1364</th>\n",
              "      <td>239</td>\n",
              "      <td>\"(I)n the First Amendment area 'government may...</td>\n",
              "      <td>Invalid</td>\n",
              "    </tr>\n",
              "    <tr>\n",
              "      <th>3083</th>\n",
              "      <td>264</td>\n",
              "      <td>\"(I)n the First Amendment area 'government may...</td>\n",
              "      <td>Invalid</td>\n",
              "    </tr>\n",
              "    <tr>\n",
              "      <th>1364</th>\n",
              "      <td>239</td>\n",
              "      <td>\"(I)n the First Amendment area 'government may...</td>\n",
              "      <td>Invalid</td>\n",
              "    </tr>\n",
              "    <tr>\n",
              "      <th>1364</th>\n",
              "      <td>239</td>\n",
              "      <td>\"(I)n the First Amendment area 'government may...</td>\n",
              "      <td>Invalid</td>\n",
              "    </tr>\n",
              "    <tr>\n",
              "      <th>1364</th>\n",
              "      <td>239</td>\n",
              "      <td>\"(I)n the First Amendment area 'government may...</td>\n",
              "      <td>Invalid</td>\n",
              "    </tr>\n",
              "    <tr>\n",
              "      <th>1364</th>\n",
              "      <td>239</td>\n",
              "      <td>\"(I)n the First Amendment area 'government may...</td>\n",
              "      <td>Invalid</td>\n",
              "    </tr>\n",
              "  </tbody>\n",
              "</table>\n",
              "</div>"
            ],
            "text/plain": [
              "      Unnamed: 0                                           Sentence   Target\n",
              "1364         239  \"(I)n the First Amendment area 'government may...  Invalid\n",
              "1364         239  \"(I)n the First Amendment area 'government may...  Invalid\n",
              "3342         264  \"(I)n the First Amendment area 'government may...  Invalid\n",
              "1364         239  \"(I)n the First Amendment area 'government may...  Invalid\n",
              "1364         239  \"(I)n the First Amendment area 'government may...  Invalid\n",
              "3083         264  \"(I)n the First Amendment area 'government may...  Invalid\n",
              "1364         239  \"(I)n the First Amendment area 'government may...  Invalid\n",
              "1364         239  \"(I)n the First Amendment area 'government may...  Invalid\n",
              "1364         239  \"(I)n the First Amendment area 'government may...  Invalid\n",
              "1364         239  \"(I)n the First Amendment area 'government may...  Invalid"
            ]
          },
          "metadata": {
            "tags": []
          },
          "execution_count": 7
        }
      ]
    },
    {
      "cell_type": "code",
      "metadata": {
        "id": "sGhA6QWYLoUe"
      },
      "source": [
        " new_train = train.drop_duplicates(subset =\"Sentence\")\n"
      ],
      "execution_count": 8,
      "outputs": []
    },
    {
      "cell_type": "code",
      "metadata": {
        "colab": {
          "base_uri": "https://localhost:8080/"
        },
        "id": "Gg-O9FkuNNjq",
        "outputId": "c6ddfcb7-5484-403b-ac9b-9fecb0f8df11"
      },
      "source": [
        "len(train)"
      ],
      "execution_count": 9,
      "outputs": [
        {
          "output_type": "execute_result",
          "data": {
            "text/plain": [
              "37711"
            ]
          },
          "metadata": {
            "tags": []
          },
          "execution_count": 9
        }
      ]
    },
    {
      "cell_type": "code",
      "metadata": {
        "colab": {
          "base_uri": "https://localhost:8080/"
        },
        "id": "DP-gW1ZiMyoz",
        "outputId": "e3753c6a-3633-4d38-c3c0-c5d5f37add4d"
      },
      "source": [
        "len(new_train)"
      ],
      "execution_count": 10,
      "outputs": [
        {
          "output_type": "execute_result",
          "data": {
            "text/plain": [
              "4416"
            ]
          },
          "metadata": {
            "tags": []
          },
          "execution_count": 10
        }
      ]
    },
    {
      "cell_type": "code",
      "metadata": {
        "colab": {
          "base_uri": "https://localhost:8080/",
          "height": 362
        },
        "id": "L7vMQSB5M18F",
        "outputId": "267de22e-858e-42b0-b2fd-c90a1db0c2f9"
      },
      "source": [
        "new_train.head(10)"
      ],
      "execution_count": 11,
      "outputs": [
        {
          "output_type": "execute_result",
          "data": {
            "text/html": [
              "<div>\n",
              "<style scoped>\n",
              "    .dataframe tbody tr th:only-of-type {\n",
              "        vertical-align: middle;\n",
              "    }\n",
              "\n",
              "    .dataframe tbody tr th {\n",
              "        vertical-align: top;\n",
              "    }\n",
              "\n",
              "    .dataframe thead th {\n",
              "        text-align: right;\n",
              "    }\n",
              "</style>\n",
              "<table border=\"1\" class=\"dataframe\">\n",
              "  <thead>\n",
              "    <tr style=\"text-align: right;\">\n",
              "      <th></th>\n",
              "      <th>Unnamed: 0</th>\n",
              "      <th>Sentence</th>\n",
              "      <th>Target</th>\n",
              "    </tr>\n",
              "  </thead>\n",
              "  <tbody>\n",
              "    <tr>\n",
              "      <th>1364</th>\n",
              "      <td>239</td>\n",
              "      <td>\"(I)n the First Amendment area 'government may...</td>\n",
              "      <td>Invalid</td>\n",
              "    </tr>\n",
              "    <tr>\n",
              "      <th>1833</th>\n",
              "      <td>185</td>\n",
              "      <td>\"... that nowhere in the statute was it stated...</td>\n",
              "      <td>Invalid</td>\n",
              "    </tr>\n",
              "    <tr>\n",
              "      <th>2431</th>\n",
              "      <td>415</td>\n",
              "      <td>\"Although a statute may be neither vague, over...</td>\n",
              "      <td>Rule/Law/Holding</td>\n",
              "    </tr>\n",
              "    <tr>\n",
              "      <th>2245</th>\n",
              "      <td>416</td>\n",
              "      <td>\"For even when pursuing a legitimate interest,...</td>\n",
              "      <td>Rule/Law/Holding</td>\n",
              "    </tr>\n",
              "    <tr>\n",
              "      <th>1561</th>\n",
              "      <td>25</td>\n",
              "      <td>\"If an indictment has been found or accusation...</td>\n",
              "      <td>Facts</td>\n",
              "    </tr>\n",
              "    <tr>\n",
              "      <th>1531</th>\n",
              "      <td>464</td>\n",
              "      <td>\"It is generally believed that one of the reas...</td>\n",
              "      <td>Analysis</td>\n",
              "    </tr>\n",
              "    <tr>\n",
              "      <th>3141</th>\n",
              "      <td>0</td>\n",
              "      <td>\"Many decisions have recognized that these ter...</td>\n",
              "      <td>Analysis</td>\n",
              "    </tr>\n",
              "    <tr>\n",
              "      <th>774</th>\n",
              "      <td>398</td>\n",
              "      <td>\"Mr. Haut [counsel for plaintiffs]: In exchang...</td>\n",
              "      <td>Facts</td>\n",
              "    </tr>\n",
              "    <tr>\n",
              "      <th>811</th>\n",
              "      <td>418</td>\n",
              "      <td>\"So long as the statute remains available to t...</td>\n",
              "      <td>Rule/Law/Holding</td>\n",
              "    </tr>\n",
              "    <tr>\n",
              "      <th>3300</th>\n",
              "      <td>1</td>\n",
              "      <td>\"That there may be marginal cases in which it ...</td>\n",
              "      <td>Rule/Law/Holding</td>\n",
              "    </tr>\n",
              "  </tbody>\n",
              "</table>\n",
              "</div>"
            ],
            "text/plain": [
              "      Unnamed: 0  ...            Target\n",
              "1364         239  ...           Invalid\n",
              "1833         185  ...           Invalid\n",
              "2431         415  ...  Rule/Law/Holding\n",
              "2245         416  ...  Rule/Law/Holding\n",
              "1561          25  ...             Facts\n",
              "1531         464  ...          Analysis\n",
              "3141           0  ...          Analysis\n",
              "774          398  ...             Facts\n",
              "811          418  ...  Rule/Law/Holding\n",
              "3300           1  ...  Rule/Law/Holding\n",
              "\n",
              "[10 rows x 3 columns]"
            ]
          },
          "metadata": {
            "tags": []
          },
          "execution_count": 11
        }
      ]
    },
    {
      "cell_type": "code",
      "metadata": {
        "id": "RbPp_HOCRuCe"
      },
      "source": [
        "train = new_train"
      ],
      "execution_count": 12,
      "outputs": []
    },
    {
      "cell_type": "code",
      "metadata": {
        "colab": {
          "base_uri": "https://localhost:8080/"
        },
        "id": "L26kh03-L1Ws",
        "outputId": "2be3f23d-4257-432e-fe86-9910a5a21605"
      },
      "source": [
        "train['Target'].unique()"
      ],
      "execution_count": 13,
      "outputs": [
        {
          "output_type": "execute_result",
          "data": {
            "text/plain": [
              "array(['Invalid', 'Rule/Law/Holding', 'Facts', 'Analysis', 'Others',\n",
              "       'Conclusion', 'Issue'], dtype=object)"
            ]
          },
          "metadata": {
            "tags": []
          },
          "execution_count": 13
        }
      ]
    },
    {
      "cell_type": "code",
      "metadata": {
        "colab": {
          "base_uri": "https://localhost:8080/"
        },
        "id": "OxDI4OqrKdtj",
        "outputId": "d550c992-b424-427c-95a1-e22f4bf8262b"
      },
      "source": [
        "train['Target']=train['Target'].replace(['Others'],'Invalid')\n",
        "train['Target'].unique()\n"
      ],
      "execution_count": 14,
      "outputs": [
        {
          "output_type": "execute_result",
          "data": {
            "text/plain": [
              "array(['Invalid', 'Rule/Law/Holding', 'Facts', 'Analysis', 'Conclusion',\n",
              "       'Issue'], dtype=object)"
            ]
          },
          "metadata": {
            "tags": []
          },
          "execution_count": 14
        }
      ]
    },
    {
      "cell_type": "code",
      "metadata": {
        "colab": {
          "base_uri": "https://localhost:8080/"
        },
        "id": "qRe3cCJDRTY4",
        "outputId": "fb69d1f5-24f6-4614-a079-773d51b7b705"
      },
      "source": [
        "#cleaning\n",
        "import nltk\n",
        "import re\n",
        "import string\n",
        "nltk.download('stopwords')\n",
        "nltk.download('wordnet')\n",
        "stopword=nltk.corpus.stopwords.words('english')\n",
        "from nltk.stem import WordNetLemmatizer\n",
        "wl= WordNetLemmatizer()\n",
        "\n",
        "def clean_text(text):\n",
        "  text=\"\".join([word.lower() for word in text if word not in string.punctuation])\n",
        "  tokens = re.split('\\W+',text)\n",
        "  text = [wl.lemmatize(word) for word in tokens if word not in stopword]\n",
        "  return text"
      ],
      "execution_count": 15,
      "outputs": [
        {
          "output_type": "stream",
          "text": [
            "[nltk_data] Downloading package stopwords to /root/nltk_data...\n",
            "[nltk_data]   Unzipping corpora/stopwords.zip.\n",
            "[nltk_data] Downloading package wordnet to /root/nltk_data...\n",
            "[nltk_data]   Unzipping corpora/wordnet.zip.\n"
          ],
          "name": "stdout"
        }
      ]
    },
    {
      "cell_type": "code",
      "metadata": {
        "colab": {
          "base_uri": "https://localhost:8080/"
        },
        "id": "EcB5PThsRZPa",
        "outputId": "34e59670-a4bf-4d7c-9cfb-c95842163c28"
      },
      "source": [
        "from sklearn.feature_extraction.text import TfidfVectorizer\n",
        "\n",
        "tfidf_vect = TfidfVectorizer(analyzer = clean_text)\n",
        "X_tfidf = tfidf_vect.fit_transform(train['Sentence'])\n",
        "print(X_tfidf.shape)"
      ],
      "execution_count": 16,
      "outputs": [
        {
          "output_type": "stream",
          "text": [
            "(4416, 7374)\n"
          ],
          "name": "stdout"
        }
      ]
    },
    {
      "cell_type": "code",
      "metadata": {
        "id": "erVH3lWMRdUu"
      },
      "source": [
        "test = pd.read_csv(r'/content/drive/My Drive/Research/test_data.csv')\n",
        "\n",
        "test['Target']=test['Target'].replace(['Others'],'Invalid')\n",
        "test['Sentence'] = test['Sentence'].apply(lambda x: \" \".join(x.lower() for x in str(x).split()))\n",
        "test['Sentence'] = test['Sentence'].str.replace('[^\\w\\s]','')\n",
        "from nltk.corpus import stopwords\n",
        "words = stopwords.words('english')\n",
        "test['Sentence'] = test['Sentence'].apply(lambda x: \" \".join(x for x in x.split() if x not in words))\n",
        "t_p = tfidf_vect.transform(test['Sentence'])"
      ],
      "execution_count": 17,
      "outputs": []
    },
    {
      "cell_type": "code",
      "metadata": {
        "colab": {
          "base_uri": "https://localhost:8080/",
          "height": 492
        },
        "id": "uJSt5ljWNcCh",
        "outputId": "caf37928-da21-4170-f49a-f18f4ec1f65b"
      },
      "source": [
        "from imblearn.over_sampling import SMOTE\n",
        "from collections import Counter\n",
        "from matplotlib import pyplot\n",
        "from sklearn.preprocessing import LabelEncoder\n",
        "data = train.values\n",
        "\n",
        "\n",
        "# split into input and output elements\n",
        "X, y = data[:, :-1], data[:, -1]\n",
        "# label encode the target variable\n",
        "y = LabelEncoder().fit_transform(y)\n",
        "print(y)\n",
        "# summarize distribution\n",
        "counter = Counter(y)\n",
        "print(y)\n",
        "for k,v in counter.items():\n",
        "\tper = v / len(y) * 100\n",
        "\tprint('Class=%s, n=%d (%.3f%%)' % (k, v, per))\n",
        "# plot the distribution\n",
        "pyplot.bar(counter.keys(), counter.values())\n",
        "pyplot.show()"
      ],
      "execution_count": 18,
      "outputs": [
        {
          "output_type": "stream",
          "text": [
            "/usr/local/lib/python3.7/dist-packages/sklearn/externals/six.py:31: FutureWarning: The module is deprecated in version 0.21 and will be removed in version 0.23 since we've dropped support for Python 2.7. Please rely on the official version of six (https://pypi.org/project/six/).\n",
            "  \"(https://pypi.org/project/six/).\", FutureWarning)\n",
            "/usr/local/lib/python3.7/dist-packages/sklearn/utils/deprecation.py:144: FutureWarning: The sklearn.neighbors.base module is  deprecated in version 0.22 and will be removed in version 0.24. The corresponding classes / functions should instead be imported from sklearn.neighbors. Anything that cannot be imported from sklearn.neighbors is now part of the private API.\n",
            "  warnings.warn(message, FutureWarning)\n"
          ],
          "name": "stderr"
        },
        {
          "output_type": "stream",
          "text": [
            "[3 3 5 ... 2 3 2]\n",
            "[3 3 5 ... 2 3 2]\n",
            "Class=3, n=660 (14.946%)\n",
            "Class=5, n=332 (7.518%)\n",
            "Class=2, n=2253 (51.019%)\n",
            "Class=0, n=677 (15.331%)\n",
            "Class=1, n=225 (5.095%)\n",
            "Class=4, n=269 (6.091%)\n"
          ],
          "name": "stdout"
        },
        {
          "output_type": "display_data",
          "data": {
            "image/png": "[encoded data removed]",
            "text/plain": [
              "<Figure size 432x288 with 1 Axes>"
            ]
          },
          "metadata": {
            "tags": [],
            "needs_background": "light"
          }
        }
      ]
    },
    {
      "cell_type": "code",
      "metadata": {
        "colab": {
          "base_uri": "https://localhost:8080/"
        },
        "id": "8yVOuS4WN-_A",
        "outputId": "64506288-58d8-4648-ffa0-c06f9f86fd84"
      },
      "source": [
        "import numpy as np\n",
        "from sklearn.datasets import make_classification\n",
        "from sklearn.ensemble import RandomForestClassifier\n",
        "from sklearn.pipeline import make_pipeline\n",
        "from sklearn.model_selection import train_test_split\n",
        "from sklearn.metrics import confusion_matrix\n",
        "from sklearn.base import BaseEstimator, ClassifierMixin\n",
        "from sklearn.metrics import accuracy_score\n",
        "from sklearn.metrics import average_precision_score\n",
        "from sklearn.metrics import precision_score\n",
        "from sklearn.metrics import recall_score\n",
        "from sklearn.metrics import f1_score\n",
        "from sklearn.metrics import cohen_kappa_score\n",
        "from sklearn.metrics import roc_auc_score\n",
        "from sklearn.metrics import confusion_matrix\n",
        "from sklearn.metrics import classification_report\n",
        "import lightgbm as lgb\n",
        "from sklearn import svm\n",
        "from xgboost import XGBClassifier\n",
        "\n",
        "X, y = make_classification(random_state=1)\n",
        "\n",
        "X_train, x_val, Y_train, y_val = train_test_split(X_tfidf,train['Target'],test_size=0.20,random_state=42)\n",
        "\n",
        "classifier = RandomForestClassifier(n_estimators = 350, criterion = 'gini', random_state = 42)\n",
        "#classifier = lgb.LGBMClassifier()\n",
        "#classifier = svm.SVC(decision_function_shape='ovo')\n",
        "#classifier = XGBClassifier()\n",
        "\n",
        "classifier.fit(X_train, Y_train)\n",
        "y_pred = classifier.predict(x_val)\n",
        "#print(np.unique(y_pred))\n",
        "#print(type(y_pred))\n",
        "\n",
        "Accuracy_score = accuracy_score(y_val, y_pred)\n",
        "\n",
        "print('Validation Accuracy_score: %f' % Accuracy_score)\n",
        "test_pred = classifier.predict(t_p)\n",
        "acc_test = accuracy_score(test['Target'],test_pred)\n",
        "print('Accuracy test data', acc_test)\n",
        "classification_report = classification_report(test['Target'],test_pred,digits=4)\n",
        "print(classification_report)\n",
        "matrix = confusion_matrix( y_val,y_pred)\n",
        "print(matrix)\n"
      ],
      "execution_count": 19,
      "outputs": [
        {
          "output_type": "stream",
          "text": [
            "Validation Accuracy_score: 0.633484\n",
            "Accuracy test data 0.6276391554702495\n",
            "                  precision    recall  f1-score   support\n",
            "\n",
            "        Analysis     0.5000    0.2078    0.2936        77\n",
            "      Conclusion     0.7727    0.6538    0.7083        26\n",
            "           Facts     0.6610    0.8689    0.7508       267\n",
            "         Invalid     0.4819    0.4819    0.4819        83\n",
            "           Issue     0.8333    0.2941    0.4348        34\n",
            "Rule/Law/Holding     0.5714    0.3529    0.4364        34\n",
            "\n",
            "        accuracy                         0.6276       521\n",
            "       macro avg     0.6367    0.4766    0.5176       521\n",
            "    weighted avg     0.6196    0.6276    0.5971       521\n",
            "\n",
            "[[ 37   3  89  10   0   1]\n",
            " [  8  15  12   5   1   1]\n",
            " [ 15   2 401  25   0   5]\n",
            " [  4   3  54  65   1   3]\n",
            " [  4   1  25   1  18   5]\n",
            " [  5   2  31   8   0  24]]\n"
          ],
          "name": "stdout"
        }
      ]
    },
    {
      "cell_type": "code",
      "metadata": {
        "id": "tKEpQD7wNmEr"
      },
      "source": [
        ""
      ],
      "execution_count": 19,
      "outputs": []
    }
  ]
}