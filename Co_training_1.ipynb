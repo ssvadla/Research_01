{
  "nbformat": 4,
  "nbformat_minor": 0,
  "metadata": {
    "colab": {
      "name": "Co_training_1.ipynb",
      "provenance": [],
      "collapsed_sections": [],
      "include_colab_link": true
    },
    "kernelspec": {
      "display_name": "Python 3",
      "name": "python3"
    },
    "language_info": {
      "name": "python"
    }
  },
  "cells": [
    {
      "cell_type": "markdown",
      "metadata": {
        "id": "view-in-github",
        "colab_type": "text"
      },
      "source": [
        "<a href=\"https://colab.research.google.com/github/ssvadla/Research_01/blob/main/Co_training_1.ipynb\" target=\"_parent\"><img src=\"https://colab.research.google.com/assets/colab-badge.svg\" alt=\"Open In Colab\"/></a>"
      ]
    },
    {
      "cell_type": "code",
      "metadata": {
        "colab": {
          "base_uri": "https://localhost:8080/",
          "height": 223
        },
        "id": "1GP6iq3sv3l7",
        "outputId": "717490ce-0a5a-4201-f7f2-f702d3d8677d"
      },
      "source": [
        "import pandas as pd\n",
        "from google.colab import drive\n",
        "\n",
        "drive.mount('/content/drive')\n",
        "\n",
        "train1 = pd.read_csv('/content/drive/My Drive/Research/train_data1.csv')\n",
        "train2 = pd.read_csv('/content/drive/My Drive/Research/train_data2.csv')\n",
        "train3 = pd.read_csv('/content/drive/My Drive/Research/train_data3.csv')\n",
        "train4 = pd.read_csv('/content/drive/My Drive/Research/train_data4.csv')\n",
        "train5 = pd.read_csv('/content/drive/My Drive/Research/train_data5.csv')\n",
        "train6 = pd.read_csv('/content/drive/My Drive/Research/train_data6.csv')\n",
        "train7 = pd.read_csv('/content/drive/My Drive/Research/train_data7.csv')\n",
        "train8 = pd.read_csv('/content/drive/My Drive/Research/train_data8.csv')\n",
        "train9 = pd.read_csv('/content/drive/My Drive/Research/train_data9.csv')\n",
        "train10 = pd.read_csv('/content/drive/My Drive/Research/train_data10.csv')\n",
        "train_highKappa = pd.read_csv('/content/drive/My Drive/Research/train_data_highkappa.csv')\n",
        "train1.head()"
      ],
      "execution_count": 1,
      "outputs": [
        {
          "output_type": "stream",
          "text": [
            "Mounted at /content/drive\n"
          ],
          "name": "stdout"
        },
        {
          "output_type": "execute_result",
          "data": {
            "text/html": [
              "<div>\n",
              "<style scoped>\n",
              "    .dataframe tbody tr th:only-of-type {\n",
              "        vertical-align: middle;\n",
              "    }\n",
              "\n",
              "    .dataframe tbody tr th {\n",
              "        vertical-align: top;\n",
              "    }\n",
              "\n",
              "    .dataframe thead th {\n",
              "        text-align: right;\n",
              "    }\n",
              "</style>\n",
              "<table border=\"1\" class=\"dataframe\">\n",
              "  <thead>\n",
              "    <tr style=\"text-align: right;\">\n",
              "      <th></th>\n",
              "      <th>Unnamed: 0</th>\n",
              "      <th>Sentence</th>\n",
              "      <th>Target</th>\n",
              "    </tr>\n",
              "  </thead>\n",
              "  <tbody>\n",
              "    <tr>\n",
              "      <th>0</th>\n",
              "      <td>659</td>\n",
              "      <td>Appellant had stated to the officers that she ...</td>\n",
              "      <td>Invalid</td>\n",
              "    </tr>\n",
              "    <tr>\n",
              "      <th>1</th>\n",
              "      <td>3456</td>\n",
              "      <td>We shall discuss the facts more fully in conne...</td>\n",
              "      <td>Others</td>\n",
              "    </tr>\n",
              "    <tr>\n",
              "      <th>2</th>\n",
              "      <td>2043</td>\n",
              "      <td>â€œPerjury is a false statement, either writte...</td>\n",
              "      <td>Invalid</td>\n",
              "    </tr>\n",
              "    <tr>\n",
              "      <th>3</th>\n",
              "      <td>3344</td>\n",
              "      <td>The offense is felony theft by false pretext; ...</td>\n",
              "      <td>Issue</td>\n",
              "    </tr>\n",
              "    <tr>\n",
              "      <th>4</th>\n",
              "      <td>3231</td>\n",
              "      <td>Numerous contentions urging the commission of ...</td>\n",
              "      <td>Issue</td>\n",
              "    </tr>\n",
              "  </tbody>\n",
              "</table>\n",
              "</div>"
            ],
            "text/plain": [
              "   Unnamed: 0                                           Sentence   Target\n",
              "0         659  Appellant had stated to the officers that she ...  Invalid\n",
              "1        3456  We shall discuss the facts more fully in conne...   Others\n",
              "2        2043  â€œPerjury is a false statement, either writte...  Invalid\n",
              "3        3344  The offense is felony theft by false pretext; ...    Issue\n",
              "4        3231  Numerous contentions urging the commission of ...    Issue"
            ]
          },
          "metadata": {
            "tags": []
          },
          "execution_count": 1
        }
      ]
    },
    {
      "cell_type": "code",
      "metadata": {
        "id": "TEZsnIW3l7RQ"
      },
      "source": [
        "\n",
        "train = train1\n",
        "train_list = [train2,train3,train4,train5,train6,train7,train8,train9,train10,train_highKappa]\n",
        "for i in train_list:\n",
        "  #print(i)\n",
        "  train = train.append(i)"
      ],
      "execution_count": 2,
      "outputs": []
    },
    {
      "cell_type": "code",
      "metadata": {
        "colab": {
          "base_uri": "https://localhost:8080/"
        },
        "id": "ULVPjZSkl-0t",
        "outputId": "4d164657-e589-474d-f2cf-5da7fc6c865c"
      },
      "source": [
        "\n",
        "train.sort_values(\"Sentence\", inplace = True)\n",
        "print(len(train))"
      ],
      "execution_count": 3,
      "outputs": [
        {
          "output_type": "stream",
          "text": [
            "37711\n"
          ],
          "name": "stdout"
        }
      ]
    },
    {
      "cell_type": "code",
      "metadata": {
        "id": "0F4L2kQOmDGD"
      },
      "source": [
        "new_train = train.drop_duplicates(subset =\"Sentence\")"
      ],
      "execution_count": 4,
      "outputs": []
    },
    {
      "cell_type": "code",
      "metadata": {
        "id": "MVLKdpsumG1c"
      },
      "source": [
        "train = new_train"
      ],
      "execution_count": 5,
      "outputs": []
    },
    {
      "cell_type": "code",
      "metadata": {
        "colab": {
          "base_uri": "https://localhost:8080/"
        },
        "id": "01Ghk9VxmJgO",
        "outputId": "2d1d5055-32c1-4453-9bb9-077f62e075fe"
      },
      "source": [
        "train['Target']=train['Target'].replace(['Others'],'Invalid')\n",
        "train['Target'].unique()"
      ],
      "execution_count": 6,
      "outputs": [
        {
          "output_type": "execute_result",
          "data": {
            "text/plain": [
              "array(['Invalid', 'Rule/Law/Holding', 'Facts', 'Analysis', 'Conclusion',\n",
              "       'Issue'], dtype=object)"
            ]
          },
          "metadata": {
            "tags": []
          },
          "execution_count": 6
        }
      ]
    },
    {
      "cell_type": "code",
      "metadata": {
        "id": "pf73JTmjfvE4"
      },
      "source": [
        "#Threshold= 0.98"
      ],
      "execution_count": 7,
      "outputs": []
    },
    {
      "cell_type": "code",
      "metadata": {
        "id": "VP6ru-6dv8gX"
      },
      "source": [
        ""
      ],
      "execution_count": 7,
      "outputs": []
    },
    {
      "cell_type": "code",
      "metadata": {
        "id": "EpnQfWugv-jR"
      },
      "source": [
        ""
      ],
      "execution_count": 7,
      "outputs": []
    },
    {
      "cell_type": "code",
      "metadata": {
        "colab": {
          "base_uri": "https://localhost:8080/"
        },
        "id": "Ia1kya2vwAvj",
        "outputId": "76e9333d-0247-4c52-db81-8f1337a67304"
      },
      "source": [
        "#cleaning\n",
        "import nltk\n",
        "import re\n",
        "import string\n",
        "nltk.download('stopwords')\n",
        "nltk.download('wordnet')\n",
        "stopword=nltk.corpus.stopwords.words('english')\n",
        "from nltk.stem import WordNetLemmatizer\n",
        "wl= WordNetLemmatizer()\n",
        "\n",
        "def clean_text(text):\n",
        "  text=\"\".join([word.lower() for word in text if word not in string.punctuation])\n",
        "  tokens = re.split('\\W+',text)\n",
        "  text = [wl.lemmatize(word) for word in tokens if word not in stopword]\n",
        "  return text"
      ],
      "execution_count": 8,
      "outputs": [
        {
          "output_type": "stream",
          "text": [
            "[nltk_data] Downloading package stopwords to /root/nltk_data...\n",
            "[nltk_data]   Unzipping corpora/stopwords.zip.\n",
            "[nltk_data] Downloading package wordnet to /root/nltk_data...\n",
            "[nltk_data]   Unzipping corpora/wordnet.zip.\n"
          ],
          "name": "stdout"
        }
      ]
    },
    {
      "cell_type": "code",
      "metadata": {
        "colab": {
          "base_uri": "https://localhost:8080/"
        },
        "id": "gGIlP5e4wDJW",
        "outputId": "00197ca9-b007-4c0b-98b7-20057ce21a3d"
      },
      "source": [
        "from sklearn.feature_extraction.text import TfidfVectorizer\n",
        "\n",
        "tfidf_vect = TfidfVectorizer(analyzer = clean_text)\n",
        "X_tfidf = tfidf_vect.fit_transform(train['Sentence'])\n",
        "print(X_tfidf.shape)"
      ],
      "execution_count": 9,
      "outputs": [
        {
          "output_type": "stream",
          "text": [
            "(4416, 7374)\n"
          ],
          "name": "stdout"
        }
      ]
    },
    {
      "cell_type": "code",
      "metadata": {
        "id": "2C9hQTlvXD9f"
      },
      "source": [
        "test = pd.read_csv(r'/content/drive/My Drive/Research/test_data.csv')\n",
        "\n",
        "test['Target']=test['Target'].replace(['Others'],'Invalid')\n",
        "test['Sentence'] = test['Sentence'].apply(lambda x: \" \".join(x.lower() for x in str(x).split()))\n",
        "test['Sentence'] = test['Sentence'].str.replace('[^\\w\\s]','')\n",
        "from nltk.corpus import stopwords\n",
        "words = stopwords.words('english')\n",
        "test['Sentence'] = test['Sentence'].apply(lambda x: \" \".join(x for x in x.split() if x not in words))\n",
        "t_p = tfidf_vect.transform(test['Sentence'])"
      ],
      "execution_count": 10,
      "outputs": []
    },
    {
      "cell_type": "code",
      "metadata": {
        "id": "KGoZ1Fj5nD08"
      },
      "source": [
        "import lightgbm as lgb\n",
        "from sklearn.ensemble import RandomForestClassifier\n",
        "\n",
        "classifier_rf = RandomForestClassifier(n_estimators = 350, criterion = 'gini', max_features = 'auto', random_state = 42)\n",
        "classifier_lgb = lgb.LGBMClassifier()"
      ],
      "execution_count": 11,
      "outputs": []
    },
    {
      "cell_type": "code",
      "metadata": {
        "colab": {
          "base_uri": "https://localhost:8080/",
          "height": 205
        },
        "id": "VAeEUI5CVUhr",
        "outputId": "a45548ef-9c83-4857-9a56-14382b105848"
      },
      "source": [
        "train = train.rename(columns={'Sentence':'text'})\n",
        "train.head()"
      ],
      "execution_count": 12,
      "outputs": [
        {
          "output_type": "execute_result",
          "data": {
            "text/html": [
              "<div>\n",
              "<style scoped>\n",
              "    .dataframe tbody tr th:only-of-type {\n",
              "        vertical-align: middle;\n",
              "    }\n",
              "\n",
              "    .dataframe tbody tr th {\n",
              "        vertical-align: top;\n",
              "    }\n",
              "\n",
              "    .dataframe thead th {\n",
              "        text-align: right;\n",
              "    }\n",
              "</style>\n",
              "<table border=\"1\" class=\"dataframe\">\n",
              "  <thead>\n",
              "    <tr style=\"text-align: right;\">\n",
              "      <th></th>\n",
              "      <th>Unnamed: 0</th>\n",
              "      <th>text</th>\n",
              "      <th>Target</th>\n",
              "    </tr>\n",
              "  </thead>\n",
              "  <tbody>\n",
              "    <tr>\n",
              "      <th>1364</th>\n",
              "      <td>239</td>\n",
              "      <td>\"(I)n the First Amendment area 'government may...</td>\n",
              "      <td>Invalid</td>\n",
              "    </tr>\n",
              "    <tr>\n",
              "      <th>1833</th>\n",
              "      <td>185</td>\n",
              "      <td>\"... that nowhere in the statute was it stated...</td>\n",
              "      <td>Invalid</td>\n",
              "    </tr>\n",
              "    <tr>\n",
              "      <th>2431</th>\n",
              "      <td>415</td>\n",
              "      <td>\"Although a statute may be neither vague, over...</td>\n",
              "      <td>Rule/Law/Holding</td>\n",
              "    </tr>\n",
              "    <tr>\n",
              "      <th>2245</th>\n",
              "      <td>416</td>\n",
              "      <td>\"For even when pursuing a legitimate interest,...</td>\n",
              "      <td>Rule/Law/Holding</td>\n",
              "    </tr>\n",
              "    <tr>\n",
              "      <th>1561</th>\n",
              "      <td>25</td>\n",
              "      <td>\"If an indictment has been found or accusation...</td>\n",
              "      <td>Facts</td>\n",
              "    </tr>\n",
              "  </tbody>\n",
              "</table>\n",
              "</div>"
            ],
            "text/plain": [
              "      Unnamed: 0  ...            Target\n",
              "1364         239  ...           Invalid\n",
              "1833         185  ...           Invalid\n",
              "2431         415  ...  Rule/Law/Holding\n",
              "2245         416  ...  Rule/Law/Holding\n",
              "1561          25  ...             Facts\n",
              "\n",
              "[5 rows x 3 columns]"
            ]
          },
          "metadata": {
            "tags": []
          },
          "execution_count": 12
        }
      ]
    },
    {
      "cell_type": "code",
      "metadata": {
        "colab": {
          "base_uri": "https://localhost:8080/",
          "height": 205
        },
        "id": "RvKiNdE-pev1",
        "outputId": "b7cf4e29-dab5-411a-e150-30e18f9f79e8"
      },
      "source": [
        "\n",
        "unlabel = pd.read_csv(r'/content/drive/My Drive/Research/Unlabeled_data.csv')\n",
        "unlabel.head()\n"
      ],
      "execution_count": 13,
      "outputs": [
        {
          "output_type": "execute_result",
          "data": {
            "text/html": [
              "<div>\n",
              "<style scoped>\n",
              "    .dataframe tbody tr th:only-of-type {\n",
              "        vertical-align: middle;\n",
              "    }\n",
              "\n",
              "    .dataframe tbody tr th {\n",
              "        vertical-align: top;\n",
              "    }\n",
              "\n",
              "    .dataframe thead th {\n",
              "        text-align: right;\n",
              "    }\n",
              "</style>\n",
              "<table border=\"1\" class=\"dataframe\">\n",
              "  <thead>\n",
              "    <tr style=\"text-align: right;\">\n",
              "      <th></th>\n",
              "      <th>Unnamed: 0</th>\n",
              "      <th>text</th>\n",
              "      <th>Complete</th>\n",
              "    </tr>\n",
              "  </thead>\n",
              "  <tbody>\n",
              "    <tr>\n",
              "      <th>0</th>\n",
              "      <td>0</td>\n",
              "      <td>No motion for rehearing filed.</td>\n",
              "      <td>1</td>\n",
              "    </tr>\n",
              "    <tr>\n",
              "      <th>1</th>\n",
              "      <td>1</td>\n",
              "      <td>— Relator is under accusation of killing her h...</td>\n",
              "      <td>1</td>\n",
              "    </tr>\n",
              "    <tr>\n",
              "      <th>2</th>\n",
              "      <td>2</td>\n",
              "      <td>From an order of the District Judge of the 39t...</td>\n",
              "      <td>1</td>\n",
              "    </tr>\n",
              "    <tr>\n",
              "      <th>3</th>\n",
              "      <td>3</td>\n",
              "      <td>Relator and her husband had been married for a...</td>\n",
              "      <td>1</td>\n",
              "    </tr>\n",
              "    <tr>\n",
              "      <th>4</th>\n",
              "      <td>4</td>\n",
              "      <td>The evidence indicates that their family relat...</td>\n",
              "      <td>1</td>\n",
              "    </tr>\n",
              "  </tbody>\n",
              "</table>\n",
              "</div>"
            ],
            "text/plain": [
              "   Unnamed: 0                                               text  Complete\n",
              "0           0                     No motion for rehearing filed.         1\n",
              "1           1  — Relator is under accusation of killing her h...         1\n",
              "2           2  From an order of the District Judge of the 39t...         1\n",
              "3           3  Relator and her husband had been married for a...         1\n",
              "4           4  The evidence indicates that their family relat...         1"
            ]
          },
          "metadata": {
            "tags": []
          },
          "execution_count": 13
        }
      ]
    },
    {
      "cell_type": "code",
      "metadata": {
        "id": "N8X0xt2fsUXM"
      },
      "source": [
        "del unlabel['Complete']"
      ],
      "execution_count": 14,
      "outputs": []
    },
    {
      "cell_type": "code",
      "metadata": {
        "id": "lH4lcWUOsV_p"
      },
      "source": [
        "del unlabel['Unnamed: 0']"
      ],
      "execution_count": 15,
      "outputs": []
    },
    {
      "cell_type": "code",
      "metadata": {
        "colab": {
          "base_uri": "https://localhost:8080/",
          "height": 205
        },
        "id": "NCbmIlH9sWHv",
        "outputId": "31910c8b-d2a1-4443-f680-25ad1aae694d"
      },
      "source": [
        "unlabel.head()"
      ],
      "execution_count": 16,
      "outputs": [
        {
          "output_type": "execute_result",
          "data": {
            "text/html": [
              "<div>\n",
              "<style scoped>\n",
              "    .dataframe tbody tr th:only-of-type {\n",
              "        vertical-align: middle;\n",
              "    }\n",
              "\n",
              "    .dataframe tbody tr th {\n",
              "        vertical-align: top;\n",
              "    }\n",
              "\n",
              "    .dataframe thead th {\n",
              "        text-align: right;\n",
              "    }\n",
              "</style>\n",
              "<table border=\"1\" class=\"dataframe\">\n",
              "  <thead>\n",
              "    <tr style=\"text-align: right;\">\n",
              "      <th></th>\n",
              "      <th>text</th>\n",
              "    </tr>\n",
              "  </thead>\n",
              "  <tbody>\n",
              "    <tr>\n",
              "      <th>0</th>\n",
              "      <td>No motion for rehearing filed.</td>\n",
              "    </tr>\n",
              "    <tr>\n",
              "      <th>1</th>\n",
              "      <td>— Relator is under accusation of killing her h...</td>\n",
              "    </tr>\n",
              "    <tr>\n",
              "      <th>2</th>\n",
              "      <td>From an order of the District Judge of the 39t...</td>\n",
              "    </tr>\n",
              "    <tr>\n",
              "      <th>3</th>\n",
              "      <td>Relator and her husband had been married for a...</td>\n",
              "    </tr>\n",
              "    <tr>\n",
              "      <th>4</th>\n",
              "      <td>The evidence indicates that their family relat...</td>\n",
              "    </tr>\n",
              "  </tbody>\n",
              "</table>\n",
              "</div>"
            ],
            "text/plain": [
              "                                                text\n",
              "0                     No motion for rehearing filed.\n",
              "1  — Relator is under accusation of killing her h...\n",
              "2  From an order of the District Judge of the 39t...\n",
              "3  Relator and her husband had been married for a...\n",
              "4  The evidence indicates that their family relat..."
            ]
          },
          "metadata": {
            "tags": []
          },
          "execution_count": 16
        }
      ]
    },
    {
      "cell_type": "code",
      "metadata": {
        "id": "pbXAqY-bqgcN"
      },
      "source": [
        "unlabel['text'] = unlabel['text'].apply(lambda x: \" \".join(x.lower() for x in str(x).split()))\n",
        "unlabel['text'] = unlabel['text'].str.replace('[^\\w\\s]','')\n",
        "from nltk.corpus import stopwords\n",
        "words = stopwords.words('english')\n",
        "unlabel['text'] = unlabel['text'].apply(lambda x: \" \".join(x for x in x.split() if x not in words))\n"
      ],
      "execution_count": 17,
      "outputs": []
    },
    {
      "cell_type": "code",
      "metadata": {
        "colab": {
          "base_uri": "https://localhost:8080/"
        },
        "id": "MYlmWHGCqvms",
        "outputId": "2d592891-7fec-455e-9012-679d299d490d"
      },
      "source": [
        "from textblob import TextBlob\n",
        "from textblob import Word\n",
        "nltk.download('wordnet')\n",
        "nltk.download('punkt')\n",
        "unlabel['text'] = unlabel['text'].apply(lambda x: TextBlob(x).words)\n",
        "unlabel['text'] = unlabel['text'].apply(lambda x: \" \".join([Word(word).lemmatize() for word in x]))"
      ],
      "execution_count": 18,
      "outputs": [
        {
          "output_type": "stream",
          "text": [
            "[nltk_data] Downloading package wordnet to /root/nltk_data...\n",
            "[nltk_data]   Package wordnet is already up-to-date!\n",
            "[nltk_data] Downloading package punkt to /root/nltk_data...\n",
            "[nltk_data]   Unzipping tokenizers/punkt.zip.\n"
          ],
          "name": "stdout"
        }
      ]
    },
    {
      "cell_type": "code",
      "metadata": {
        "colab": {
          "base_uri": "https://localhost:8080/",
          "height": 205
        },
        "id": "NqWrGLwdVxdp",
        "outputId": "20b2e512-77e1-4b71-9ff1-a8de5c956ed2"
      },
      "source": [
        "unlabel.head()"
      ],
      "execution_count": 19,
      "outputs": [
        {
          "output_type": "execute_result",
          "data": {
            "text/html": [
              "<div>\n",
              "<style scoped>\n",
              "    .dataframe tbody tr th:only-of-type {\n",
              "        vertical-align: middle;\n",
              "    }\n",
              "\n",
              "    .dataframe tbody tr th {\n",
              "        vertical-align: top;\n",
              "    }\n",
              "\n",
              "    .dataframe thead th {\n",
              "        text-align: right;\n",
              "    }\n",
              "</style>\n",
              "<table border=\"1\" class=\"dataframe\">\n",
              "  <thead>\n",
              "    <tr style=\"text-align: right;\">\n",
              "      <th></th>\n",
              "      <th>text</th>\n",
              "    </tr>\n",
              "  </thead>\n",
              "  <tbody>\n",
              "    <tr>\n",
              "      <th>0</th>\n",
              "      <td>motion rehearing filed</td>\n",
              "    </tr>\n",
              "    <tr>\n",
              "      <th>1</th>\n",
              "      <td>relator accusation killing husband virgil clark</td>\n",
              "    </tr>\n",
              "    <tr>\n",
              "      <th>2</th>\n",
              "      <td>order district judge 39th judicial district re...</td>\n",
              "    </tr>\n",
              "    <tr>\n",
              "      <th>3</th>\n",
              "      <td>relator husband married number year</td>\n",
              "    </tr>\n",
              "    <tr>\n",
              "      <th>4</th>\n",
              "      <td>evidence indicates family relation always plea...</td>\n",
              "    </tr>\n",
              "  </tbody>\n",
              "</table>\n",
              "</div>"
            ],
            "text/plain": [
              "                                                text\n",
              "0                             motion rehearing filed\n",
              "1    relator accusation killing husband virgil clark\n",
              "2  order district judge 39th judicial district re...\n",
              "3                relator husband married number year\n",
              "4  evidence indicates family relation always plea..."
            ]
          },
          "metadata": {
            "tags": []
          },
          "execution_count": 19
        }
      ]
    },
    {
      "cell_type": "code",
      "metadata": {
        "colab": {
          "base_uri": "https://localhost:8080/"
        },
        "id": "d3F6jJNts6Be",
        "outputId": "173fe464-33ff-4cf2-ca31-72e8469e6bd1"
      },
      "source": [
        "\n",
        "len(unlabel)"
      ],
      "execution_count": 20,
      "outputs": [
        {
          "output_type": "execute_result",
          "data": {
            "text/plain": [
              "537703"
            ]
          },
          "metadata": {
            "tags": []
          },
          "execution_count": 20
        }
      ]
    },
    {
      "cell_type": "code",
      "metadata": {
        "id": "Ls045zI7s6Kb"
      },
      "source": [
        "# unlabel_1 = unlabel.loc[:100000]\n",
        "# print(\"length of unlabel_1\",len(unlabel_1))\n",
        "# unlabel_2 = unlabel.loc[100001:200000]\n",
        "# print(\"length of unlabel_2\",len(unlabel_2))\n",
        "# unlabel_3 = unlabel.loc[200001:300000]\n",
        "# print(\"length of unlabel_3\",len(unlabel_3))\n",
        "# unlabel_4 = unlabel.loc[300001:400000]\n",
        "# print(\"length of unlabel_4\",len(unlabel_4))\n",
        "# unlabel_5 = unlabel.loc[400001:]\n",
        "# print(\"length of unlabel_5\",len(unlabel_5))"
      ],
      "execution_count": 21,
      "outputs": []
    },
    {
      "cell_type": "code",
      "metadata": {
        "colab": {
          "base_uri": "https://localhost:8080/",
          "height": 205
        },
        "id": "29BgPHk4s6PS",
        "outputId": "cc42ba44-24ae-4762-b06a-4b5f3ad3e7e1"
      },
      "source": [
        "unlabel_1 = unlabel.loc[:100]\n",
        "unlabel_1.head()"
      ],
      "execution_count": 22,
      "outputs": [
        {
          "output_type": "execute_result",
          "data": {
            "text/html": [
              "<div>\n",
              "<style scoped>\n",
              "    .dataframe tbody tr th:only-of-type {\n",
              "        vertical-align: middle;\n",
              "    }\n",
              "\n",
              "    .dataframe tbody tr th {\n",
              "        vertical-align: top;\n",
              "    }\n",
              "\n",
              "    .dataframe thead th {\n",
              "        text-align: right;\n",
              "    }\n",
              "</style>\n",
              "<table border=\"1\" class=\"dataframe\">\n",
              "  <thead>\n",
              "    <tr style=\"text-align: right;\">\n",
              "      <th></th>\n",
              "      <th>text</th>\n",
              "    </tr>\n",
              "  </thead>\n",
              "  <tbody>\n",
              "    <tr>\n",
              "      <th>0</th>\n",
              "      <td>motion rehearing filed</td>\n",
              "    </tr>\n",
              "    <tr>\n",
              "      <th>1</th>\n",
              "      <td>relator accusation killing husband virgil clark</td>\n",
              "    </tr>\n",
              "    <tr>\n",
              "      <th>2</th>\n",
              "      <td>order district judge 39th judicial district re...</td>\n",
              "    </tr>\n",
              "    <tr>\n",
              "      <th>3</th>\n",
              "      <td>relator husband married number year</td>\n",
              "    </tr>\n",
              "    <tr>\n",
              "      <th>4</th>\n",
              "      <td>evidence indicates family relation always plea...</td>\n",
              "    </tr>\n",
              "  </tbody>\n",
              "</table>\n",
              "</div>"
            ],
            "text/plain": [
              "                                                text\n",
              "0                             motion rehearing filed\n",
              "1    relator accusation killing husband virgil clark\n",
              "2  order district judge 39th judicial district re...\n",
              "3                relator husband married number year\n",
              "4  evidence indicates family relation always plea..."
            ]
          },
          "metadata": {
            "tags": []
          },
          "execution_count": 22
        }
      ]
    },
    {
      "cell_type": "code",
      "metadata": {
        "id": "20gAJnhP6Y4G"
      },
      "source": [
        "\n",
        "# X_train_whole, x_val_whole, Y_train_whole, y_val_whole = train_test_split(X_tfidf,train['Target'],test_size=0.1,random_state=42)"
      ],
      "execution_count": 23,
      "outputs": []
    },
    {
      "cell_type": "code",
      "metadata": {
        "id": "7CTalVdV6qR6"
      },
      "source": [
        "# X_tfidf.shape"
      ],
      "execution_count": 24,
      "outputs": []
    },
    {
      "cell_type": "code",
      "metadata": {
        "id": "oZZzPPZb6eno"
      },
      "source": [
        "# classifier_rf.fit(X_tfidf, train['Target'])"
      ],
      "execution_count": 25,
      "outputs": []
    },
    {
      "cell_type": "code",
      "metadata": {
        "id": "p7KtHs5zCPpX"
      },
      "source": [
        "# test_pred = classifier_rf.predict(t_p)\n",
        "# accuracy_test = accuracy_score(test['Target'],test_pred)\n",
        "# score_test = f1_score(test['Target'],test_pred, average='weighted')\n",
        "# print(\"Test accuracy test\",accuracy_test )\n",
        "# print(\"Test f1 score test\",score_test )"
      ],
      "execution_count": 26,
      "outputs": []
    },
    {
      "cell_type": "code",
      "metadata": {
        "colab": {
          "base_uri": "https://localhost:8080/"
        },
        "id": "3TPGXQ9ywJGK",
        "outputId": "ce739e83-f05e-47c3-ce24-4997fc53063f"
      },
      "source": [
        "import numpy as np\n",
        "from sklearn.datasets import make_classification\n",
        "\n",
        "from sklearn.pipeline import make_pipeline\n",
        "from sklearn.model_selection import train_test_split\n",
        "from sklearn.metrics import confusion_matrix\n",
        "from sklearn.base import BaseEstimator, ClassifierMixin\n",
        "from sklearn.metrics import accuracy_score\n",
        "from sklearn.metrics import average_precision_score\n",
        "from sklearn.metrics import precision_score\n",
        "from sklearn.metrics import recall_score\n",
        "from sklearn.metrics import f1_score\n",
        "from sklearn.metrics import cohen_kappa_score\n",
        "from sklearn.metrics import roc_auc_score\n",
        "from sklearn.metrics import confusion_matrix\n",
        "from sklearn.metrics import classification_report\n",
        "\n",
        "\n",
        "\n",
        "#X, y = make_classification(random_state=1)\n",
        "\n",
        "X_train, x_val, Y_train, y_val = train_test_split(X_tfidf,train['Target'],test_size=0.20,random_state=42)\n",
        "\n",
        "X_train_whole = X_tfidf\n",
        "Y_train_whole = train['Target']\n",
        "#X_train_whole, x_val_whole, Y_train_whole, y_val_whole = train_test_split(X_tfidf,train['Target'],test_size=0.1,random_state=42)\n",
        "\n",
        "classifier_rf.fit(X_train, Y_train)\n",
        "classifier_lgb.fit(X_train, Y_train)\n",
        "\n",
        "val_pred_rf = classifier_rf.predict(x_val)\n",
        "val_pred_lgb = classifier_lgb.predict(x_val)\n",
        "\n",
        "\n",
        "Accuracy_score_rf = accuracy_score(y_val,val_pred_rf)\n",
        "print(\"Accuracy_score_rf \",Accuracy_score_rf)\n",
        "Accuracy_score_lgb = accuracy_score(y_val,val_pred_lgb)\n",
        "print(\"Accuracy_score_lgb \",Accuracy_score_lgb)\n",
        "\n",
        "classification_report_test_rf = classification_report(y_val,val_pred_rf)\n",
        "print(\"classification report \",classification_report_test_rf)\n",
        "classification_report_test_lgb = classification_report(y_val,val_pred_lgb)\n",
        "print(\"classification report \",classification_report_test_lgb)\n",
        "\n",
        "\n",
        "f1_score_rf = f1_score(y_val,val_pred_rf,average='weighted')\n",
        "print(\" f1 score test \",f1_score_rf )\n",
        "f1_score_lgb = f1_score(y_val,val_pred_lgb, average='weighted')\n",
        "print(\" f1 score test \",f1_score_lgb )\n",
        "\n",
        "\n",
        "if Accuracy_score_rf > Accuracy_score_lgb:\n",
        "  B = classifier_rf\n",
        "else:\n",
        "  B = classifier_lgb\n",
        "\n",
        "B.fit(X_train_whole,Y_train_whole)\n",
        "# class_x_un1 = tfidf_vect.transform(unlabel_1['text'])\n",
        "# pseudo_pred = B.predict(class_x_un1)\n",
        "\n",
        "class_x_un1 = tfidf_vect.transform(unlabel_1['text'])\n",
        "\n",
        "class_pred_unlabel_1 = B.predict(class_x_un1)\n",
        "unlabel_1['Target']=class_pred_unlabel_1\n",
        "frame_1 = [train,unlabel_1]\n",
        "train_1 = pd.concat(frame_1)\n",
        "print(len(train_1))\n",
        "\n",
        "\n",
        "\n",
        "\n",
        "# print('Validation Accuracy_score: %f' % Accuracy_score)\n",
        "# test_pred = classifier.predict(t_p)\n",
        "# acc_test = accuracy_score(test_pred,test['Target'])\n",
        "# print('Accuracy test data', acc_test)\n",
        "# matrix = confusion_matrix(y_pred, y_val)\n",
        "# print(matrix)\n"
      ],
      "execution_count": 27,
      "outputs": [
        {
          "output_type": "stream",
          "text": [
            "Accuracy_score_rf  0.6334841628959276\n",
            "Accuracy_score_lgb  0.6470588235294118\n",
            "classification report                    precision    recall  f1-score   support\n",
            "\n",
            "        Analysis       0.51      0.26      0.35       140\n",
            "      Conclusion       0.58      0.36      0.44        42\n",
            "           Facts       0.66      0.90      0.76       448\n",
            "         Invalid       0.57      0.50      0.53       130\n",
            "           Issue       0.90      0.33      0.49        54\n",
            "Rule/Law/Holding       0.62      0.34      0.44        70\n",
            "\n",
            "        accuracy                           0.63       884\n",
            "       macro avg       0.64      0.45      0.50       884\n",
            "    weighted avg       0.63      0.63      0.60       884\n",
            "\n",
            "classification report                    precision    recall  f1-score   support\n",
            "\n",
            "        Analysis       0.48      0.40      0.44       140\n",
            "      Conclusion       0.57      0.40      0.47        42\n",
            "           Facts       0.69      0.91      0.79       448\n",
            "         Invalid       0.63      0.33      0.43       130\n",
            "           Issue       0.61      0.37      0.46        54\n",
            "Rule/Law/Holding       0.59      0.41      0.49        70\n",
            "\n",
            "        accuracy                           0.65       884\n",
            "       macro avg       0.59      0.47      0.51       884\n",
            "    weighted avg       0.63      0.65      0.62       884\n",
            "\n",
            " f1 score test  0.6023582052137532\n",
            " f1 score test  0.6205825597667514\n",
            "4517\n"
          ],
          "name": "stdout"
        },
        {
          "output_type": "stream",
          "text": [
            "/usr/local/lib/python3.7/dist-packages/ipykernel_launcher.py:64: SettingWithCopyWarning: \n",
            "A value is trying to be set on a copy of a slice from a DataFrame.\n",
            "Try using .loc[row_indexer,col_indexer] = value instead\n",
            "\n",
            "See the caveats in the documentation: https://pandas.pydata.org/pandas-docs/stable/user_guide/indexing.html#returning-a-view-versus-a-copy\n"
          ],
          "name": "stderr"
        }
      ]
    },
    {
      "cell_type": "code",
      "metadata": {
        "colab": {
          "base_uri": "https://localhost:8080/"
        },
        "id": "4RbIiPm64xAP",
        "outputId": "ceedfc9d-19d0-463f-a1cf-684a1e548443"
      },
      "source": [
        "test_pred = B.predict(t_p)\n",
        "accuracy_test = accuracy_score(test['Target'],test_pred)\n",
        "print(\"Test accuracy test\",accuracy_test )\n",
        "classification_report_test = classification_report(test['Target'],test_pred)\n",
        "print(\"classification report \",classification_report_test)"
      ],
      "execution_count": 28,
      "outputs": [
        {
          "output_type": "stream",
          "text": [
            "Test accuracy test 0.6410748560460653\n",
            "classification report                    precision    recall  f1-score   support\n",
            "\n",
            "        Analysis       0.43      0.27      0.33        77\n",
            "      Conclusion       0.71      0.65      0.68        26\n",
            "           Facts       0.67      0.88      0.76       267\n",
            "         Invalid       0.55      0.39      0.45        83\n",
            "           Issue       0.92      0.32      0.48        34\n",
            "Rule/Law/Holding       0.62      0.53      0.57        34\n",
            "\n",
            "        accuracy                           0.64       521\n",
            "       macro avg       0.65      0.51      0.55       521\n",
            "    weighted avg       0.63      0.64      0.62       521\n",
            "\n"
          ],
          "name": "stdout"
        }
      ]
    },
    {
      "cell_type": "code",
      "metadata": {
        "colab": {
          "base_uri": "https://localhost:8080/"
        },
        "id": "T2X2w0ySLZTM",
        "outputId": "dd7bb099-4298-4a4b-ffc9-d826b73f6253"
      },
      "source": [
        "len(unlabel)"
      ],
      "execution_count": 30,
      "outputs": [
        {
          "output_type": "execute_result",
          "data": {
            "text/plain": [
              "537703"
            ]
          },
          "metadata": {
            "tags": []
          },
          "execution_count": 30
        }
      ]
    },
    {
      "cell_type": "code",
      "metadata": {
        "id": "mH3lA8EELZbd"
      },
      "source": [
        "length_list = range(100,500,100)"
      ],
      "execution_count": 32,
      "outputs": []
    },
    {
      "cell_type": "code",
      "metadata": {
        "colab": {
          "base_uri": "https://localhost:8080/"
        },
        "id": "wP99zEZKLnjp",
        "outputId": "98fcf9ef-1d93-4e6d-9b5e-2ff56992df99"
      },
      "source": [
        "j=0\n",
        "\n",
        "for i in length_list:\n",
        "  print(i)\n",
        "  print(j)\n",
        "  unlabel_chunk = unlabel[j:i]\n",
        "  j=i\n",
        "  print(\"length\",len(unlabel_chunk))\n",
        "  #function call with different unlabel chunk"
      ],
      "execution_count": 36,
      "outputs": [
        {
          "output_type": "stream",
          "text": [
            "100\n",
            "0\n",
            "length 100\n",
            "200\n",
            "100\n",
            "length 100\n",
            "300\n",
            "200\n",
            "length 100\n",
            "400\n",
            "300\n",
            "length 100\n"
          ],
          "name": "stdout"
        }
      ]
    },
    {
      "cell_type": "code",
      "metadata": {
        "id": "TV8XMa3vMsy6"
      },
      "source": [
        ""
      ],
      "execution_count": null,
      "outputs": []
    },
    {
      "cell_type": "code",
      "metadata": {
        "id": "rQXwwUcPLvyq"
      },
      "source": [
        ""
      ],
      "execution_count": null,
      "outputs": []
    }
  ]
}