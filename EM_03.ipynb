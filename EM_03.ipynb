{
  "nbformat": 4,
  "nbformat_minor": 0,
  "metadata": {
    "colab": {
      "name": "EM_03.ipynb",
      "provenance": [],
      "collapsed_sections": [],
      "authorship_tag": "ABX9TyPETNw3xSHiHZ4XGiUULIZu",
      "include_colab_link": true
    },
    "kernelspec": {
      "name": "python3",
      "display_name": "Python 3"
    },
    "language_info": {
      "name": "python"
    }
  },
  "cells": [
    {
      "cell_type": "markdown",
      "metadata": {
        "id": "view-in-github",
        "colab_type": "text"
      },
      "source": [
        "<a href=\"https://colab.research.google.com/github/ssvadla/Research_01/blob/main/EM_03.ipynb\" target=\"_parent\"><img src=\"https://colab.research.google.com/assets/colab-badge.svg\" alt=\"Open In Colab\"/></a>"
      ]
    },
    {
      "cell_type": "code",
      "metadata": {
        "id": "_ylzT4-EaEff"
      },
      "source": [
        ""
      ],
      "execution_count": null,
      "outputs": []
    },
    {
      "cell_type": "code",
      "metadata": {
        "colab": {
          "base_uri": "https://localhost:8080/",
          "height": 223
        },
        "id": "MJaX0B4lWLL7",
        "outputId": "f02a09e1-6565-42d0-debf-ec6b40720ffc"
      },
      "source": [
        "import pandas as pd\n",
        "from sklearn.model_selection import cross_val_score\n",
        "from google.colab import drive\n",
        "\n",
        "drive.mount('/content/drive')\n",
        "\n",
        "train1 = pd.read_csv('/content/drive/My Drive/Research/train_data1.csv')\n",
        "train2 = pd.read_csv('/content/drive/My Drive/Research/train_data2.csv')\n",
        "train3 = pd.read_csv('/content/drive/My Drive/Research/train_data3.csv')\n",
        "train4 = pd.read_csv('/content/drive/My Drive/Research/train_data4.csv')\n",
        "train5 = pd.read_csv('/content/drive/My Drive/Research/train_data5.csv')\n",
        "train6 = pd.read_csv('/content/drive/My Drive/Research/train_data6.csv')\n",
        "train7 = pd.read_csv('/content/drive/My Drive/Research/train_data7.csv')\n",
        "train8 = pd.read_csv('/content/drive/My Drive/Research/train_data8.csv')\n",
        "train9 = pd.read_csv('/content/drive/My Drive/Research/train_data9.csv')\n",
        "train10 = pd.read_csv('/content/drive/My Drive/Research/train_data10.csv')\n",
        "train_highKappa = pd.read_csv('/content/drive/My Drive/Research/train_data_highkappa.csv')\n",
        "train1.head()"
      ],
      "execution_count": 1,
      "outputs": [
        {
          "output_type": "stream",
          "name": "stdout",
          "text": [
            "Drive already mounted at /content/drive; to attempt to forcibly remount, call drive.mount(\"/content/drive\", force_remount=True).\n"
          ]
        },
        {
          "output_type": "execute_result",
          "data": {
            "text/html": [
              "<div>\n",
              "<style scoped>\n",
              "    .dataframe tbody tr th:only-of-type {\n",
              "        vertical-align: middle;\n",
              "    }\n",
              "\n",
              "    .dataframe tbody tr th {\n",
              "        vertical-align: top;\n",
              "    }\n",
              "\n",
              "    .dataframe thead th {\n",
              "        text-align: right;\n",
              "    }\n",
              "</style>\n",
              "<table border=\"1\" class=\"dataframe\">\n",
              "  <thead>\n",
              "    <tr style=\"text-align: right;\">\n",
              "      <th></th>\n",
              "      <th>Unnamed: 0</th>\n",
              "      <th>Sentence</th>\n",
              "      <th>Target</th>\n",
              "    </tr>\n",
              "  </thead>\n",
              "  <tbody>\n",
              "    <tr>\n",
              "      <th>0</th>\n",
              "      <td>659</td>\n",
              "      <td>Appellant had stated to the officers that she ...</td>\n",
              "      <td>Invalid</td>\n",
              "    </tr>\n",
              "    <tr>\n",
              "      <th>1</th>\n",
              "      <td>3456</td>\n",
              "      <td>We shall discuss the facts more fully in conne...</td>\n",
              "      <td>Others</td>\n",
              "    </tr>\n",
              "    <tr>\n",
              "      <th>2</th>\n",
              "      <td>2043</td>\n",
              "      <td>â€œPerjury is a false statement, either writte...</td>\n",
              "      <td>Invalid</td>\n",
              "    </tr>\n",
              "    <tr>\n",
              "      <th>3</th>\n",
              "      <td>3344</td>\n",
              "      <td>The offense is felony theft by false pretext; ...</td>\n",
              "      <td>Issue</td>\n",
              "    </tr>\n",
              "    <tr>\n",
              "      <th>4</th>\n",
              "      <td>3231</td>\n",
              "      <td>Numerous contentions urging the commission of ...</td>\n",
              "      <td>Issue</td>\n",
              "    </tr>\n",
              "  </tbody>\n",
              "</table>\n",
              "</div>"
            ],
            "text/plain": [
              "   Unnamed: 0                                           Sentence   Target\n",
              "0         659  Appellant had stated to the officers that she ...  Invalid\n",
              "1        3456  We shall discuss the facts more fully in conne...   Others\n",
              "2        2043  â€œPerjury is a false statement, either writte...  Invalid\n",
              "3        3344  The offense is felony theft by false pretext; ...    Issue\n",
              "4        3231  Numerous contentions urging the commission of ...    Issue"
            ]
          },
          "metadata": {},
          "execution_count": 1
        }
      ]
    },
    {
      "cell_type": "code",
      "metadata": {
        "id": "7OnjMWRLePrW"
      },
      "source": [
        ""
      ],
      "execution_count": 1,
      "outputs": []
    },
    {
      "cell_type": "code",
      "metadata": {
        "id": "c13Q_U4xOVv7"
      },
      "source": [
        "train = train1\n",
        "train_list = [train2,train3,train4,train5,train6,train7,train8,train9,train10,train_highKappa]\n",
        "for i in train_list:\n",
        "  #print(i)\n",
        "  train = train.append(i)\n",
        "\n"
      ],
      "execution_count": 2,
      "outputs": []
    },
    {
      "cell_type": "code",
      "metadata": {
        "id": "4vzqrFjJK-SB",
        "colab": {
          "base_uri": "https://localhost:8080/"
        },
        "outputId": "6014c2b1-efda-4faf-ba03-a93bf98833fc"
      },
      "source": [
        "train.sort_values(\"Sentence\", inplace = True)\n",
        "print(len(train))\n"
      ],
      "execution_count": 3,
      "outputs": [
        {
          "output_type": "stream",
          "name": "stdout",
          "text": [
            "37711\n"
          ]
        }
      ]
    },
    {
      "cell_type": "code",
      "metadata": {
        "id": "sGhA6QWYLoUe"
      },
      "source": [
        " new_train = train.drop_duplicates(subset =\"Sentence\")\n"
      ],
      "execution_count": 4,
      "outputs": []
    },
    {
      "cell_type": "code",
      "metadata": {
        "id": "RbPp_HOCRuCe"
      },
      "source": [
        "train = new_train"
      ],
      "execution_count": 5,
      "outputs": []
    },
    {
      "cell_type": "code",
      "metadata": {
        "id": "L26kh03-L1Ws",
        "colab": {
          "base_uri": "https://localhost:8080/"
        },
        "outputId": "df857e66-f9eb-456f-eb85-407dc3c1e32e"
      },
      "source": [
        "train['Target'].unique()"
      ],
      "execution_count": 6,
      "outputs": [
        {
          "output_type": "execute_result",
          "data": {
            "text/plain": [
              "array(['Invalid', 'Rule/Law/Holding', 'Facts', 'Analysis', 'Others',\n",
              "       'Conclusion', 'Issue'], dtype=object)"
            ]
          },
          "metadata": {},
          "execution_count": 6
        }
      ]
    },
    {
      "cell_type": "code",
      "metadata": {
        "id": "OxDI4OqrKdtj",
        "colab": {
          "base_uri": "https://localhost:8080/"
        },
        "outputId": "a9d437d7-b78c-4c09-c982-4d6e90c2b29c"
      },
      "source": [
        "train['Target']=train['Target'].replace(['Others'],'Invalid')\n",
        "train['Target'].unique()\n"
      ],
      "execution_count": 7,
      "outputs": [
        {
          "output_type": "execute_result",
          "data": {
            "text/plain": [
              "array(['Invalid', 'Rule/Law/Holding', 'Facts', 'Analysis', 'Conclusion',\n",
              "       'Issue'], dtype=object)"
            ]
          },
          "metadata": {},
          "execution_count": 7
        }
      ]
    },
    {
      "cell_type": "code",
      "metadata": {
        "id": "qRe3cCJDRTY4",
        "colab": {
          "base_uri": "https://localhost:8080/"
        },
        "outputId": "3ab5e0dc-16a3-4ef2-cf45-582119181636"
      },
      "source": [
        "#cleaning\n",
        "import nltk\n",
        "import re\n",
        "import string\n",
        "nltk.download('stopwords')\n",
        "nltk.download('wordnet')\n",
        "stopword=nltk.corpus.stopwords.words('english')\n",
        "from nltk.stem import WordNetLemmatizer\n",
        "wl= WordNetLemmatizer()\n",
        "\n",
        "def clean_text(text):\n",
        "  text=\"\".join([word.lower() for word in text if word not in string.punctuation])\n",
        "  tokens = re.split('\\W+',text)\n",
        "  text = [wl.lemmatize(word) for word in tokens if word not in stopword]\n",
        "  return text"
      ],
      "execution_count": 8,
      "outputs": [
        {
          "output_type": "stream",
          "name": "stdout",
          "text": [
            "[nltk_data] Downloading package stopwords to /root/nltk_data...\n",
            "[nltk_data]   Package stopwords is already up-to-date!\n",
            "[nltk_data] Downloading package wordnet to /root/nltk_data...\n",
            "[nltk_data]   Package wordnet is already up-to-date!\n"
          ]
        }
      ]
    },
    {
      "cell_type": "code",
      "metadata": {
        "colab": {
          "base_uri": "https://localhost:8080/"
        },
        "id": "q-_klALmbFTv",
        "outputId": "fbfb68d9-57c9-416c-b29c-f913199f2782"
      },
      "source": [
        "len(train['Sentence'])"
      ],
      "execution_count": 9,
      "outputs": [
        {
          "output_type": "execute_result",
          "data": {
            "text/plain": [
              "4416"
            ]
          },
          "metadata": {},
          "execution_count": 9
        }
      ]
    },
    {
      "cell_type": "code",
      "metadata": {
        "id": "PUIUqngcav14"
      },
      "source": [
        "text = clean_text(train['Sentence'])"
      ],
      "execution_count": 10,
      "outputs": []
    },
    {
      "cell_type": "code",
      "metadata": {
        "colab": {
          "base_uri": "https://localhost:8080/"
        },
        "id": "-t6khs5La_Vk",
        "outputId": "9d493355-4a3f-447e-ec1a-4cb3741dd641"
      },
      "source": [
        "type(text)"
      ],
      "execution_count": 11,
      "outputs": [
        {
          "output_type": "execute_result",
          "data": {
            "text/plain": [
              "list"
            ]
          },
          "metadata": {},
          "execution_count": 11
        }
      ]
    },
    {
      "cell_type": "code",
      "metadata": {
        "colab": {
          "base_uri": "https://localhost:8080/"
        },
        "id": "Z7xxmWFubBSC",
        "outputId": "57dbc3c4-b626-430f-b001-39704295cc7d"
      },
      "source": [
        "len(text)"
      ],
      "execution_count": 12,
      "outputs": [
        {
          "output_type": "execute_result",
          "data": {
            "text/plain": [
              "59974"
            ]
          },
          "metadata": {},
          "execution_count": 12
        }
      ]
    },
    {
      "cell_type": "code",
      "metadata": {
        "id": "EcB5PThsRZPa",
        "colab": {
          "base_uri": "https://localhost:8080/"
        },
        "outputId": "8fae059b-7ca1-405b-be8c-a2124b2fbd51"
      },
      "source": [
        "from sklearn.feature_extraction.text import TfidfVectorizer\n",
        "\n",
        "tfidf_vect = TfidfVectorizer(analyzer = clean_text)\n",
        "X_tfidf = tfidf_vect.fit_transform(train['Sentence'])\n",
        "print(X_tfidf.shape)"
      ],
      "execution_count": 13,
      "outputs": [
        {
          "output_type": "stream",
          "name": "stdout",
          "text": [
            "(4416, 7374)\n"
          ]
        }
      ]
    },
    {
      "cell_type": "code",
      "metadata": {
        "id": "erVH3lWMRdUu"
      },
      "source": [
        "test = pd.read_csv(r'/content/drive/My Drive/Research/test_data.csv')\n",
        "\n",
        "test['Target']=test['Target'].replace(['Others'],'Invalid')\n",
        "test['Sentence'] = test['Sentence'].apply(lambda x: \" \".join(x.lower() for x in str(x).split()))\n",
        "test['Sentence'] = test['Sentence'].str.replace('[^\\w\\s]','')\n",
        "from nltk.corpus import stopwords\n",
        "words = stopwords.words('english')\n",
        "test['Sentence'] = test['Sentence'].apply(lambda x: \" \".join(x for x in x.split() if x not in words))\n",
        "t_p = tfidf_vect.transform(test['Sentence'])"
      ],
      "execution_count": 14,
      "outputs": []
    },
    {
      "cell_type": "code",
      "metadata": {
        "colab": {
          "base_uri": "https://localhost:8080/"
        },
        "id": "626i_0gkef3W",
        "outputId": "c19dd887-95a1-4701-f650-1c833afc40d4"
      },
      "source": [
        "\n",
        "unlabel = pd.read_csv(r'/content/drive/My Drive/Research/Unlabeled_data.csv')\n",
        "#unlabel.head()\n",
        "\n",
        "del unlabel['Complete']\n",
        "del unlabel['Unnamed: 0']\n",
        "\n",
        "unlabel['text'] = unlabel['text'].apply(lambda x: \" \".join(x.lower() for x in str(x).split()))\n",
        "unlabel['text'] = unlabel['text'].str.replace('[^\\w\\s]','')\n",
        "from nltk.corpus import stopwords\n",
        "words = stopwords.words('english')\n",
        "unlabel['text'] = unlabel['text'].apply(lambda x: \" \".join(x for x in x.split() if x not in words))\n",
        "\n",
        "\n",
        "from textblob import TextBlob\n",
        "from textblob import Word\n",
        "nltk.download('wordnet')\n",
        "nltk.download('punkt')\n",
        "unlabel['text'] = unlabel['text'].apply(lambda x: TextBlob(x).words)\n",
        "unlabel['text'] = unlabel['text'].apply(lambda x: \" \".join([Word(word).lemmatize() for word in x]))\n",
        "\n",
        "unlabel_1 = unlabel.loc[:1000]\n",
        "\n",
        "\n",
        "def index_reset(unlabel_2):\n",
        "  unlabel_2.reset_index(inplace=True)\n",
        "  del unlabel_2['index']\n",
        "  #print(unlabel_2.head())\n",
        "  return unlabel_2\n",
        "\n",
        "unlabel_1 = index_reset(unlabel_1)\n",
        "unlabel_1_copy = unlabel_1.copy(deep = True)\n",
        "\n",
        "\n",
        "\n",
        "x_un1 = tfidf_vect.transform(unlabel_1['text'])\n",
        "\n",
        "\n",
        "\n",
        "\n"
      ],
      "execution_count": 15,
      "outputs": [
        {
          "output_type": "stream",
          "name": "stdout",
          "text": [
            "[nltk_data] Downloading package wordnet to /root/nltk_data...\n",
            "[nltk_data]   Package wordnet is already up-to-date!\n",
            "[nltk_data] Downloading package punkt to /root/nltk_data...\n",
            "[nltk_data]   Package punkt is already up-to-date!\n"
          ]
        }
      ]
    },
    {
      "cell_type": "code",
      "metadata": {
        "id": "N8BxnWUufERI"
      },
      "source": [
        ""
      ],
      "execution_count": 15,
      "outputs": []
    },
    {
      "cell_type": "code",
      "metadata": {
        "colab": {
          "base_uri": "https://localhost:8080/"
        },
        "id": "8feE3QTehJTr",
        "outputId": "c78ea06d-d3d0-416b-8828-e938dfca3ecc"
      },
      "source": [
        "unlabel_1['Target']=-1"
      ],
      "execution_count": 16,
      "outputs": [
        {
          "output_type": "stream",
          "name": "stderr",
          "text": [
            "/usr/local/lib/python3.7/dist-packages/ipykernel_launcher.py:1: SettingWithCopyWarning: \n",
            "A value is trying to be set on a copy of a slice from a DataFrame.\n",
            "Try using .loc[row_indexer,col_indexer] = value instead\n",
            "\n",
            "See the caveats in the documentation: https://pandas.pydata.org/pandas-docs/stable/user_guide/indexing.html#returning-a-view-versus-a-copy\n",
            "  \"\"\"Entry point for launching an IPython kernel.\n"
          ]
        }
      ]
    },
    {
      "cell_type": "code",
      "metadata": {
        "id": "p_VQp63uhKft"
      },
      "source": [
        ""
      ],
      "execution_count": 16,
      "outputs": []
    },
    {
      "cell_type": "code",
      "metadata": {
        "colab": {
          "base_uri": "https://localhost:8080/"
        },
        "id": "A8ePmhB9hLSw",
        "outputId": "572eee54-892a-419e-ea82-bd669d3cb6df"
      },
      "source": [
        "import numpy as np\n",
        "np.unique(unlabel_1['Target'])"
      ],
      "execution_count": 17,
      "outputs": [
        {
          "output_type": "execute_result",
          "data": {
            "text/plain": [
              "array([-1])"
            ]
          },
          "metadata": {},
          "execution_count": 17
        }
      ]
    },
    {
      "cell_type": "code",
      "metadata": {
        "id": "xIuBhhErhiuQ"
      },
      "source": [
        "train = train.rename(columns={'Sentence':'text'})"
      ],
      "execution_count": 18,
      "outputs": []
    },
    {
      "cell_type": "code",
      "metadata": {
        "id": "wZdoHrPBi9VC"
      },
      "source": [
        " from sklearn.preprocessing import LabelEncoder\n",
        " train['Target']= LabelEncoder().fit_transform(train['Target'])"
      ],
      "execution_count": 19,
      "outputs": []
    },
    {
      "cell_type": "code",
      "metadata": {
        "colab": {
          "base_uri": "https://localhost:8080/"
        },
        "id": "qjwNzU-efKei",
        "outputId": "0ae54e36-5943-4e7e-b3e1-aca0f58e9f83"
      },
      "source": [
        "train_and_unlabel =  pd.concat([train,unlabel_1])\n",
        "print(len(train))\n",
        "print(len(unlabel_1))\n",
        "print(len(train_and_unlabel))"
      ],
      "execution_count": 20,
      "outputs": [
        {
          "output_type": "stream",
          "name": "stdout",
          "text": [
            "4416\n",
            "1001\n",
            "5417\n"
          ]
        }
      ]
    },
    {
      "cell_type": "code",
      "metadata": {
        "id": "-53aEmQyj0gW"
      },
      "source": [
        ""
      ],
      "execution_count": 20,
      "outputs": []
    },
    {
      "cell_type": "code",
      "metadata": {
        "colab": {
          "base_uri": "https://localhost:8080/",
          "height": 205
        },
        "id": "N0mETRPJhGH-",
        "outputId": "edcd5b3c-891e-4508-f475-a4ef62373f27"
      },
      "source": [
        "train_and_unlabel.head()"
      ],
      "execution_count": 21,
      "outputs": [
        {
          "output_type": "execute_result",
          "data": {
            "text/html": [
              "<div>\n",
              "<style scoped>\n",
              "    .dataframe tbody tr th:only-of-type {\n",
              "        vertical-align: middle;\n",
              "    }\n",
              "\n",
              "    .dataframe tbody tr th {\n",
              "        vertical-align: top;\n",
              "    }\n",
              "\n",
              "    .dataframe thead th {\n",
              "        text-align: right;\n",
              "    }\n",
              "</style>\n",
              "<table border=\"1\" class=\"dataframe\">\n",
              "  <thead>\n",
              "    <tr style=\"text-align: right;\">\n",
              "      <th></th>\n",
              "      <th>Unnamed: 0</th>\n",
              "      <th>text</th>\n",
              "      <th>Target</th>\n",
              "    </tr>\n",
              "  </thead>\n",
              "  <tbody>\n",
              "    <tr>\n",
              "      <th>1364</th>\n",
              "      <td>239.0</td>\n",
              "      <td>\"(I)n the First Amendment area 'government may...</td>\n",
              "      <td>3</td>\n",
              "    </tr>\n",
              "    <tr>\n",
              "      <th>1833</th>\n",
              "      <td>185.0</td>\n",
              "      <td>\"... that nowhere in the statute was it stated...</td>\n",
              "      <td>3</td>\n",
              "    </tr>\n",
              "    <tr>\n",
              "      <th>2431</th>\n",
              "      <td>415.0</td>\n",
              "      <td>\"Although a statute may be neither vague, over...</td>\n",
              "      <td>5</td>\n",
              "    </tr>\n",
              "    <tr>\n",
              "      <th>2245</th>\n",
              "      <td>416.0</td>\n",
              "      <td>\"For even when pursuing a legitimate interest,...</td>\n",
              "      <td>5</td>\n",
              "    </tr>\n",
              "    <tr>\n",
              "      <th>1561</th>\n",
              "      <td>25.0</td>\n",
              "      <td>\"If an indictment has been found or accusation...</td>\n",
              "      <td>2</td>\n",
              "    </tr>\n",
              "  </tbody>\n",
              "</table>\n",
              "</div>"
            ],
            "text/plain": [
              "      Unnamed: 0                                               text  Target\n",
              "1364       239.0  \"(I)n the First Amendment area 'government may...       3\n",
              "1833       185.0  \"... that nowhere in the statute was it stated...       3\n",
              "2431       415.0  \"Although a statute may be neither vague, over...       5\n",
              "2245       416.0  \"For even when pursuing a legitimate interest,...       5\n",
              "1561        25.0  \"If an indictment has been found or accusation...       2"
            ]
          },
          "metadata": {},
          "execution_count": 21
        }
      ]
    },
    {
      "cell_type": "code",
      "metadata": {
        "id": "gTRNFqC3h89e"
      },
      "source": [
        "\n",
        "train_and_unlabel.reset_index(inplace=True) #commented now"
      ],
      "execution_count": 22,
      "outputs": []
    },
    {
      "cell_type": "code",
      "metadata": {
        "colab": {
          "base_uri": "https://localhost:8080/"
        },
        "id": "ln6ZNw3vjnD3",
        "outputId": "f4bafe01-f9a8-4e70-d3f0-b6d3cab5a4e4"
      },
      "source": [
        "train_and_unlabel.columns"
      ],
      "execution_count": 23,
      "outputs": [
        {
          "output_type": "execute_result",
          "data": {
            "text/plain": [
              "Index(['index', 'Unnamed: 0', 'text', 'Target'], dtype='object')"
            ]
          },
          "metadata": {},
          "execution_count": 23
        }
      ]
    },
    {
      "cell_type": "code",
      "metadata": {
        "id": "WfILrO0BjRW0"
      },
      "source": [
        "del train_and_unlabel['index']\n",
        "del train_and_unlabel['Unnamed: 0']"
      ],
      "execution_count": 24,
      "outputs": []
    },
    {
      "cell_type": "code",
      "metadata": {
        "colab": {
          "base_uri": "https://localhost:8080/",
          "height": 205
        },
        "id": "NdPDaRmvjfsZ",
        "outputId": "0c44ded8-0ec2-41f0-a906-4517d4b56a39"
      },
      "source": [
        "train_and_unlabel.head()"
      ],
      "execution_count": 25,
      "outputs": [
        {
          "output_type": "execute_result",
          "data": {
            "text/html": [
              "<div>\n",
              "<style scoped>\n",
              "    .dataframe tbody tr th:only-of-type {\n",
              "        vertical-align: middle;\n",
              "    }\n",
              "\n",
              "    .dataframe tbody tr th {\n",
              "        vertical-align: top;\n",
              "    }\n",
              "\n",
              "    .dataframe thead th {\n",
              "        text-align: right;\n",
              "    }\n",
              "</style>\n",
              "<table border=\"1\" class=\"dataframe\">\n",
              "  <thead>\n",
              "    <tr style=\"text-align: right;\">\n",
              "      <th></th>\n",
              "      <th>text</th>\n",
              "      <th>Target</th>\n",
              "    </tr>\n",
              "  </thead>\n",
              "  <tbody>\n",
              "    <tr>\n",
              "      <th>0</th>\n",
              "      <td>\"(I)n the First Amendment area 'government may...</td>\n",
              "      <td>3</td>\n",
              "    </tr>\n",
              "    <tr>\n",
              "      <th>1</th>\n",
              "      <td>\"... that nowhere in the statute was it stated...</td>\n",
              "      <td>3</td>\n",
              "    </tr>\n",
              "    <tr>\n",
              "      <th>2</th>\n",
              "      <td>\"Although a statute may be neither vague, over...</td>\n",
              "      <td>5</td>\n",
              "    </tr>\n",
              "    <tr>\n",
              "      <th>3</th>\n",
              "      <td>\"For even when pursuing a legitimate interest,...</td>\n",
              "      <td>5</td>\n",
              "    </tr>\n",
              "    <tr>\n",
              "      <th>4</th>\n",
              "      <td>\"If an indictment has been found or accusation...</td>\n",
              "      <td>2</td>\n",
              "    </tr>\n",
              "  </tbody>\n",
              "</table>\n",
              "</div>"
            ],
            "text/plain": [
              "                                                text  Target\n",
              "0  \"(I)n the First Amendment area 'government may...       3\n",
              "1  \"... that nowhere in the statute was it stated...       3\n",
              "2  \"Although a statute may be neither vague, over...       5\n",
              "3  \"For even when pursuing a legitimate interest,...       5\n",
              "4  \"If an indictment has been found or accusation...       2"
            ]
          },
          "metadata": {},
          "execution_count": 25
        }
      ]
    },
    {
      "cell_type": "code",
      "metadata": {
        "colab": {
          "base_uri": "https://localhost:8080/",
          "height": 205
        },
        "id": "fTGbCJzFiAj4",
        "outputId": "06b77afd-1084-4b62-f959-f4536cdf7b9c"
      },
      "source": [
        "train_and_unlabel.tail()"
      ],
      "execution_count": 26,
      "outputs": [
        {
          "output_type": "execute_result",
          "data": {
            "text/html": [
              "<div>\n",
              "<style scoped>\n",
              "    .dataframe tbody tr th:only-of-type {\n",
              "        vertical-align: middle;\n",
              "    }\n",
              "\n",
              "    .dataframe tbody tr th {\n",
              "        vertical-align: top;\n",
              "    }\n",
              "\n",
              "    .dataframe thead th {\n",
              "        text-align: right;\n",
              "    }\n",
              "</style>\n",
              "<table border=\"1\" class=\"dataframe\">\n",
              "  <thead>\n",
              "    <tr style=\"text-align: right;\">\n",
              "      <th></th>\n",
              "      <th>text</th>\n",
              "      <th>Target</th>\n",
              "    </tr>\n",
              "  </thead>\n",
              "  <tbody>\n",
              "    <tr>\n",
              "      <th>5412</th>\n",
              "      <td>judgment condemned appellant guilty two felony...</td>\n",
              "      <td>-1</td>\n",
              "    </tr>\n",
              "    <tr>\n",
              "      <th>5413</th>\n",
              "      <td>sentence followed judgment</td>\n",
              "      <td>-1</td>\n",
              "    </tr>\n",
              "    <tr>\n",
              "      <th>5414</th>\n",
              "      <td>conviction can not two felony one indictment w...</td>\n",
              "      <td>-1</td>\n",
              "    </tr>\n",
              "    <tr>\n",
              "      <th>5415</th>\n",
              "      <td>present case verdict specifically found appell...</td>\n",
              "      <td>-1</td>\n",
              "    </tr>\n",
              "    <tr>\n",
              "      <th>5416</th>\n",
              "      <td>court undertaken enter judgment condemning app...</td>\n",
              "      <td>-1</td>\n",
              "    </tr>\n",
              "  </tbody>\n",
              "</table>\n",
              "</div>"
            ],
            "text/plain": [
              "                                                   text  Target\n",
              "5412  judgment condemned appellant guilty two felony...      -1\n",
              "5413                         sentence followed judgment      -1\n",
              "5414  conviction can not two felony one indictment w...      -1\n",
              "5415  present case verdict specifically found appell...      -1\n",
              "5416  court undertaken enter judgment condemning app...      -1"
            ]
          },
          "metadata": {},
          "execution_count": 26
        }
      ]
    },
    {
      "cell_type": "code",
      "metadata": {
        "id": "hJIeWsF9qNVg"
      },
      "source": [
        "# #cleaning\n",
        "# import nltk\n",
        "# import re\n",
        "# import string\n",
        "# nltk.download('stopwords')\n",
        "# nltk.download('wordnet')\n",
        "# stopword=nltk.corpus.stopwords.words('english')\n",
        "# from nltk.stem import WordNetLemmatizer\n",
        "# wl= WordNetLemmatizer()\n",
        "\n",
        "# def clean_text(text):\n",
        "#   text=\"\".join([word.lower() for word in text if word not in string.punctuation])\n",
        "#   tokens = re.split('\\W+',text)\n",
        "#   text = [wl.lemmatize(word) for word in tokens if word not in stopword]\n",
        "#   return text"
      ],
      "execution_count": 27,
      "outputs": []
    },
    {
      "cell_type": "code",
      "metadata": {
        "id": "QjH693UdhRSy"
      },
      "source": [
        "train_and_unlabel_words = clean_text(train_and_unlabel['text'])"
      ],
      "execution_count": 28,
      "outputs": []
    },
    {
      "cell_type": "code",
      "metadata": {
        "colab": {
          "base_uri": "https://localhost:8080/"
        },
        "id": "ZiJ-7yn4iYGz",
        "outputId": "50df5249-43ed-4eb2-984d-ae9d02b8470c"
      },
      "source": [
        "len(train_and_unlabel_words)"
      ],
      "execution_count": 29,
      "outputs": [
        {
          "output_type": "execute_result",
          "data": {
            "text/plain": [
              "72340"
            ]
          },
          "metadata": {},
          "execution_count": 29
        }
      ]
    },
    {
      "cell_type": "code",
      "metadata": {
        "id": "KHQqYcmtilrJ"
      },
      "source": [
        "train_and_unlabel_words_wo_duplicates = list(set(train_and_unlabel_words))"
      ],
      "execution_count": 30,
      "outputs": []
    },
    {
      "cell_type": "code",
      "metadata": {
        "colab": {
          "base_uri": "https://localhost:8080/"
        },
        "id": "5004TxUDirVQ",
        "outputId": "cb1e3831-30c5-4ac7-a834-aed541bf160d"
      },
      "source": [
        "len(train_and_unlabel_words_wo_duplicates)"
      ],
      "execution_count": 31,
      "outputs": [
        {
          "output_type": "execute_result",
          "data": {
            "text/plain": [
              "8938"
            ]
          },
          "metadata": {},
          "execution_count": 31
        }
      ]
    },
    {
      "cell_type": "code",
      "metadata": {
        "colab": {
          "base_uri": "https://localhost:8080/"
        },
        "id": "2ljYTr3Uha8N",
        "outputId": "f5f21f97-4c7e-48dc-8ba3-067da2e1c1b2"
      },
      "source": [
        "type(train_and_unlabel_words_wo_duplicates)"
      ],
      "execution_count": 32,
      "outputs": [
        {
          "output_type": "execute_result",
          "data": {
            "text/plain": [
              "list"
            ]
          },
          "metadata": {},
          "execution_count": 32
        }
      ]
    },
    {
      "cell_type": "code",
      "metadata": {
        "colab": {
          "base_uri": "https://localhost:8080/"
        },
        "id": "x7WQX94shdr1",
        "outputId": "751ecf41-0df1-4059-d674-4a505f7c5a54"
      },
      "source": [
        "len(train_and_unlabel_words_wo_duplicates)"
      ],
      "execution_count": 33,
      "outputs": [
        {
          "output_type": "execute_result",
          "data": {
            "text/plain": [
              "8938"
            ]
          },
          "metadata": {},
          "execution_count": 33
        }
      ]
    },
    {
      "cell_type": "code",
      "metadata": {
        "id": "Gn3uBz5rhgEd"
      },
      "source": [
        "train_words = clean_text(train['text'])"
      ],
      "execution_count": 34,
      "outputs": []
    },
    {
      "cell_type": "code",
      "metadata": {
        "colab": {
          "base_uri": "https://localhost:8080/"
        },
        "id": "kVNZh8R5l4M5",
        "outputId": "97f166e6-37aa-4b8c-a6cf-33883b303c73"
      },
      "source": [
        "len(np.unique(train_words))"
      ],
      "execution_count": 35,
      "outputs": [
        {
          "output_type": "execute_result",
          "data": {
            "text/plain": [
              "7232"
            ]
          },
          "metadata": {},
          "execution_count": 35
        }
      ]
    },
    {
      "cell_type": "code",
      "metadata": {
        "id": "W6ZgZKYmhz3E"
      },
      "source": [
        "train_words_wo_duplicates = list(set(train_words))"
      ],
      "execution_count": 36,
      "outputs": []
    },
    {
      "cell_type": "code",
      "metadata": {
        "colab": {
          "base_uri": "https://localhost:8080/"
        },
        "id": "SgGwuhp4hrkO",
        "outputId": "f1f38399-c887-4397-8995-b4efa7a27690"
      },
      "source": [
        "len(train_words_wo_duplicates)"
      ],
      "execution_count": 37,
      "outputs": [
        {
          "output_type": "execute_result",
          "data": {
            "text/plain": [
              "7232"
            ]
          },
          "metadata": {},
          "execution_count": 37
        }
      ]
    },
    {
      "cell_type": "code",
      "metadata": {
        "id": "nenIwc5Yhv8d"
      },
      "source": [
        "unlabel_words = clean_text(unlabel_1['text'])"
      ],
      "execution_count": 38,
      "outputs": []
    },
    {
      "cell_type": "code",
      "metadata": {
        "colab": {
          "base_uri": "https://localhost:8080/"
        },
        "id": "Gp8lWXCwmKUR",
        "outputId": "1ad6defb-572c-4f7d-bd5a-f43ba5040fee"
      },
      "source": [
        "len(unlabel_words)"
      ],
      "execution_count": 39,
      "outputs": [
        {
          "output_type": "execute_result",
          "data": {
            "text/plain": [
              "12367"
            ]
          },
          "metadata": {},
          "execution_count": 39
        }
      ]
    },
    {
      "cell_type": "code",
      "metadata": {
        "colab": {
          "base_uri": "https://localhost:8080/"
        },
        "id": "sqJdf7kPmNJS",
        "outputId": "60883120-0b9a-43cb-a3ed-45ee6647814a"
      },
      "source": [
        "len(np.unique(unlabel_words))"
      ],
      "execution_count": 40,
      "outputs": [
        {
          "output_type": "execute_result",
          "data": {
            "text/plain": [
              "3657"
            ]
          },
          "metadata": {},
          "execution_count": 40
        }
      ]
    },
    {
      "cell_type": "code",
      "metadata": {
        "id": "B2ukR916mQ9b"
      },
      "source": [
        "unlabel_words_wo_duplicates = list(set(unlabel_words))"
      ],
      "execution_count": 41,
      "outputs": []
    },
    {
      "cell_type": "code",
      "metadata": {
        "colab": {
          "base_uri": "https://localhost:8080/"
        },
        "id": "jCU43CQemUuz",
        "outputId": "b1358211-0bb9-4a1f-ac3e-ff7c54636036"
      },
      "source": [
        "len(unlabel_words_wo_duplicates)"
      ],
      "execution_count": 42,
      "outputs": [
        {
          "output_type": "execute_result",
          "data": {
            "text/plain": [
              "3657"
            ]
          },
          "metadata": {},
          "execution_count": 42
        }
      ]
    },
    {
      "cell_type": "code",
      "metadata": {
        "id": "367G_fgomY4d"
      },
      "source": [
        "PF = []\n",
        "NF = []\n",
        "Threshold_feature = 1\n",
        "\n",
        "def feature_set_selection(train_and_unlabel_words_wo_duplicates,train_words,unlabel_words):\n",
        "  for term in train_and_unlabel_words_wo_duplicates:\n",
        "    #print(term)\n",
        "    freq_train = train_words.count(term) / len(train_words)\n",
        "    #print(freq_train)\n",
        "    freq_unlabel = unlabel_words.count(term) / len(unlabel_words)\n",
        "    #print(freq_unlabel)\n",
        "    if freq_unlabel == 0:\n",
        "      PF.append(term)\n",
        "    elif (freq_train // freq_unlabel) > Threshold_feature:\n",
        "      PF.append(term)\n",
        "    else:\n",
        "      NF.append(term)\n",
        "\n",
        "\n",
        "feature_set_selection(train_and_unlabel_words_wo_duplicates,train_words,unlabel_words)\n",
        "    \n"
      ],
      "execution_count": 43,
      "outputs": []
    },
    {
      "cell_type": "code",
      "metadata": {
        "colab": {
          "base_uri": "https://localhost:8080/"
        },
        "id": "k600jaczpUAa",
        "outputId": "82731d30-9878-4e8b-c9a7-5c43db1a5f99"
      },
      "source": [
        "len(PF)"
      ],
      "execution_count": 44,
      "outputs": [
        {
          "output_type": "execute_result",
          "data": {
            "text/plain": [
              "5540"
            ]
          },
          "metadata": {},
          "execution_count": 44
        }
      ]
    },
    {
      "cell_type": "code",
      "metadata": {
        "colab": {
          "base_uri": "https://localhost:8080/"
        },
        "id": "BLb-AbR3pWhg",
        "outputId": "06448df7-a978-49ed-ef50-0157633b6611"
      },
      "source": [
        "len(NF)"
      ],
      "execution_count": 45,
      "outputs": [
        {
          "output_type": "execute_result",
          "data": {
            "text/plain": [
              "3398"
            ]
          },
          "metadata": {},
          "execution_count": 45
        }
      ]
    },
    {
      "cell_type": "code",
      "metadata": {
        "colab": {
          "base_uri": "https://localhost:8080/"
        },
        "id": "ffoPVM2XpYr3",
        "outputId": "888150f9-31fd-4387-c0ec-24c41892f83c"
      },
      "source": [
        "len(PF) + len(NF)"
      ],
      "execution_count": 46,
      "outputs": [
        {
          "output_type": "execute_result",
          "data": {
            "text/plain": [
              "8938"
            ]
          },
          "metadata": {},
          "execution_count": 46
        }
      ]
    },
    {
      "cell_type": "code",
      "metadata": {
        "colab": {
          "base_uri": "https://localhost:8080/",
          "height": 165
        },
        "id": "KaALCgFe0INn",
        "outputId": "b44e8a69-b450-43d2-a8d7-025548c875a6"
      },
      "source": [
        "p"
      ],
      "execution_count": 47,
      "outputs": [
        {
          "output_type": "error",
          "ename": "NameError",
          "evalue": "ignored",
          "traceback": [
            "\u001b[0;31m---------------------------------------------------------------------------\u001b[0m",
            "\u001b[0;31mNameError\u001b[0m                                 Traceback (most recent call last)",
            "\u001b[0;32m<ipython-input-47-6c10289a8da7>\u001b[0m in \u001b[0;36m<module>\u001b[0;34m()\u001b[0m\n\u001b[0;32m----> 1\u001b[0;31m \u001b[0mp\u001b[0m\u001b[0;34m\u001b[0m\u001b[0;34m\u001b[0m\u001b[0m\n\u001b[0m",
            "\u001b[0;31mNameError\u001b[0m: name 'p' is not defined"
          ]
        }
      ]
    },
    {
      "cell_type": "code",
      "metadata": {
        "colab": {
          "base_uri": "https://localhost:8080/"
        },
        "id": "-psZPoy4_Xnz",
        "outputId": "15ab5b6b-719b-4e02-9f25-6c7f7ec1bf2c"
      },
      "source": [
        "\n",
        "\n",
        "def RN_selection(RN, unlabel_1):\n",
        "  print(len(RN))\n",
        "  #Q = pd.DataFrame( )\n",
        "  iteration_RN = 0\n",
        "  RN_to_be_removed = []\n",
        "  pos_to_be_removed = []\n",
        "  freq_each_word_list = []\n",
        "  Q_pos = []\n",
        "\n",
        "  count = 0\n",
        "  if_count = 0\n",
        "\n",
        "  for doc in unlabel_1['text']:\n",
        "    #print(\"iteration_RN\",iteration_RN)\n",
        "    #print(doc)\n",
        "    doc_words = clean_text(doc)\n",
        "    doc_words_wo_duplicates = list(set(doc_words))\n",
        "    for_count = 0\n",
        "    \n",
        "    for each_doc_word in doc_words_wo_duplicates:\n",
        "      #print(each_doc_word)\n",
        "      for_count = for_count + 1\n",
        "      freq_each_doc_word = doc_words.count(each_doc_word)\n",
        "      freq_each_word_list.append(freq_each_doc_word)\n",
        "      #print(freq_each_doc_word)\n",
        "      #print(each_doc_word in PF)\n",
        "      if (freq_each_doc_word > 0) and (each_doc_word in PF):\n",
        "        #print(\"Yes writing ........\")\n",
        "        if_count = if_count + 1\n",
        "        pos_to_be_removed.append(count)\n",
        "        RN_to_be_removed.append(doc)\n",
        "        #print(\"breaking:::::::::::\")\n",
        "        break\n",
        "      \n",
        "    if for_count == len(doc_words_wo_duplicates):\n",
        "      Q_pos.append(count)\n",
        "\n",
        "    count = count + 1\n",
        "    iteration_RN = iteration_RN + 1\n",
        "  \n",
        "  RN.drop(pos_to_be_removed,axis=0,inplace=True)\n",
        "  #Q =  unlabel_1.loc[pos_to_be_removed,:]\n",
        "  #print(len(Q))\n",
        "  return RN,pos_to_be_removed, Q_pos, if_count\n",
        "\n",
        "#unlabel_2 = unlabel_1[0:10] #comment it \n",
        "RN = unlabel_1.copy(deep=True) #comment\n",
        "RN,op_pos_to_be_removed, op_Q_pos, op_if_count = RN_selection(RN,unlabel_1) # comment"
      ],
      "execution_count": 56,
      "outputs": [
        {
          "output_type": "stream",
          "name": "stdout",
          "text": [
            "1001\n"
          ]
        }
      ]
    },
    {
      "cell_type": "code",
      "metadata": {
        "colab": {
          "base_uri": "https://localhost:8080/"
        },
        "id": "Gfrs1iH93-WF",
        "outputId": "3411478b-47c1-400a-9ea2-ecd155dd78ec"
      },
      "source": [
        "len(unlabel_1)"
      ],
      "execution_count": 65,
      "outputs": [
        {
          "output_type": "execute_result",
          "data": {
            "text/plain": [
              "1001"
            ]
          },
          "metadata": {},
          "execution_count": 65
        }
      ]
    },
    {
      "cell_type": "code",
      "metadata": {
        "colab": {
          "base_uri": "https://localhost:8080/"
        },
        "id": "A_s9VKheFV3f",
        "outputId": "6307552c-de26-40bb-806d-dd3984599b16"
      },
      "source": [
        "len(RN)"
      ],
      "execution_count": 66,
      "outputs": [
        {
          "output_type": "execute_result",
          "data": {
            "text/plain": [
              "421"
            ]
          },
          "metadata": {},
          "execution_count": 66
        }
      ]
    },
    {
      "cell_type": "code",
      "metadata": {
        "colab": {
          "base_uri": "https://localhost:8080/"
        },
        "id": "-OxpXFc86dvo",
        "outputId": "503cfb6b-e8e2-4884-ae3e-cb99bee6ae5f"
      },
      "source": [
        "len(Q)"
      ],
      "execution_count": 67,
      "outputs": [
        {
          "output_type": "execute_result",
          "data": {
            "text/plain": [
              "580"
            ]
          },
          "metadata": {},
          "execution_count": 67
        }
      ]
    },
    {
      "cell_type": "code",
      "metadata": {
        "colab": {
          "base_uri": "https://localhost:8080/"
        },
        "id": "lfVyQPvV6gNM",
        "outputId": "e9916388-4409-4a51-a7b8-96a4cfae1aa9"
      },
      "source": [
        "580 + 421"
      ],
      "execution_count": 68,
      "outputs": [
        {
          "output_type": "execute_result",
          "data": {
            "text/plain": [
              "1001"
            ]
          },
          "metadata": {},
          "execution_count": 68
        }
      ]
    },
    {
      "cell_type": "code",
      "metadata": {
        "colab": {
          "base_uri": "https://localhost:8080/"
        },
        "id": "fD-CY_qL3V4w",
        "outputId": "0729219c-db0d-47e9-dda1-653dae8cbaf4"
      },
      "source": [
        "op_if_count"
      ],
      "execution_count": 59,
      "outputs": [
        {
          "output_type": "execute_result",
          "data": {
            "text/plain": [
              "580"
            ]
          },
          "metadata": {},
          "execution_count": 59
        }
      ]
    },
    {
      "cell_type": "code",
      "metadata": {
        "colab": {
          "base_uri": "https://localhost:8080/"
        },
        "id": "Tc61_vbB2lV7",
        "outputId": "ff258d96-b1ab-4039-9be8-4054b6d572ca"
      },
      "source": [
        "len(op_Q_pos)"
      ],
      "execution_count": 60,
      "outputs": [
        {
          "output_type": "execute_result",
          "data": {
            "text/plain": [
              "479"
            ]
          },
          "metadata": {},
          "execution_count": 60
        }
      ]
    },
    {
      "cell_type": "code",
      "metadata": {
        "id": "CYloP9Lp2v5t"
      },
      "source": [
        ""
      ],
      "execution_count": 60,
      "outputs": []
    },
    {
      "cell_type": "code",
      "metadata": {
        "colab": {
          "base_uri": "https://localhost:8080/"
        },
        "id": "j0zOcUfNVt5s",
        "outputId": "4fb0be0d-b6e0-4555-ad71-5afe3eb9ab73"
      },
      "source": [
        "len(op_pos_to_be_removed)"
      ],
      "execution_count": 61,
      "outputs": [
        {
          "output_type": "execute_result",
          "data": {
            "text/plain": [
              "580"
            ]
          },
          "metadata": {},
          "execution_count": 61
        }
      ]
    },
    {
      "cell_type": "code",
      "metadata": {
        "colab": {
          "base_uri": "https://localhost:8080/",
          "height": 422
        },
        "id": "xjFvLtV9FpeX",
        "outputId": "5b01ee71-9072-4d40-af16-25410a6832a8"
      },
      "source": [
        "unlabel_1"
      ],
      "execution_count": 62,
      "outputs": [
        {
          "output_type": "execute_result",
          "data": {
            "text/html": [
              "<div>\n",
              "<style scoped>\n",
              "    .dataframe tbody tr th:only-of-type {\n",
              "        vertical-align: middle;\n",
              "    }\n",
              "\n",
              "    .dataframe tbody tr th {\n",
              "        vertical-align: top;\n",
              "    }\n",
              "\n",
              "    .dataframe thead th {\n",
              "        text-align: right;\n",
              "    }\n",
              "</style>\n",
              "<table border=\"1\" class=\"dataframe\">\n",
              "  <thead>\n",
              "    <tr style=\"text-align: right;\">\n",
              "      <th></th>\n",
              "      <th>text</th>\n",
              "      <th>Target</th>\n",
              "    </tr>\n",
              "  </thead>\n",
              "  <tbody>\n",
              "    <tr>\n",
              "      <th>0</th>\n",
              "      <td>motion rehearing filed</td>\n",
              "      <td>-1</td>\n",
              "    </tr>\n",
              "    <tr>\n",
              "      <th>1</th>\n",
              "      <td>relator accusation killing husband virgil clark</td>\n",
              "      <td>-1</td>\n",
              "    </tr>\n",
              "    <tr>\n",
              "      <th>2</th>\n",
              "      <td>order district judge 39th judicial district re...</td>\n",
              "      <td>-1</td>\n",
              "    </tr>\n",
              "    <tr>\n",
              "      <th>3</th>\n",
              "      <td>relator husband married number year</td>\n",
              "      <td>-1</td>\n",
              "    </tr>\n",
              "    <tr>\n",
              "      <th>4</th>\n",
              "      <td>evidence indicates family relation always plea...</td>\n",
              "      <td>-1</td>\n",
              "    </tr>\n",
              "    <tr>\n",
              "      <th>...</th>\n",
              "      <td>...</td>\n",
              "      <td>...</td>\n",
              "    </tr>\n",
              "    <tr>\n",
              "      <th>996</th>\n",
              "      <td>judgment condemned appellant guilty two felony...</td>\n",
              "      <td>-1</td>\n",
              "    </tr>\n",
              "    <tr>\n",
              "      <th>997</th>\n",
              "      <td>sentence followed judgment</td>\n",
              "      <td>-1</td>\n",
              "    </tr>\n",
              "    <tr>\n",
              "      <th>998</th>\n",
              "      <td>conviction can not two felony one indictment w...</td>\n",
              "      <td>-1</td>\n",
              "    </tr>\n",
              "    <tr>\n",
              "      <th>999</th>\n",
              "      <td>present case verdict specifically found appell...</td>\n",
              "      <td>-1</td>\n",
              "    </tr>\n",
              "    <tr>\n",
              "      <th>1000</th>\n",
              "      <td>court undertaken enter judgment condemning app...</td>\n",
              "      <td>-1</td>\n",
              "    </tr>\n",
              "  </tbody>\n",
              "</table>\n",
              "<p>1001 rows × 2 columns</p>\n",
              "</div>"
            ],
            "text/plain": [
              "                                                   text  Target\n",
              "0                                motion rehearing filed      -1\n",
              "1       relator accusation killing husband virgil clark      -1\n",
              "2     order district judge 39th judicial district re...      -1\n",
              "3                   relator husband married number year      -1\n",
              "4     evidence indicates family relation always plea...      -1\n",
              "...                                                 ...     ...\n",
              "996   judgment condemned appellant guilty two felony...      -1\n",
              "997                          sentence followed judgment      -1\n",
              "998   conviction can not two felony one indictment w...      -1\n",
              "999   present case verdict specifically found appell...      -1\n",
              "1000  court undertaken enter judgment condemning app...      -1\n",
              "\n",
              "[1001 rows x 2 columns]"
            ]
          },
          "metadata": {},
          "execution_count": 62
        }
      ]
    },
    {
      "cell_type": "code",
      "metadata": {
        "id": "CI5FrWqKVy7d"
      },
      "source": [
        "Q =  unlabel_1.loc[op_pos_to_be_removed,:]"
      ],
      "execution_count": 63,
      "outputs": []
    },
    {
      "cell_type": "code",
      "metadata": {
        "colab": {
          "base_uri": "https://localhost:8080/"
        },
        "id": "pW6qwDU6V0mh",
        "outputId": "2ca2a578-8a92-4b00-f396-29cc0f4d0ffe"
      },
      "source": [
        "len(Q)"
      ],
      "execution_count": 64,
      "outputs": [
        {
          "output_type": "execute_result",
          "data": {
            "text/plain": [
              "580"
            ]
          },
          "metadata": {},
          "execution_count": 64
        }
      ]
    },
    {
      "cell_type": "code",
      "metadata": {
        "id": "ve9CywyyWqra"
      },
      "source": [
        "import lightgbm as lgb\n",
        "\n",
        "def classifier_select(train, Q, RN):\n",
        "\n",
        "  loop_variable =0\n",
        "  #for i in range(0,3):\n",
        "  while(1):  # comment it change the range \n",
        "    print(loop_variable)\n",
        "    p_and_RN = pd.concat([train,RN])\n",
        "    print(\"#######target unique\",np.unique(p_and_RN['Target']))\n",
        "    p_and_RN.reset_index(inplace=True,drop=True)\n",
        "    p_and_RN_vect = tfidf_vect.transform(p_and_RN['text'])\n",
        "    p_and_RN_vect_df=pd.DataFrame(p_and_RN_vect.toarray())\n",
        "\n",
        "    Q_vect = tfidf_vect.transform(Q['text'])\n",
        "    Q_vect_df=pd.DataFrame(Q_vect.toarray())\n",
        "\n",
        "    lgb_classifier = lgb.LGBMClassifier()\n",
        "    lgb_classifier.fit(p_and_RN_vect_df, p_and_RN['Target'])\n",
        "    np.unique(p_and_RN['Target'])\n",
        "\n",
        "    #checking the classifier if it gives best results\n",
        "    train_vect = tfidf_vect.transform(train['text'])\n",
        "    train_vect_df=pd.DataFrame(train_vect.toarray())\n",
        "    train_pred = lgb_classifier.predict(train_vect_df)\n",
        "    print(\"#############train pred\", np.unique(train_pred))\n",
        "    classified_negative = (train_pred.tolist()).count(-1)\n",
        "    percentage = (classified_negative / len(train_pred)) * 100\n",
        "    model_list.append(lgb_classifier)\n",
        "    if percentage < percent_thresh:\n",
        "      #pass\n",
        "      thresh_model_list.append(lgb_classifier)\n",
        "      \n",
        "\n",
        "    Q_pred = lgb_classifier.predict(Q_vect_df)\n",
        "    np.unique(Q_pred)\n",
        "\n",
        "    \n",
        "\n",
        "    count_q = 0\n",
        "    total_q = 0 \n",
        "    out_pos_q = []\n",
        "    pos_q = []\n",
        "    for i in Q_pred:\n",
        "      #print(i)\n",
        "      if i == -1:\n",
        "        pos_q.append(count_q)\n",
        "        total_q = total_q + 1\n",
        "      else:\n",
        "        out_pos_q.append(count_q)\n",
        "\n",
        "      count_q = count_q + 1\n",
        "\n",
        "    Q.reset_index(inplace=True,drop=True)\n",
        "    W = Q.loc[pos_q,:]\n",
        "\n",
        "\n",
        "    if W.empty :\n",
        "      print(\"W is empty, came out of loop\")\n",
        "      break\n",
        "    else:\n",
        "      Q_new = Q.loc[out_pos_q,:]\n",
        "      Q = Q_new.copy(deep =True)\n",
        "      RN = pd.concat([RN,W])\n",
        "      RN.reset_index(inplace=True,drop=True)\n",
        "      loop_variable = loop_variable + 1\n",
        "    print(\"completed iteration\")\n",
        "    \n",
        "\n",
        "  return lgb_classifier, model_list , thresh_model_list"
      ],
      "execution_count": 72,
      "outputs": []
    },
    {
      "cell_type": "code",
      "metadata": {
        "colab": {
          "base_uri": "https://localhost:8080/"
        },
        "id": "Oh-T30f3WQjw",
        "outputId": "89c4349e-0cc2-4050-9cfe-505b4619f27d"
      },
      "source": [
        "percent_thresh = 5\n",
        "model_list = []\n",
        "thresh_model_list = []\n",
        "lgb_classifier, op_model_list, op_thresh_model_list = classifier_select(train, Q, RN)"
      ],
      "execution_count": 73,
      "outputs": [
        {
          "output_type": "stream",
          "name": "stdout",
          "text": [
            "0\n",
            "#######target unique [-1  0  1  2  3  4  5]\n",
            "#############train pred [-1  0  1  2  3  4  5]\n",
            "completed iteration\n",
            "1\n",
            "#######target unique [-1  0  1  2  3  4  5]\n",
            "#############train pred [-1  0  1  2  3  4  5]\n",
            "completed iteration\n",
            "2\n",
            "#######target unique [-1  0  1  2  3  4  5]\n",
            "#############train pred [-1  0  1  2  3  4  5]\n",
            "completed iteration\n",
            "3\n",
            "#######target unique [-1  0  1  2  3  4  5]\n",
            "#############train pred [-1  0  1  2  3  4  5]\n",
            "completed iteration\n",
            "4\n",
            "#######target unique [-1  0  1  2  3  4  5]\n",
            "#############train pred [-1  0  1  2  3  4  5]\n",
            "completed iteration\n",
            "5\n",
            "#######target unique [-1  0  1  2  3  4  5]\n",
            "#############train pred [-1  0  1  2  3  4  5]\n",
            "completed iteration\n",
            "6\n",
            "#######target unique [-1  0  1  2  3  4  5]\n",
            "#############train pred [-1  0  1  2  3  4  5]\n",
            "W is empty, came out of loop\n"
          ]
        }
      ]
    },
    {
      "cell_type": "code",
      "metadata": {
        "colab": {
          "base_uri": "https://localhost:8080/"
        },
        "id": "TlmRt4vB3Eru",
        "outputId": "47fedfb8-c2ea-4f57-c549-47f8a636ea48"
      },
      "source": [
        "from sklearn.metrics import classification_report\n",
        "\n",
        "for model in op_model_list:\n",
        "  test_pred = model.predict(t_p.toarray())\n",
        "  test['Target']= LabelEncoder().fit_transform(test['Target'])\n",
        "  classification_report_test = classification_report(test['Target'],test_pred,digits=4)\n",
        "  print(classification_report_test)\n"
      ],
      "execution_count": 74,
      "outputs": [
        {
          "output_type": "stream",
          "name": "stderr",
          "text": [
            "/usr/local/lib/python3.7/dist-packages/sklearn/metrics/_classification.py:1272: UndefinedMetricWarning: Recall and F-score are ill-defined and being set to 0.0 in labels with no true samples. Use `zero_division` parameter to control this behavior.\n",
            "  _warn_prf(average, modifier, msg_start, len(result))\n",
            "/usr/local/lib/python3.7/dist-packages/sklearn/metrics/_classification.py:1272: UndefinedMetricWarning: Recall and F-score are ill-defined and being set to 0.0 in labels with no true samples. Use `zero_division` parameter to control this behavior.\n",
            "  _warn_prf(average, modifier, msg_start, len(result))\n",
            "/usr/local/lib/python3.7/dist-packages/sklearn/metrics/_classification.py:1272: UndefinedMetricWarning: Recall and F-score are ill-defined and being set to 0.0 in labels with no true samples. Use `zero_division` parameter to control this behavior.\n",
            "  _warn_prf(average, modifier, msg_start, len(result))\n",
            "/usr/local/lib/python3.7/dist-packages/sklearn/metrics/_classification.py:1272: UndefinedMetricWarning: Recall and F-score are ill-defined and being set to 0.0 in labels with no true samples. Use `zero_division` parameter to control this behavior.\n",
            "  _warn_prf(average, modifier, msg_start, len(result))\n"
          ]
        },
        {
          "output_type": "stream",
          "name": "stdout",
          "text": [
            "              precision    recall  f1-score   support\n",
            "\n",
            "          -1     0.0000    0.0000    0.0000         0\n",
            "           0     0.4348    0.2597    0.3252        77\n",
            "           1     0.7273    0.6154    0.6667        26\n",
            "           2     0.6775    0.8577    0.7570       267\n",
            "           3     0.5870    0.3253    0.4186        83\n",
            "           4     0.8462    0.3235    0.4681        34\n",
            "           5     0.5926    0.4706    0.5246        34\n",
            "\n",
            "    accuracy                         0.6123       521\n",
            "   macro avg     0.5522    0.4075    0.4515       521\n",
            "weighted avg     0.6352    0.6123    0.6008       521\n",
            "\n",
            "              precision    recall  f1-score   support\n",
            "\n",
            "          -1     0.0000    0.0000    0.0000         0\n",
            "           0     0.4130    0.2468    0.3089        77\n",
            "           1     0.7083    0.6538    0.6800        26\n",
            "           2     0.6856    0.8577    0.7621       267\n",
            "           3     0.5532    0.3133    0.4000        83\n",
            "           4     0.8333    0.2941    0.4348        34\n",
            "           5     0.5714    0.4706    0.5161        34\n",
            "\n",
            "    accuracy                         0.6084       521\n",
            "   macro avg     0.5379    0.4052    0.4431       521\n",
            "weighted avg     0.6276    0.6084    0.5959       521\n",
            "\n",
            "              precision    recall  f1-score   support\n",
            "\n",
            "          -1     0.0000    0.0000    0.0000         0\n",
            "           0     0.4468    0.2727    0.3387        77\n",
            "           1     0.7619    0.6154    0.6809        26\n",
            "           2     0.6706    0.8539    0.7512       267\n",
            "           3     0.6047    0.3133    0.4127        83\n",
            "           4     0.9167    0.3235    0.4783        34\n",
            "           5     0.5200    0.3824    0.4407        34\n",
            "\n",
            "    accuracy                         0.6046       521\n",
            "   macro avg     0.5601    0.3945    0.4432       521\n",
            "weighted avg     0.6378    0.6046    0.5947       521\n",
            "\n",
            "              precision    recall  f1-score   support\n",
            "\n",
            "          -1     0.0000    0.0000    0.0000         0\n",
            "           0     0.5098    0.3377    0.4062        77\n",
            "           1     0.7273    0.6154    0.6667        26\n",
            "           2     0.6942    0.8502    0.7643       267\n",
            "           3     0.6000    0.3253    0.4219        83\n",
            "           4     0.8462    0.3235    0.4681        34\n",
            "           5     0.5714    0.4706    0.5161        34\n",
            "\n",
            "    accuracy                         0.6200       521\n",
            "   macro avg     0.5641    0.4175    0.4633       521\n",
            "weighted avg     0.6555    0.6200    0.6164       521\n",
            "\n",
            "              precision    recall  f1-score   support\n",
            "\n",
            "          -1     0.0000    0.0000    0.0000         0\n",
            "           0     0.4565    0.2727    0.3415        77\n",
            "           1     0.7619    0.6154    0.6809        26\n",
            "           2     0.6778    0.8352    0.7483       267\n",
            "           3     0.5918    0.3494    0.4394        83\n",
            "           4     0.7857    0.3235    0.4583        34\n",
            "           5     0.6000    0.4412    0.5085        34\n",
            "\n",
            "    accuracy                         0.6046       521\n",
            "   macro avg     0.5534    0.4053    0.4538       521\n",
            "weighted avg     0.6376    0.6046    0.6010       521\n",
            "\n",
            "              precision    recall  f1-score   support\n",
            "\n",
            "          -1     0.0000    0.0000    0.0000         0\n",
            "           0     0.4468    0.2727    0.3387        77\n",
            "           1     0.7727    0.6538    0.7083        26\n",
            "           2     0.6820    0.8352    0.7508       267\n",
            "           3     0.5957    0.3373    0.4308        83\n",
            "           4     0.8333    0.2941    0.4348        34\n",
            "           5     0.5556    0.4412    0.4918        34\n",
            "\n",
            "    accuracy                         0.6027       521\n",
            "   macro avg     0.5552    0.4049    0.4507       521\n",
            "weighted avg     0.6396    0.6027    0.5993       521\n",
            "\n",
            "              precision    recall  f1-score   support\n",
            "\n",
            "          -1     0.0000    0.0000    0.0000         0\n",
            "           0     0.4375    0.2727    0.3360        77\n",
            "           1     0.7273    0.6154    0.6667        26\n",
            "           2     0.6697    0.8352    0.7433       267\n",
            "           3     0.5778    0.3133    0.4062        83\n",
            "           4     0.9167    0.3235    0.4783        34\n",
            "           5     0.6000    0.4412    0.5085        34\n",
            "\n",
            "    accuracy                         0.5988       521\n",
            "   macro avg     0.5613    0.4002    0.4484       521\n",
            "weighted avg     0.6352    0.5988    0.5930       521\n",
            "\n"
          ]
        },
        {
          "output_type": "stream",
          "name": "stderr",
          "text": [
            "/usr/local/lib/python3.7/dist-packages/sklearn/metrics/_classification.py:1272: UndefinedMetricWarning: Recall and F-score are ill-defined and being set to 0.0 in labels with no true samples. Use `zero_division` parameter to control this behavior.\n",
            "  _warn_prf(average, modifier, msg_start, len(result))\n",
            "/usr/local/lib/python3.7/dist-packages/sklearn/metrics/_classification.py:1272: UndefinedMetricWarning: Recall and F-score are ill-defined and being set to 0.0 in labels with no true samples. Use `zero_division` parameter to control this behavior.\n",
            "  _warn_prf(average, modifier, msg_start, len(result))\n",
            "/usr/local/lib/python3.7/dist-packages/sklearn/metrics/_classification.py:1272: UndefinedMetricWarning: Recall and F-score are ill-defined and being set to 0.0 in labels with no true samples. Use `zero_division` parameter to control this behavior.\n",
            "  _warn_prf(average, modifier, msg_start, len(result))\n"
          ]
        }
      ]
    },
    {
      "cell_type": "code",
      "metadata": {
        "colab": {
          "base_uri": "https://localhost:8080/"
        },
        "id": "NhTTcNIh3aRj",
        "outputId": "73a6374e-db97-471e-b831-372e0aec0918"
      },
      "source": [
        "for model in op_thresh_model_list:\n",
        "  test_pred = model.predict(t_p.toarray())\n",
        "  test['Target']= LabelEncoder().fit_transform(test['Target'])\n",
        "  classification_report_test = classification_report(test['Target'],test_pred,digits=4)\n",
        "  print(classification_report_test)"
      ],
      "execution_count": 75,
      "outputs": [
        {
          "output_type": "stream",
          "name": "stderr",
          "text": [
            "/usr/local/lib/python3.7/dist-packages/sklearn/metrics/_classification.py:1272: UndefinedMetricWarning: Recall and F-score are ill-defined and being set to 0.0 in labels with no true samples. Use `zero_division` parameter to control this behavior.\n",
            "  _warn_prf(average, modifier, msg_start, len(result))\n",
            "/usr/local/lib/python3.7/dist-packages/sklearn/metrics/_classification.py:1272: UndefinedMetricWarning: Recall and F-score are ill-defined and being set to 0.0 in labels with no true samples. Use `zero_division` parameter to control this behavior.\n",
            "  _warn_prf(average, modifier, msg_start, len(result))\n",
            "/usr/local/lib/python3.7/dist-packages/sklearn/metrics/_classification.py:1272: UndefinedMetricWarning: Recall and F-score are ill-defined and being set to 0.0 in labels with no true samples. Use `zero_division` parameter to control this behavior.\n",
            "  _warn_prf(average, modifier, msg_start, len(result))\n",
            "/usr/local/lib/python3.7/dist-packages/sklearn/metrics/_classification.py:1272: UndefinedMetricWarning: Recall and F-score are ill-defined and being set to 0.0 in labels with no true samples. Use `zero_division` parameter to control this behavior.\n",
            "  _warn_prf(average, modifier, msg_start, len(result))\n"
          ]
        },
        {
          "output_type": "stream",
          "name": "stdout",
          "text": [
            "              precision    recall  f1-score   support\n",
            "\n",
            "          -1     0.0000    0.0000    0.0000         0\n",
            "           0     0.4348    0.2597    0.3252        77\n",
            "           1     0.7273    0.6154    0.6667        26\n",
            "           2     0.6775    0.8577    0.7570       267\n",
            "           3     0.5870    0.3253    0.4186        83\n",
            "           4     0.8462    0.3235    0.4681        34\n",
            "           5     0.5926    0.4706    0.5246        34\n",
            "\n",
            "    accuracy                         0.6123       521\n",
            "   macro avg     0.5522    0.4075    0.4515       521\n",
            "weighted avg     0.6352    0.6123    0.6008       521\n",
            "\n",
            "              precision    recall  f1-score   support\n",
            "\n",
            "          -1     0.0000    0.0000    0.0000         0\n",
            "           0     0.4130    0.2468    0.3089        77\n",
            "           1     0.7083    0.6538    0.6800        26\n",
            "           2     0.6856    0.8577    0.7621       267\n",
            "           3     0.5532    0.3133    0.4000        83\n",
            "           4     0.8333    0.2941    0.4348        34\n",
            "           5     0.5714    0.4706    0.5161        34\n",
            "\n",
            "    accuracy                         0.6084       521\n",
            "   macro avg     0.5379    0.4052    0.4431       521\n",
            "weighted avg     0.6276    0.6084    0.5959       521\n",
            "\n",
            "              precision    recall  f1-score   support\n",
            "\n",
            "          -1     0.0000    0.0000    0.0000         0\n",
            "           0     0.4468    0.2727    0.3387        77\n",
            "           1     0.7619    0.6154    0.6809        26\n",
            "           2     0.6706    0.8539    0.7512       267\n",
            "           3     0.6047    0.3133    0.4127        83\n",
            "           4     0.9167    0.3235    0.4783        34\n",
            "           5     0.5200    0.3824    0.4407        34\n",
            "\n",
            "    accuracy                         0.6046       521\n",
            "   macro avg     0.5601    0.3945    0.4432       521\n",
            "weighted avg     0.6378    0.6046    0.5947       521\n",
            "\n",
            "              precision    recall  f1-score   support\n",
            "\n",
            "          -1     0.0000    0.0000    0.0000         0\n",
            "           0     0.5098    0.3377    0.4062        77\n",
            "           1     0.7273    0.6154    0.6667        26\n",
            "           2     0.6942    0.8502    0.7643       267\n",
            "           3     0.6000    0.3253    0.4219        83\n",
            "           4     0.8462    0.3235    0.4681        34\n",
            "           5     0.5714    0.4706    0.5161        34\n",
            "\n",
            "    accuracy                         0.6200       521\n",
            "   macro avg     0.5641    0.4175    0.4633       521\n",
            "weighted avg     0.6555    0.6200    0.6164       521\n",
            "\n",
            "              precision    recall  f1-score   support\n",
            "\n",
            "          -1     0.0000    0.0000    0.0000         0\n",
            "           0     0.4565    0.2727    0.3415        77\n",
            "           1     0.7619    0.6154    0.6809        26\n",
            "           2     0.6778    0.8352    0.7483       267\n",
            "           3     0.5918    0.3494    0.4394        83\n",
            "           4     0.7857    0.3235    0.4583        34\n",
            "           5     0.6000    0.4412    0.5085        34\n",
            "\n",
            "    accuracy                         0.6046       521\n",
            "   macro avg     0.5534    0.4053    0.4538       521\n",
            "weighted avg     0.6376    0.6046    0.6010       521\n",
            "\n",
            "              precision    recall  f1-score   support\n",
            "\n",
            "          -1     0.0000    0.0000    0.0000         0\n",
            "           0     0.4468    0.2727    0.3387        77\n",
            "           1     0.7727    0.6538    0.7083        26\n",
            "           2     0.6820    0.8352    0.7508       267\n",
            "           3     0.5957    0.3373    0.4308        83\n",
            "           4     0.8333    0.2941    0.4348        34\n",
            "           5     0.5556    0.4412    0.4918        34\n",
            "\n",
            "    accuracy                         0.6027       521\n",
            "   macro avg     0.5552    0.4049    0.4507       521\n",
            "weighted avg     0.6396    0.6027    0.5993       521\n",
            "\n",
            "              precision    recall  f1-score   support\n",
            "\n",
            "          -1     0.0000    0.0000    0.0000         0\n",
            "           0     0.4375    0.2727    0.3360        77\n",
            "           1     0.7273    0.6154    0.6667        26\n",
            "           2     0.6697    0.8352    0.7433       267\n",
            "           3     0.5778    0.3133    0.4062        83\n",
            "           4     0.9167    0.3235    0.4783        34\n",
            "           5     0.6000    0.4412    0.5085        34\n",
            "\n",
            "    accuracy                         0.5988       521\n",
            "   macro avg     0.5613    0.4002    0.4484       521\n",
            "weighted avg     0.6352    0.5988    0.5930       521\n",
            "\n"
          ]
        },
        {
          "output_type": "stream",
          "name": "stderr",
          "text": [
            "/usr/local/lib/python3.7/dist-packages/sklearn/metrics/_classification.py:1272: UndefinedMetricWarning: Recall and F-score are ill-defined and being set to 0.0 in labels with no true samples. Use `zero_division` parameter to control this behavior.\n",
            "  _warn_prf(average, modifier, msg_start, len(result))\n",
            "/usr/local/lib/python3.7/dist-packages/sklearn/metrics/_classification.py:1272: UndefinedMetricWarning: Recall and F-score are ill-defined and being set to 0.0 in labels with no true samples. Use `zero_division` parameter to control this behavior.\n",
            "  _warn_prf(average, modifier, msg_start, len(result))\n",
            "/usr/local/lib/python3.7/dist-packages/sklearn/metrics/_classification.py:1272: UndefinedMetricWarning: Recall and F-score are ill-defined and being set to 0.0 in labels with no true samples. Use `zero_division` parameter to control this behavior.\n",
            "  _warn_prf(average, modifier, msg_start, len(result))\n"
          ]
        }
      ]
    },
    {
      "cell_type": "code",
      "metadata": {
        "id": "Zz2SNE5F4PPg"
      },
      "source": [
        "np.unique(RN['Target'])"
      ],
      "execution_count": null,
      "outputs": []
    },
    {
      "cell_type": "code",
      "metadata": {
        "id": "NafiIgbrYNuX"
      },
      "source": [
        "test_pred =  lgb_classifier.predict(t_p.toarray())"
      ],
      "execution_count": null,
      "outputs": []
    },
    {
      "cell_type": "code",
      "metadata": {
        "id": "Nq38owvZYQop"
      },
      "source": [
        "from sklearn.metrics import classification_report\n",
        "test['Target']= LabelEncoder().fit_transform(test['Target'])\n",
        "classification_report_test = classification_report(test['Target'],test_pred,digits=4)\n",
        "print(classification_report_test)"
      ],
      "execution_count": null,
      "outputs": []
    },
    {
      "cell_type": "code",
      "metadata": {
        "id": "dwHlCuJbYgF0"
      },
      "source": [
        ""
      ],
      "execution_count": null,
      "outputs": []
    }
  ]
}