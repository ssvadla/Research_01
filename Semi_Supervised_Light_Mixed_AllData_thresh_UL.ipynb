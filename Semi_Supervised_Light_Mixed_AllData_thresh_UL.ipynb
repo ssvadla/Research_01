{
  "nbformat": 4,
  "nbformat_minor": 0,
  "metadata": {
    "colab": {
      "name": "Semi_Supervised_Light_Mixed_AllData_thresh_UL.ipynb",
      "provenance": [],
      "include_colab_link": true
    },
    "kernelspec": {
      "name": "python3",
      "display_name": "Python 3"
    },
    "language_info": {
      "name": "python"
    }
  },
  "cells": [
    {
      "cell_type": "markdown",
      "metadata": {
        "id": "view-in-github",
        "colab_type": "text"
      },
      "source": [
        "<a href=\"https://colab.research.google.com/github/ssvadla/Research_01/blob/main/Semi_Supervised_Light_Mixed_AllData_thresh_UL.ipynb\" target=\"_parent\"><img src=\"https://colab.research.google.com/assets/colab-badge.svg\" alt=\"Open In Colab\"/></a>"
      ]
    },
    {
      "cell_type": "code",
      "metadata": {
        "colab": {
          "base_uri": "https://localhost:8080/",
          "height": 242
        },
        "id": "dKpWktcaIwIV",
        "outputId": "0012eced-b768-4239-dd27-c049047d004b"
      },
      "source": [
        "import pandas as pd\n",
        "from sklearn.model_selection import cross_val_score\n",
        "from google.colab import drive\n",
        "\n",
        "drive.mount('/content/drive')\n",
        "\n",
        "train1 = pd.read_csv('/content/drive/My Drive/Research/train_data1.csv')\n",
        "train2 = pd.read_csv('/content/drive/My Drive/Research/train_data2.csv')\n",
        "train3 = pd.read_csv('/content/drive/My Drive/Research/train_data3.csv')\n",
        "train4 = pd.read_csv('/content/drive/My Drive/Research/train_data4.csv')\n",
        "train5 = pd.read_csv('/content/drive/My Drive/Research/train_data5.csv')\n",
        "train6 = pd.read_csv('/content/drive/My Drive/Research/train_data6.csv')\n",
        "train7 = pd.read_csv('/content/drive/My Drive/Research/train_data7.csv')\n",
        "train8 = pd.read_csv('/content/drive/My Drive/Research/train_data8.csv')\n",
        "train9 = pd.read_csv('/content/drive/My Drive/Research/train_data9.csv')\n",
        "train10 = pd.read_csv('/content/drive/My Drive/Research/train_data10.csv')\n",
        "train_highKappa = pd.read_csv('/content/drive/My Drive/Research/train_data_highkappa.csv')\n",
        "train1.head()"
      ],
      "execution_count": 1,
      "outputs": [
        {
          "output_type": "stream",
          "text": [
            "Drive already mounted at /content/drive; to attempt to forcibly remount, call drive.mount(\"/content/drive\", force_remount=True).\n"
          ],
          "name": "stdout"
        },
        {
          "output_type": "execute_result",
          "data": {
            "text/html": [
              "<div>\n",
              "<style scoped>\n",
              "    .dataframe tbody tr th:only-of-type {\n",
              "        vertical-align: middle;\n",
              "    }\n",
              "\n",
              "    .dataframe tbody tr th {\n",
              "        vertical-align: top;\n",
              "    }\n",
              "\n",
              "    .dataframe thead th {\n",
              "        text-align: right;\n",
              "    }\n",
              "</style>\n",
              "<table border=\"1\" class=\"dataframe\">\n",
              "  <thead>\n",
              "    <tr style=\"text-align: right;\">\n",
              "      <th></th>\n",
              "      <th>Unnamed: 0</th>\n",
              "      <th>Sentence</th>\n",
              "      <th>Target</th>\n",
              "    </tr>\n",
              "  </thead>\n",
              "  <tbody>\n",
              "    <tr>\n",
              "      <th>0</th>\n",
              "      <td>659</td>\n",
              "      <td>Appellant had stated to the officers that she ...</td>\n",
              "      <td>Invalid</td>\n",
              "    </tr>\n",
              "    <tr>\n",
              "      <th>1</th>\n",
              "      <td>3456</td>\n",
              "      <td>We shall discuss the facts more fully in conne...</td>\n",
              "      <td>Others</td>\n",
              "    </tr>\n",
              "    <tr>\n",
              "      <th>2</th>\n",
              "      <td>2043</td>\n",
              "      <td>â€œPerjury is a false statement, either writte...</td>\n",
              "      <td>Invalid</td>\n",
              "    </tr>\n",
              "    <tr>\n",
              "      <th>3</th>\n",
              "      <td>3344</td>\n",
              "      <td>The offense is felony theft by false pretext; ...</td>\n",
              "      <td>Issue</td>\n",
              "    </tr>\n",
              "    <tr>\n",
              "      <th>4</th>\n",
              "      <td>3231</td>\n",
              "      <td>Numerous contentions urging the commission of ...</td>\n",
              "      <td>Issue</td>\n",
              "    </tr>\n",
              "  </tbody>\n",
              "</table>\n",
              "</div>"
            ],
            "text/plain": [
              "   Unnamed: 0                                           Sentence   Target\n",
              "0         659  Appellant had stated to the officers that she ...  Invalid\n",
              "1        3456  We shall discuss the facts more fully in conne...   Others\n",
              "2        2043  â€œPerjury is a false statement, either writte...  Invalid\n",
              "3        3344  The offense is felony theft by false pretext; ...    Issue\n",
              "4        3231  Numerous contentions urging the commission of ...    Issue"
            ]
          },
          "metadata": {
            "tags": []
          },
          "execution_count": 1
        }
      ]
    },
    {
      "cell_type": "code",
      "metadata": {
        "id": "c13Q_U4xOVv7",
        "colab": {
          "base_uri": "https://localhost:8080/"
        },
        "outputId": "677955a6-b7a1-4d73-aff6-5c14f5e882e0"
      },
      "source": [
        "train = train1\n",
        "train_list = [train2,train3,train4,train5,train6,train7,train8,train9,train10,train_highKappa]\n",
        "for i in train_list:\n",
        "  print(i)\n",
        "  train = train.append(i)\n",
        "\n"
      ],
      "execution_count": 2,
      "outputs": [
        {
          "output_type": "stream",
          "text": [
            "      Unnamed: 0                                           Sentence    Target\n",
            "0            659  Appellant had stated to the officers that she ...   Invalid\n",
            "1           3456  We shall discuss the facts more fully in conne...    Others\n",
            "2           2043  â€œPerjury is a false statement, either writte...   Invalid\n",
            "3           3344  The offense is felony theft by false pretext; ...     Issue\n",
            "4           3231  Numerous contentions urging the commission of ...     Issue\n",
            "...          ...                                                ...       ...\n",
            "3471        1561  Therefore, the deletion of reference to the Cl...  Analysis\n",
            "3472         327  A paraffin test, which was made on the appella...  Analysis\n",
            "3473        1462  The sole question presented is the sufficiency...     Facts\n",
            "3474        1169  The answer was in response to the question ask...     Facts\n",
            "3475        1470  The Stateâ€™s evidence shows that in the sprin...   Invalid\n",
            "\n",
            "[3476 rows x 3 columns]\n",
            "      Unnamed: 0                                           Sentence    Target\n",
            "0            659  Appellant had stated to the officers that she ...   Invalid\n",
            "1           3456  We shall discuss the facts more fully in conne...    Others\n",
            "2           2043  â€œPerjury is a false statement, either writte...   Invalid\n",
            "3           3344  The offense is felony theft by false pretext; ...     Issue\n",
            "4           3231  Numerous contentions urging the commission of ...     Issue\n",
            "...          ...                                                ...       ...\n",
            "3471         621  Claims against the Commercial Port, and the Pu...     Facts\n",
            "3472         520  Appellantâ€™s first four claims for reversal r...     Issue\n",
            "3473         182  State, 52 N.Y.S.2d 894 (1945); 45 Cal.Jur.2d, ...    Others\n",
            "3474         841  In the case at bar the stateâ€™s witness did e...  Analysis\n",
            "3475         833  In rebuttal, the State called witnesses who te...     Facts\n",
            "\n",
            "[3476 rows x 3 columns]\n",
            "      Unnamed: 0                                           Sentence    Target\n",
            "0            659  Appellant had stated to the officers that she ...   Invalid\n",
            "1           3456  We shall discuss the facts more fully in conne...    Others\n",
            "2           2043  â€œPerjury is a false statement, either writte...   Invalid\n",
            "3           3344  The offense is felony theft by false pretext; ...     Issue\n",
            "4           3231  Numerous contentions urging the commission of ...     Issue\n",
            "...          ...                                                ...       ...\n",
            "3471         288  120, 157 S.W. 2d 648, where it was held that t...   Invalid\n",
            "3472          99           Handing v. United States, supra at 2904.    Others\n",
            "3473        1665  We find no error in the admission of the testi...  Analysis\n",
            "3474         181                   Smith v. United States, 97 S.Ct.   Invalid\n",
            "3475         916  It was further stipulated and agreed that had ...     Facts\n",
            "\n",
            "[3476 rows x 3 columns]\n",
            "      Unnamed: 0  ...            Target\n",
            "0            659  ...           Invalid\n",
            "1           3456  ...            Others\n",
            "2           2043  ...           Invalid\n",
            "3           3344  ...             Issue\n",
            "4           3231  ...             Issue\n",
            "...          ...  ...               ...\n",
            "3471         999  ...             Facts\n",
            "3472        1652  ...             Facts\n",
            "3473         422  ...             Facts\n",
            "3474         718  ...  Rule/Law/Holding\n",
            "3475        1608  ...             Facts\n",
            "\n",
            "[3476 rows x 3 columns]\n",
            "      Unnamed: 0  ...            Target\n",
            "0            659  ...           Invalid\n",
            "1           3456  ...            Others\n",
            "2           2043  ...           Invalid\n",
            "3           3344  ...             Issue\n",
            "4           3231  ...             Issue\n",
            "...          ...  ...               ...\n",
            "3471        1473  ...             Facts\n",
            "3472        1431  ...             Facts\n",
            "3473        1139  ...             Facts\n",
            "3474        1269  ...             Facts\n",
            "3475         274  ...  Rule/Law/Holding\n",
            "\n",
            "[3476 rows x 3 columns]\n",
            "      Unnamed: 0  ...            Target\n",
            "0            659  ...           Invalid\n",
            "1           3456  ...            Others\n",
            "2           2043  ...           Invalid\n",
            "3           3344  ...             Issue\n",
            "4           3231  ...             Issue\n",
            "...          ...  ...               ...\n",
            "3471        1020  ...             Facts\n",
            "3472         391  ...          Analysis\n",
            "3473        1522  ...             Facts\n",
            "3474         933  ...             Facts\n",
            "3475         909  ...  Rule/Law/Holding\n",
            "\n",
            "[3476 rows x 3 columns]\n",
            "      Unnamed: 0                                           Sentence   Target\n",
            "0            659  Appellant had stated to the officers that she ...  Invalid\n",
            "1           3456  We shall discuss the facts more fully in conne...   Others\n",
            "2           2043  â€œPerjury is a false statement, either writte...  Invalid\n",
            "3           3344  The offense is felony theft by false pretext; ...    Issue\n",
            "4           3231  Numerous contentions urging the commission of ...    Issue\n",
            "...          ...                                                ...      ...\n",
            "3471         738                      He just kept going like that.    Facts\n",
            "3472        1099  She further testified that she told the office...    Facts\n",
            "3473         613  Cecil Ray testified that Mrs. Stockard and app...    Facts\n",
            "3474        1690  We overrule appellantâ€™s remaining contention...    Facts\n",
            "3475        1210  The claim is for \"all injuries proximately cau...    Issue\n",
            "\n",
            "[3476 rows x 3 columns]\n",
            "      Unnamed: 0  ...            Target\n",
            "0            659  ...           Invalid\n",
            "1           3456  ...            Others\n",
            "2           2043  ...           Invalid\n",
            "3           3344  ...             Issue\n",
            "4           3231  ...             Issue\n",
            "...          ...  ...               ...\n",
            "3471         180  ...           Invalid\n",
            "3472         909  ...  Rule/Law/Holding\n",
            "3473         905  ...  Rule/Law/Holding\n",
            "3474        1360  ...          Analysis\n",
            "3475        1264  ...             Facts\n",
            "\n",
            "[3476 rows x 3 columns]\n",
            "      Unnamed: 0                                           Sentence    Target\n",
            "0            659  Appellant had stated to the officers that she ...   Invalid\n",
            "1           3456  We shall discuss the facts more fully in conne...    Others\n",
            "2           2043  â€œPerjury is a false statement, either writte...   Invalid\n",
            "3           3344  The offense is felony theft by false pretext; ...     Issue\n",
            "4           3231  Numerous contentions urging the commission of ...     Issue\n",
            "...          ...                                                ...       ...\n",
            "3471        1283  The evidence is sufficient to support the conv...  Analysis\n",
            "3472        1477  The stateâ€™s proof further shows that after a...   Invalid\n",
            "3473         780  Honyea testified that he obtained the pistol a...     Facts\n",
            "3474         628                Continuing, the Government asserts:    Others\n",
            "3475        1306  The first cause of action sounds in negligence...     Facts\n",
            "\n",
            "[3476 rows x 3 columns]\n",
            "      Unnamed: 0                                           Sentence    Target\n",
            "0            659  Appellant had stated to the officers that she ...   Invalid\n",
            "1           3456  We shall discuss the facts more fully in conne...    Others\n",
            "2           2043  â€œPerjury is a false statement, either writte...   Invalid\n",
            "3           3344  The offense is felony theft by false pretext; ...     Issue\n",
            "4           3231  Numerous contentions urging the commission of ...     Issue\n",
            "...          ...                                                ...       ...\n",
            "2946         677  Appellant presents as error an informal bill o...     Issue\n",
            "2947        3442  We are cited no authority, and know of none, w...  Analysis\n",
            "2948        3009  “I asked her to have intercourse with me and s...     Facts\n",
            "2949        1989  and Art. 82 P.C. which provide, in effect, tha...   Invalid\n",
            "2950        3006  “Appellant takes issue with our statement in t...   Invalid\n",
            "\n",
            "[2951 rows x 3 columns]\n"
          ],
          "name": "stdout"
        }
      ]
    },
    {
      "cell_type": "code",
      "metadata": {
        "id": "4vzqrFjJK-SB",
        "colab": {
          "base_uri": "https://localhost:8080/"
        },
        "outputId": "20061a7c-99f3-48dd-b14c-becf6c2cd9f9"
      },
      "source": [
        "train.sort_values(\"Sentence\", inplace = True)\n",
        "print(len(train))\n"
      ],
      "execution_count": 3,
      "outputs": [
        {
          "output_type": "stream",
          "text": [
            "37711\n"
          ],
          "name": "stdout"
        }
      ]
    },
    {
      "cell_type": "code",
      "metadata": {
        "id": "sGhA6QWYLoUe"
      },
      "source": [
        " new_train = train.drop_duplicates(subset =\"Sentence\")\n"
      ],
      "execution_count": 4,
      "outputs": []
    },
    {
      "cell_type": "code",
      "metadata": {
        "id": "RbPp_HOCRuCe"
      },
      "source": [
        "train = new_train"
      ],
      "execution_count": 5,
      "outputs": []
    },
    {
      "cell_type": "code",
      "metadata": {
        "id": "L26kh03-L1Ws",
        "colab": {
          "base_uri": "https://localhost:8080/"
        },
        "outputId": "ce5c78b6-7b49-48c4-cf15-2dfe5423f46f"
      },
      "source": [
        "train['Target'].unique()"
      ],
      "execution_count": 6,
      "outputs": [
        {
          "output_type": "execute_result",
          "data": {
            "text/plain": [
              "array(['Invalid', 'Rule/Law/Holding', 'Facts', 'Analysis', 'Others',\n",
              "       'Conclusion', 'Issue'], dtype=object)"
            ]
          },
          "metadata": {
            "tags": []
          },
          "execution_count": 6
        }
      ]
    },
    {
      "cell_type": "code",
      "metadata": {
        "id": "OxDI4OqrKdtj",
        "colab": {
          "base_uri": "https://localhost:8080/"
        },
        "outputId": "9fd05e6c-2244-4977-c7fc-1d7f85e53246"
      },
      "source": [
        "train['Target']=train['Target'].replace(['Others'],'Invalid')\n",
        "train['Target'].unique()\n"
      ],
      "execution_count": 7,
      "outputs": [
        {
          "output_type": "execute_result",
          "data": {
            "text/plain": [
              "array(['Invalid', 'Rule/Law/Holding', 'Facts', 'Analysis', 'Conclusion',\n",
              "       'Issue'], dtype=object)"
            ]
          },
          "metadata": {
            "tags": []
          },
          "execution_count": 7
        }
      ]
    },
    {
      "cell_type": "code",
      "metadata": {
        "id": "qRe3cCJDRTY4",
        "colab": {
          "base_uri": "https://localhost:8080/"
        },
        "outputId": "e22a595b-1dab-41cd-e1e2-ab2002a347c6"
      },
      "source": [
        "#cleaning\n",
        "import nltk\n",
        "import re\n",
        "import string\n",
        "nltk.download('stopwords')\n",
        "nltk.download('wordnet')\n",
        "stopword=nltk.corpus.stopwords.words('english')\n",
        "from nltk.stem import WordNetLemmatizer\n",
        "wl= WordNetLemmatizer()\n",
        "\n",
        "def clean_text(text):\n",
        "  text=\"\".join([word.lower() for word in text if word not in string.punctuation])\n",
        "  tokens = re.split('\\W+',text)\n",
        "  text = [wl.lemmatize(word) for word in tokens if word not in stopword]\n",
        "  return text"
      ],
      "execution_count": 8,
      "outputs": [
        {
          "output_type": "stream",
          "text": [
            "[nltk_data] Downloading package stopwords to /root/nltk_data...\n",
            "[nltk_data]   Package stopwords is already up-to-date!\n",
            "[nltk_data] Downloading package wordnet to /root/nltk_data...\n",
            "[nltk_data]   Package wordnet is already up-to-date!\n"
          ],
          "name": "stdout"
        }
      ]
    },
    {
      "cell_type": "code",
      "metadata": {
        "id": "EcB5PThsRZPa",
        "colab": {
          "base_uri": "https://localhost:8080/"
        },
        "outputId": "81d58479-0d8a-4472-fafc-5c516162c85a"
      },
      "source": [
        "from sklearn.feature_extraction.text import TfidfVectorizer\n",
        "\n",
        "tfidf_vect = TfidfVectorizer(analyzer = clean_text)\n",
        "X_tfidf = tfidf_vect.fit_transform(train['Sentence'])\n",
        "print(X_tfidf.shape)"
      ],
      "execution_count": 9,
      "outputs": [
        {
          "output_type": "stream",
          "text": [
            "(4416, 7374)\n"
          ],
          "name": "stdout"
        }
      ]
    },
    {
      "cell_type": "code",
      "metadata": {
        "id": "erVH3lWMRdUu"
      },
      "source": [
        "test = pd.read_csv(r'/content/drive/My Drive/Research/test_data.csv')\n",
        "\n",
        "test['Target']=test['Target'].replace(['Others'],'Invalid')\n",
        "test['Sentence'] = test['Sentence'].apply(lambda x: \" \".join(x.lower() for x in str(x).split()))\n",
        "test['Sentence'] = test['Sentence'].str.replace('[^\\w\\s]','')\n",
        "from nltk.corpus import stopwords\n",
        "words = stopwords.words('english')\n",
        "test['Sentence'] = test['Sentence'].apply(lambda x: \" \".join(x for x in x.split() if x not in words))\n",
        "t_p = tfidf_vect.transform(test['Sentence'])"
      ],
      "execution_count": 10,
      "outputs": []
    },
    {
      "cell_type": "code",
      "metadata": {
        "id": "uJSt5ljWNcCh",
        "colab": {
          "base_uri": "https://localhost:8080/",
          "height": 491
        },
        "outputId": "27247074-a2d5-4e0d-e019-fb5376ee5e69"
      },
      "source": [
        "from imblearn.over_sampling import SMOTE\n",
        "from collections import Counter\n",
        "from matplotlib import pyplot\n",
        "from sklearn.preprocessing import LabelEncoder\n",
        "data = train.values\n",
        "\n",
        "\n",
        "# split into input and output elements\n",
        "X, y = data[:, :-1], data[:, -1]\n",
        "# label encode the target variable\n",
        "y = LabelEncoder().fit_transform(y)\n",
        "print(y)\n",
        "# summarize distribution\n",
        "counter = Counter(y)\n",
        "print(y)\n",
        "for k,v in counter.items():\n",
        "\tper = v / len(y) * 100\n",
        "\tprint('Class=%s, n=%d (%.3f%%)' % (k, v, per))\n",
        "# plot the distribution\n",
        "pyplot.bar(counter.keys(), counter.values())\n",
        "pyplot.show()"
      ],
      "execution_count": 11,
      "outputs": [
        {
          "output_type": "stream",
          "text": [
            "/usr/local/lib/python3.7/dist-packages/sklearn/externals/six.py:31: FutureWarning: The module is deprecated in version 0.21 and will be removed in version 0.23 since we've dropped support for Python 2.7. Please rely on the official version of six (https://pypi.org/project/six/).\n",
            "  \"(https://pypi.org/project/six/).\", FutureWarning)\n",
            "/usr/local/lib/python3.7/dist-packages/sklearn/utils/deprecation.py:144: FutureWarning: The sklearn.neighbors.base module is  deprecated in version 0.22 and will be removed in version 0.24. The corresponding classes / functions should instead be imported from sklearn.neighbors. Anything that cannot be imported from sklearn.neighbors is now part of the private API.\n",
            "  warnings.warn(message, FutureWarning)\n"
          ],
          "name": "stderr"
        },
        {
          "output_type": "stream",
          "text": [
            "[3 3 5 ... 2 3 2]\n",
            "[3 3 5 ... 2 3 2]\n",
            "Class=3, n=660 (14.946%)\n",
            "Class=5, n=332 (7.518%)\n",
            "Class=2, n=2253 (51.019%)\n",
            "Class=0, n=677 (15.331%)\n",
            "Class=1, n=225 (5.095%)\n",
            "Class=4, n=269 (6.091%)\n"
          ],
          "name": "stdout"
        },
        {
          "output_type": "display_data",
          "data": {
            "image/png": "[encoded data removed]",
            "text/plain": [
              "<Figure size 432x288 with 1 Axes>"
            ]
          },
          "metadata": {
            "tags": [],
            "needs_background": "light"
          }
        }
      ]
    },
    {
      "cell_type": "code",
      "metadata": {
        "id": "eFNHUi5o5av5",
        "colab": {
          "base_uri": "https://localhost:8080/"
        },
        "outputId": "8fe6dce7-2af4-454a-f6fd-b9523a92f9b2"
      },
      "source": [
        "train['Target'].unique()"
      ],
      "execution_count": 12,
      "outputs": [
        {
          "output_type": "execute_result",
          "data": {
            "text/plain": [
              "array(['Invalid', 'Rule/Law/Holding', 'Facts', 'Analysis', 'Conclusion',\n",
              "       'Issue'], dtype=object)"
            ]
          },
          "metadata": {
            "tags": []
          },
          "execution_count": 12
        }
      ]
    },
    {
      "cell_type": "code",
      "metadata": {
        "id": "1pd5Ivx8-EpK",
        "colab": {
          "base_uri": "https://localhost:8080/"
        },
        "outputId": "4d6f1457-4c78-4395-98f2-1e9c6f774475"
      },
      "source": [
        "#cleaning\n",
        "import nltk\n",
        "import re\n",
        "import string\n",
        "nltk.download('stopwords')\n",
        "nltk.download('wordnet')\n",
        "stopword=nltk.corpus.stopwords.words('english')\n",
        "from nltk.stem import WordNetLemmatizer\n",
        "wl= WordNetLemmatizer()\n",
        "\n",
        "def clean_text(text):\n",
        "  text=\"\".join([word.lower() for word in text if word not in string.punctuation])\n",
        "  tokens = re.split('\\W+',text)\n",
        "  text = [wl.lemmatize(word) for word in tokens if word not in stopword]\n",
        "  return text"
      ],
      "execution_count": 13,
      "outputs": [
        {
          "output_type": "stream",
          "text": [
            "[nltk_data] Downloading package stopwords to /root/nltk_data...\n",
            "[nltk_data]   Package stopwords is already up-to-date!\n",
            "[nltk_data] Downloading package wordnet to /root/nltk_data...\n",
            "[nltk_data]   Package wordnet is already up-to-date!\n"
          ],
          "name": "stdout"
        }
      ]
    },
    {
      "cell_type": "code",
      "metadata": {
        "id": "PefjI0Xj-GoS",
        "colab": {
          "base_uri": "https://localhost:8080/"
        },
        "outputId": "ba72a511-e8ab-44e6-e8d8-9b6b174375ee"
      },
      "source": [
        "from sklearn.feature_extraction.text import TfidfVectorizer\n",
        "\n",
        "tfidf_vect = TfidfVectorizer(analyzer = clean_text)\n",
        "X_tfidf = tfidf_vect.fit_transform(train['Sentence'])\n",
        "print(X_tfidf.shape)"
      ],
      "execution_count": 14,
      "outputs": [
        {
          "output_type": "stream",
          "text": [
            "(4416, 7374)\n"
          ],
          "name": "stdout"
        }
      ]
    },
    {
      "cell_type": "code",
      "metadata": {
        "id": "XWbsFd7t-Ipu",
        "colab": {
          "base_uri": "https://localhost:8080/",
          "height": 254
        },
        "outputId": "fb406a98-3977-43b1-c215-8291f2a56483"
      },
      "source": [
        "X_tfidf_df=pd.DataFrame(X_tfidf.toarray())\n",
        "X_tfidf_df.columns=tfidf_vect.get_feature_names()\n",
        "X_tfidf_df.head()"
      ],
      "execution_count": 15,
      "outputs": [
        {
          "output_type": "execute_result",
          "data": {
            "text/html": [
              "<div>\n",
              "<style scoped>\n",
              "    .dataframe tbody tr th:only-of-type {\n",
              "        vertical-align: middle;\n",
              "    }\n",
              "\n",
              "    .dataframe tbody tr th {\n",
              "        vertical-align: top;\n",
              "    }\n",
              "\n",
              "    .dataframe thead th {\n",
              "        text-align: right;\n",
              "    }\n",
              "</style>\n",
              "<table border=\"1\" class=\"dataframe\">\n",
              "  <thead>\n",
              "    <tr style=\"text-align: right;\">\n",
              "      <th></th>\n",
              "      <th></th>\n",
              "      <th>015</th>\n",
              "      <th>1</th>\n",
              "      <th>10</th>\n",
              "      <th>100</th>\n",
              "      <th>1000</th>\n",
              "      <th>10000</th>\n",
              "      <th>100000</th>\n",
              "      <th>10000000</th>\n",
              "      <th>10000â</th>\n",
              "      <th>1000x22</th>\n",
              "      <th>1006</th>\n",
              "      <th>1008</th>\n",
              "      <th>1008a</th>\n",
              "      <th>100x22</th>\n",
              "      <th>101</th>\n",
              "      <th>1013</th>\n",
              "      <th>1015</th>\n",
              "      <th>102</th>\n",
              "      <th>1020</th>\n",
              "      <th>1026</th>\n",
              "      <th>1030</th>\n",
              "      <th>104</th>\n",
              "      <th>1042</th>\n",
              "      <th>1044</th>\n",
              "      <th>105</th>\n",
              "      <th>10511</th>\n",
              "      <th>1056</th>\n",
              "      <th>1065</th>\n",
              "      <th>107</th>\n",
              "      <th>107c</th>\n",
              "      <th>1081</th>\n",
              "      <th>1084</th>\n",
              "      <th>1097</th>\n",
              "      <th>1099</th>\n",
              "      <th>10a</th>\n",
              "      <th>10acre</th>\n",
              "      <th>11</th>\n",
              "      <th>110</th>\n",
              "      <th>1102</th>\n",
              "      <th>...</th>\n",
              "      <th>œthick</th>\n",
              "      <th>œthis</th>\n",
              "      <th>œthumbusterâ</th>\n",
              "      <th>œto</th>\n",
              "      <th>œtommy</th>\n",
              "      <th>œtoo</th>\n",
              "      <th>œtwo</th>\n",
              "      <th>œtwoâ</th>\n",
              "      <th>œunlawfully</th>\n",
              "      <th>œunlawfullyâ</th>\n",
              "      <th>œunless</th>\n",
              "      <th>œupon</th>\n",
              "      <th>œvagrancyâ</th>\n",
              "      <th>œvalue</th>\n",
              "      <th>œvery</th>\n",
              "      <th>œvisited</th>\n",
              "      <th>œwaived</th>\n",
              "      <th>œwalked</th>\n",
              "      <th>œwas</th>\n",
              "      <th>œwater</th>\n",
              "      <th>œwe</th>\n",
              "      <th>œweaving</th>\n",
              "      <th>œwell</th>\n",
              "      <th>œwhat</th>\n",
              "      <th>œwhen</th>\n",
              "      <th>œwhere</th>\n",
              "      <th>œwhether</th>\n",
              "      <th>œwhile</th>\n",
              "      <th>œwhipped</th>\n",
              "      <th>œwhisky</th>\n",
              "      <th>œwhoever</th>\n",
              "      <th>œwhy</th>\n",
              "      <th>œwilfullyâ</th>\n",
              "      <th>œwillfullyâ</th>\n",
              "      <th>œwobblyâ</th>\n",
              "      <th>œyes</th>\n",
              "      <th>œyesâ</th>\n",
              "      <th>œyou</th>\n",
              "      <th>œyour</th>\n",
              "      <th>œyâ</th>\n",
              "    </tr>\n",
              "  </thead>\n",
              "  <tbody>\n",
              "    <tr>\n",
              "      <th>0</th>\n",
              "      <td>0.000000</td>\n",
              "      <td>0.0</td>\n",
              "      <td>0.0</td>\n",
              "      <td>0.0</td>\n",
              "      <td>0.0</td>\n",
              "      <td>0.0</td>\n",
              "      <td>0.0</td>\n",
              "      <td>0.0</td>\n",
              "      <td>0.0</td>\n",
              "      <td>0.0</td>\n",
              "      <td>0.0</td>\n",
              "      <td>0.0</td>\n",
              "      <td>0.0</td>\n",
              "      <td>0.0</td>\n",
              "      <td>0.0</td>\n",
              "      <td>0.0</td>\n",
              "      <td>0.0</td>\n",
              "      <td>0.0</td>\n",
              "      <td>0.0</td>\n",
              "      <td>0.0</td>\n",
              "      <td>0.0</td>\n",
              "      <td>0.0</td>\n",
              "      <td>0.0</td>\n",
              "      <td>0.0</td>\n",
              "      <td>0.0</td>\n",
              "      <td>0.0</td>\n",
              "      <td>0.0</td>\n",
              "      <td>0.0</td>\n",
              "      <td>0.0</td>\n",
              "      <td>0.0</td>\n",
              "      <td>0.0</td>\n",
              "      <td>0.0</td>\n",
              "      <td>0.0</td>\n",
              "      <td>0.0</td>\n",
              "      <td>0.0</td>\n",
              "      <td>0.0</td>\n",
              "      <td>0.0</td>\n",
              "      <td>0.0</td>\n",
              "      <td>0.0</td>\n",
              "      <td>0.0</td>\n",
              "      <td>...</td>\n",
              "      <td>0.0</td>\n",
              "      <td>0.0</td>\n",
              "      <td>0.0</td>\n",
              "      <td>0.0</td>\n",
              "      <td>0.0</td>\n",
              "      <td>0.0</td>\n",
              "      <td>0.0</td>\n",
              "      <td>0.0</td>\n",
              "      <td>0.0</td>\n",
              "      <td>0.0</td>\n",
              "      <td>0.0</td>\n",
              "      <td>0.0</td>\n",
              "      <td>0.0</td>\n",
              "      <td>0.0</td>\n",
              "      <td>0.0</td>\n",
              "      <td>0.0</td>\n",
              "      <td>0.0</td>\n",
              "      <td>0.0</td>\n",
              "      <td>0.0</td>\n",
              "      <td>0.0</td>\n",
              "      <td>0.0</td>\n",
              "      <td>0.0</td>\n",
              "      <td>0.0</td>\n",
              "      <td>0.0</td>\n",
              "      <td>0.0</td>\n",
              "      <td>0.0</td>\n",
              "      <td>0.0</td>\n",
              "      <td>0.0</td>\n",
              "      <td>0.0</td>\n",
              "      <td>0.0</td>\n",
              "      <td>0.0</td>\n",
              "      <td>0.0</td>\n",
              "      <td>0.0</td>\n",
              "      <td>0.0</td>\n",
              "      <td>0.0</td>\n",
              "      <td>0.0</td>\n",
              "      <td>0.0</td>\n",
              "      <td>0.0</td>\n",
              "      <td>0.0</td>\n",
              "      <td>0.0</td>\n",
              "    </tr>\n",
              "    <tr>\n",
              "      <th>1</th>\n",
              "      <td>0.111629</td>\n",
              "      <td>0.0</td>\n",
              "      <td>0.0</td>\n",
              "      <td>0.0</td>\n",
              "      <td>0.0</td>\n",
              "      <td>0.0</td>\n",
              "      <td>0.0</td>\n",
              "      <td>0.0</td>\n",
              "      <td>0.0</td>\n",
              "      <td>0.0</td>\n",
              "      <td>0.0</td>\n",
              "      <td>0.0</td>\n",
              "      <td>0.0</td>\n",
              "      <td>0.0</td>\n",
              "      <td>0.0</td>\n",
              "      <td>0.0</td>\n",
              "      <td>0.0</td>\n",
              "      <td>0.0</td>\n",
              "      <td>0.0</td>\n",
              "      <td>0.0</td>\n",
              "      <td>0.0</td>\n",
              "      <td>0.0</td>\n",
              "      <td>0.0</td>\n",
              "      <td>0.0</td>\n",
              "      <td>0.0</td>\n",
              "      <td>0.0</td>\n",
              "      <td>0.0</td>\n",
              "      <td>0.0</td>\n",
              "      <td>0.0</td>\n",
              "      <td>0.0</td>\n",
              "      <td>0.0</td>\n",
              "      <td>0.0</td>\n",
              "      <td>0.0</td>\n",
              "      <td>0.0</td>\n",
              "      <td>0.0</td>\n",
              "      <td>0.0</td>\n",
              "      <td>0.0</td>\n",
              "      <td>0.0</td>\n",
              "      <td>0.0</td>\n",
              "      <td>0.0</td>\n",
              "      <td>...</td>\n",
              "      <td>0.0</td>\n",
              "      <td>0.0</td>\n",
              "      <td>0.0</td>\n",
              "      <td>0.0</td>\n",
              "      <td>0.0</td>\n",
              "      <td>0.0</td>\n",
              "      <td>0.0</td>\n",
              "      <td>0.0</td>\n",
              "      <td>0.0</td>\n",
              "      <td>0.0</td>\n",
              "      <td>0.0</td>\n",
              "      <td>0.0</td>\n",
              "      <td>0.0</td>\n",
              "      <td>0.0</td>\n",
              "      <td>0.0</td>\n",
              "      <td>0.0</td>\n",
              "      <td>0.0</td>\n",
              "      <td>0.0</td>\n",
              "      <td>0.0</td>\n",
              "      <td>0.0</td>\n",
              "      <td>0.0</td>\n",
              "      <td>0.0</td>\n",
              "      <td>0.0</td>\n",
              "      <td>0.0</td>\n",
              "      <td>0.0</td>\n",
              "      <td>0.0</td>\n",
              "      <td>0.0</td>\n",
              "      <td>0.0</td>\n",
              "      <td>0.0</td>\n",
              "      <td>0.0</td>\n",
              "      <td>0.0</td>\n",
              "      <td>0.0</td>\n",
              "      <td>0.0</td>\n",
              "      <td>0.0</td>\n",
              "      <td>0.0</td>\n",
              "      <td>0.0</td>\n",
              "      <td>0.0</td>\n",
              "      <td>0.0</td>\n",
              "      <td>0.0</td>\n",
              "      <td>0.0</td>\n",
              "    </tr>\n",
              "    <tr>\n",
              "      <th>2</th>\n",
              "      <td>0.000000</td>\n",
              "      <td>0.0</td>\n",
              "      <td>0.0</td>\n",
              "      <td>0.0</td>\n",
              "      <td>0.0</td>\n",
              "      <td>0.0</td>\n",
              "      <td>0.0</td>\n",
              "      <td>0.0</td>\n",
              "      <td>0.0</td>\n",
              "      <td>0.0</td>\n",
              "      <td>0.0</td>\n",
              "      <td>0.0</td>\n",
              "      <td>0.0</td>\n",
              "      <td>0.0</td>\n",
              "      <td>0.0</td>\n",
              "      <td>0.0</td>\n",
              "      <td>0.0</td>\n",
              "      <td>0.0</td>\n",
              "      <td>0.0</td>\n",
              "      <td>0.0</td>\n",
              "      <td>0.0</td>\n",
              "      <td>0.0</td>\n",
              "      <td>0.0</td>\n",
              "      <td>0.0</td>\n",
              "      <td>0.0</td>\n",
              "      <td>0.0</td>\n",
              "      <td>0.0</td>\n",
              "      <td>0.0</td>\n",
              "      <td>0.0</td>\n",
              "      <td>0.0</td>\n",
              "      <td>0.0</td>\n",
              "      <td>0.0</td>\n",
              "      <td>0.0</td>\n",
              "      <td>0.0</td>\n",
              "      <td>0.0</td>\n",
              "      <td>0.0</td>\n",
              "      <td>0.0</td>\n",
              "      <td>0.0</td>\n",
              "      <td>0.0</td>\n",
              "      <td>0.0</td>\n",
              "      <td>...</td>\n",
              "      <td>0.0</td>\n",
              "      <td>0.0</td>\n",
              "      <td>0.0</td>\n",
              "      <td>0.0</td>\n",
              "      <td>0.0</td>\n",
              "      <td>0.0</td>\n",
              "      <td>0.0</td>\n",
              "      <td>0.0</td>\n",
              "      <td>0.0</td>\n",
              "      <td>0.0</td>\n",
              "      <td>0.0</td>\n",
              "      <td>0.0</td>\n",
              "      <td>0.0</td>\n",
              "      <td>0.0</td>\n",
              "      <td>0.0</td>\n",
              "      <td>0.0</td>\n",
              "      <td>0.0</td>\n",
              "      <td>0.0</td>\n",
              "      <td>0.0</td>\n",
              "      <td>0.0</td>\n",
              "      <td>0.0</td>\n",
              "      <td>0.0</td>\n",
              "      <td>0.0</td>\n",
              "      <td>0.0</td>\n",
              "      <td>0.0</td>\n",
              "      <td>0.0</td>\n",
              "      <td>0.0</td>\n",
              "      <td>0.0</td>\n",
              "      <td>0.0</td>\n",
              "      <td>0.0</td>\n",
              "      <td>0.0</td>\n",
              "      <td>0.0</td>\n",
              "      <td>0.0</td>\n",
              "      <td>0.0</td>\n",
              "      <td>0.0</td>\n",
              "      <td>0.0</td>\n",
              "      <td>0.0</td>\n",
              "      <td>0.0</td>\n",
              "      <td>0.0</td>\n",
              "      <td>0.0</td>\n",
              "    </tr>\n",
              "    <tr>\n",
              "      <th>3</th>\n",
              "      <td>0.000000</td>\n",
              "      <td>0.0</td>\n",
              "      <td>0.0</td>\n",
              "      <td>0.0</td>\n",
              "      <td>0.0</td>\n",
              "      <td>0.0</td>\n",
              "      <td>0.0</td>\n",
              "      <td>0.0</td>\n",
              "      <td>0.0</td>\n",
              "      <td>0.0</td>\n",
              "      <td>0.0</td>\n",
              "      <td>0.0</td>\n",
              "      <td>0.0</td>\n",
              "      <td>0.0</td>\n",
              "      <td>0.0</td>\n",
              "      <td>0.0</td>\n",
              "      <td>0.0</td>\n",
              "      <td>0.0</td>\n",
              "      <td>0.0</td>\n",
              "      <td>0.0</td>\n",
              "      <td>0.0</td>\n",
              "      <td>0.0</td>\n",
              "      <td>0.0</td>\n",
              "      <td>0.0</td>\n",
              "      <td>0.0</td>\n",
              "      <td>0.0</td>\n",
              "      <td>0.0</td>\n",
              "      <td>0.0</td>\n",
              "      <td>0.0</td>\n",
              "      <td>0.0</td>\n",
              "      <td>0.0</td>\n",
              "      <td>0.0</td>\n",
              "      <td>0.0</td>\n",
              "      <td>0.0</td>\n",
              "      <td>0.0</td>\n",
              "      <td>0.0</td>\n",
              "      <td>0.0</td>\n",
              "      <td>0.0</td>\n",
              "      <td>0.0</td>\n",
              "      <td>0.0</td>\n",
              "      <td>...</td>\n",
              "      <td>0.0</td>\n",
              "      <td>0.0</td>\n",
              "      <td>0.0</td>\n",
              "      <td>0.0</td>\n",
              "      <td>0.0</td>\n",
              "      <td>0.0</td>\n",
              "      <td>0.0</td>\n",
              "      <td>0.0</td>\n",
              "      <td>0.0</td>\n",
              "      <td>0.0</td>\n",
              "      <td>0.0</td>\n",
              "      <td>0.0</td>\n",
              "      <td>0.0</td>\n",
              "      <td>0.0</td>\n",
              "      <td>0.0</td>\n",
              "      <td>0.0</td>\n",
              "      <td>0.0</td>\n",
              "      <td>0.0</td>\n",
              "      <td>0.0</td>\n",
              "      <td>0.0</td>\n",
              "      <td>0.0</td>\n",
              "      <td>0.0</td>\n",
              "      <td>0.0</td>\n",
              "      <td>0.0</td>\n",
              "      <td>0.0</td>\n",
              "      <td>0.0</td>\n",
              "      <td>0.0</td>\n",
              "      <td>0.0</td>\n",
              "      <td>0.0</td>\n",
              "      <td>0.0</td>\n",
              "      <td>0.0</td>\n",
              "      <td>0.0</td>\n",
              "      <td>0.0</td>\n",
              "      <td>0.0</td>\n",
              "      <td>0.0</td>\n",
              "      <td>0.0</td>\n",
              "      <td>0.0</td>\n",
              "      <td>0.0</td>\n",
              "      <td>0.0</td>\n",
              "      <td>0.0</td>\n",
              "    </tr>\n",
              "    <tr>\n",
              "      <th>4</th>\n",
              "      <td>0.000000</td>\n",
              "      <td>0.0</td>\n",
              "      <td>0.0</td>\n",
              "      <td>0.0</td>\n",
              "      <td>0.0</td>\n",
              "      <td>0.0</td>\n",
              "      <td>0.0</td>\n",
              "      <td>0.0</td>\n",
              "      <td>0.0</td>\n",
              "      <td>0.0</td>\n",
              "      <td>0.0</td>\n",
              "      <td>0.0</td>\n",
              "      <td>0.0</td>\n",
              "      <td>0.0</td>\n",
              "      <td>0.0</td>\n",
              "      <td>0.0</td>\n",
              "      <td>0.0</td>\n",
              "      <td>0.0</td>\n",
              "      <td>0.0</td>\n",
              "      <td>0.0</td>\n",
              "      <td>0.0</td>\n",
              "      <td>0.0</td>\n",
              "      <td>0.0</td>\n",
              "      <td>0.0</td>\n",
              "      <td>0.0</td>\n",
              "      <td>0.0</td>\n",
              "      <td>0.0</td>\n",
              "      <td>0.0</td>\n",
              "      <td>0.0</td>\n",
              "      <td>0.0</td>\n",
              "      <td>0.0</td>\n",
              "      <td>0.0</td>\n",
              "      <td>0.0</td>\n",
              "      <td>0.0</td>\n",
              "      <td>0.0</td>\n",
              "      <td>0.0</td>\n",
              "      <td>0.0</td>\n",
              "      <td>0.0</td>\n",
              "      <td>0.0</td>\n",
              "      <td>0.0</td>\n",
              "      <td>...</td>\n",
              "      <td>0.0</td>\n",
              "      <td>0.0</td>\n",
              "      <td>0.0</td>\n",
              "      <td>0.0</td>\n",
              "      <td>0.0</td>\n",
              "      <td>0.0</td>\n",
              "      <td>0.0</td>\n",
              "      <td>0.0</td>\n",
              "      <td>0.0</td>\n",
              "      <td>0.0</td>\n",
              "      <td>0.0</td>\n",
              "      <td>0.0</td>\n",
              "      <td>0.0</td>\n",
              "      <td>0.0</td>\n",
              "      <td>0.0</td>\n",
              "      <td>0.0</td>\n",
              "      <td>0.0</td>\n",
              "      <td>0.0</td>\n",
              "      <td>0.0</td>\n",
              "      <td>0.0</td>\n",
              "      <td>0.0</td>\n",
              "      <td>0.0</td>\n",
              "      <td>0.0</td>\n",
              "      <td>0.0</td>\n",
              "      <td>0.0</td>\n",
              "      <td>0.0</td>\n",
              "      <td>0.0</td>\n",
              "      <td>0.0</td>\n",
              "      <td>0.0</td>\n",
              "      <td>0.0</td>\n",
              "      <td>0.0</td>\n",
              "      <td>0.0</td>\n",
              "      <td>0.0</td>\n",
              "      <td>0.0</td>\n",
              "      <td>0.0</td>\n",
              "      <td>0.0</td>\n",
              "      <td>0.0</td>\n",
              "      <td>0.0</td>\n",
              "      <td>0.0</td>\n",
              "      <td>0.0</td>\n",
              "    </tr>\n",
              "  </tbody>\n",
              "</table>\n",
              "<p>5 rows × 7374 columns</p>\n",
              "</div>"
            ],
            "text/plain": [
              "             015    1   10  100  1000  ...  œwobblyâ  œyes  œyesâ  œyou  œyour  œyâ\n",
              "0  0.000000  0.0  0.0  0.0  0.0   0.0  ...       0.0   0.0    0.0   0.0    0.0  0.0\n",
              "1  0.111629  0.0  0.0  0.0  0.0   0.0  ...       0.0   0.0    0.0   0.0    0.0  0.0\n",
              "2  0.000000  0.0  0.0  0.0  0.0   0.0  ...       0.0   0.0    0.0   0.0    0.0  0.0\n",
              "3  0.000000  0.0  0.0  0.0  0.0   0.0  ...       0.0   0.0    0.0   0.0    0.0  0.0\n",
              "4  0.000000  0.0  0.0  0.0  0.0   0.0  ...       0.0   0.0    0.0   0.0    0.0  0.0\n",
              "\n",
              "[5 rows x 7374 columns]"
            ]
          },
          "metadata": {
            "tags": []
          },
          "execution_count": 15
        }
      ]
    },
    {
      "cell_type": "code",
      "metadata": {
        "id": "1vk5lJ6jRUj2",
        "outputId": "dfd6a41d-2ee8-4ac5-c45c-2cf2c47a8631",
        "colab": {
          "base_uri": "https://localhost:8080/",
          "height": 422
        }
      },
      "source": [
        "from imblearn.over_sampling import SMOTE\n",
        "from imblearn.under_sampling import RandomUnderSampler\n",
        "\n",
        "#undersampling_Dict={'Facts': 550, 'Invalid': 218, 'Analysis': 520, 'Rule/Law/Holding': 1000, 'Issue': 179, 'Conclusion': 240}\n",
        "undersampling_Dict={ 'Facts': 1500}\n",
        "oversample = SMOTE(\"minority\")\n",
        "undersample = RandomUnderSampler(sampling_strategy=undersampling_Dict,random_state=42)\n",
        "#X, y = oversample.fit_sample(X_tfidf_df, train['Target'])\n",
        "X, y = undersample.fit_resample(X_tfidf_df, train['Target'])\n",
        "# summarize distribution\n",
        "counter = Counter(y)\n",
        "for k,v in counter.items():\n",
        "\tper = v / len(y) * 100\n",
        "\tprint('Class=%s, n=%d (%.3f%%)' % (k, v, per))\n",
        "# plot the distribution\n",
        "pyplot.bar(counter.keys(), counter.values())\n",
        "pyplot.show()"
      ],
      "execution_count": 17,
      "outputs": [
        {
          "output_type": "stream",
          "text": [
            "/usr/local/lib/python3.7/dist-packages/sklearn/utils/deprecation.py:87: FutureWarning: Function safe_indexing is deprecated; safe_indexing is deprecated in version 0.22 and will be removed in version 0.24.\n",
            "  warnings.warn(msg, category=FutureWarning)\n"
          ],
          "name": "stderr"
        },
        {
          "output_type": "stream",
          "text": [
            "Class=Analysis, n=677 (18.482%)\n",
            "Class=Conclusion, n=225 (6.143%)\n",
            "Class=Facts, n=1500 (40.950%)\n",
            "Class=Invalid, n=660 (18.018%)\n",
            "Class=Issue, n=269 (7.344%)\n",
            "Class=Rule/Law/Holding, n=332 (9.064%)\n"
          ],
          "name": "stdout"
        },
        {
          "output_type": "display_data",
          "data": {
            "image/png": "[encoded data removed]",
            "text/plain": [
              "<Figure size 432x288 with 1 Axes>"
            ]
          },
          "metadata": {
            "tags": [],
            "needs_background": "light"
          }
        }
      ]
    },
    {
      "cell_type": "code",
      "metadata": {
        "id": "ovpcmZlnRoYg",
        "outputId": "69fe3f61-f44d-482e-ce5a-3dd1991a70bd",
        "colab": {
          "base_uri": "https://localhost:8080/",
          "height": 559
        }
      },
      "source": [
        "from imblearn.over_sampling import SMOTE\n",
        "oversample = SMOTE(random_state=777,k_neighbors=20)\n",
        "X, y = oversample.fit_resample(X, y)\n",
        "# summarize distribution\n",
        "counter = Counter(y)\n",
        "for k,v in counter.items():\n",
        "\tper = v / len(y) * 100\n",
        "\tprint('Class=%s, n=%d (%.3f%%)' % (k, v, per))\n",
        "# plot the distribution\n",
        "pyplot.bar(counter.keys(), counter.values())\n",
        "pyplot.show()"
      ],
      "execution_count": 18,
      "outputs": [
        {
          "output_type": "stream",
          "text": [
            "/usr/local/lib/python3.7/dist-packages/sklearn/utils/deprecation.py:87: FutureWarning: Function safe_indexing is deprecated; safe_indexing is deprecated in version 0.22 and will be removed in version 0.24.\n",
            "  warnings.warn(msg, category=FutureWarning)\n",
            "/usr/local/lib/python3.7/dist-packages/sklearn/utils/deprecation.py:87: FutureWarning: Function safe_indexing is deprecated; safe_indexing is deprecated in version 0.22 and will be removed in version 0.24.\n",
            "  warnings.warn(msg, category=FutureWarning)\n",
            "/usr/local/lib/python3.7/dist-packages/sklearn/utils/deprecation.py:87: FutureWarning: Function safe_indexing is deprecated; safe_indexing is deprecated in version 0.22 and will be removed in version 0.24.\n",
            "  warnings.warn(msg, category=FutureWarning)\n",
            "/usr/local/lib/python3.7/dist-packages/sklearn/utils/deprecation.py:87: FutureWarning: Function safe_indexing is deprecated; safe_indexing is deprecated in version 0.22 and will be removed in version 0.24.\n",
            "  warnings.warn(msg, category=FutureWarning)\n",
            "/usr/local/lib/python3.7/dist-packages/sklearn/utils/deprecation.py:87: FutureWarning: Function safe_indexing is deprecated; safe_indexing is deprecated in version 0.22 and will be removed in version 0.24.\n",
            "  warnings.warn(msg, category=FutureWarning)\n"
          ],
          "name": "stderr"
        },
        {
          "output_type": "stream",
          "text": [
            "Class=Analysis, n=1500 (16.667%)\n",
            "Class=Conclusion, n=1500 (16.667%)\n",
            "Class=Facts, n=1500 (16.667%)\n",
            "Class=Invalid, n=1500 (16.667%)\n",
            "Class=Issue, n=1500 (16.667%)\n",
            "Class=Rule/Law/Holding, n=1500 (16.667%)\n"
          ],
          "name": "stdout"
        },
        {
          "output_type": "display_data",
          "data": {
            "image/png": "[encoded data removed]",
            "text/plain": [
              "<Figure size 432x288 with 1 Axes>"
            ]
          },
          "metadata": {
            "tags": [],
            "needs_background": "light"
          }
        }
      ]
    },
    {
      "cell_type": "code",
      "metadata": {
        "id": "SvsuG-yiR0YW",
        "outputId": "81655961-b90f-4544-aecd-f5b3b9f33b11",
        "colab": {
          "base_uri": "https://localhost:8080/"
        }
      },
      "source": [
        "X.shape"
      ],
      "execution_count": 19,
      "outputs": [
        {
          "output_type": "execute_result",
          "data": {
            "text/plain": [
              "(9000, 7374)"
            ]
          },
          "metadata": {
            "tags": []
          },
          "execution_count": 19
        }
      ]
    },
    {
      "cell_type": "code",
      "metadata": {
        "id": "Ar4NwNAC9CUv"
      },
      "source": [
        "# from imblearn.over_sampling import SMOTE\n",
        "# from imblearn.under_sampling import RandomUnderSampler\n",
        "\n",
        "# #undersampling_Dict={'Facts': 550, 'Invalid': 218, 'Analysis': 520, 'Rule/Law/Holding': 1000, 'Issue': 179, 'Conclusion': 240}\n",
        "# undersampling_Dict={ 'Facts': 1500}\n",
        "# oversample = SMOTE(\"minority\")\n",
        "# undersample = RandomUnderSampler(sampling_strategy=undersampling_Dict,random_state=42)\n",
        "# #X, y = oversample.fit_sample(X_tfidf_df, train['Target'])\n",
        "# X, y = undersample.fit_resample(X_tfidf_df, train['Target'])\n",
        "# # summarize distribution\n",
        "# counter = Counter(y)\n",
        "# for k,v in counter.items():\n",
        "# \tper = v / len(y) * 100\n",
        "# \tprint('Class=%s, n=%d (%.3f%%)' % (k, v, per))\n",
        "# # plot the distribution\n",
        "# pyplot.bar(counter.keys(), counter.values())\n",
        "# pyplot.show()\n",
        "\n"
      ],
      "execution_count": 20,
      "outputs": []
    },
    {
      "cell_type": "code",
      "metadata": {
        "id": "tiPukShHswSV"
      },
      "source": [
        "# Train_class_2 =  train.loc[train['Target'] == 'Facts']\n"
      ],
      "execution_count": 22,
      "outputs": []
    },
    {
      "cell_type": "code",
      "metadata": {
        "id": "jOOjIDZGu9HP"
      },
      "source": [
        "# Train_class_2['Target'].unique()"
      ],
      "execution_count": 23,
      "outputs": []
    },
    {
      "cell_type": "code",
      "metadata": {
        "id": "1NqhK5U8wVaU"
      },
      "source": [
        "# Train_class_2.shape"
      ],
      "execution_count": 24,
      "outputs": []
    },
    {
      "cell_type": "code",
      "metadata": {
        "id": "AVDeFOWAwVdt"
      },
      "source": [
        "# Train_class_2.columns"
      ],
      "execution_count": 25,
      "outputs": []
    },
    {
      "cell_type": "code",
      "metadata": {
        "id": "iAzSmTqgSc4A"
      },
      "source": [
        "# X_append = X"
      ],
      "execution_count": 26,
      "outputs": []
    },
    {
      "cell_type": "code",
      "metadata": {
        "id": "6UL-mrkMSywA"
      },
      "source": [
        "# len(y)"
      ],
      "execution_count": 27,
      "outputs": []
    },
    {
      "cell_type": "code",
      "metadata": {
        "id": "m9vHGS8-vJ_d"
      },
      "source": [
        "# from imblearn.over_sampling import SMOTE\n",
        "# from collections import Counter\n",
        "# from matplotlib import pyplot\n",
        "# from sklearn.preprocessing import LabelEncoder\n",
        "# data = train.values\n",
        "\n",
        "\n",
        "# # split into input and output elements\n",
        "# X, y = data[:, :-1], data[:, -1]\n",
        "# # label encode the target variable\n",
        "# y = LabelEncoder().fit_transform(y)\n",
        "# print(y)\n",
        "# # summarize distribution\n",
        "# counter = Counter(y)\n",
        "# print(y)\n",
        "# for k,v in counter.items():\n",
        "# \tper = v / len(y) * 100\n",
        "# \tprint('Class=%s, n=%d (%.3f%%)' % (k, v, per))\n",
        "# # plot the distribution\n",
        "# pyplot.bar(counter.keys(), counter.values())\n",
        "# pyplot.show()"
      ],
      "execution_count": 28,
      "outputs": []
    },
    {
      "cell_type": "code",
      "metadata": {
        "id": "LfO7NGvJ3OId"
      },
      "source": [
        "# from collections import Counter\n",
        "# from sklearn.datasets import make_classification\n",
        "# from imblearn.over_sampling import SMOTE\n",
        "# from imblearn.under_sampling import RandomUnderSampler\n",
        "# from imblearn.pipeline import Pipeline\n",
        "# from matplotlib import pyplot\n",
        "# from numpy import where\n",
        "# # define dataset\n",
        "# #X, y = make_classification(n_samples=10000, n_features=2, n_redundant=0,\n",
        "# #\tn_clusters_per_class=1, weights=[0.99], flip_y=0, random_state=1)\n",
        "# # summarize class distribution\n",
        "# #counter = Counter(y)\n",
        "# #print(counter)\n",
        "# # define pipeline\n",
        "# undersampling_Dict={ 'Facts': 1500}\n",
        "# upsampling_Dict={'Facts': 550, 'Invalid': 218, 'Analysis': 520, 'Rule/Law/Holding': 1000, 'Issue': 179, 'Conclusion': 240}\n",
        "\n",
        "# over = SMOTE(sampling_strategy=undersampling_Dict)\n",
        "# under = RandomUnderSampler(sampling_strategy=undersampling_Dict)\n",
        "# steps = [('o', over), ('u', under)]\n",
        "# pipeline = Pipeline(steps=steps)\n",
        "# # transform the dataset\n",
        "# #X, y = pipeline.fit_resample(X, y)\n",
        "# X, y = pipeline.fit_resample(X_tfidf_df, train['Target'])\n",
        "# # summarize the new class distribution\n",
        "# counter = Counter(y)\n",
        "# print(counter)\n",
        "# # scatter plot of examples by class label\n",
        "# for label, _ in counter.items():\n",
        "# \trow_ix = where(y == label)[0]\n",
        "# \tpyplot.scatter(X[row_ix, 0], X[row_ix, 1], label=str(label))\n",
        "# pyplot.legend()\n",
        "# pyplot.show()"
      ],
      "execution_count": 29,
      "outputs": []
    },
    {
      "cell_type": "code",
      "metadata": {
        "id": "TfdO9zVQ1fWt"
      },
      "source": [
        "# from imblearn.over_sampling import SMOTE\n",
        "# from imblearn.over_sampling import RandomOverSampler\n",
        "# oversample = RandomOverSampler(sampling_strategy=0.66)\n",
        "# X, y = oversample.fit_resample(X_tfidf_df, Train_class_2['Target'])\n",
        "# #X, y = oversample.fit_resample(X, y)\n",
        "# # summarize distribution\n",
        "# counter = Counter(y)\n",
        "# for k,v in counter.items():\n",
        "# \tper = v / len(y) * 100\n",
        "# \tprint('Class=%s, n=%d (%.3f%%)' % (k, v, per))\n",
        "# # plot the distribution\n",
        "# pyplot.bar(counter.keys(), counter.values())\n",
        "# pyplot.show()"
      ],
      "execution_count": 30,
      "outputs": []
    },
    {
      "cell_type": "code",
      "metadata": {
        "id": "aTnv7I4y8sVG"
      },
      "source": [
        "# from imblearn.over_sampling import SMOTE\n",
        "# from imblearn.under_sampling import RandomUnderSampler\n",
        "\n",
        "# #undersampling_Dict={'Facts': 550, 'Invalid': 218, 'Analysis': 520, 'Rule/Law/Holding': 1000, 'Issue': 179, 'Conclusion': 240}\n",
        "# undersampling_Dict={ 'Facts': 1500}\n",
        "# oversample = SMOTE(\"minority\")\n",
        "# undersample = RandomUnderSampler(sampling_strategy=undersampling_Dict,random_state=42)\n",
        "# #X, y = oversample.fit_sample(X_tfidf_df, train['Target'])\n",
        "# X, y = undersample.fit_resample(X_tfidf_df, train['Target'])\n",
        "# # summarize distribution\n",
        "# counter = Counter(y)\n",
        "# for k,v in counter.items():\n",
        "# \tper = v / len(y) * 100\n",
        "# \tprint('Class=%s, n=%d (%.3f%%)' % (k, v, per))\n",
        "# # plot the distribution\n",
        "# pyplot.bar(counter.keys(), counter.values())\n",
        "# pyplot.show()\n"
      ],
      "execution_count": 31,
      "outputs": []
    },
    {
      "cell_type": "code",
      "metadata": {
        "id": "BuqAMcoL9GBK"
      },
      "source": [
        "# from sklearn.feature_extraction.text import TfidfVectorizer\n",
        "\n",
        "# tfidf_vect = TfidfVectorizer(analyzer = clean_text)\n",
        "# X_tfidf = tfidf_vect.fit_transform(X)\n",
        "# print(X_tfidf.shape)\n",
        "\n",
        "# X_tfidf_df=pd.DataFrame(X_tfidf.toarray())\n",
        "# X_tfidf_df.columns=tfidf_vect.get_feature_names()\n",
        "# X_tfidf_df.head()\n",
        "# X_tfidf_df.shape\n"
      ],
      "execution_count": 32,
      "outputs": []
    },
    {
      "cell_type": "code",
      "metadata": {
        "id": "pWBi2IUc--UD"
      },
      "source": [
        "# len(train['Target'])"
      ],
      "execution_count": 33,
      "outputs": []
    },
    {
      "cell_type": "code",
      "metadata": {
        "id": "bm5pC3tn_ggK"
      },
      "source": [
        "# X_tfidf_df.shape"
      ],
      "execution_count": 34,
      "outputs": []
    },
    {
      "cell_type": "code",
      "metadata": {
        "id": "pqaZ2lkWJpxv"
      },
      "source": [
        "# from imblearn.over_sampling import SMOTE\n",
        "# oversample = SMOTE(random_state=777,k_neighbors=20)\n",
        "# X, y = oversample.fit_resample(X_tfidf_df, train['Target'])\n",
        "# #X, y = oversample.fit_resample(X, y)\n",
        "# # summarize distribution\n",
        "# counter = Counter(y)\n",
        "# for k,v in counter.items():\n",
        "# \tper = v / len(y) * 100\n",
        "# \tprint('Class=%s, n=%d (%.3f%%)' % (k, v, per))\n",
        "# # plot the distribution\n",
        "# pyplot.bar(counter.keys(), counter.values())\n",
        "# pyplot.show()"
      ],
      "execution_count": 35,
      "outputs": []
    },
    {
      "cell_type": "code",
      "metadata": {
        "id": "XN8QIQbm-ULG",
        "colab": {
          "base_uri": "https://localhost:8080/"
        },
        "outputId": "4e00b9e3-d47e-46e5-fdc5-1834e838c440"
      },
      "source": [
        "import numpy as np\n",
        "from collections import Counter\n",
        "from sklearn.datasets import make_classification\n",
        "from sklearn.ensemble import RandomForestClassifier\n",
        "from sklearn.pipeline import make_pipeline\n",
        "from sklearn.model_selection import train_test_split\n",
        "from sklearn.metrics import confusion_matrix\n",
        "from sklearn.base import BaseEstimator, ClassifierMixin\n",
        "from sklearn.metrics import accuracy_score\n",
        "from sklearn.metrics import average_precision_score\n",
        "from sklearn.metrics import precision_score\n",
        "from sklearn.metrics import recall_score\n",
        "from sklearn.metrics import f1_score\n",
        "from sklearn.metrics import cohen_kappa_score\n",
        "from sklearn.metrics import roc_auc_score\n",
        "from sklearn.metrics import confusion_matrix\n",
        "from sklearn.metrics import classification_report\n",
        "import lightgbm as lgb\n",
        "from sklearn import svm\n",
        "from sklearn.model_selection import KFold\n",
        "\n",
        "\n",
        "#X, y = make_classification(random_state=1)\n",
        "counter = Counter(y)\n",
        "print(counter)\n",
        "#X_train, x_val, Y_train, y_val = train_test_split(X_tfidf,train['Target'],test_size=0.26,random_state=42)\n",
        "X_train, x_val, Y_train, y_val = train_test_split(X,y,test_size=0.20,random_state=42)\n",
        "print(\"@@@@@@@\",len(X_train))\n",
        "print(\"@@@@@@@\",len(x_val))\n",
        "classifier = lgb.LGBMClassifier()\n",
        "classifier.fit(X_train, Y_train)\n",
        "cv = KFold(n_splits=5, random_state=1, shuffle=True)\n",
        "scores_f1 = cross_val_score(classifier,x_val ,y_val, scoring = 'f1_weighted', cv=cv, n_jobs=-1).mean()\n",
        "print(\"cross validation scores supervised \",scores_f1)\n",
        "    \n",
        "y_pred = classifier.predict(x_val)\n",
        "#print(np.unique(y_pred))\n",
        "#print(type(y_pred))\n",
        "\n",
        "Accuracy_score = accuracy_score(y_val,y_pred)\n",
        "\n",
        "print('Validation Accuracy_score: %f' % Accuracy_score)\n",
        "test_pred = classifier.predict(t_p)\n",
        "acc_test = accuracy_score(test['Target'],test_pred)\n",
        "print('Accuracy test data', acc_test)\n",
        "classification_report = classification_report(test['Target'],test_pred,digits=4)\n",
        "print(classification_report)\n",
        "matrix = confusion_matrix( y_val, y_pred)\n",
        "print(matrix)\n"
      ],
      "execution_count": 37,
      "outputs": [
        {
          "output_type": "stream",
          "text": [
            "Counter({'Analysis': 1500, 'Conclusion': 1500, 'Facts': 1500, 'Invalid': 1500, 'Issue': 1500, 'Rule/Law/Holding': 1500})\n",
            "@@@@@@@ 7200\n",
            "@@@@@@@ 1800\n",
            "cross validation scores supervised  0.6876304875295367\n",
            "Validation Accuracy_score: 0.852222\n",
            "Accuracy test data 0.6295585412667947\n",
            "                  precision    recall  f1-score   support\n",
            "\n",
            "        Analysis     0.4079    0.4026    0.4052        77\n",
            "      Conclusion     0.6452    0.7692    0.7018        26\n",
            "           Facts     0.7661    0.7116    0.7379       267\n",
            "         Invalid     0.4444    0.6265    0.5200        83\n",
            "           Issue     0.8889    0.4706    0.6154        34\n",
            "Rule/Law/Holding     0.6129    0.5588    0.5846        34\n",
            "\n",
            "        accuracy                         0.6296       521\n",
            "       macro avg     0.6276    0.5899    0.5941       521\n",
            "    weighted avg     0.6539    0.6296    0.6342       521\n",
            "\n",
            "[[249   7  26  20   1  10]\n",
            " [  8 273   4   5   1   0]\n",
            " [ 18   5 218  42   4   9]\n",
            " [ 15   4  29 245   5   5]\n",
            " [  7   1   4   4 275  11]\n",
            " [  2   0   6  12   1 274]]\n"
          ],
          "name": "stdout"
        }
      ]
    },
    {
      "cell_type": "code",
      "metadata": {
        "id": "XHf-krg4qntr"
      },
      "source": [
        "Threshold = 0.97\n",
        "unlabel_size = 191000"
      ],
      "execution_count": 38,
      "outputs": []
    },
    {
      "cell_type": "code",
      "metadata": {
        "id": "X95ay4D3oyMn",
        "colab": {
          "base_uri": "https://localhost:8080/"
        },
        "outputId": "71ea34c9-c5e5-443a-c6bc-2a2408f35604"
      },
      "source": [
        "\n",
        "unlabel = pd.read_csv(r'/content/drive/My Drive/Research/Unlabeled_data.csv')\n",
        "#unlabel.head()\n",
        "\n",
        "del unlabel['Complete']\n",
        "del unlabel['Unnamed: 0']\n",
        "\n",
        "unlabel['text'] = unlabel['text'].apply(lambda x: \" \".join(x.lower() for x in str(x).split()))\n",
        "unlabel['text'] = unlabel['text'].str.replace('[^\\w\\s]','')\n",
        "from nltk.corpus import stopwords\n",
        "words = stopwords.words('english')\n",
        "unlabel['text'] = unlabel['text'].apply(lambda x: \" \".join(x for x in x.split() if x not in words))\n",
        "\n",
        "\n",
        "from textblob import TextBlob\n",
        "from textblob import Word\n",
        "nltk.download('wordnet')\n",
        "nltk.download('punkt')\n",
        "unlabel['text'] = unlabel['text'].apply(lambda x: TextBlob(x).words)\n",
        "unlabel['text'] = unlabel['text'].apply(lambda x: \" \".join([Word(word).lemmatize() for word in x]))\n",
        "\n",
        "unlabel_1 = unlabel.loc[:unlabel_size]\n",
        "\n",
        "def index_reset(unlabel_2):\n",
        "  unlabel_2.reset_index(inplace=True)\n",
        "  del unlabel_2['index']\n",
        "  #print(unlabel_2.head())\n",
        "  return unlabel_2\n",
        "\n",
        "unlabel_1 = index_reset(unlabel_1)\n",
        "\n",
        "x_un1 = tfidf_vect.transform(unlabel_1['text'])\n",
        "\n",
        "x_un1.shape\n",
        "pred_unlabel_1 = classifier.predict_proba(x_un1)\n",
        "pred_unlabel_1\n",
        "\n",
        "x_un1.shape\n",
        "\n",
        "import numpy as np\n",
        "pos=[]\n",
        "large=[]\n",
        "ind = []\n",
        "i=0\n",
        "for j in pred_unlabel_1:\n",
        "  if max(j)> Threshold:\n",
        "    ind.append(np.argmax(j))\n",
        "    large.append(max(j))\n",
        "    pos.append(i)\n",
        "  i+=1\n",
        "\n",
        "\n",
        "print(ind)\n",
        "print(large)\n",
        "print(pos)\n",
        "print(type(pos))\n",
        "print(len(ind))\n",
        "print(len(large))\n",
        "print(len(pos))\n",
        "\n",
        "unlabel_1 = unlabel_1.loc[pos,:]\n",
        "train_data_size = len(unlabel_1)\n",
        "print(len(unlabel_1))\n",
        "#unlabel_1.head()\n",
        "\n",
        "class_x_un1 = tfidf_vect.transform(unlabel_1['text'])\n",
        "\n",
        "class_x_un1.shape\n",
        "\n",
        "\n",
        "class_pred_unlabel_1 = classifier.predict(class_x_un1)\n",
        "class_pred_unlabel_1\n",
        "\n",
        "\n",
        "unlabel_1['Target']=class_pred_unlabel_1\n",
        "#unlabel_1.head()\n",
        "\n",
        "train = train.rename(columns={'Sentence':'text'})\n",
        "frame_1 = [train,unlabel_1]\n",
        "train_1 = pd.concat(frame_1)\n",
        "\n",
        "print(\"#######3train len\",len(train))\n",
        "print(\"UL \",len(unlabel_1))\n",
        "print(\"train_1\",len(train_1))\n",
        "total_train = len(train_1)\n",
        "\n",
        "del train\n",
        "del unlabel_1\n",
        "del unlabel\n",
        "\n",
        "\n",
        "\n"
      ],
      "execution_count": 39,
      "outputs": [
        {
          "output_type": "stream",
          "text": [
            "[nltk_data] Downloading package wordnet to /root/nltk_data...\n",
            "[nltk_data]   Package wordnet is already up-to-date!\n",
            "[nltk_data] Downloading package punkt to /root/nltk_data...\n",
            "[nltk_data]   Package punkt is already up-to-date!\n",
            "[2, 5, 1, 1, 1, 1, 1, 4, 1, 1, 2, 1, 1, 1, 1, 1, 3, 1, 3, 2, 1, 1, 1, 1, 1, 5, 2, 1, 1, 1, 1, 3, 1, 1, 2, 1, 3, 1, 1, 1, 1, 3, 1, 3, 3, 0, 1, 1, 1, 3, 1, 1, 2, 2, 1, 1, 1, 3, 3, 3, 1, 3, 3, 3, 1, 3, 1, 1, 3, 3, 3, 3, 2, 1, 1, 4, 1, 1, 1, 1, 5, 1, 1, 1, 1, 1, 1, 1, 3, 1, 2, 2, 2, 2, 3, 1, 1, 0, 1, 1, 2, 2, 2, 2, 2, 1, 1, 1, 1, 1, 1, 1, 5, 3, 3, 1, 3, 1, 2, 2, 2, 1, 2, 1, 1, 3, 1, 5, 1, 4, 1, 0, 2, 1, 1, 1, 2, 1, 2, 1, 3, 1, 2, 1, 1, 1, 1, 1, 1, 1, 1, 1, 0, 1, 1, 2, 1, 1, 2, 2, 2, 1, 3, 1, 4, 2, 2, 1, 1, 1, 1, 1, 2, 2, 2, 0, 2, 2, 3, 1, 1, 1, 1, 2, 1, 3, 1, 1, 1, 1, 3, 1, 1, 3, 1, 1, 2, 3, 3, 1, 1, 1, 1, 2, 1, 1, 1, 1, 1, 1, 1, 1, 1, 3, 1, 1, 1, 1, 1, 1, 1, 2, 1, 2, 2, 1, 3, 1, 1, 3, 1, 1, 1, 1, 1, 4, 2, 1, 5, 1, 1, 1, 5, 1, 2, 1, 1, 2, 1, 1, 3, 1, 3, 1, 1, 1, 3, 2, 1, 3, 2, 1, 3, 3, 1, 3, 1, 3, 1, 1, 2, 1, 1, 1, 1, 2, 1, 1, 1, 1, 1, 2, 1, 1, 2, 1, 3, 1, 2, 1, 2, 2, 1, 3, 1, 1, 1, 1, 1, 1, 1, 2, 1, 5, 1, 1, 5, 3, 3, 1, 3, 3, 1, 4, 5, 1, 1, 2, 2, 1, 1, 3, 2, 2, 3, 1, 2, 2, 1, 1, 1, 1, 1, 2, 0, 1, 1, 1, 1, 1, 1, 1, 2, 3, 1, 1, 1, 1, 1, 1, 3, 0, 0, 1, 1, 1, 5, 1, 1, 3, 0, 3, 3, 3, 1, 5, 0, 5, 1, 2, 1, 2, 1, 1, 1, 1, 2, 4, 1, 4, 1, 1, 4, 3, 4, 1, 1, 1, 1, 1, 1, 1, 1, 1, 1, 1, 5, 1, 3, 3, 3, 1, 2, 1, 1, 0, 1, 1, 2, 1, 3, 2, 2, 1, 1, 4, 4, 1, 0, 1, 1, 1, 1, 1, 1, 1, 3, 4, 3, 1, 1, 4, 1, 1, 1, 1, 1, 2, 1, 3, 1, 1, 1, 1, 1, 2, 2, 1, 1, 1, 0, 2, 1, 1, 2, 1, 1, 1, 2, 1, 1, 3, 3, 3, 3, 1, 3, 1, 1, 1, 3, 1, 2, 4, 1, 3, 1, 1, 1, 1, 3, 1, 1, 2, 2, 2, 2, 1, 0, 1, 1, 1, 1, 2, 1, 1, 1, 1, 1, 1, 5, 2, 1, 0, 1, 2, 1, 1, 3, 1, 4, 1, 1, 5, 1, 1, 1, 2, 2, 1, 1, 2, 2, 1, 1, 2, 3, 1, 1, 3, 1, 3, 1, 1, 2, 1, 1, 1, 4, 1, 1, 1, 5, 1, 1, 1, 1, 1, 0, 1, 3, 4, 2, 2, 1, 2, 1, 2, 2, 2, 0, 1, 1, 1, 1, 2, 0, 1, 1, 0, 1, 1, 1, 1, 1, 2, 1, 1, 1, 0, 1, 1, 3, 1, 3, 2, 1, 1, 1, 2, 2, 1, 1, 1, 1, 1, 1, 4, 1, 2, 2, 1, 2, 1, 1, 1, 1, 1, 1, 1, 2, 1, 1, 1, 1, 3, 2, 1, 1, 1, 1, 1, 1, 2, 1, 3, 1, 1, 1, 1, 4, 2, 2, 1, 2, 2, 1, 1, 1, 1, 1, 5, 1, 1, 3, 1, 1, 1, 2, 1, 1, 3, 5, 2, 1, 1, 1, 1, 1, 1, 2, 1, 1, 1, 1, 3, 2, 1, 2, 1, 3, 3, 1, 1, 3, 4, 1, 3, 3, 1, 1, 1, 1, 2, 2, 4, 1, 3, 1, 1, 1, 1, 1, 2, 2, 4, 2, 1, 3, 2, 1, 1, 1, 1, 1, 3, 2, 1, 1, 2, 2, 1, 1, 1, 1, 1, 3, 1, 1, 1, 1, 1, 0, 5, 1, 1, 1, 1, 1, 2, 3, 1, 3, 1, 1, 1, 1, 2, 1, 4, 1, 3, 3, 1, 4, 2, 2, 1, 2, 1, 1, 1, 4, 1, 1, 1, 1, 1, 1, 0, 1, 1, 1, 1, 2, 1, 1, 0, 4, 4, 1, 1, 1, 1, 1, 3, 3, 1, 1, 2, 1, 1, 1, 1, 2, 2, 2, 2, 2, 1, 3, 3, 3, 3, 1, 3, 3, 2, 1, 2, 1, 3, 3, 2, 3, 1, 1, 1, 1, 2, 2, 1, 3, 1, 2, 2, 1, 2, 1, 2, 1, 1, 1, 2, 1, 1, 5, 1, 1, 1, 1, 1, 0, 1, 1, 2, 2, 1, 1, 1, 1, 3, 3, 1, 1, 3, 1, 1, 3, 3, 2, 1, 3, 1, 1, 1, 4, 5, 1, 1, 1, 3, 5, 1, 1, 1, 2, 1, 1, 1, 1, 1, 1, 1, 0, 1, 1, 1, 1, 1, 1, 2, 1, 1, 2, 2, 0, 1, 3, 1, 1, 1, 3, 3, 3, 1, 0, 3, 3, 3, 3, 2, 3, 4, 1, 1, 1, 1, 1, 1, 2, 1, 2, 2, 1, 1, 1, 1, 1, 1, 1, 2, 1, 3, 1, 4, 1, 1, 1, 1, 1, 1, 1, 2, 1, 1, 1, 1, 0, 1, 1, 1, 1, 1, 1, 1, 3, 1, 1, 1, 1, 1, 3, 1, 1, 5, 1, 1, 4, 1, 1, 2, 1, 1, 1, 1, 1, 1, 5, 1, 3, 1, 3, 1, 1, 1, 1, 1, 3, 1, 1, 3, 1, 1, 3, 3, 1, 2, 2, 0, 2, 3, 1, 1, 2, 1, 1, 3, 1, 3, 2, 1, 3, 1, 1, 3, 3, 3, 3, 1, 1, 1, 1, 0, 2, 1, 2, 2, 1, 1, 1, 3, 1, 1, 1, 2, 2, 1, 4, 1, 1, 3, 1, 1, 3, 1, 2, 1, 1, 1, 4, 1, 1, 4, 1, 1, 2, 1, 1, 1, 1, 1, 1, 2, 2, 2, 1, 1, 2, 2, 1, 3, 4, 2, 0, 3, 1, 1, 3, 2, 4, 4, 1, 1, 1, 3, 1, 1, 1, 3, 1, 1, 2, 1, 1, 5, 2, 1, 5, 1, 1, 1, 1, 2, 1, 2, 1, 1, 1, 1, 1, 3, 1, 3, 1, 4, 1, 1, 4, 1, 1, 1, 2, 1, 2, 2, 1, 1, 2, 1, 1, 1, 1, 1, 1, 2, 3, 1, 2, 2, 3, 1, 1, 3, 1, 1, 1, 3, 1, 3, 3, 1, 3, 1, 1, 1, 1, 3, 1, 3, 3, 2, 2, 1, 2, 0, 1, 1, 1, 1, 1, 3, 2, 1, 1, 1, 1, 1, 1, 2, 1, 1, 1, 1, 1, 1, 1, 1, 1, 1, 5, 1, 2, 1, 1, 3, 2, 1, 1, 3, 1, 1, 1, 3, 3, 2, 1, 1, 3, 1, 3, 1, 3, 3, 3, 1, 4, 1, 3, 3, 3, 3, 3, 1, 1, 1, 1, 1, 3, 1, 1, 3, 3, 3, 1, 2, 2, 2, 4, 4, 1, 3, 2, 2, 2, 2, 2, 1, 3, 1, 1, 1, 1, 3, 3, 1, 2, 1, 1, 2, 1, 2, 2, 1, 1, 1, 1, 2, 4, 1, 1, 1, 1, 1, 2, 1, 1, 3, 3, 3, 5, 3, 3, 1, 1, 1, 2, 1, 2, 4, 1, 5, 0, 1, 2, 2, 1, 1, 1, 3, 3, 1, 1, 1, 1, 1, 1, 1, 1, 1, 1, 1, 3, 1, 4, 1, 1, 3, 1, 3, 3, 1, 1, 3, 2, 1, 4, 1, 5, 1, 1, 1, 3, 3, 5, 1, 3, 1, 1, 1, 1, 1, 1, 1, 1, 1, 0, 1, 3, 2, 1, 1, 1, 1, 1, 1, 3, 3, 1, 1, 0, 1, 1, 1, 3, 3, 1, 1, 1, 1, 3, 2, 3, 2, 2, 2, 1, 1, 1, 3, 2, 1, 1, 1, 1, 3, 1, 1, 1, 2, 4, 1, 1, 2, 1, 1, 1, 3, 1, 1, 0, 1, 1, 1, 5, 1, 2, 2, 1, 1, 1, 2, 2, 1, 5, 1, 3, 2, 4, 2, 3, 3, 3, 4, 1, 1, 3, 1, 2, 1, 1, 3, 1, 2, 1, 1, 3, 2, 1, 1, 1, 3, 2, 2, 1, 0, 1, 1, 1, 1, 2, 2, 1, 2, 1, 1, 1, 1, 2, 1, 1, 1, 1, 1, 2, 1, 1, 2, 1, 3, 1, 1, 2, 2, 4, 1, 1, 1, 1, 1, 4, 1, 3, 4, 1, 2, 3, 1, 3, 3, 3, 1, 5, 2, 0, 1, 0, 1, 3, 1, 1, 1, 1, 1, 1, 1, 1, 1, 1, 2, 1, 1, 2, 3, 1, 3, 3, 1, 3, 0, 1, 1, 1, 3, 3, 3, 3, 5, 3, 1, 1, 0, 1, 1, 1, 1, 3, 1, 1, 1, 2, 1, 2, 1, 2, 1, 1, 1, 1, 1, 1, 1, 3, 3, 3, 1, 3, 1, 3, 3, 2, 2, 2, 2, 2, 2, 2, 2, 2, 2, 2, 1, 1, 1, 3, 3, 1, 2, 1, 2, 2, 2, 2, 4, 2, 1, 4, 2, 1, 1, 1, 1, 1, 1, 3, 0, 1, 1, 4, 1, 3, 3, 3, 1, 1, 3, 3, 1, 3, 1, 1, 1, 3, 1, 1, 3, 2, 1, 1, 1, 2, 4, 0, 1, 3, 2, 1, 2, 5, 2, 2, 1, 3, 1, 1, 5, 1, 1, 1, 2, 2, 2, 2, 2, 1, 1, 1, 1, 3, 3, 1, 1, 1, 5, 1, 1, 1, 3, 4, 2, 2, 2, 3, 2, 2, 1, 0, 1, 1, 2, 1, 1, 2, 4, 3, 1, 1, 1, 3, 3, 3, 1, 2, 1, 2, 5, 1, 1, 0, 1, 1, 3, 3, 1, 1, 2, 1, 1, 1, 1, 1, 1, 1, 1, 1, 2, 1, 2, 2, 1, 3, 2, 1, 1, 1, 1, 2, 2, 0, 1, 1, 1, 1, 5, 1, 1, 1, 1, 2, 1, 1, 1, 1, 1, 3, 3, 3, 1, 3, 1, 3, 3, 2, 1, 1, 1, 1, 2, 1, 1, 1, 1, 2, 1, 5, 0, 3, 1, 1, 3, 1, 0, 1, 4, 1, 2, 2, 4, 1, 2, 1, 1, 0, 2, 1, 1, 1, 1, 1, 3, 1, 1, 2, 1, 3, 0, 1, 2, 2, 1, 1, 1, 2, 1, 0, 1, 1, 2, 1, 1, 2, 1, 1, 0, 1, 1, 1, 1, 1, 3, 1, 3, 1, 5, 1, 3, 3, 3, 1, 4, 3, 1, 1, 2, 2, 2, 2, 2, 1, 2, 1, 1, 3, 3, 1, 3, 3, 3, 2, 1, 1, 3, 3, 2, 3, 3, 3, 1, 2, 2, 1, 1, 1, 2, 1, 1, 2, 1, 1, 2, 1, 1, 1, 1, 1, 1, 4, 3, 3, 3, 2, 1, 3, 1, 1, 1, 1, 4, 1, 1, 1, 3, 1, 1, 0, 2, 1, 1, 1, 2, 1, 1, 1, 1, 1, 1, 3, 2, 1, 2, 2, 2, 2, 0, 2, 1, 0, 1, 1, 2, 2, 5, 4, 1, 1, 1, 1, 3, 3, 3, 1, 1, 1, 3, 3, 3, 4, 3, 4, 1, 1, 0, 1, 1, 1, 2, 1, 0, 1, 0, 1, 1, 2, 2, 2, 0, 1, 1, 1, 4, 1, 1, 1, 1, 1, 3, 3, 3, 1, 2, 1, 1, 3, 1, 5, 1, 1, 1, 1, 3, 1, 3, 3, 1, 1, 1, 1, 1, 5, 1, 1, 1, 1, 1, 1, 4, 1, 1, 1, 1, 2, 1, 0, 1, 3, 3, 1, 1, 3, 3, 1, 5, 1, 3, 1, 2, 2, 2, 1, 1, 4, 3, 3, 1, 1, 0, 1, 1, 2, 2, 1, 1, 1, 5, 1, 1, 1, 5, 1, 2, 1, 5, 1, 1, 1, 1, 3, 3, 3, 2, 2, 2, 2, 1, 1, 2, 2, 2, 1, 5, 1, 1, 2, 1, 1, 1, 2, 1, 2, 3, 3, 1, 2, 1, 2, 2, 4, 1, 1, 1, 1, 1, 1, 1, 2, 1, 3, 3, 1, 1, 1, 1, 5, 1, 1, 1, 5, 1, 1, 1, 1, 0, 3, 1, 1, 1, 1, 1, 1, 1, 1, 3, 2, 2, 3, 1, 1, 2, 1, 2, 1, 1, 3, 3, 3, 1, 0, 1, 2, 1, 3, 3, 2, 3, 3, 3, 3, 0, 1, 3, 1, 1, 1, 1, 1, 1, 1, 1, 1, 1, 1, 1, 1, 1, 1, 1, 2, 1, 1, 2, 2, 1, 5, 3, 1, 2, 1, 3, 1, 1, 0, 1, 1, 2, 2, 1, 1, 1, 1, 2, 2, 2, 1, 2, 1, 2, 1, 1, 2, 1, 1, 3, 1, 1, 0, 1, 1, 1, 2, 1, 1, 3, 1, 2, 1, 1, 1, 1, 1, 2, 1, 2, 1, 3, 1, 1, 1, 0, 1, 4, 1, 1, 1, 4, 4, 1, 3, 3, 1, 2, 2, 0, 1, 1, 3, 3, 2, 2, 1, 2, 1, 1, 1, 1, 2, 1, 1, 1, 1, 3, 1, 1, 1, 4, 1, 1, 2, 1, 1, 2, 1, 1, 4, 1, 1, 2, 1, 3, 1, 3, 3, 1, 1, 1, 1, 1, 1, 3, 1, 1, 1, 2, 2, 1, 1, 1, 1, 1, 1, 1, 1, 3, 1, 1, 2, 1, 4, 1, 1, 4, 2, 1, 1, 4, 1, 3, 4, 1, 1, 3, 3, 3, 1, 3, 1, 2, 1, 2, 1, 1, 1, 1, 0, 1, 1, 1, 1, 1, 1, 1, 1, 1, 1, 1, 1, 3, 1, 5, 0, 3, 2, 2, 1, 1, 2, 3, 0, 1, 1, 1, 3, 1, 1, 1, 3, 1, 1, 3, 1, 1, 1, 1, 1, 1, 1, 1, 5, 1, 1, 3, 1, 2, 1, 3, 2, 1, 1, 0, 1, 4, 1, 1, 3, 3, 2, 1, 2, 1, 0, 3, 1, 0, 1, 1, 3, 1, 1, 1, 1, 1, 0, 1, 3, 2, 4, 2, 2, 2, 2, 3, 3, 1, 1, 2, 5, 1, 1, 3, 1, 1, 1, 2, 1, 1, 1, 3, 1, 3, 0, 1, 1, 1, 0, 1, 1, 1, 1, 2, 2, 1, 1, 1, 1, 1, 1, 3, 3, 2, 1, 1, 3, 1, 3, 1, 1, 2, 1, 2, 2, 1, 1, 1, 1, 2, 2, 1, 2, 1, 1, 1, 3, 3, 3, 1, 1, 1, 2, 1, 2, 1, 1, 1, 1, 2, 1, 1, 3, 3, 5, 1, 1, 1, 1, 1, 1, 1, 1, 2, 1, 1, 1, 3, 1, 1, 4, 4, 1, 1, 1, 1, 1, 2, 2, 1, 1, 3, 2, 2, 2, 2, 2, 2, 1, 3, 2, 1, 5, 2, 1, 1, 1, 2, 1, 1, 1, 1, 2, 1, 1, 1, 1, 1, 2, 1, 1, 1, 2, 1, 3, 5, 1, 0, 3, 1, 2, 4, 1, 3, 2, 1, 1, 3, 1, 3, 1, 1, 2, 1, 1, 1, 1, 1, 2, 2, 1, 1, 3, 4, 3, 3, 3, 2, 1, 1, 3, 3, 1, 1, 1, 1, 1, 0, 1, 1, 3, 3, 3, 3, 3, 2, 3, 1, 1, 1, 1, 2, 1, 1, 2, 1, 3, 1, 3, 3, 3, 3, 3, 2, 1, 3, 1, 3, 0, 2, 1, 1, 1, 1, 1, 1, 1, 1, 1, 1, 1, 1, 2, 1, 3, 4, 1, 1, 2, 2, 1, 1, 1, 5, 1, 2, 1, 1, 1, 1, 1, 1, 1, 1, 1, 1, 3, 1, 1, 1, 1, 1, 1, 1, 1, 1, 1, 1, 1, 3, 3, 1, 1, 1, 1, 1, 1, 1, 1, 5, 3, 3, 1, 1, 1, 2, 2, 2, 3, 1, 1, 0, 1, 1, 1, 0, 1, 1, 3, 3, 1, 1, 3, 3, 3, 1, 3, 1, 3, 1, 2, 2, 4, 1, 3, 1, 1, 1, 3, 3, 2, 2, 2, 1, 1, 3, 1, 1, 1, 1, 4, 2, 1, 1, 1, 4, 1, 1, 1, 1, 2, 1, 5, 1, 3, 1, 1, 3, 1, 1, 3, 1, 1, 5, 2, 1, 1, 1, 1, 2, 1, 1, 1, 3, 1, 1, 1, 1, 1, 1, 1, 1, 2, 1, 2, 2, 2, 1, 1, 1, 1, 1, 3, 3, 3, 2, 1, 1, 1, 1, 3, 4, 1, 3, 1, 1, 1, 1, 1, 2, 1, 0, 1, 1, 1, 2, 1, 1, 2, 1, 3, 1, 1, 1, 3, 2, 2, 1, 1, 1, 1, 0, 1, 1, 3, 3, 2, 3, 3, 2, 2, 2, 1, 1, 1, 1, 1, 2, 1, 3, 1, 1, 5, 1, 1, 2, 5, 3, 3, 3, 4, 1, 1, 3, 1, 1, 3, 1, 3, 3, 1, 2, 1, 4, 5, 0, 1, 1, 1, 2, 1, 1, 1, 0, 1, 1, 1, 4, 3, 3, 1, 5, 1, 3, 3, 3, 3, 3, 3, 3, 3, 2, 3, 3, 1, 1, 1, 4, 0, 1, 1, 1, 1, 1, 1, 2, 2, 1, 2, 0, 1, 1, 3, 3, 1, 1, 1, 3, 1, 1, 4, 1, 3, 3, 0, 2, 1, 1, 4, 1, 1, 1, 1, 1, 2, 2, 1, 1, 1, 1, 1, 1, 2, 2, 2, 2, 2, 1, 0, 2, 1, 1, 1, 1, 2, 1, 1, 1, 1, 1, 2, 1, 1, 1, 2, 4, 1, 1, 1, 1, 1, 1, 1, 3, 1, 3, 3, 1, 0, 1, 1, 1, 1, 1, 1, 1, 2, 2, 2, 2, 2, 1, 1, 1, 1, 2, 2, 1, 2, 1, 3, 1, 1, 2, 1, 1, 1, 3, 1, 1, 1, 1, 2, 1, 1, 1, 1, 3, 1, 5, 1, 1, 3, 3, 1, 2, 2, 4, 4, 1, 1, 1, 3, 3, 1, 5, 1, 1, 1, 2, 1, 1, 1, 1, 1, 3, 3, 3, 3, 3, 2, 1, 3, 3, 1, 1, 1, 1, 1, 4, 1, 1, 1, 2, 0, 1, 1, 1, 1, 2, 1, 3, 3, 1, 1, 1, 1, 1, 2, 2, 1, 1, 3, 3, 3, 0, 1, 1, 2, 1, 1, 1, 1, 1, 3, 2, 2, 2, 1, 1, 1, 2, 2, 2, 4, 1, 0, 3, 2, 1, 1, 1, 2, 2, 2, 1, 1, 1, 1, 2, 1, 1, 1, 1, 1, 1, 1, 1, 3, 3, 3, 2, 2, 1, 3, 1, 1, 3, 3, 2, 1, 1, 2, 1, 1, 0, 2, 1, 3, 3, 2, 2, 1, 1, 3, 2, 2, 2, 1, 1, 1, 5, 1, 1, 1, 1, 3, 4, 1, 2, 1, 3, 1, 5, 1, 1, 2, 2, 1, 1, 3, 2, 3, 3, 3, 3, 5, 1, 5, 1, 5, 1, 1, 1, 1, 1, 2, 1, 3, 3, 1, 0, 2, 1, 1, 2, 1, 3, 1, 1, 1, 2, 1, 3, 1, 1, 4, 3, 1, 1, 1, 0, 4, 1, 1, 1, 1, 1, 2, 1, 1, 4, 1, 1, 5, 2, 0, 1, 2, 2, 1, 1, 1, 1, 1, 1, 3, 1, 3, 1, 1, 1, 1, 3, 1, 3, 2, 1, 1, 1, 3, 1, 1, 1, 1, 3, 3, 3, 3, 1, 1, 1, 1, 1, 3, 1, 4, 1, 3, 1, 3, 1, 1, 1, 2, 3, 1, 1, 1, 1, 2, 1, 5, 1, 1, 1, 2, 2, 3, 1, 1, 4, 1, 3, 3, 1, 2, 1, 1, 2, 2, 2, 1, 1, 1, 5, 3, 1, 1, 2, 1, 4, 4, 1, 3, 1, 1, 1, 3, 1, 1, 1, 1, 1, 1, 1, 1, 1, 1, 1, 1, 3, 1, 3, 2, 1, 1, 1, 1, 5, 1, 1, 1, 3, 1, 3, 3, 3, 1, 1, 3, 3, 4, 1, 1, 2, 2, 0, 1, 2, 2, 2, 2, 1, 2, 1, 4, 1, 1, 1, 3, 3, 3, 3, 1, 1, 2, 1, 1, 1, 1, 1, 4, 1, 1, 3, 1, 1, 2, 1, 0, 3, 1, 1, 1, 1, 1, 2, 1, 1, 0, 3, 3, 3, 4, 1, 1, 1, 3, 1, 1, 1, 1, 1, 2, 1, 4, 1, 1, 1, 2, 1, 1, 1, 1, 2, 2, 2, 1, 1, 1, 1, 1, 2, 1, 2, 2, 0, 3, 3, 1, 1, 1, 1, 5, 1, 1, 1, 1, 1, 1, 1, 1, 1, 1, 1, 2, 1, 1, 3, 1, 1, 1, 1, 2, 2, 2, 1, 3, 5, 1, 3, 1, 1, 1, 1, 1, 2, 1, 1, 4, 3, 1, 1, 1, 1, 1, 1, 1, 1, 3, 0, 2, 2, 1, 1, 1, 1, 1, 1, 1, 0, 1, 1, 1, 1, 1, 1, 1, 0, 1, 1, 1, 1, 3, 3, 1, 1, 1, 3, 1, 1, 2, 3, 3, 2, 1, 3, 3, 2, 2, 2, 3, 1, 1, 1, 3, 1, 1, 2, 4, 3, 1, 1, 2, 1, 1, 1, 3, 1, 1, 1, 1, 1, 4, 1, 0, 1, 1, 1, 1, 1, 1, 2, 1, 1, 1, 1, 1, 1, 2, 1, 1, 3, 1, 1, 1, 1, 1, 1, 1, 1, 1, 1, 1, 1, 1, 1, 3, 1, 1, 2, 2, 4, 2, 1, 4, 1, 2, 1, 1, 3, 3, 1, 3, 3, 3, 3, 2, 1, 1, 1, 3, 1, 1, 1, 2, 1, 1, 1, 1, 1, 1, 1, 1, 1, 3, 3, 3, 2, 2, 1, 3, 1, 1, 1, 1, 1, 5, 1, 3, 2, 1, 1, 3, 3, 3, 3, 1, 5, 3, 1, 5, 1, 1, 1, 4, 1, 1, 1, 1, 1, 4, 4, 1, 3, 1, 1, 5, 2, 1, 1, 3, 1, 2, 0, 1, 1, 1, 3, 1, 1, 1, 1, 1, 2, 0, 4, 1, 3, 3, 3, 3, 1, 1, 1, 1, 3, 3, 2, 1, 4, 1, 4, 5, 1, 1, 3, 2, 3, 1, 1, 3, 1, 3, 3, 3, 1, 1, 1, 3, 1, 1, 1, 1, 3, 1, 3, 1, 1, 1, 1, 1, 3, 1, 1, 1, 1, 1, 1, 1, 1, 1, 1, 1, 3, 3, 1, 2, 2, 1, 1, 2, 2, 1, 2, 1, 1, 1, 1, 3, 3, 3, 1, 5, 1, 1, 1, 1, 2, 2, 4, 1, 3, 3, 2, 2, 2, 1, 2, 3, 1, 1, 1, 3, 3, 1, 0, 1, 1, 2, 0, 1, 2, 2, 1, 3, 1, 5, 3, 1, 1, 2, 1, 4, 2, 2, 1, 3, 1, 1, 1, 1, 3, 1, 4, 1, 2, 0, 3, 2, 2, 1, 1, 3, 3, 1, 1, 3, 3, 1, 1, 3, 1, 1, 1, 1, 1, 1, 2, 2, 2, 1, 4, 1, 2, 1, 2, 1, 2, 1, 1, 3, 3, 1, 1, 1, 1, 1, 1, 2, 2, 2, 3, 3, 1, 3, 3, 3, 3, 1, 1, 2, 1, 3, 3, 2, 3, 1, 1, 1, 1, 3, 3, 3, 3, 1, 1, 4, 4, 1, 4, 1, 1, 1, 1, 1, 1, 1, 1, 1, 3, 1, 1, 1, 1, 2, 1, 0, 1, 1, 1, 3, 3, 1, 1, 1, 1, 4, 4, 1, 3, 2, 1, 1, 2, 1, 1, 1, 2, 2, 2, 1, 3, 1, 4, 1, 1, 1, 1, 1, 1, 2, 2, 1, 4, 1, 1, 2, 2, 5, 2, 1, 1, 1, 3, 1, 1, 1, 1, 1, 2, 1, 3, 1, 2, 2, 1, 1, 1, 1, 1, 2, 2, 3, 1, 1, 1, 1, 4, 1, 3, 3, 1, 1, 1, 3, 1, 3, 3, 1, 1, 1, 2, 1, 1, 1, 2, 3, 1, 1, 2, 2, 1, 1, 1, 1, 1, 1, 1, 5, 1, 1, 1, 2, 2, 2, 3, 4, 1, 4, 1, 5, 1, 3, 1, 1, 1, 1, 3, 1, 1, 1, 1, 5, 1, 1, 1, 1, 1, 2, 1, 1, 1, 1, 1, 1, 4, 1, 1, 1, 3, 3, 3, 3, 1, 1, 2, 1, 2, 2, 1, 3, 2, 2, 1, 1, 3, 1, 1, 1, 2, 2, 1, 2, 3, 1, 1, 1, 1, 1, 1, 1, 4, 1, 1, 2, 1, 1, 2, 1, 1, 1, 1, 4, 1, 3, 1, 1, 1, 1, 1, 3, 1, 3, 1, 3, 3, 2, 4, 1, 3, 1, 5, 5, 3, 1, 3, 1, 1, 1, 2, 1, 1, 1, 1, 1, 3, 2, 1, 1, 2, 2, 2, 1, 1, 1, 3, 4, 2, 1, 1, 2, 3, 2, 2, 1, 1, 3, 1, 1, 3, 3, 3, 3, 4, 1, 2, 1, 2, 3, 2, 2, 1, 1, 1, 1, 2, 1, 2, 2, 1, 1, 4, 2, 1, 5, 1, 1, 1, 1, 1, 1, 3, 5, 3, 1, 1, 1, 1, 4, 0, 1, 1, 2, 1, 1, 1, 2, 1, 2, 2, 5, 1, 3, 1, 1, 1, 2, 4, 3, 3, 1, 1, 1, 1, 3, 5, 1, 1, 5, 2, 2, 1, 1, 1, 1, 4, 1, 1, 1, 3, 3, 3, 3, 3, 1, 3, 2, 2, 1, 1, 1, 1, 1, 1, 1, 2, 1, 1, 1, 5, 1, 3, 3, 3, 1, 1, 1, 3, 1, 4, 1, 1, 4, 1, 2, 0, 3, 1, 1, 2, 1, 1, 1, 2, 1, 1, 1, 1, 1, 3, 2, 1, 1, 1, 1, 1, 2, 2, 2, 2, 1, 1, 1, 1, 1, 1, 4, 1, 1, 3, 1, 2, 1, 1, 1, 1, 1, 1, 1, 5, 3, 3, 1, 1, 1, 0, 1, 1, 1, 1, 1, 3, 2, 4, 1, 3, 1, 1, 1, 1, 1, 1, 1, 1, 1, 1, 1, 1, 2, 1, 2, 2, 1, 3, 3, 1, 1, 1, 1, 1, 3, 1, 3, 1, 1, 1, 1, 4, 3, 3, 1, 1, 2, 1, 1, 1, 3, 3, 1, 1, 1, 1, 3, 3, 1, 4, 2, 1, 1, 2, 1, 1, 2, 1, 5, 1, 1, 3, 1, 1, 3, 3, 2, 2, 3, 1, 1, 1, 2, 1, 1, 2, 2, 1, 1, 1, 1, 1, 2, 1, 1, 0, 3, 3, 3, 2, 1, 1, 2, 2, 2, 1, 2, 1, 1, 2, 1, 1, 2, 2, 2, 1, 4, 1, 1, 1, 1, 2, 1, 1, 1, 3, 1, 3, 1, 1, 1, 3, 3, 2, 2, 1, 2, 1, 2, 2, 1, 1, 1, 1, 2, 1, 5, 1, 1, 1, 3, 3, 1, 4, 1, 0, 1, 0, 1, 5, 2, 2, 2, 3, 1, 5, 3, 1, 1, 5, 2, 1, 1, 1, 3, 1, 1, 3, 3, 1, 1, 0, 3, 1, 1, 1, 2, 2, 1, 1, 4, 1, 1, 2, 1, 1, 2, 1, 1, 2, 1, 1, 1, 1, 1, 1, 0, 1, 0, 1, 2, 2, 1, 1, 1, 1, 1, 2, 1, 1, 0, 1, 3, 1, 1, 1, 1, 1, 1, 1, 1, 2, 2, 1, 2, 2, 2, 3, 1, 1, 1, 1, 2, 1, 1, 1, 2, 0, 1, 1, 1, 1, 1, 5, 1, 1, 1, 1, 3, 1, 1, 1, 1, 1, 3, 1, 1, 2, 3, 1, 1, 1, 1, 1, 2, 1, 1, 3, 1, 1, 1, 1, 2, 1, 2, 1, 2, 1, 1, 3, 4, 2, 1, 1, 3, 3, 2, 1, 1, 1, 2, 1, 2, 1, 2, 4, 1, 1, 3, 3, 1, 1, 1, 3, 3, 2, 1, 1, 1, 3, 3, 4, 1, 1, 1, 1, 3, 2, 1, 2, 1, 3, 1, 3, 3, 3, 1, 1, 1, 2, 1, 1, 1, 1, 1, 1, 3, 3, 2, 2, 2, 1, 3, 3, 1, 1, 5, 3, 1, 1, 4, 1, 1, 1, 1, 4, 1, 5, 3, 1, 4, 2, 3, 3, 1, 1, 1, 1, 1, 1, 1, 1, 3, 3, 1, 2, 1, 3, 2, 3, 1, 1, 1, 1, 1, 1, 1, 1, 1, 2, 1, 4, 1, 1, 2, 2, 1, 2, 1, 1, 1, 1, 1, 3, 1, 3, 3, 1, 3, 3, 1, 2, 3, 2, 2, 1, 1, 1, 2, 2, 2, 2, 1, 1, 1, 1, 1, 1, 2, 1, 1, 1, 1, 3, 1, 1, 0, 1, 5, 1, 1, 3, 1, 4, 1, 1, 1, 1, 2, 1, 1, 1, 1, 2, 1, 2, 1, 4, 1, 1, 3, 1, 1, 1, 1, 1, 5, 2, 1, 2, 1, 1, 1, 2, 3, 1, 1, 3, 1, 1, 1, 2, 2, 1, 1, 2, 2, 1, 1, 5, 3, 1, 1, 2, 2, 2, 3, 3, 3, 3, 1, 1, 1, 1, 1, 1, 1, 2, 1, 3, 3, 3, 1, 1, 1, 1, 1, 3, 1, 1, 1, 4, 2, 1, 2, 1, 3, 1, 1, 1, 1, 1, 1, 1, 3, 3, 1, 2, 1, 1, 1, 3, 2, 1, 1, 1, 1, 1, 5, 1, 1, 4, 1, 1, 1, 1, 3, 1, 1, 1, 1, 1, 1, 2, 2, 2, 2, 3, 3, 1, 2, 1, 4, 2, 2, 1, 1, 1, 1, 1, 3, 2, 1, 2, 1, 2, 2, 0, 3, 1, 1, 3, 2, 1, 1, 1, 1, 3, 3, 1, 1, 1, 3, 3, 1, 1, 2, 2, 1, 1, 1, 2, 4, 1, 2, 1, 1, 1, 2, 1, 3, 1, 5, 1, 1, 3, 5, 3, 5, 1, 3, 1, 1, 1, 1, 2, 1, 1, 1, 1, 2, 1, 1, 2, 1, 3, 1, 1, 1, 1, 1, 1, 1, 3, 1, 1, 1, 1, 1, 2, 1, 1, 1, 1, 1, 3, 3, 1, 0, 1, 3, 1, 1, 1, 0, 1, 1, 3, 3, 3, 2, 2, 2, 2, 1, 3, 3, 1, 1, 1, 1, 3, 1, 1, 3, 3, 1, 1, 1, 3, 2, 1, 1, 5, 1, 3, 1, 1, 1, 1, 1, 5, 1, 3, 3, 2, 4, 1, 1, 1, 1, 3, 1, 1, 0, 1, 1, 1, 2, 1, 1, 1, 1, 0, 1, 1, 1, 2, 1, 2, 1, 1, 3, 3, 2, 5, 2, 1, 1, 1, 1, 1, 1, 3, 1, 1, 2, 1, 1, 1, 1, 1, 1, 2, 1, 0, 2, 2, 2, 2, 1, 3, 1, 2, 2, 1, 2, 1, 1, 1, 4, 1, 1, 2, 2, 1, 1, 1, 1, 1, 1, 1, 1, 3, 1, 1, 1, 1, 2, 1, 1, 1, 1, 2, 1, 2, 2, 1, 0, 4, 1, 1, 1, 2, 2, 1, 2, 1, 1, 1, 1, 3, 4, 1, 3, 1, 1, 3, 1, 1, 1, 2, 1, 1, 1, 1, 1, 1, 3, 0, 1, 1, 1, 1, 2, 2, 1, 3, 1, 1, 1, 1, 1, 1, 1, 1, 1, 3, 3, 1, 4, 3, 3, 3, 1, 4, 1, 1, 1, 1, 1, 1, 2, 1, 1, 3, 2, 2, 2, 1, 4, 1, 0, 2, 0, 3, 1, 1, 1, 2, 2, 2, 2, 5, 2, 3, 3, 1, 1, 1, 2, 1, 3, 2, 2, 2, 1, 1, 1, 1, 1, 1, 2, 2, 1, 1, 2, 1, 5, 1, 1, 1, 1, 1, 1, 2, 2, 3, 4, 1, 3, 1, 1, 1, 5, 1, 1, 1, 1, 2, 2, 1, 2, 1, 1, 1, 1, 2, 1, 1, 1, 2, 2, 1, 1, 1, 5, 2, 0, 2, 1, 3, 3, 3, 3, 1, 2, 1, 1, 1, 2, 1, 2, 1, 3, 1, 1, 1, 1, 1, 1, 1, 1, 1, 4, 3, 1, 1, 3, 3, 1, 1, 2, 1, 0, 1, 0, 4, 1, 1, 1, 3, 1, 1, 3, 1, 1, 3, 1, 1, 1, 0, 3, 3, 1, 3, 1, 1, 1, 1, 2, 2, 2, 4, 1, 2, 2, 1, 3, 3, 2, 3, 3, 1, 1, 3, 3, 3, 3, 1, 1, 2, 1, 2, 1, 1, 2, 1, 1, 3, 1, 1, 1, 1, 1, 1, 3, 1, 1, 1, 1, 1, 1, 3, 3, 3, 5, 1, 5, 5, 2, 1, 3, 1, 1, 1, 1, 1, 0, 2, 2, 2, 1, 1, 1, 1, 5, 4, 1, 1, 5, 1, 1, 1, 1, 3, 1, 1, 1, 1, 1, 4, 1, 2, 1, 1, 3, 1, 3, 2, 1, 2, 1, 1, 1, 1, 2, 2, 1, 1, 2, 1, 3, 3, 1, 1, 1, 1, 1, 2, 1, 3, 5, 0, 1, 2, 1, 1, 1, 1, 1, 1, 1, 2, 1, 5, 1, 1, 1, 2, 2, 2, 1, 1, 3, 1, 1, 1, 1, 2, 1, 5, 2, 1, 1, 3, 3, 1, 3, 1, 1, 1, 1, 1, 1, 1, 1, 1, 5, 3, 3, 2, 1, 1, 1, 1, 1, 1, 1, 2, 2, 2, 1, 3, 3, 1, 1, 4, 1, 1, 2, 4, 0, 1, 1, 1, 1, 5, 1, 2, 1, 1, 1, 1, 3, 1, 1, 1, 3, 3, 1, 1, 1, 1, 2, 2, 2, 2, 2, 2, 1, 2, 3, 1, 1, 1, 1, 1, 0, 2, 1, 1, 1, 1, 3, 1, 5, 1, 0, 1, 1, 1, 3, 3, 1, 3, 1, 0, 1, 1, 0, 1, 1, 1, 1, 3, 1, 5, 3, 3, 0, 2, 2, 1, 1, 2, 2, 1, 1, 1, 2, 1, 1, 1, 3, 1, 1, 1, 1, 3, 1, 3, 3, 1, 1, 1, 1, 1, 1, 3, 2, 1, 1, 3, 1, 3, 1, 2, 1, 1, 1, 1, 1, 1, 1, 3, 3, 1, 1, 3, 3, 3, 2, 2, 1, 1, 5, 0, 1, 1, 0, 1, 3, 1, 1, 2, 2, 2, 0, 1, 3, 1, 1, 0, 1, 2, 2, 4, 2, 3, 3, 1, 5, 3, 1, 0, 2, 1, 3, 1, 2, 2, 1, 3, 1, 1, 1, 1, 1, 4, 1, 3, 3, 1, 1, 3, 3, 4, 1, 1, 1, 2, 1, 1, 1, 2, 4, 1, 1, 1, 2, 0, 1, 0, 1, 1, 5, 0, 3, 1, 1, 1, 3, 1, 1, 2, 1, 1, 1, 0, 1, 1, 1, 3, 0, 1, 2, 1, 1, 1, 1, 2, 4, 5, 1, 1, 1, 1, 1, 3, 1, 1, 2, 1, 2, 2, 1, 1, 1, 1, 1, 1, 5, 1, 1, 1, 2, 2, 1, 1, 1, 2, 1, 2, 1, 2, 1, 1, 3, 1, 1, 3, 1, 1, 1, 1, 1, 1, 1, 1, 3, 3, 3, 3, 1, 1, 1, 1, 2, 1, 2, 1, 1, 1, 1, 1, 1, 1, 1, 1, 2, 1, 0, 1, 1, 3, 1, 3, 1, 1, 1, 1, 1, 1, 1, 3, 1, 3, 3, 2, 2, 1, 2, 1, 1, 1, 2, 1, 1, 3, 1, 1, 4, 1, 2, 1, 1, 1, 1, 1, 1]\n",
            "[0.9731230176816278, 0.9744787352323887, 0.9947391099238052, 0.9960570808130628, 0.9946695054329996, 0.9925283754408909, 0.9950947640546488, 0.9727700454046089, 0.9912560376916589, 0.9950947640546488, 0.9700625235765907, 0.991725324100657, 0.9948453588499953, 0.9948453588499953, 0.9907198009147425, 0.9795696672996804, 0.9781551174011018, 0.9801708417307698, 0.9725116321907892, 0.9784080350765286, 0.9851863771424091, 0.9937506754934207, 0.9961838093442832, 0.9785911474035149, 0.99586518076858, 0.9725088059542933, 0.9800524543767819, 0.988110894152343, 0.9937506754934207, 0.9712551423880673, 0.9880671448348856, 0.9720254123423572, 0.9753487857797419, 0.9878586153480146, 0.9762675861077472, 0.9953261062430949, 0.9721463954316714, 0.9817250914025845, 0.9953261062430949, 0.9795696672996804, 0.9795696672996804, 0.9746904296253978, 0.9795696672996804, 0.9721080831987242, 0.9832863747144654, 0.9900561696266134, 0.9946787526432997, 0.9946697089852989, 0.9795696672996804, 0.9744270082559638, 0.994183717872917, 0.9955685234603959, 0.9808737672095178, 0.9937441325280764, 0.9795696672996804, 0.9795696672996804, 0.9948453588499953, 0.9764658386407221, 0.9727290408919641, 0.9757701812464574, 0.9948453588499953, 0.9774110155687209, 0.9791918799549783, 0.9791918799549783, 0.9946695054329996, 0.977758208124497, 0.9795696672996804, 0.9948453588499953, 0.9781551174011018, 0.9832863747144654, 0.9781551174011018, 0.9748948678393753, 0.9709535657501815, 0.9948453588499953, 0.9907198009147425, 0.9709454843257995, 0.9795696672996804, 0.99586518076858, 0.9948453588499953, 0.9948453588499953, 0.9706287399629303, 0.9948453588499953, 0.9785911474035149, 0.9864416263895679, 0.991826714608795, 0.9785911474035149, 0.9887899753971214, 0.9705444224811275, 0.9730281787483774, 0.9948453588499953, 0.9741528808014088, 0.972059737325193, 0.9894602709205044, 0.9725298510511905, 0.9791230642050772, 0.9844862428229996, 0.9795696672996804, 0.986839234373947, 0.9795696672996804, 0.994183717872917, 0.9741424262211106, 0.975744856440389, 0.9783275920510274, 0.9762816366658561, 0.9721943154207059, 0.9795696672996804, 0.9769064152961381, 0.99586518076858, 0.972540983561179, 0.979562446839061, 0.9907198009147425, 0.9795696672996804, 0.9978022566811332, 0.9734026604902891, 0.9759528541443597, 0.9847684733365392, 0.9757701812464574, 0.9795696672996804, 0.9736866085077829, 0.9834316313127897, 0.9707507544538382, 0.9795696672996804, 0.9729935211649126, 0.9939573264046802, 0.9733396536760065, 0.9764658386407221, 0.9795696672996804, 0.9764157378207314, 0.9939573264046802, 0.9853252810302795, 0.9804618371711427, 0.9923951118279888, 0.9732161892481551, 0.9795696672996804, 0.9948453588499953, 0.9878355926232415, 0.9788055672687106, 0.996289177793265, 0.9791377353678542, 0.988110894152343, 0.9785536257808043, 0.988110894152343, 0.9825972330837448, 0.9961838093442832, 0.9758810827054203, 0.9960570808130628, 0.9953261062430949, 0.9888896583209656, 0.9907198009147425, 0.9795696672996804, 0.9795696672996804, 0.9797760683436548, 0.9863619166519022, 0.9785911474035149, 0.990729930019915, 0.9839423754142747, 0.9795696672996804, 0.9785911474035149, 0.9779281163184442, 0.9960688519129117, 0.9813115668244311, 0.99586518076858, 0.9796385676584733, 0.9893439633625483, 0.9769573058517809, 0.9708969437157584, 0.9856560095668815, 0.9953211277700309, 0.9955685234603959, 0.9948453588499953, 0.9912560376916589, 0.9795696672996804, 0.9730332094121138, 0.9760181488721829, 0.9802748654543314, 0.987790440017502, 0.972307659978562, 0.9745615030964224, 0.9768933550554962, 0.9804618371711427, 0.9948453588499953, 0.9894300125928817, 0.9785911474035149, 0.9854099907850751, 0.9822797850764341, 0.9764658386407221, 0.9795696672996804, 0.9937506754934207, 0.99586518076858, 0.9948453588499953, 0.9757360976507162, 0.9961838093442832, 0.9913740522002913, 0.9766361332402157, 0.9910701638441818, 0.9708074704647336, 0.9707051927352618, 0.9779998437198236, 0.9781551174011018, 0.973465137836942, 0.9948453588499953, 0.988110894152343, 0.9928343675336598, 0.9706672248508851, 0.9871237502870455, 0.9795696672996804, 0.9795696672996804, 0.9795696672996804, 0.99586518076858, 0.986643476919846, 0.976181765535069, 0.994796884876198, 0.9961838093442832, 0.9757360976507162, 0.9953211277700309, 0.9907198009147425, 0.985924854819959, 0.9795696672996804, 0.9795696672996804, 0.99586518076858, 0.9948453588499953, 0.9741473921219663, 0.9907198009147425, 0.9862412496322177, 0.9747865245077885, 0.9733396536760065, 0.9832541721679657, 0.9903015909666291, 0.9948453588499953, 0.9764658386407221, 0.9851731161393296, 0.9745297897851323, 0.9950947640546488, 0.9795696672996804, 0.9785911474035149, 0.974386506427641, 0.9718753840110803, 0.9948453588499953, 0.9727838858020692, 0.9800591926845601, 0.9912560376916589, 0.988110894152343, 0.9720125000768071, 0.9857260319396178, 0.9772905333139347, 0.9948453588499953, 0.9948453588499953, 0.9929583570542012, 0.9795696672996804, 0.9795696672996804, 0.9744728750638627, 0.9950947640546488, 0.9715679044902529, 0.9795696672996804, 0.9795696672996804, 0.9948453588499953, 0.9781551174011018, 0.976656911078015, 0.9785911474035149, 0.9798389672102926, 0.9867277152573859, 0.9948735151327136, 0.9770899015258132, 0.9781551174011018, 0.99586518076858, 0.9719829333321202, 0.9948453588499953, 0.9832863747144654, 0.9873983584569422, 0.9795696672996804, 0.9817045249290065, 0.9828408988072512, 0.9795696672996804, 0.9785911474035149, 0.99586518076858, 0.9776436179047895, 0.988110894152343, 0.9948453588499953, 0.9795696672996804, 0.988110894152343, 0.9795696672996804, 0.9776151171028974, 0.9948453588499953, 0.9948453588499953, 0.9822065712379412, 0.988110894152343, 0.9783594770393792, 0.9948453588499953, 0.9816552829574587, 0.9795696672996804, 0.9734148966629035, 0.9840466829934305, 0.98613201918202, 0.9755299850098698, 0.9805829456518274, 0.994183717872917, 0.994796884876198, 0.9948453588499953, 0.9820027053430384, 0.9935033977944436, 0.9953261062430949, 0.975589998988389, 0.9795696672996804, 0.9731223929254558, 0.9960570808130628, 0.9928343675336598, 0.9834852565333729, 0.9781551174011018, 0.9781551174011018, 0.9897015196267916, 0.9781551174011018, 0.9755164921697587, 0.994796884876198, 0.9794513788577867, 0.9739741865604142, 0.9837693421882332, 0.9891473308416839, 0.9877735249935928, 0.98838383688699, 0.988110894152343, 0.9898938541844865, 0.9730778170771508, 0.9725519213719307, 0.9747002700319337, 0.9709651844457803, 0.9948453588499953, 0.9756461719444709, 0.9824160609083157, 0.9795696672996804, 0.9961838093442832, 0.99586518076858, 0.9900011018299605, 0.9948453588499953, 0.9884574177848294, 0.9866442256976792, 0.9948453588499953, 0.9948453588499953, 0.9795696672996804, 0.9811593177562015, 0.9720410162244787, 0.9948453588499953, 0.9714670321612957, 0.9823778843397223, 0.9843744525760619, 0.9869263928874819, 0.9948453588499953, 0.988110894152343, 0.988110894152343, 0.9869201781311449, 0.9940194220010297, 0.9787511696881593, 0.9830949385588599, 0.9922371164588343, 0.9785911474035149, 0.9894300125928817, 0.9819345235195436, 0.9704332492808437, 0.988110894152343, 0.9824756421308639, 0.9751257853155315, 0.986839234373947, 0.9798561170166096, 0.980479286239946, 0.9798561170166096, 0.9795696672996804, 0.9834852565333729, 0.9934710821368078, 0.9859123638421995, 0.9791090520000477, 0.9739385975287261, 0.9948453588499953, 0.9747774044120222, 0.9795696672996804, 0.9785911474035149, 0.9704937912979532, 0.9949869204861527, 0.9759163757128089, 0.9846943832462127, 0.9948453588499953, 0.97818962949971, 0.9910701638441818, 0.9961838093442832, 0.9853202251225127, 0.9781551174011018, 0.9824389177058835, 0.9948453588499953, 0.995193919469421, 0.9733396536760065, 0.9795696672996804, 0.9948453588499953, 0.9912560376916589, 0.9804618371711427, 0.9955685234603959, 0.9787094066856072, 0.9804618371711427, 0.9907198009147425, 0.9842055063561035, 0.9795696672996804, 0.9832863747144654, 0.9753268743163873, 0.980320095930151, 0.9895693680843178, 0.9793858061126703, 0.9795696672996804, 0.9948453588499953, 0.9827844394922008, 0.9939472503343121, 0.988110894152343, 0.9819673769552321, 0.9795696672996804, 0.9757360976507162, 0.9876827369265184, 0.9926820837560784, 0.9795696672996804, 0.9785911474035149, 0.9905201156637967, 0.9827310153059894, 0.9857260319396178, 0.9938119088806342, 0.9949412685285166, 0.9948453588499953, 0.9795696672996804, 0.9785911474035149, 0.99586518076858, 0.9839539165662722, 0.9929636736218901, 0.9764658386407221, 0.9810791172625022, 0.9743621991866489, 0.9747896508438448, 0.9795696672996804, 0.9779551521345703, 0.9948453588499953, 0.9939573264046802, 0.9795696672996804, 0.9946695054329996, 0.9843393879397787, 0.9763957699388469, 0.9795696672996804, 0.9785536257808043, 0.988110894152343, 0.9795696672996804, 0.9948453588499953, 0.9948453588499953, 0.9948453588499953, 0.9813310919159072, 0.9811972051932017, 0.9795696672996804, 0.9948453588499953, 0.9948453588499953, 0.9845402435366357, 0.9737234080182836, 0.9815030586849341, 0.9953261062430949, 0.9726858215448877, 0.9785911474035149, 0.9894300125928817, 0.988110894152343, 0.9851426571202052, 0.9785911474035149, 0.9815450557149855, 0.9803578134113372, 0.9771034288035625, 0.9774110155687209, 0.9761485257643294, 0.9944994666591849, 0.9832863747144654, 0.9795696672996804, 0.9785911474035149, 0.9795696672996804, 0.9832863747144654, 0.9804618371711427, 0.988966430434094, 0.9707708693340082, 0.9907198009147425, 0.9709780141351649, 0.9948453588499953, 0.9785911474035149, 0.9955685234603959, 0.9785911474035149, 0.9757360976507162, 0.99586518076858, 0.9948453588499953, 0.9728068568186969, 0.981366631875011, 0.9828881479162498, 0.9792527902560768, 0.9948453588499953, 0.9917768489860428, 0.9948453588499953, 0.9950947640546488, 0.9910701638441818, 0.9948453588499953, 0.9735708349268148, 0.9961838093442832, 0.9785911474035149, 0.9795696672996804, 0.9795696672996804, 0.9910701638441818, 0.9793687055327169, 0.9722687249917829, 0.9800026452172782, 0.9948453588499953, 0.9850429641506363, 0.9795696672996804, 0.9716823865431646, 0.9948453588499953, 0.9801732770068027, 0.9761537577050262, 0.988110894152343, 0.9755275332343136, 0.988110894152343, 0.99586518076858, 0.9785918792130057, 0.988110894152343, 0.9785957209122077, 0.9837693421882332, 0.9700785014445237, 0.9875357059816631, 0.9867430884570194, 0.9948453588499953, 0.97714348152853, 0.9715709357192395, 0.9862526646196185, 0.97822902076023, 0.9850585237218573, 0.9751681668350382, 0.9948453588499953, 0.9728773148410128, 0.9715223908823808, 0.9733153976059306, 0.9709451634375211, 0.9948453588499953, 0.9948453588499953, 0.9857979644404, 0.988110894152343, 0.9795696672996804, 0.9718863840163497, 0.9767794542396707, 0.9805517495753916, 0.9948453588499953, 0.99586518076858, 0.9723513208112754, 0.9929146049190268, 0.9785911474035149, 0.9795696672996804, 0.9948453588499953, 0.9948453588499953, 0.9930971819540462, 0.9795696672996804, 0.9785683076907007, 0.9770214817190793, 0.9835742853487478, 0.983274755064149, 0.9910701638441818, 0.9787619345314235, 0.9719080480325504, 0.9731683141508684, 0.9845278228328813, 0.9757147157997614, 0.9937003200913466, 0.9795696672996804, 0.988110894152343, 0.9845366469223076, 0.9795696672996804, 0.977583146548449, 0.9828649264103249, 0.9948453588499953, 0.9963087465539908, 0.986839234373947, 0.9948453588499953, 0.9785742853494422, 0.9795696672996804, 0.9785911474035149, 0.9795696672996804, 0.9720123049183144, 0.9741625646057135, 0.9785911474035149, 0.9795696672996804, 0.9853241284868378, 0.9785911474035149, 0.9795696672996804, 0.9781551174011018, 0.9948453588499953, 0.9814225520887135, 0.9784216702517102, 0.9731307398636014, 0.9785911474035149, 0.9948453588499953, 0.990584335081275, 0.985121431393188, 0.9795696672996804, 0.9907198009147425, 0.988110894152343, 0.9795696672996804, 0.9753487857797419, 0.988110894152343, 0.9738170423061902, 0.988110894152343, 0.9865461759867445, 0.9890496985106478, 0.9947038168204275, 0.9786134247437095, 0.994183717872917, 0.9948453588499953, 0.9948453588499953, 0.9953261062430949, 0.9795696672996804, 0.9946697089852989, 0.9834228955246743, 0.9705607239835682, 0.9912560376916589, 0.9804618371711427, 0.9795696672996804, 0.9778731381730684, 0.9781551174011018, 0.974307720707344, 0.9946728411398991, 0.9795696672996804, 0.99586518076858, 0.9948453588499953, 0.9819508281079617, 0.9856344438151362, 0.9703658299872316, 0.9953261062430949, 0.9797421173872943, 0.9948453588499953, 0.9951160169060128, 0.994183717872917, 0.9785911474035149, 0.974515453999499, 0.9824071181032898, 0.9736224848527959, 0.9795696672996804, 0.9744613057351773, 0.972834917474587, 0.9795696672996804, 0.9937506754934207, 0.9948453588499953, 0.9795696672996804, 0.9785911474035149, 0.9819406498322374, 0.9880671448348856, 0.9849755249997203, 0.9757701812464574, 0.9948453588499953, 0.99586518076858, 0.9928343675336598, 0.974618510472538, 0.9880671448348856, 0.9795696672996804, 0.9798561170166096, 0.9769023345794833, 0.9719822935350896, 0.9816031916745851, 0.99586518076858, 0.9919706154316673, 0.9948453588499953, 0.9948453588499953, 0.9785911474035149, 0.9792787149248322, 0.9948453588499953, 0.99586518076858, 0.9733396536760065, 0.9785911474035149, 0.9755077460168707, 0.9775758667561003, 0.9837693421882332, 0.9729916616990907, 0.9950947640546488, 0.9781551174011018, 0.9748475414638801, 0.9770402594586475, 0.9785261441950285, 0.970604795737508, 0.9743725293027147, 0.9795696672996804, 0.976431416867241, 0.9832863747144654, 0.994183717872917, 0.988110894152343, 0.9961838093442832, 0.9910701638441818, 0.9806923522334969, 0.9806648260504199, 0.973437030939259, 0.9770148050526869, 0.9781551174011018, 0.9785911474035149, 0.9948453588499953, 0.9795696672996804, 0.9948453588499953, 0.99586518076858, 0.9836092145521904, 0.9805605974548051, 0.9849586372748781, 0.9750350628154757, 0.9948453588499953, 0.9748875524500673, 0.9739784902879693, 0.9948453588499953, 0.9897027780776878, 0.9961838093442832, 0.9722153120628692, 0.9961838093442832, 0.9757701812464574, 0.9783433225512885, 0.988110894152343, 0.9795696672996804, 0.9712000033298369, 0.9703551773185544, 0.9948735151327136, 0.9961838093442832, 0.9948453588499953, 0.9948453588499953, 0.9955685234603959, 0.9790584354229738, 0.9733396536760065, 0.9779218692802263, 0.9795696672996804, 0.99513531190547, 0.9942809638845218, 0.9937011625136832, 0.9778650943514745, 0.9955685234603959, 0.9948453588499953, 0.9957132199164227, 0.9961838093442832, 0.9953261062430949, 0.9757828334375549, 0.9716979339553043, 0.9910558616959874, 0.9764658386407221, 0.99586518076858, 0.9948453588499953, 0.9871437879017043, 0.9824273773597517, 0.9751885558947072, 0.9795696672996804, 0.9731813850784923, 0.9961838093442832, 0.9764658386407221, 0.9832863747144654, 0.9953261062430949, 0.9781245949318108, 0.979314299191256, 0.9860379499757131, 0.9733396536760065, 0.9863428969686336, 0.9948453588499953, 0.9804618371711427, 0.9961838093442832, 0.9750203126402377, 0.9795696672996804, 0.988110894152343, 0.988110894152343, 0.9795696672996804, 0.9948453588499953, 0.9947391099238052, 0.9723486608092171, 0.9948453588499953, 0.9881705616789229, 0.9961838093442832, 0.9955685234603959, 0.9713693344013689, 0.9781199526641863, 0.9964380124909613, 0.9843894948321822, 0.9879087386950588, 0.9862233797489494, 0.9912560376916589, 0.9948735151327136, 0.9824180759509041, 0.9795696672996804, 0.9862883653437304, 0.9709780141351649, 0.9787511696881593, 0.9795696672996804, 0.9961838093442832, 0.9727172618099855, 0.9913511282300115, 0.9948453588499953, 0.9743800607706707, 0.9795696672996804, 0.9806163196000285, 0.9791510683320496, 0.9706660089378936, 0.9760961916713211, 0.9787213486111366, 0.9795696672996804, 0.9781551174011018, 0.9832541721679657, 0.9757701812464574, 0.9832541721679657, 0.9837693421882332, 0.9786679098079342, 0.9798561170166096, 0.9818548471779287, 0.9795696672996804, 0.9714993517920409, 0.9948453588499953, 0.9756517408916071, 0.9781551174011018, 0.9784299367065111, 0.9874786699162933, 0.9820027053430384, 0.9795696672996804, 0.9948453588499953, 0.9862526646196185, 0.9711410468290703, 0.9841496895395464, 0.9832762508506324, 0.9757701812464574, 0.9785911474035149, 0.979297292990312, 0.9703788254988586, 0.9795696672996804, 0.9935960126059467, 0.9937506754934207, 0.9788237760178018, 0.99586518076858, 0.9795696672996804, 0.9948453588499953, 0.9725231762611699, 0.9785911474035149, 0.9795696672996804, 0.9724921808583511, 0.9948453588499953, 0.9910701638441818, 0.988110894152343, 0.9795236404564306, 0.988110894152343, 0.9947195329011335, 0.9948453588499953, 0.9953261062430949, 0.9727562824809609, 0.9814624619001787, 0.9785911474035149, 0.9937506754934207, 0.9953211277700309, 0.9795696672996804, 0.9832541721679657, 0.9757701812464574, 0.9847294186025761, 0.9961838093442832, 0.9715223908823808, 0.9785911474035149, 0.9948453588499953, 0.9798561170166096, 0.9764658386407221, 0.9748956288153691, 0.9785911474035149, 0.9748375947873389, 0.9960570808130628, 0.9841923829076128, 0.9948453588499953, 0.9777250657325915, 0.978050997149511, 0.9953211277700309, 0.9795696672996804, 0.9795696672996804, 0.9739568234224433, 0.9758772083512182, 0.9785911474035149, 0.9961838093442832, 0.9726512389823347, 0.9789796285191881, 0.9948453588499953, 0.99586518076858, 0.9948453588499953, 0.9948453588499953, 0.9953261062430949, 0.9928291769026782, 0.9948453588499953, 0.9934573987327249, 0.9804618371711427, 0.988110894152343, 0.9795696672996804, 0.9953211277700309, 0.9937506754934207, 0.9948453588499953, 0.9873817381131792, 0.9961838093442832, 0.99586518076858, 0.9930418643895705, 0.9828591715919306, 0.9824982665121538, 0.9959306549063953, 0.9744935712873952, 0.9872115449305738, 0.9795696672996804, 0.9948453588499953, 0.9721057991747085, 0.9798561170166096, 0.9781551174011018, 0.9948453588499953, 0.9824982665121538, 0.9781551174011018, 0.9781551174011018, 0.9744420379004263, 0.9710062278418067, 0.9796220330742361, 0.9757701812464574, 0.9705784595565161, 0.9795696672996804, 0.9941567314527066, 0.9795696672996804, 0.9785911474035149, 0.9824414647425762, 0.9948453588499953, 0.989984200988451, 0.9948453588499953, 0.9726368705929144, 0.9832045327987285, 0.9804618371711427, 0.9795696672996804, 0.9795696672996804, 0.9948453588499953, 0.9946787526432997, 0.9784349712357648, 0.9795696672996804, 0.9838521622909276, 0.9749184829894965, 0.9840429956256093, 0.9785911474035149, 0.9844149682775061, 0.9885419276008844, 0.9869201781311449, 0.9795696672996804, 0.9955685234603959, 0.9955685234603959, 0.9912560376916589, 0.97822902076023, 0.970453699622203, 0.9801234532082767, 0.9948453588499953, 0.9948453588499953, 0.9948453588499953, 0.9934573987327249, 0.9767824569638168, 0.9795696672996804, 0.9753487857797419, 0.9795696672996804, 0.9785911474035149, 0.9795696672996804, 0.9955685234603959, 0.9786679098079342, 0.9955685234603959, 0.9804618371711427, 0.9887041263847303, 0.9910701638441818, 0.9953261062430949, 0.9786679098079342, 0.99586518076858, 0.9948453588499953, 0.9750768385688554, 0.9937506754934207, 0.9942809638845218, 0.9755522587107177, 0.9948453588499953, 0.9929550476578964, 0.9911195407020854, 0.99586518076858, 0.9944995818861804, 0.9948453588499953, 0.9843634446324175, 0.9948453588499953, 0.9785911474035149, 0.9718656275849589, 0.99586518076858, 0.9715223908823808, 0.9939187580097976, 0.9757849207646501, 0.9733396536760065, 0.9948453588499953, 0.9770402594586475, 0.9948453588499953, 0.9910701638441818, 0.9829617703947887, 0.9795696672996804, 0.9880671448348856, 0.9749251554714807, 0.9907198009147425, 0.9869263928874819, 0.9789179251759466, 0.9774110155687209, 0.99586518076858, 0.9740349335190049, 0.978086544103216, 0.9828649264103249, 0.9868270174514752, 0.978546772371375, 0.9795696672996804, 0.9913740522002913, 0.9741083955643104, 0.9804618371711427, 0.9895693680843178, 0.9761443179592191, 0.9788478409283217, 0.9852522227925581, 0.9762185917914536, 0.9795696672996804, 0.9798561170166096, 0.9948453588499953, 0.9837693421882332, 0.9798561170166096, 0.978953691809193, 0.9798561170166096, 0.9797421173872943, 0.9728627814287057, 0.9939573264046802, 0.9825890725864836, 0.9733396536760065, 0.9875673669467769, 0.9736357046154239, 0.9795696672996804, 0.9724879814812689, 0.9715386559317338, 0.9912560376916589, 0.9880671448348856, 0.9795696672996804, 0.9781551174011018, 0.9953261062430949, 0.9785911474035149, 0.9795696672996804, 0.9765341290946964, 0.9805014431098372, 0.9736959515348618, 0.9810115189562973, 0.9795696672996804, 0.99586518076858, 0.9738963695591731, 0.9948453588499953, 0.9961838093442832, 0.9777852934038233, 0.9948453588499953, 0.9835785347725439, 0.9795696672996804, 0.9948453588499953, 0.994183717872917, 0.9757167409098504, 0.9795696672996804, 0.9907198009147425, 0.9814137796644044, 0.9880671448348856, 0.988110894152343, 0.9775483578418585, 0.986992236632875, 0.9785911474035149, 0.9795696672996804, 0.9785911474035149, 0.9953211277700309, 0.9948453588499953, 0.984920070946919, 0.9701455131112469, 0.9868717432740924, 0.9795696672996804, 0.9846400393357078, 0.9883761223810157, 0.9789384943588308, 0.9948453588499953, 0.9744488065080975, 0.9748764560368358, 0.9741660792195856, 0.986839234373947, 0.9781551174011018, 0.9948453588499953, 0.9795696672996804, 0.9770229311147958, 0.9755535374870548, 0.9713820516327025, 0.9893802765002842, 0.9779218692802263, 0.9824540950971482, 0.9948453588499953, 0.9843320033022139, 0.9948453588499953, 0.9825932679256405, 0.9948453588499953, 0.9715223908823808, 0.9963087465539908, 0.9795696672996804, 0.9846499958350823, 0.9948453588499953, 0.9896948369871121, 0.9710311884833535, 0.9732431281966919, 0.9948453588499953, 0.9725088059542933, 0.9785911474035149, 0.9961838093442832, 0.9869263928874819, 0.9837693421882332, 0.9747598309030191, 0.9948453588499953, 0.9823458164600497, 0.9912560376916589, 0.9953211277700309, 0.99586518076858, 0.9785911474035149, 0.9795696672996804, 0.9766361332402157, 0.988110894152343, 0.9832863747144654, 0.9795696672996804, 0.978976212440362, 0.9795696672996804, 0.9948453588499953, 0.9751073860028459, 0.988110894152343, 0.9804618371711427, 0.9785911474035149, 0.9721688299026932, 0.9795696672996804, 0.9899967524887989, 0.9788640660401082, 0.9948453588499953, 0.9772764660820049, 0.9728313048747422, 0.988110894152343, 0.9795696672996804, 0.9946697089852989, 0.9950947640546488, 0.9804618371711427, 0.9795696672996804, 0.9791579001840292, 0.9704916062723015, 0.9795696672996804, 0.9743107165980649, 0.9702358944431617, 0.9837047902218484, 0.9785911474035149, 0.9795696672996804, 0.9770899015258132, 0.9740627680954412, 0.99586518076858, 0.9948453588499953, 0.9824269492205163, 0.9948453588499953, 0.9767713705379066, 0.9793307237525476, 0.9953211277700309, 0.9774110155687209, 0.9948453588499953, 0.9733624070999235, 0.99586518076858, 0.99586518076858, 0.9781551174011018, 0.9946697089852989, 0.9781551174011018, 0.9786794723671712, 0.9703337369345169, 0.9720669365861793, 0.9963413863752582, 0.9891039743271395, 0.9700188120648657, 0.9954950135026871, 0.9948453588499953, 0.9948453588499953, 0.9948453588499953, 0.9795696672996804, 0.976906879524291, 0.9732084110171995, 0.9948453588499953, 0.9937506754934207, 0.9948453588499953, 0.9837693421882332, 0.9948453588499953, 0.994796884876198, 0.9760037556192342, 0.9808158898765126, 0.9946053123444702, 0.9948453588499953, 0.9948453588499953, 0.9955685234603959, 0.981225918486915, 0.9867430884570194, 0.9948453588499953, 0.9718863840163497, 0.9763536942441321, 0.985376689821855, 0.9817332720310338, 0.9733641699418328, 0.9936172576050213, 0.9948453588499953, 0.9781551174011018, 0.987654434661067, 0.9750629915453699, 0.9894300125928817, 0.9786679098079342, 0.9948453588499953, 0.9869263928874819, 0.9910701638441818, 0.9781551174011018, 0.9785819142257622, 0.9884921626579336, 0.9937506754934207, 0.9910701638441818, 0.9709780141351649, 0.9770402594586475, 0.9751681668350382, 0.9939573264046802, 0.9781551174011018, 0.9735214064465053, 0.9840429956256093, 0.9948453588499953, 0.9790075743220344, 0.9968033409338396, 0.9743746175050501, 0.9781551174011018, 0.9786679098079342, 0.9798561170166096, 0.9730043909068369, 0.9795696672996804, 0.9961838093442832, 0.9948453588499953, 0.988110894152343, 0.9948453588499953, 0.9781551174011018, 0.9785911474035149, 0.9928343675336598, 0.9738963695591731, 0.9709780141351649, 0.9717546228661437, 0.9948453588499953, 0.9859825237411646, 0.9885206866190491, 0.993275895138828, 0.9737137915738827, 0.9768541510392296, 0.9939277597381377, 0.9840429956256093, 0.9742610913824249, 0.9737241830005681, 0.9826463986667938, 0.9739286808978395, 0.9713369284261754, 0.9910701638441818, 0.9747925783240047, 0.988110894152343, 0.9795696672996804, 0.9958495195334837, 0.988110894152343, 0.9840429956256093, 0.9781551174011018, 0.99586518076858, 0.9739712869746352, 0.9819345235195436, 0.9948680407214153, 0.9794383183424336, 0.9819345235195436, 0.9795140229578468, 0.9807181478659168, 0.9733396536760065, 0.9795696672996804, 0.9733396536760065, 0.9795696672996804, 0.9706251914889219, 0.9733076461584313, 0.994183717872917, 0.9910701638441818, 0.994796884876198, 0.9795696672996804, 0.9960570808130628, 0.9839318382915483, 0.99586518076858, 0.9955685234603959, 0.9781551174011018, 0.9781551174011018, 0.9757701812464574, 0.9708173267123705, 0.9832541721679657, 0.9748475414638801, 0.9963087465539908, 0.9950947640546488, 0.988110894152343, 0.97551108336893, 0.9951160169060128, 0.9876958396715348, 0.9797680880362276, 0.988110894152343, 0.9827126717966297, 0.986839234373947, 0.9795696672996804, 0.9881934925706425, 0.9705934067282157, 0.9785911474035149, 0.9958621646797423, 0.99586518076858, 0.9764658386407221, 0.9803048036323052, 0.9869263928874819, 0.9937506754934207, 0.988110894152343, 0.9924266908368476, 0.9912560376916589, 0.9872648036683707, 0.988110894152343, 0.9837693421882332, 0.9795696672996804, 0.9747896508438448, 0.99586518076858, 0.9798561170166096, 0.9948453588499953, 0.9734150170825765, 0.99586518076858, 0.9795696672996804, 0.9730043909068369, 0.99586518076858, 0.9764658386407221, 0.9718444112927623, 0.9807909880313787, 0.9963087465539908, 0.9785683076907007, 0.9814921564105816, 0.9959831277290937, 0.9858048449574455, 0.9785911474035149, 0.9706467225885241, 0.9795696672996804, 0.9880671448348856, 0.9948453588499953, 0.9798561170166096, 0.9744146929225203, 0.9737668418977009, 0.9919706154316673, 0.9832863747144654, 0.9956542295625929, 0.9775829446649098, 0.9948453588499953, 0.9948453588499953, 0.9795696672996804, 0.9785911474035149, 0.9822797850764341, 0.9955685234603959, 0.9845081678876687, 0.9738033450578812, 0.9795696672996804, 0.9798561170166096, 0.9762864051547488, 0.9843276266656996, 0.9948453588499953, 0.9805656164498213, 0.9795696672996804, 0.988110894152343, 0.9955685234603959, 0.9757701812464574, 0.9757701812464574, 0.9944994666591849, 0.9762582708831904, 0.9755653826569783, 0.9934856002986712, 0.9791090520000477, 0.9941785268419578, 0.9700596808726325, 0.9757360976507162, 0.9948453588499953, 0.9952312406337189, 0.9948453588499953, 0.9822845747947457, 0.9703048323555966, 0.9760884117359511, 0.9781551174011018, 0.9759681916544715, 0.9793366567513772, 0.9872860053240773, 0.9785911474035149, 0.9795696672996804, 0.9896631554288093, 0.9796704155528673, 0.9753415391584784, 0.9955685234603959, 0.9785911474035149, 0.9948453588499953, 0.9948453588499953, 0.9721216167813365, 0.9948453588499953, 0.9795696672996804, 0.9875370125498726, 0.9709544980845799, 0.9784435914905398, 0.9795696672996804, 0.9795696672996804, 0.9856086363503928, 0.9961712910451499, 0.9948453588499953, 0.9722300736485855, 0.9764658386407221, 0.9795696672996804, 0.99586518076858, 0.9819749767218687, 0.9795696672996804, 0.9795696672996804, 0.99586518076858, 0.9701571838149, 0.9795696672996804, 0.9892876859492351, 0.9737728141654196, 0.9722153120628692, 0.9948453588499953, 0.9785911474035149, 0.974981253880287, 0.9845372021213042, 0.99586518076858, 0.9706287399629303, 0.9795696672996804, 0.983393453509925, 0.9793223051728264, 0.9792228613285717, 0.9753653487897659, 0.970411891573864, 0.9798561170166096, 0.9856065398737867, 0.9723496802578717, 0.9795696672996804, 0.9948453588499953, 0.9714365332277389, 0.9960384314224107, 0.9836407123540672, 0.9804618371711427, 0.9880146120517819, 0.9709735727840457, 0.9919706154316673, 0.9773539121515218, 0.9869201781311449, 0.99586518076858, 0.9798561170166096, 0.9702121717104073, 0.9948453588499953, 0.9933099986942139, 0.9795696672996804, 0.9766361332402157, 0.9852414601273437, 0.9723864406963743, 0.988110894152343, 0.9918849519445198, 0.9795696672996804, 0.9937506754934207, 0.9785911474035149, 0.9861268228327216, 0.9729826084904568, 0.9750288522900941, 0.9950947640546488, 0.9764922079287789, 0.9948453588499953, 0.9948453588499953, 0.99586518076858, 0.9795696672996804, 0.9715301071770552, 0.976959965591665, 0.9785911474035149, 0.9817332720310338, 0.9795696672996804, 0.9785911474035149, 0.9766975402845147, 0.9831942962143779, 0.9795696672996804, 0.970713831062483, 0.9912560376916589, 0.9709780141351649, 0.9948453588499953, 0.994183717872917, 0.973778153400754, 0.9702771675611415, 0.9721698329656466, 0.9795696672996804, 0.9795696672996804, 0.9795696672996804, 0.9961838093442832, 0.9948453588499953, 0.9879849609711243, 0.979349021720956, 0.9781551174011018, 0.9726979025960362, 0.9869201781311449, 0.9738124139848663, 0.9740420680010495, 0.9948453588499953, 0.9713702263854874, 0.9784274544645397, 0.9707920816625305, 0.9873983584569422, 0.9735784562569366, 0.9753116274274144, 0.9828649264103249, 0.9912560376916589, 0.986839234373947, 0.9924055916584049, 0.9832863747144654, 0.99586518076858, 0.9961838093442832, 0.9838240110991006, 0.9951160169060128, 0.99586518076858, 0.9948453588499953, 0.9948453588499953, 0.9785911474035149, 0.9795696672996804, 0.9795696672996804, 0.9758918793324469, 0.988110894152343, 0.9795696672996804, 0.9743726193262379, 0.9832863747144654, 0.9960570808130628, 0.9798561170166096, 0.9773946948612575, 0.9948453588499953, 0.9794618011055294, 0.9917768489860428, 0.9948453588499953, 0.9955685234603959, 0.9913740522002913, 0.97397751808084, 0.9798561170166096, 0.9783807349397083, 0.9722470819997728, 0.9709132159763362, 0.9815399182384031, 0.9950947640546488, 0.994183717872917, 0.986839234373947, 0.9795696672996804, 0.9770402594586475, 0.9795696672996804, 0.9795696672996804, 0.9709780141351649, 0.9948453588499953, 0.9785911474035149, 0.9795696672996804, 0.9807714069968008, 0.9948453588499953, 0.9760042344761912, 0.9745511816508579, 0.9729548530739122, 0.9785911474035149, 0.9785911474035149, 0.986770433559768, 0.9910701638441818, 0.9795696672996804, 0.9948453588499953, 0.9959325735555503, 0.9766361332402157, 0.9832541721679657, 0.9775486444818536, 0.9785911474035149, 0.9738963695591731, 0.9941567314527066, 0.9781551174011018, 0.9779998437198236, 0.9724247853286062, 0.9785444108219885, 0.9819035641217612, 0.9761452513631315, 0.9789829359236764, 0.98478117497181, 0.9758209001149797, 0.9774813929409158, 0.9744783571624706, 0.9929170017750494, 0.9850191265587097, 0.9795696672996804, 0.9948453588499953, 0.9948453588499953, 0.9701239287783885, 0.9781551174011018, 0.9785911474035149, 0.9820023193296175, 0.9953261062430949, 0.9745705493499117, 0.9746413640112158, 0.976552182635501, 0.9910163328324638, 0.9739057797429479, 0.9802703406884524, 0.9811225327371732, 0.9794070037786855, 0.971957270217307, 0.988110894152343, 0.9867430884570194, 0.9948453588499953, 0.9953962364884527, 0.9795696672996804, 0.9961838093442832, 0.9781551174011018, 0.9912241913238831, 0.9955685234603959, 0.9852155490777305, 0.9779134909862097, 0.9701499561870216, 0.9798561170166096, 0.9742613765993345, 0.9724760028062943, 0.9812341557286918, 0.9762523720046636, 0.9781551174011018, 0.9722252211998609, 0.9750454641077406, 0.9757360976507162, 0.9928343675336598, 0.975614821341584, 0.9869201781311449, 0.9798561170166096, 0.9785911474035149, 0.9960570808130628, 0.975490518006411, 0.9759042222553429, 0.99586518076858, 0.9795696672996804, 0.9785911474035149, 0.970476794008937, 0.9740614749308382, 0.9843894948321822, 0.9806812360208595, 0.9791313434439121, 0.9806406946913804, 0.9801931302483324, 0.9702093300883435, 0.9710311884833535, 0.9752785770789827, 0.9808900265570472, 0.9948453588499953, 0.9853380956084138, 0.9795696672996804, 0.9795696672996804, 0.9752194080255531, 0.9936622045345956, 0.9939472503343121, 0.9961838093442832, 0.9794120945698067, 0.9830361281081037, 0.9790299038237792, 0.9706951129610173, 0.9826535048542671, 0.9955685234603959, 0.9868046622433946, 0.9948453588499953, 0.9746360745557229, 0.9707766949739784, 0.9798561170166096, 0.99586518076858, 0.9955685234603959, 0.9883380914479819, 0.9796591315818428, 0.9837693421882332, 0.9795696672996804, 0.9869263928874819, 0.9832863747144654, 0.9796049253835057, 0.9803151910014255, 0.9705819018117239, 0.9818462043939361, 0.9804803639028846, 0.9898091062366501, 0.9762981976193822, 0.9815783354637909, 0.9816548382707677, 0.9785911474035149, 0.9795696672996804, 0.9850469918162864, 0.9948453588499953, 0.9795696672996804, 0.9824770858583846, 0.9853815658284091, 0.9815013490151434, 0.9795696672996804, 0.9910701638441818, 0.990203121296042, 0.9756517408916071, 0.9788937983364332, 0.9714670598580638, 0.99586518076858, 0.9719661105158733, 0.9785911474035149, 0.9860307355633414, 0.972714363640204, 0.9815030586849341, 0.9733396536760065, 0.986839234373947, 0.9795696672996804, 0.9948453588499953, 0.9764658386407221, 0.9709780141351649, 0.9948453588499953, 0.9795696672996804, 0.9881689708137408, 0.9804618371711427, 0.9795696672996804, 0.9795696672996804, 0.9795909241540054, 0.9795696672996804, 0.9948453588499953, 0.9948453588499953, 0.9785911474035149, 0.9804618371711427, 0.9750355768542823, 0.9948453588499953, 0.9835484750499229, 0.9767340049762215, 0.9948453588499953, 0.9781551174011018, 0.9752284282751585, 0.9948453588499953, 0.9948453588499953, 0.9937506754934207, 0.99586518076858, 0.9799805485745472, 0.9783377239537642, 0.9843894948321822, 0.99586518076858, 0.9795696672996804, 0.9948453588499953, 0.9948453588499953, 0.9706287399629303, 0.9948453588499953, 0.9912560376916589, 0.9948453588499953, 0.9811499761788918, 0.981421558930727, 0.9948453588499953, 0.9948453588499953, 0.9948453588499953, 0.9936214357552047, 0.9753487857797419, 0.9744146929225203, 0.9798561170166096, 0.9744146929225203, 0.9948453588499953, 0.9781551174011018, 0.9961838093442832, 0.9764658386407221, 0.9764658386407221, 0.9813596475635711, 0.9795696672996804, 0.9785911474035149, 0.9880671448348856, 0.9733396536760065, 0.9884817041511426, 0.9795696672996804, 0.9948453588499953, 0.9795696672996804, 0.9820027053430384, 0.9870730755401347, 0.9779218692802263, 0.9874489240611134, 0.9953202767231648, 0.9797103094554559, 0.9785911474035149, 0.9948453588499953, 0.9732512697882629, 0.9937506754934207, 0.9922371164588343, 0.9795696672996804, 0.9719670685753055, 0.9948453588499953, 0.9866767456840584, 0.9745188932731758, 0.9742437871132881, 0.988110894152343, 0.9706433178838715, 0.9866702810615691, 0.9948453588499953, 0.9891442892274602, 0.9757896376816866, 0.9948453588499953, 0.9955685234603959, 0.9910701638441818, 0.9948453588499953, 0.9795696672996804, 0.9832863747144654, 0.9948453588499953, 0.9919706154316673, 0.975305254596378, 0.9948453588499953, 0.9781551174011018, 0.9903457154964541, 0.9795696672996804, 0.9846463367632652, 0.9726366529320275, 0.9961838093442832, 0.9948453588499953, 0.9795696672996804, 0.9828749026336383, 0.9804618371711427, 0.9922371164588343, 0.9795696672996804, 0.9824919673006137, 0.9754497926838368, 0.9785911474035149, 0.9795696672996804, 0.9858519729098394, 0.9937506754934207, 0.9937506754934207, 0.9930971819540462, 0.9820027053430384, 0.9795696672996804, 0.9937506754934207, 0.9753487857797419, 0.9869201781311449, 0.9742006619868981, 0.9795696672996804, 0.9781551174011018, 0.9948453588499953, 0.9731932876396925, 0.9795696672996804, 0.9781551174011018, 0.9757701812464574, 0.978430030430121, 0.99586518076858, 0.9759916934008463, 0.9808973442329298, 0.9955685234603959, 0.9948453588499953, 0.9830708978120055, 0.971710152144271, 0.9826869972370841, 0.9822497096867655, 0.9703373603769648, 0.9948453588499953, 0.9882824940453726, 0.99586518076858, 0.9785954941738038, 0.9786679098079342, 0.9773946948612575, 0.9963087465539908, 0.9832863747144654, 0.9774110155687209, 0.9740629137527944, 0.971171712547183, 0.9795696672996804, 0.9795696672996804, 0.9781551174011018, 0.9781551174011018, 0.9713492834516971, 0.9815532410205986, 0.9710958330295588, 0.9857237399966196, 0.9863340854074204, 0.9872842536115991, 0.9742417312436986, 0.9948453588499953, 0.975614821341584, 0.9795696672996804, 0.973252472016055, 0.9795696672996804, 0.99586518076858, 0.9797894086380845, 0.9785911474035149, 0.994796884876198, 0.9722295629533979, 0.9948453588499953, 0.9948453588499953, 0.9948453588499953, 0.9951160169060128, 0.9770402594586475, 0.9950947640546488, 0.97505843396188, 0.9786679098079342, 0.9753268743163873, 0.9781551174011018, 0.980822739506655, 0.99586518076858, 0.9781551174011018, 0.9961838093442832, 0.9837693421882332, 0.9795696672996804, 0.9919888163083116, 0.9868031140970374, 0.9948453588499953, 0.9907198009147425, 0.9947348875519898, 0.9785536257808043, 0.9880671448348856, 0.9795696672996804, 0.9824982665121538, 0.9870922624998958, 0.9910701638441818, 0.99586518076858, 0.9912560376916589, 0.9710640036471115, 0.9795696672996804, 0.9948453588499953, 0.9910701638441818, 0.9947348875519898, 0.9948453588499953, 0.9948453588499953, 0.9781551174011018, 0.971021080100926, 0.9791090520000477, 0.9907465323478223, 0.9718980066590958, 0.9835414255584289, 0.9789086486424057, 0.9765606438626262, 0.972946846763231, 0.9950947640546488, 0.9917768489860428, 0.9770402594586475, 0.9785911474035149, 0.9701416034583769, 0.973952203540362, 0.9764157378207314, 0.9811440148413519, 0.9961838093442832, 0.9785911474035149, 0.9785911474035149, 0.9718863840163497, 0.9748875524500673, 0.9781551174011018, 0.9781551174011018, 0.9795696672996804, 0.9785911474035149, 0.9948453588499953, 0.9764658386407221, 0.9764658386407221, 0.9840429956256093, 0.9738082730526454, 0.977758208124497, 0.9737979488415784, 0.9948453588499953, 0.99586518076858, 0.9819749767218687, 0.9795696672996804, 0.9795696672996804, 0.9948453588499953, 0.975988960672112, 0.9948453588499953, 0.9930971819540462, 0.9744514461271948, 0.9828649264103249, 0.9948453588499953, 0.9907198009147425, 0.9734764080685906, 0.9802484287951059, 0.9733070711304401, 0.9706158143507302, 0.9785911474035149, 0.9795696672996804, 0.9948453588499953, 0.983780481313612, 0.9919888163083116, 0.99586518076858, 0.98080709735141, 0.9804618371711427, 0.9795696672996804, 0.9832863747144654, 0.9798561170166096, 0.9748875524500673, 0.9733153976059306, 0.9797561519774081, 0.9785911474035149, 0.9946787526432997, 0.9785683076907007, 0.9903818138464495, 0.9769023345794833, 0.9795696672996804, 0.9948453588499953, 0.988110894152343, 0.9795696672996804, 0.979205106190792, 0.9837693421882332, 0.9738963695591731, 0.9781551174011018, 0.9948453588499953, 0.9948453588499953, 0.9701276904417817, 0.9903015909666291, 0.9837693421882332, 0.9753408828176962, 0.9948453588499953, 0.9948453588499953, 0.9948453588499953, 0.9948453588499953, 0.9747896508438448, 0.9795696672996804, 0.9802485714310147, 0.9795696672996804, 0.9795696672996804, 0.9894300125928817, 0.9948453588499953, 0.9712624428434706, 0.988110894152343, 0.9854909103999601, 0.9747896508438448, 0.9732687989537282, 0.9798561170166096, 0.988110894152343, 0.9948453588499953, 0.9757360976507162, 0.9778312304313977, 0.9785911474035149, 0.9755608697236922, 0.9948453588499953, 0.9741042413112413, 0.9919561719449548, 0.9856760139053683, 0.9739742855433939, 0.9744162503555679, 0.9902622290495274, 0.9880671448348856, 0.9833264907648804, 0.9781551174011018, 0.9798561170166096, 0.9955685234603959, 0.9785911474035149, 0.986839234373947, 0.9907198009147425, 0.9795696672996804, 0.976011495333127, 0.9725633478098406, 0.9795696672996804, 0.9785911474035149, 0.9948453588499953, 0.9737387357466532, 0.9948453588499953, 0.9948453588499953, 0.9795696672996804, 0.9835389129278913, 0.9795696672996804, 0.9741754887975069, 0.9785911474035149, 0.9752194080255531, 0.9948453588499953, 0.9733396536760065, 0.9795696672996804, 0.9795696672996804, 0.9832863747144654, 0.9783594770393792, 0.9784530990483344, 0.980970825389188, 0.9814458101529845, 0.9828133521473241, 0.9802608023582388, 0.9960570808130628, 0.9795696672996804, 0.9803448563530168, 0.9830884934954672, 0.9723076386048444, 0.9846647924620976, 0.972714363640204, 0.9795696672996804, 0.9948453588499953, 0.9807113042542858, 0.9747896508438448, 0.9795696672996804, 0.9795696672996804, 0.9704149137417925, 0.988110894152343, 0.9716948252978133, 0.9832863747144654, 0.9798561170166096, 0.9939573264046802, 0.972547476814743, 0.9948453588499953, 0.9781543532605548, 0.9802031288712443, 0.9711905161424609, 0.9919706154316673, 0.9948453588499953, 0.9781101186026566, 0.9795696672996804, 0.9763536942441321, 0.9961838093442832, 0.99586518076858, 0.9793551814282019, 0.9795696672996804, 0.983393453509925, 0.9755597881724611, 0.9795696672996804, 0.9952178892440716, 0.9733396536760065, 0.9795696672996804, 0.9744632464909772, 0.9760032358969404, 0.9950947640546488, 0.9948453588499953, 0.9722812257734454, 0.9955685234603959, 0.99586518076858, 0.9761651770487937, 0.99586518076858, 0.9922371164588343, 0.9760677657932281, 0.9837693421882332, 0.9741284928357048, 0.9795696672996804, 0.9888044969273585, 0.9795696672996804, 0.9804618371711427, 0.9948453588499953, 0.99586518076858, 0.9703589313193541, 0.9746759881200198, 0.9830594114650902, 0.9757701812464574, 0.9795696672996804, 0.9795696672996804, 0.9792544806561191, 0.9795696672996804, 0.970924778774124, 0.9795696672996804, 0.9795696672996804, 0.9764658386407221, 0.9808245666763543, 0.9715835096375985, 0.9880671448348856, 0.9852890211585319, 0.9785911474035149, 0.9722406675765843, 0.99586518076858, 0.9764658386407221, 0.9798561170166096, 0.9901645595554597, 0.9785536257808043, 0.9703349401112311, 0.9798561170166096, 0.978430030430121, 0.9917768489860428, 0.9795696672996804, 0.9797421173872943, 0.9785911474035149, 0.9753487857797419, 0.9940225433207978, 0.9912560376916589, 0.9718160833307854, 0.9795696672996804, 0.9948453588499953, 0.9856613795448875, 0.9948453588499953, 0.9795696672996804, 0.9948453588499953, 0.9961838093442832, 0.9948453588499953, 0.9795696672996804, 0.9948453588499953, 0.991841608121265, 0.9744427408117438, 0.9948735151327136, 0.9795696672996804, 0.9848389393335518, 0.973523022301435, 0.9804618371711427, 0.9738861101255699, 0.9777249450138008, 0.9948453588499953, 0.974444083234802, 0.9770402594586475, 0.9798561170166096, 0.9900560986039925, 0.988110894152343, 0.9926418823703944, 0.9795696672996804, 0.9795696672996804, 0.973556378478318, 0.9761923019795373, 0.9785911474035149, 0.9795696672996804, 0.9795696672996804, 0.9951160169060128, 0.9717461053813078, 0.9865253681874409, 0.9791062047440889, 0.9795696672996804, 0.9702284994360361, 0.988110894152343, 0.9897188861054463, 0.9795696672996804, 0.9785261441950285, 0.9735366111463951, 0.9869263928874819, 0.9846561919067832, 0.9702015811259438, 0.9785911474035149, 0.9753487857797419, 0.9855307283624766, 0.9948453588499953, 0.9795696672996804, 0.9955685234603959, 0.9835975572502117, 0.9795696672996804, 0.9875796927080807, 0.9757701812464574, 0.9936525874724089, 0.9834322066626794, 0.9795696672996804, 0.9950947640546488, 0.9948453588499953, 0.9961838093442832, 0.9948453588499953, 0.9724512145837522, 0.99586518076858, 0.9763611329177244, 0.9795696672996804, 0.9832863747144654, 0.9948453588499953, 0.9948453588499953, 0.9948453588499953, 0.9922371164588343, 0.9795696672996804, 0.979318066647739, 0.9948453588499953, 0.9910701638441818, 0.9926537405152269, 0.9708854110948901, 0.9859873450882919, 0.9785911474035149, 0.9771604204594734, 0.9723378012229754, 0.99586518076858, 0.9850431974866241, 0.9888354187338347, 0.9710045312246582, 0.9948453588499953, 0.9795696672996804, 0.9798561170166096, 0.9760025536005624, 0.9726043951755198, 0.9739799356157927, 0.9804618371711427, 0.9829882452494442, 0.9804618371711427, 0.9883301068982767, 0.9821251498631195, 0.9791090520000477, 0.9711676964645188, 0.9795696672996804, 0.9785911474035149, 0.9948453588499953, 0.9785911474035149, 0.9744146929225203, 0.988110894152343, 0.9885877858552207, 0.981225918486915, 0.9818570985969624, 0.9948453588499953, 0.9948453588499953, 0.9712950757559716, 0.9819901561628943, 0.9733396536760065, 0.9712499623645227, 0.9795696672996804, 0.9815030586849341, 0.9780891202546699, 0.9924266908368476, 0.9827412132378094, 0.978282916590454, 0.9724358937933176, 0.9757849207646501, 0.9948453588499953, 0.9832863747144654, 0.9786679098079342, 0.9785911474035149, 0.9795696672996804, 0.9785911474035149, 0.9811416021155294, 0.9869201781311449, 0.9785911474035149, 0.9764658386407221, 0.9910701638441818, 0.9948453588499953, 0.9910701638441818, 0.9759647313361492, 0.9703041345952322, 0.9910701638441818, 0.9881314251113419, 0.9880671448348856, 0.9795696672996804, 0.9939277597381377, 0.9950947640546488, 0.9869263928874819, 0.99586518076858, 0.9764658386407221, 0.9711992305783397, 0.9717977634312446, 0.9715415706133913, 0.9770402594586475, 0.9787369580774686, 0.9732030427402025, 0.9795696672996804, 0.9741599883620914, 0.9788508262303208, 0.9751212851682352, 0.9785911474035149, 0.9724736922443178, 0.9700448459802589, 0.9757902861135406, 0.9757600440422982, 0.9903015909666291, 0.9770402594586475, 0.973630988594531, 0.9750824485479941, 0.9781551174011018, 0.9800075652285246, 0.9803234417961413, 0.9948453588499953, 0.9777193769508784, 0.9795696672996804, 0.9829227955116537, 0.9939573264046802, 0.9795696672996804, 0.9955685234603959, 0.9948453588499953, 0.9862800611778918, 0.9785911474035149, 0.9795696672996804, 0.9948453588499953, 0.988110894152343, 0.9795696672996804, 0.9925380646570519, 0.9869263928874819, 0.9948453588499953, 0.9939573264046802, 0.9941000682891927, 0.9957132199164227, 0.9907198009147425, 0.9757701812464574, 0.9948453588499953, 0.9819931030230722, 0.9843894948321822, 0.9781551174011018, 0.9723723206835317, 0.973161426432697, 0.9948453588499953, 0.9795696672996804, 0.9700874084982405, 0.9781551174011018, 0.9808061297178519, 0.9907198009147425, 0.988110894152343, 0.9948453588499953, 0.9701838096614122, 0.9762713569971296, 0.9795696672996804, 0.9951160169060128, 0.9709780141351649, 0.9944994666591849, 0.9948453588499953, 0.9786794723671712, 0.9770402594586475, 0.988110894152343, 0.9837189059360664, 0.9904769963800516, 0.9948453588499953, 0.9937506754934207, 0.988110894152343, 0.9948453588499953, 0.9703011095887569, 0.9880671448348856, 0.9827112086013361, 0.9798561170166096, 0.9955685234603959, 0.9876988339901417, 0.9719600224473252, 0.9832863747144654, 0.971895097620549, 0.99586518076858, 0.9837693421882332, 0.9841118244249798, 0.9747896508438448, 0.9937656519995222, 0.9795696672996804, 0.9822797850764341, 0.9791918799549783, 0.9798561170166096, 0.9873876966507144, 0.9740725155749514, 0.9816703391182466, 0.9785911474035149, 0.974217338353103, 0.9740476911738525, 0.9948453588499953, 0.9938799508356729, 0.9795696672996804, 0.9913740522002913, 0.9781551174011018, 0.9948453588499953, 0.9948453588499953, 0.9948453588499953, 0.9940384123410986, 0.9733396536760065, 0.986839234373947, 0.9948453588499953, 0.9785683076907007, 0.9764891174883864, 0.9772073424691426, 0.9766141058870568, 0.9796349781719103, 0.9882619990477578, 0.9891593744675783, 0.9787648382522075, 0.9755299850098698, 0.9961838093442832, 0.9795696672996804, 0.9853666761388211, 0.9725088059542933, 0.9961838093442832, 0.9795696672996804, 0.9751956725709215, 0.9948453588499953, 0.9785911474035149, 0.988110894152343, 0.9858363941172383, 0.9955685234603959, 0.9961838093442832, 0.9795696672996804, 0.9722030756955757, 0.99586518076858, 0.9774110155687209, 0.9752200687892598, 0.9785911474035149, 0.9948453588499953, 0.9908811778398635, 0.9923951118279888, 0.9942809638845218, 0.9948680407214153, 0.9910701638441818, 0.9948453588499953, 0.9844357363427658, 0.979126672931703, 0.9951160169060128, 0.9910701638441818, 0.9785911474035149, 0.9805492389242242, 0.9880671448348856, 0.9795696672996804, 0.975823575563283, 0.9790381286645219, 0.9834188837516311, 0.9912560376916589, 0.9948453588499953, 0.9785683076907007, 0.988110894152343, 0.9787511696881593, 0.9948453588499953, 0.9948453588499953, 0.978608087583138, 0.99586518076858, 0.9834351660181492, 0.9725414665066969, 0.9946395768599433, 0.99586518076858, 0.9940384123410986, 0.9910701638441818, 0.980339038155144, 0.980730646687531, 0.9867430884570194, 0.9866697231230589, 0.9955685234603959, 0.9948453588499953, 0.9961838093442832, 0.9709780141351649, 0.9786679098079342, 0.9798561170166096, 0.9802189900558672, 0.988110894152343, 0.9795696672996804, 0.9752412591100571, 0.9824756421308639, 0.9813464021391791, 0.988110894152343, 0.9919706154316673, 0.9941417345491335, 0.9948453588499953, 0.9705171169087533, 0.99586518076858, 0.9795696672996804, 0.9749948780236002, 0.9783594770393792, 0.9741093940417888, 0.99586518076858, 0.9854123913035959, 0.9888980993796619, 0.9795696672996804, 0.9948453588499953, 0.9795696672996804, 0.988110894152343, 0.9795696672996804, 0.9719220882928021, 0.988110894152343, 0.9948453588499953, 0.9795696672996804, 0.9832863747144654, 0.99586518076858, 0.9770402594586475, 0.9725168185261159, 0.9735315197047739, 0.988110894152343, 0.9910701638441818, 0.9795696672996804, 0.9785911474035149, 0.9837693421882332, 0.9759630659165278, 0.9769796683936618, 0.988110894152343, 0.9948453588499953, 0.978953691809193, 0.9740336367109861, 0.9761450442802059, 0.979828518033328, 0.9758134647763151, 0.9723988481288356, 0.9786967888633207, 0.9944994666591849, 0.9760025536005624, 0.9722075961162808, 0.9939996453333642, 0.9729474896935539, 0.9798848093960805, 0.9948453588499953, 0.9861793934365847, 0.9795696672996804, 0.9719427106241066, 0.988110894152343, 0.9948453588499953, 0.9795696672996804, 0.9785911474035149, 0.9725134567742277, 0.9795696672996804, 0.9785911474035149, 0.9785911474035149, 0.988565649641371, 0.9948680407214153, 0.9820040165120618, 0.9785911474035149, 0.9961838093442832, 0.988110894152343, 0.9782451433346013, 0.9948453588499953, 0.9801238345322797, 0.971353238336831, 0.9933200951038349, 0.9754002813290699, 0.9757701812464574, 0.99586518076858, 0.9713820159605805, 0.9775044554127515, 0.9795696672996804, 0.9806288129894983, 0.9793323469035281, 0.9948453588499953, 0.9948453588499953, 0.975815298620071, 0.9937506754934207, 0.9779998437198236, 0.9937506754934207, 0.9802601678780681, 0.9865530921292378, 0.9795696672996804, 0.988110894152343, 0.9795696672996804, 0.9795696672996804, 0.9785911474035149, 0.9718921853526147, 0.9720096520889067, 0.9903475689048137, 0.9950947640546488, 0.9785683076907007, 0.9703443817987338, 0.9781551174011018, 0.9744270082559638, 0.9781551174011018, 0.9733429464421665, 0.9956542295625929, 0.98016775831823, 0.9781551174011018, 0.9785683076907007, 0.9770402594586475, 0.9795696672996804, 0.9747896508438448, 0.988110894152343, 0.9948453588499953, 0.989867271774976, 0.9880671448348856, 0.9795696672996804, 0.971564854053958, 0.9781551174011018, 0.9798561170166096, 0.9781551174011018, 0.9798561170166096, 0.9737299505044453, 0.9735537190002173, 0.9795696672996804, 0.99586518076858, 0.9795696672996804, 0.9785911474035149, 0.9702717459230984, 0.9953261062430949, 0.9951160169060128, 0.971139001108831, 0.988110894152343, 0.9798561170166096, 0.9795696672996804, 0.983393453509925, 0.9781551174011018, 0.9798561170166096, 0.9781551174011018, 0.9781551174011018, 0.973279302321507, 0.9785911474035149, 0.9764675643555046, 0.9795696672996804, 0.9758249847447145, 0.9819749767218687, 0.9764020938414026, 0.9795696672996804, 0.9785911474035149, 0.99586518076858, 0.99586518076858, 0.9951763393971509, 0.9910701638441818, 0.9804618371711427, 0.9948453588499953, 0.9785911474035149, 0.9785911474035149, 0.9729034458850031, 0.9929499081948411, 0.9709239649359541, 0.988110894152343, 0.976431416867241, 0.9782157477263228, 0.9961838093442832, 0.9815030586849341, 0.98273015856934, 0.9814436119841076, 0.9747896508438448, 0.9854584475698418, 0.9910701638441818, 0.9785548551894317, 0.9785911474035149, 0.9728414294452314, 0.988110894152343, 0.9795696672996804, 0.9948453588499953, 0.9785911474035149, 0.9785911474035149, 0.9912560376916589, 0.9795696672996804, 0.9955685234603959, 0.991725324100657, 0.988110894152343, 0.9764658386407221, 0.9885580197430168, 0.9785911474035149, 0.9795696672996804, 0.9818105142034877, 0.9953261062430949, 0.9907198009147425, 0.9703107645936359, 0.9770402594586475, 0.9964380124909613, 0.9845366469223076, 0.9948453588499953, 0.9955685234603959, 0.9765470263651576, 0.9781551174011018, 0.9953261062430949, 0.9771490988977182, 0.9937506754934207, 0.9867430884570194, 0.988110894152343, 0.9948453588499953, 0.9795696672996804, 0.99586518076858, 0.9745735717668264, 0.9807772265043346, 0.986847384314898, 0.9795696672996804, 0.9892636337324676, 0.9795696672996804, 0.9809015136760245, 0.9760655307499987, 0.972070118440239, 0.9832863747144654, 0.9795696672996804, 0.9785911474035149, 0.9896719502657805, 0.9853444927846394, 0.9948453588499953, 0.9785911474035149, 0.9934710821368078, 0.9795696672996804, 0.99586518076858, 0.9798561170166096, 0.9797421173872943, 0.9740627680954412, 0.9955685234603959, 0.9780011185585894, 0.974148941806215, 0.9720970714790772, 0.9948453588499953, 0.9753268743163873, 0.9944994666591849, 0.9722252211998609, 0.9948453588499953, 0.9711997845232954, 0.9729954975830889, 0.9749355635747686, 0.9795696672996804, 0.9747343264554721, 0.9942881421394151, 0.9953261062430949, 0.99586518076858, 0.9764694447842426, 0.9764694447842426, 0.981184093612978, 0.9720319074930484, 0.9716319475243674, 0.9948453588499953, 0.9961838093442832, 0.9781551174011018, 0.9955685234603959, 0.9937506754934207, 0.9948453588499953, 0.9948453588499953, 0.9709131751362315, 0.9775791195315118, 0.9948453588499953, 0.9785911474035149, 0.9948735151327136, 0.9761444050565126, 0.9795696672996804, 0.9907198009147425, 0.9948453588499953, 0.9795696672996804, 0.9715952958213371, 0.9963087465539908, 0.9758772083512182, 0.9795696672996804, 0.9817051878614965, 0.9948453588499953, 0.9948453588499953, 0.9716049341150494, 0.9948453588499953, 0.9795696672996804, 0.9721216167813365, 0.9951160169060128, 0.9907198009147425, 0.9830947334857474, 0.9722608071779628, 0.9948453588499953, 0.9955685234603959, 0.99586518076858, 0.9733396536760065, 0.9840085539124404, 0.9795696672996804, 0.9961838093442832, 0.9948453588499953, 0.9721463954316714, 0.9862811243958943, 0.9804618371711427, 0.9795696672996804, 0.9961838093442832, 0.9865222753907934, 0.9883380914479819, 0.9948453588499953, 0.9907433116636711, 0.9713627612303517, 0.9770402594586475, 0.9813863669757872, 0.9791139049156985, 0.9891483968028619, 0.9907198009147425, 0.9839421664508501, 0.9960570808130628, 0.9910701638441818, 0.9880584761330816, 0.9832863747144654, 0.9852389037949051, 0.9798561170166096, 0.9811367593766057, 0.9843199990554403, 0.9957741710037472, 0.9772388211596078, 0.9948453588499953, 0.9768179151768146, 0.973221274650569, 0.9948453588499953, 0.9777460931002403, 0.9910701638441818, 0.9955685234603959, 0.9785911474035149, 0.9785911474035149, 0.9785911474035149, 0.9799778959333177, 0.9880671448348856, 0.9771752313067218, 0.9763063890116699, 0.9937506754934207, 0.9804618371711427, 0.97289009462511, 0.9795696672996804, 0.9953261062430949, 0.9774134097010833, 0.9795696672996804, 0.9757701812464574, 0.9795696672996804, 0.99586518076858, 0.9937506754934207, 0.9747272481437038, 0.984281298405201, 0.9728893700939002, 0.9785911474035149, 0.9802784529319599, 0.9910701638441818, 0.9948453588499953, 0.9843894948321822, 0.988110894152343, 0.9948453588499953, 0.9757360976507162, 0.9715988052978268, 0.9837064539067427, 0.9783123870065804, 0.9741377603123145, 0.9767237863225016, 0.9868338786519514, 0.9758969929947593, 0.9952018637222383, 0.9910701638441818, 0.9948453588499953, 0.9894300125928817, 0.988110894152343, 0.9757728559016485, 0.9795696672996804, 0.9781551174011018, 0.9948453588499953, 0.9953261062430949, 0.9744430817753033, 0.9795696672996804, 0.9961838093442832, 0.9821763934792902, 0.985913306854985, 0.9832863747144654, 0.9798561170166096, 0.9764658386407221, 0.979737555462646, 0.9795696672996804, 0.9837693421882332, 0.9781551174011018, 0.9795696672996804, 0.9795696672996804, 0.9781551174011018, 0.995621142906186, 0.9817051878614965, 0.9781551174011018, 0.9948453588499953, 0.9887580747014015, 0.9795696672996804, 0.9830205806271284, 0.9823183003823492, 0.9946678067907553, 0.9815783354637909, 0.9795696672996804, 0.9795696672996804, 0.983386960583789, 0.9948680407214153, 0.9795696672996804, 0.9948453588499953, 0.9934573987327249, 0.9795696672996804, 0.9795696672996804, 0.9948453588499953, 0.9703516131246819, 0.979205106190792, 0.9746410555644958, 0.9795696672996804, 0.9712855723841732, 0.9948453588499953, 0.9721080831987242, 0.9774433206143394, 0.9779998437198236, 0.9781551174011018, 0.9791918799549783, 0.9787511696881593, 0.9764658386407221, 0.9797421173872943, 0.9743570068441164, 0.9757360976507162, 0.9757360976507162, 0.9785911474035149, 0.9907198009147425, 0.9795696672996804, 0.985057744286235, 0.9828649264103249, 0.9948453588499953, 0.99586518076858, 0.9960570808130628, 0.9795696672996804, 0.9907198009147425, 0.9928343675336598, 0.9885186761961334, 0.9748408048004633, 0.9795696672996804, 0.9834293193299795, 0.9934573987327249, 0.9791090520000477, 0.9910701638441818, 0.9781551174011018, 0.9806359040316359, 0.9795696672996804, 0.9937506754934207, 0.9869263928874819, 0.9785536257808043, 0.99586518076858, 0.9795696672996804, 0.9858370926134764, 0.9795696672996804, 0.9781551174011018, 0.9764658386407221, 0.990491910932892, 0.973583949318832, 0.9795696672996804, 0.9953211277700309, 0.986159250951825, 0.9712970315553562, 0.9785911474035149, 0.9785911474035149, 0.9795696672996804, 0.9795696672996804, 0.9866802111738552, 0.9758956352206324, 0.9795696672996804, 0.9924266908368476, 0.9948453588499953, 0.9948453588499953, 0.9948453588499953, 0.9948453588499953, 0.9704716834835956, 0.9829158760240505, 0.9782001104769117, 0.9923379427052568, 0.9720720847473096, 0.9955685234603959, 0.9852741712743472, 0.9752357234658798, 0.9946057442036268, 0.9795696672996804, 0.9948453588499953, 0.9790945728729573, 0.9878616752655786, 0.988110894152343, 0.9863399625875978, 0.9736959515348618, 0.9948453588499953, 0.9795696672996804, 0.9700539315462583, 0.9795696672996804, 0.9785911474035149, 0.9795696672996804, 0.9832406899845074, 0.9704379794115535, 0.9795696672996804, 0.9948453588499953, 0.9937506754934207, 0.9953211277700309, 0.987968887388044, 0.9880837488644069, 0.988110894152343, 0.9757701812464574, 0.994183717872917, 0.9715223908823808, 0.9832863747144654, 0.9948453588499953, 0.9736798995890782, 0.9837693421882332, 0.9718863840163497, 0.9948453588499953, 0.9753487857797419, 0.9785911474035149, 0.9795696672996804, 0.9795696672996804, 0.9715928270621069, 0.9742379733530195, 0.9808722560558023, 0.9701167483003184, 0.9700596165703866, 0.9795696672996804, 0.9733396536760065, 0.9961838093442832, 0.988110894152343, 0.9749754938898354, 0.9876048413357491, 0.9907198009147425, 0.9823387972071006, 0.9780205709048228, 0.9749032905126978, 0.996289177793265, 0.9785911474035149, 0.9807704345212094, 0.9795696672996804, 0.9795696672996804, 0.988110894152343, 0.9708439427013397, 0.9948453588499953, 0.9785911474035149, 0.9747896508438448, 0.9784898535670044, 0.9726976232954992, 0.9955685234603959, 0.9785911474035149, 0.9795696672996804, 0.9939573264046802, 0.9832863747144654, 0.9948453588499953, 0.9824295219465482, 0.9785911474035149, 0.991826714608795, 0.9774110155687209, 0.9739075789691852, 0.99586518076858, 0.9747327940145311, 0.9824070662306075, 0.9765580091605813, 0.9708912667798697, 0.9880671448348856, 0.9795696672996804, 0.9939950997222401, 0.976906879524291, 0.976906879524291, 0.9948453588499953, 0.984966957805029, 0.9948453588499953, 0.9785911474035149, 0.9795696672996804, 0.9740040323776843, 0.9894954985594306, 0.99586518076858, 0.9910701638441818, 0.9948453588499953, 0.9795696672996804, 0.976906879524291, 0.9798561170166096, 0.9781551174011018, 0.9781551174011018, 0.9751783050431099, 0.9710966228611938, 0.99586518076858, 0.9733498100863373, 0.9709780141351649, 0.99586518076858, 0.9907198009147425, 0.983268372372404, 0.9795696672996804, 0.9910701638441818, 0.9809773453347503, 0.9785911474035149, 0.99586518076858, 0.9880671448348856, 0.972809051168508, 0.9917768489860428, 0.9961838093442832, 0.99586518076858, 0.9860717823182488, 0.9836190631627781, 0.985948387001299, 0.9733396536760065, 0.9748875524500673, 0.9757701812464574, 0.9807909880313787, 0.9960027046325207, 0.9707238600872643, 0.9795696672996804, 0.9948453588499953, 0.9821854653628619, 0.9755954622301065, 0.9948453588499953, 0.9747896508438448, 0.9764658386407221, 0.9783594770393792, 0.9774110155687209, 0.9701107711194905, 0.9780205709048228, 0.9948453588499953, 0.978791134900827, 0.988110894152343, 0.9795696672996804, 0.9937506754934207, 0.9948453588499953, 0.9785911474035149, 0.9797421173872943, 0.9732995613438125, 0.9715791769846991, 0.9755761551185956, 0.9795696672996804, 0.9796626718595158, 0.9950947640546488, 0.9843021837963244, 0.9770202790425981, 0.9743776651320941, 0.9725853526359193, 0.9795696672996804, 0.986839234373947, 0.9759064184320217, 0.9875921517223119, 0.9819345235195436, 0.9920009881745505, 0.9795696672996804, 0.9802472404796133, 0.9732552132353491, 0.9879525042568724, 0.9948453588499953, 0.9948453588499953, 0.9827669673145275, 0.9795696672996804, 0.9814569197122429, 0.988110894152343, 0.9770402594586475, 0.9785911474035149, 0.982976821837597, 0.9885419276008844, 0.986510536962601, 0.9804618371711427, 0.9937506754934207, 0.9764658386407221, 0.9823036467048448, 0.9781551174011018, 0.9758977565539796, 0.975688183440229, 0.988110894152343, 0.9704368323997529, 0.9937506754934207, 0.9910701638441818, 0.9798561170166096, 0.9790381286645219, 0.9804873304709862, 0.9961838093442832, 0.9937506754934207, 0.9855302787214406, 0.9817332720310338, 0.9795696672996804, 0.9828649264103249, 0.9951184947998748, 0.9830549649486157, 0.9764658386407221, 0.9787511696881593, 0.9782613443969862, 0.9738577259789486, 0.9770402594586475, 0.9795696672996804, 0.970245426111215, 0.9827435734878015, 0.9715378087421105, 0.9731124090731228, 0.9948453588499953, 0.988110894152343, 0.9948453588499953, 0.9764339235906946, 0.9804618371711427, 0.9948453588499953, 0.9895693680843178, 0.9750629915453699, 0.97039552327877, 0.9814279372682903, 0.9912560376916589, 0.971345334461158, 0.9953261062430949, 0.9832863747144654, 0.9795696672996804, 0.9763671991879616, 0.9785911474035149, 0.99586518076858, 0.9752201815742104, 0.9811011952325034, 0.9948453588499953, 0.9907198009147425, 0.9744146929225203, 0.9796607768857142, 0.9757360976507162, 0.9781551174011018, 0.9714387595125457, 0.9714387595125457, 0.9706389912853475, 0.9795696672996804, 0.9762802243877714, 0.9948453588499953, 0.9783877507134362, 0.9910701638441818, 0.9843393879397787, 0.9933954436813768, 0.9948453588499953, 0.9785911474035149, 0.9744995787540872, 0.9795696672996804, 0.9757360976507162, 0.9832863747144654, 0.9960570808130628, 0.9938119088806342, 0.97714387074799, 0.9948453588499953, 0.9960570808130628, 0.9711634850887297, 0.9880671448348856, 0.9786679098079342, 0.9961838093442832, 0.988110894152343, 0.9795696672996804, 0.970445884726441, 0.9940384123410986, 0.9732391361510773, 0.9910701638441818, 0.9795696672996804, 0.9781245949318108, 0.9740279355742454, 0.99586518076858, 0.9961838093442832, 0.9961838093442832, 0.9824982665121538, 0.9700214213592155, 0.9795696672996804, 0.9948453588499953, 0.9939277597381377, 0.9869263928874819, 0.9948453588499953, 0.9748586631753557, 0.988110894152343, 0.9961838093442832, 0.9724607078142841, 0.9795696672996804, 0.9954336263125911, 0.973583975241726, 0.982914787799524, 0.9843894948321822, 0.9785911474035149, 0.978584088375411, 0.9710415891332539, 0.9768290823786732, 0.9795696672996804, 0.9795696672996804, 0.99586518076858, 0.9944994666591849, 0.9837693421882332, 0.9755556289640475, 0.9795696672996804, 0.9798561170166096, 0.99586518076858, 0.9948453588499953, 0.9948453588499953, 0.994796884876198, 0.9781551174011018, 0.9948453588499953, 0.9709780141351649, 0.9708828803716555, 0.988110894152343, 0.9805829456518274, 0.9869201781311449, 0.9832863747144654, 0.9948453588499953, 0.9733396536760065, 0.9795696672996804, 0.9955685234603959, 0.9759064184320217, 0.9798561170166096, 0.9798561170166096, 0.9781827000657121, 0.9795696672996804, 0.9785911474035149, 0.9785911474035149, 0.9731981509112594, 0.9948453588499953, 0.9744271820192962, 0.9950947640546488, 0.9739777464067236, 0.9948453588499953, 0.9832541721679657, 0.9788856175840798, 0.9813642798638753, 0.9785911474035149, 0.9948453588499953, 0.9804618371711427, 0.9711320575506107, 0.9781551174011018, 0.99586518076858, 0.99586518076858, 0.9795696672996804, 0.9948453588499953, 0.9731765234611743, 0.9948453588499953, 0.9815681194951688, 0.9948453588499953, 0.9785911474035149, 0.9795696672996804, 0.9714762214631023, 0.9710845396586477, 0.9837047902218484, 0.9851863771424091, 0.9795696672996804, 0.9807630821054141, 0.9824756421308639, 0.9759064184320217, 0.9703066011745737, 0.9941567314527066, 0.9763846390252646, 0.9948453588499953, 0.9948453588499953, 0.9717367737078239, 0.9903586787134128, 0.9747321756686622, 0.9785911474035149, 0.9795696672996804, 0.9795696672996804, 0.9735694764697741, 0.9774110155687209, 0.9849779680152412, 0.9795696672996804, 0.9853625742407527, 0.9795696672996804, 0.9708756136362208, 0.9846022563987329, 0.9739378259336003, 0.9790381286645219, 0.9785911474035149, 0.9869263928874819, 0.9785911474035149, 0.9785536257808043, 0.9795696672996804, 0.9955685234603959, 0.9948453588499953, 0.99586518076858, 0.9948453588499953, 0.9948453588499953, 0.9948453588499953, 0.9948735151327136, 0.9937506754934207, 0.9785911474035149, 0.9711042123656888, 0.9802601678780681, 0.9733498100863373, 0.99586518076858, 0.9781551174011018, 0.9890362597857512, 0.9785911474035149, 0.9795696672996804, 0.9948453588499953, 0.9795696672996804, 0.9714115262280395, 0.99586518076858, 0.99586518076858, 0.9785911474035149, 0.9757701812464574, 0.9907198009147425, 0.9781551174011018, 0.983393453509925, 0.972239538627895, 0.9912560376916589, 0.9896374493805248, 0.975114904976379, 0.9757701812464574, 0.9703839187820759, 0.9795696672996804, 0.9883091169031744, 0.9792316745931734, 0.9730108978533482, 0.9734239718269819, 0.9961838093442832, 0.9793977148071997, 0.9811848088663346, 0.9891317493131849, 0.9743299042869603, 0.9948453588499953, 0.9826667798245249, 0.9948453588499953, 0.9751431827882355, 0.9827157830169911, 0.9948453588499953, 0.97822902076023, 0.9764658386407221, 0.9832863747144654, 0.9798561170166096, 0.9798561170166096, 0.9948453588499953, 0.9795696672996804, 0.970232415741243, 0.9795696672996804, 0.991826714608795, 0.981225918486915, 0.9795696672996804, 0.9795696672996804, 0.9847363143246195, 0.994183717872917, 0.9939573264046802, 0.9738963695591731, 0.9795696672996804, 0.9907198009147425, 0.9721214022289777, 0.9948453588499953, 0.9934710821368078, 0.9744146929225203, 0.9837693421882332, 0.9914037133929331, 0.9756066200686261, 0.9795696672996804, 0.9795696672996804, 0.9705596496454744, 0.988110894152343, 0.9961838093442832, 0.9828649264103249, 0.9709780141351649, 0.9724841274671575, 0.9714387595125457, 0.9865868111245845, 0.9753487857797419, 0.9948453588499953, 0.9948453588499953, 0.9700821505823465, 0.9948453588499953, 0.9780692811881505, 0.9780492879542592, 0.9795696672996804, 0.9961838093442832, 0.9799231326601578, 0.99586518076858, 0.9792421678592105, 0.9804618371711427, 0.9948453588499953, 0.9795696672996804, 0.9711771452463459, 0.9795696672996804, 0.9733396536760065, 0.9785911474035149, 0.9948453588499953, 0.9746635176897018, 0.9813528246345947, 0.981937733307508, 0.9938152832529422, 0.9910701638441818, 0.9961838093442832, 0.9854584475698418, 0.9948453588499953, 0.971054191441156, 0.9760172002367685, 0.9742773131981204, 0.9762059835974357, 0.986839234373947, 0.976388290694182, 0.9711696535550928, 0.9961838093442832, 0.9795696672996804, 0.994796884876198, 0.9948453588499953, 0.9708173267123705, 0.9795696672996804, 0.9791890841757755, 0.9907198009147425, 0.9795696672996804, 0.9937506754934207, 0.99586518076858, 0.9795696672996804, 0.9795696672996804, 0.9785911474035149, 0.9795696672996804, 0.9907198009147425, 0.979903341196795, 0.9795696672996804, 0.99586518076858, 0.9709647384512999, 0.9948453588499953, 0.9785911474035149, 0.9795696672996804, 0.9924645843780121, 0.9732860380017754, 0.9938832745092208, 0.986679949713746, 0.9948453588499953, 0.9817998966371356, 0.9831223349868333, 0.9881798493682777, 0.9798561170166096, 0.9900560986039925, 0.9939573264046802, 0.9928343675336598, 0.9953211277700309, 0.9924266908368476, 0.9740295669361029, 0.9948453588499953, 0.9896863593523253, 0.9840135083313972, 0.9797421173872943, 0.9795696672996804, 0.9948453588499953, 0.9795696672996804, 0.9948453588499953, 0.99586518076858, 0.9728773148410128, 0.9785911474035149, 0.9948453588499953, 0.983393453509925, 0.9775544947837279, 0.9775264013206417, 0.9798450621044016, 0.9795966596266193, 0.9804618371711427, 0.995621142906186, 0.9743962248394953, 0.988110894152343, 0.9845152557583521, 0.9795696672996804, 0.986839234373947, 0.9912560376916589, 0.99586518076858, 0.99586518076858, 0.9815881866191305, 0.9886890993600369, 0.9784673993573318, 0.9785911474035149, 0.9824803433452989, 0.9785911474035149, 0.9948453588499953, 0.9960570808130628, 0.9785911474035149, 0.9764658386407221, 0.9718123077601274, 0.9795696672996804, 0.9948453588499953, 0.9867430884570194, 0.9740946668320177, 0.9948453588499953, 0.9785911474035149, 0.9818030048573267, 0.9781551174011018, 0.9781551174011018, 0.9868586053794087, 0.99586518076858, 0.9781551174011018, 0.9781551174011018, 0.9711439132634021, 0.9748008666939876, 0.9818699613581888, 0.9744152189706887, 0.9837693421882332, 0.9817332720310338, 0.9948453588499953, 0.983393453509925, 0.9948453588499953, 0.9907198009147425, 0.9821780613679526, 0.9739043346296106, 0.9773946948612575, 0.9961838093442832, 0.9910701638441818, 0.9728377304738041, 0.9785911474035149, 0.9948453588499953, 0.99586518076858, 0.9781551174011018, 0.9948453588499953, 0.9795696672996804, 0.9785911474035149, 0.9907198009147425, 0.9937506754934207, 0.9743675290720946, 0.9880671448348856, 0.9740193998636737, 0.9785911474035149, 0.9948453588499953, 0.9880671448348856, 0.9795696672996804, 0.9785911474035149, 0.9795696672996804, 0.9769221332656794, 0.9948453588499953, 0.9805656164498213, 0.9948453588499953, 0.9951160169060128, 0.9802189900558672, 0.9804618371711427, 0.9715637974177834, 0.9961838093442832, 0.9853858895130322, 0.9781551174011018, 0.9937506754934207, 0.9795696672996804, 0.9795696672996804, 0.9948453588499953, 0.9948453588499953, 0.9948453588499953, 0.9948453588499953, 0.9941567314527066, 0.9837693421882332, 0.988110894152343, 0.9907198009147425, 0.9795696672996804, 0.9795696672996804, 0.9948453588499953, 0.9798561170166096, 0.9795696672996804, 0.9840241909682742, 0.9757706488846986, 0.9785996831718513, 0.9733097362005713, 0.9720674574877731, 0.9961838093442832, 0.982517237562533, 0.9750629915453699, 0.9765090289107856, 0.9785911474035149, 0.994549239972012, 0.9781551174011018, 0.9781551174011018, 0.9948453588499953, 0.97876589235984, 0.9781551174011018, 0.9732619323560865, 0.9798561170166096, 0.9786283998855047, 0.99586518076858, 0.9795696672996804, 0.988110894152343, 0.9774719198307915, 0.983832805578003, 0.9790526715830652, 0.9770402594586475, 0.9709850802536114, 0.9961838093442832, 0.9869201781311449, 0.9785911474035149, 0.9795696672996804, 0.9785911474035149, 0.9795696672996804, 0.9939573264046802, 0.9869263928874819, 0.9921922812230028, 0.983393453509925, 0.9739568234224433, 0.983393453509925, 0.9776984614465835, 0.972166893689001, 0.9955685234603959, 0.9768312248785094, 0.9804618371711427, 0.9795696672996804, 0.99586518076858, 0.9837693421882332, 0.9948453588499953, 0.982955508123293, 0.9948919988335547, 0.9829348166904545, 0.9808562187965706, 0.9738811740626854, 0.9951160169060128, 0.9781551174011018, 0.980320095930151, 0.9781551174011018, 0.9709780141351649, 0.9948453588499953, 0.9857035965352926, 0.9757701812464574, 0.9910701638441818, 0.9806804248023974, 0.9939573264046802, 0.9827157830169911, 0.9832762508506324, 0.981140288278292, 0.9795696672996804, 0.9948453588499953, 0.9951763393971509, 0.988110894152343, 0.9961838093442832, 0.9775788420856841, 0.9747707999821971, 0.9795696672996804, 0.9746410555644958, 0.9951352247276123, 0.9910701638441818, 0.9740352328571458, 0.9718746199757456, 0.9795696672996804, 0.9795696672996804, 0.9774719198307915, 0.9961838093442832, 0.9836253035380634, 0.9930971819540462, 0.9791090520000477, 0.9950947640546488, 0.9948453588499953, 0.9764658386407221, 0.9795696672996804, 0.9724844338947795, 0.9948453588499953, 0.9795696672996804, 0.9768971489428229, 0.9716604841771553, 0.9790135282263999, 0.974342481124305, 0.9948453588499953, 0.9781551174011018, 0.9764658386407221, 0.9764658386407221, 0.9744678758569059, 0.9845804026104249, 0.99586518076858, 0.9795696672996804, 0.9880671448348856, 0.9777341155358072, 0.9781551174011018, 0.9832637093047037, 0.994796884876198, 0.9734731144846186, 0.9820027053430384, 0.9736815671085665, 0.9758772083512182, 0.9948453588499953, 0.9896375719017416, 0.9798561170166096, 0.9719303607153292, 0.9767980370448582, 0.9795696672996804, 0.9856378181013661, 0.9832541721679657, 0.9961838093442832, 0.9762429333670422, 0.9762429333670422, 0.9797421173872943, 0.9926117024140457, 0.9795696672996804, 0.9795696672996804, 0.9778644881150242, 0.9928291769026782, 0.9795696672996804, 0.9937506754934207, 0.9735218368170273, 0.9763176145816439, 0.9795696672996804, 0.9786794723671712, 0.9961838093442832, 0.9907198009147425, 0.9907198009147425, 0.9854584475698418, 0.9795696672996804, 0.9754759380889277, 0.99586518076858, 0.9818105142034877, 0.9785911474035149, 0.9795696672996804, 0.9791090520000477, 0.9948453588499953, 0.9837693421882332, 0.9948453588499953, 0.9948453588499953, 0.9718863840163497, 0.9854362986032686, 0.9781551174011018, 0.9781551174011018, 0.9937506754934207, 0.9727774531289943, 0.9716618280652892, 0.9785911474035149, 0.99586518076858, 0.9718612269842948, 0.9878017044038515, 0.9795696672996804, 0.9754035444319625, 0.9948453588499953, 0.9795696672996804, 0.9948453588499953, 0.9955685234603959, 0.9748475414638801, 0.978430030430121, 0.9820863540338078, 0.9785911474035149, 0.97160253405242, 0.97822902076023, 0.9948453588499953, 0.9948453588499953, 0.9718863840163497, 0.9728037525666117, 0.9736552214373146, 0.9848533942347728, 0.9963087465539908, 0.9774110155687209, 0.970301787435953, 0.9745380370855398, 0.9724865309324984, 0.972538498398544, 0.9948453588499953, 0.9775666447576815, 0.9724783637098098, 0.9804618371711427, 0.9795696672996804, 0.9928357963340347, 0.9764658386407221, 0.9832863747144654, 0.9837693421882332, 0.971269451484177, 0.9824919673006137, 0.9948453588499953, 0.9720457557009118, 0.986839234373947, 0.988110894152343, 0.9721986280248476, 0.9888306613479227, 0.9785911474035149, 0.9774110155687209, 0.99586518076858, 0.9768027974470183, 0.9719876933598889, 0.9785911474035149, 0.9795696672996804, 0.9837729257423263, 0.9948453588499953, 0.9701686422971334, 0.9838868238470059, 0.9794446414584463, 0.988110894152343, 0.9706821811720294, 0.988110894152343, 0.99586518076858, 0.9795696672996804, 0.9948453588499953, 0.9798561170166096, 0.99586518076858, 0.9702174642841971, 0.9948453588499953, 0.9844280561353314, 0.9749849806332164, 0.9780770471181498, 0.9770702118170408, 0.9812954096856173, 0.9802189900558672, 0.994183717872917, 0.9798561170166096, 0.9713362155332852, 0.99586518076858, 0.9731981509112594, 0.9785683076907007, 0.9786679098079342, 0.9939277597381377, 0.9885877858552207, 0.9781551174011018, 0.9753487857797419, 0.9802189900558672, 0.9804618371711427, 0.9795696672996804, 0.9948453588499953, 0.9910701638441818, 0.9860724283365292, 0.9724139703933039, 0.9789294223471063, 0.988110894152343, 0.9904348126114283, 0.9955685234603959, 0.982310568681368, 0.991826714608795, 0.9732833204871069, 0.9955685234603959, 0.9939820604639044, 0.988110894152343, 0.9948453588499953, 0.980253165495382, 0.978430030430121, 0.9948453588499953, 0.9795696672996804, 0.99586518076858, 0.9948453588499953, 0.9961838093442832, 0.9907198009147425, 0.9862150296999878, 0.9783638814115868, 0.9739713660956172, 0.9758838628320592, 0.9798561170166096, 0.99586518076858, 0.9749181267728065, 0.9768993490079956, 0.9703324218153175, 0.9757701812464574, 0.9900560986039925, 0.9785911474035149, 0.9859715704803891, 0.9961838093442832, 0.9832863747144654, 0.9781551174011018, 0.9704648612587945, 0.9732503898012698, 0.9795696672996804, 0.9754259611022517, 0.9961838093442832, 0.9785911474035149, 0.9773946948612575, 0.9764658386407221, 0.9832863747144654, 0.9765470263651576, 0.9951160169060128, 0.99586518076858, 0.9726960320768551, 0.985936262879207, 0.9750629915453699, 0.9750590381485608, 0.99586518076858, 0.9795696672996804, 0.9948453588499953, 0.9785911474035149, 0.9785911474035149, 0.9795696672996804, 0.9948453588499953, 0.9770402594586475, 0.9795696672996804, 0.9794618011055294, 0.9785911474035149, 0.9847348868457727, 0.9795696672996804, 0.9785911474035149, 0.9820823147667861, 0.9795696672996804, 0.9700907344467233, 0.9795696672996804, 0.9948453588499953, 0.9795696672996804, 0.9733498100863373, 0.9764658386407221, 0.9955685234603959, 0.9937506754934207, 0.9948453588499953, 0.9733396536760065, 0.975013056703038, 0.9705175048777318, 0.9795696672996804, 0.9778312304313977, 0.9772354771123818, 0.9791090520000477, 0.9955685234603959, 0.9786135327348138, 0.9733396536760065, 0.9948453588499953, 0.9837693421882332, 0.9811975053546635, 0.9766432629130024, 0.9752792708812065, 0.9795696672996804, 0.9798561170166096, 0.9948453588499953, 0.9704009291813361, 0.994183717872917, 0.9795696672996804, 0.9795696672996804, 0.9785911474035149, 0.988110894152343, 0.9795696672996804, 0.9792457743857615, 0.9706984531394226, 0.9804618371711427, 0.9726977001982932, 0.9795696672996804, 0.9781168700547764, 0.978806140782617, 0.9737627115845453, 0.9703011095887569, 0.970147863082067, 0.9880671448348856, 0.9948453588499953, 0.9795696672996804, 0.9764658386407221, 0.9785911474035149, 0.9795696672996804, 0.979565637727615, 0.99586518076858, 0.9953429718498603, 0.9826082762853585, 0.9795696672996804, 0.9785536257808043, 0.9948453588499953, 0.9839830643184689, 0.9802760422397709, 0.9710110744376567, 0.9785911474035149, 0.9834228955246743, 0.9795696672996804, 0.9948453588499953, 0.9852323163069365, 0.9726331451618287, 0.9721463954316714, 0.9802189900558672, 0.9880671448348856, 0.9948453588499953, 0.9795696672996804, 0.9847072876554195, 0.9795696672996804, 0.976431416867241, 0.9757701812464574, 0.9753487857797419, 0.977033971960918, 0.9795696672996804, 0.9757499395787805, 0.9948453588499953, 0.9783717461435394, 0.9746486462719345, 0.9795696672996804, 0.9915782120621658, 0.9910701638441818, 0.9776534977811572, 0.9795696672996804, 0.9795696672996804, 0.9795696672996804, 0.9705639073382955, 0.9774110155687209, 0.9759294167352955, 0.9747896508438448, 0.980983740733473, 0.977840889124035, 0.9963059714838907, 0.9948453588499953, 0.9795696672996804, 0.9948453588499953, 0.9795696672996804, 0.9878632487333908, 0.9785911474035149, 0.9714233306615614, 0.9948453588499953, 0.9795696672996804, 0.9804618371711427, 0.9848142546977278, 0.9776787954467667, 0.9800620289980536, 0.9770842466760965, 0.9730015137098917, 0.988110894152343, 0.9709192801787153, 0.9960570808130628, 0.9813031816074789, 0.9948453588499953, 0.9702902417946839, 0.9948453588499953, 0.9804618371711427, 0.9948453588499953, 0.9948453588499953, 0.9789802943832826, 0.9795696672996804, 0.988110894152343, 0.9812214059217015, 0.9845366469223076, 0.9706389912853475, 0.9795696672996804, 0.9795696672996804, 0.9948453588499953, 0.9795696672996804, 0.9804618371711427, 0.9761368465969972, 0.9948453588499953, 0.9961838093442832, 0.9948453588499953, 0.9770402594586475, 0.9795696672996804, 0.9795696672996804, 0.9774100428989692, 0.9753487857797419, 0.9855419976656654, 0.9795696672996804, 0.9781551174011018, 0.9781551174011018, 0.9720438021009865, 0.9781551174011018, 0.9955685234603959, 0.9785001881243448, 0.9852935704795701, 0.9948453588499953, 0.9780270304510479, 0.9733439655764591, 0.9910701638441818, 0.980206852679262, 0.9828987410930137, 0.9827606538246626, 0.988110894152343, 0.9951069303541139, 0.9704103714377398, 0.99586518076858, 0.9948453588499953, 0.9795696672996804, 0.9774085201478006, 0.9848222757050046, 0.9795696672996804, 0.9845731163578324, 0.9832863747144654, 0.9700226473255965, 0.9950951582115951, 0.9907198009147425, 0.9795696672996804, 0.9795696672996804, 0.9795696672996804, 0.9879610297531394, 0.972110778864791, 0.9822044324311006, 0.9795696672996804, 0.9873684501104844, 0.9804867518860293, 0.9795696672996804, 0.9709357061511602, 0.9948453588499953, 0.99586518076858, 0.9948453588499953, 0.9753487857797419, 0.9748567115151697, 0.9926118556110701, 0.9819003497149723, 0.9785911474035149, 0.9795696672996804, 0.9948735151327136, 0.9954143080455587, 0.9961838093442832, 0.970245426111215, 0.9948453588499953, 0.9723318365692504, 0.9760172002367685, 0.9798561170166096, 0.9742613765993345, 0.9771055896216875, 0.9867736583654, 0.9948453588499953, 0.9758249847447145, 0.9880671448348856, 0.9758772083512182, 0.9752210266051272, 0.9802345264427956, 0.9948453588499953, 0.9798561170166096, 0.9869201781311449, 0.9785911474035149, 0.9795696672996804, 0.9737266186086024, 0.988110894152343, 0.9941717481236055, 0.9948453588499953, 0.9871099109041653, 0.994183717872917, 0.9781551174011018, 0.9890552988662276, 0.9770402594586475, 0.9729151222016112, 0.9749206586869842, 0.9758238818056811, 0.9710840676912527, 0.9733396536760065, 0.9925831898222283, 0.975614821341584, 0.9791918799549783, 0.9802186531020237, 0.9766020259539416, 0.9959831277290937, 0.9769054466010935, 0.976116377371826, 0.9832863747144654, 0.9760648988035213, 0.972272017252997, 0.9948453588499953, 0.9948453588499953, 0.9832863747144654, 0.9953261062430949, 0.9963087465539908, 0.9797421173872943, 0.9802479262969478, 0.9757360976507162, 0.9802479262969478, 0.9726140223702469, 0.9954143080455587, 0.9855764616179958, 0.9795696672996804, 0.9862165105674544, 0.9757701812464574, 0.9856238169120035, 0.9855858288289813, 0.9804282932854229, 0.9948453588499953, 0.9948453588499953, 0.9948453588499953, 0.9913410758357125, 0.9795696672996804, 0.9754752205938909, 0.9746858242073789, 0.9785911474035149, 0.9795696672996804, 0.9702555765461571, 0.9737748682782024, 0.9937506754934207, 0.9750709713223429, 0.9785911474035149, 0.9948453588499953, 0.9937506754934207, 0.9798392290959812, 0.9795696672996804, 0.9795696672996804, 0.9737709147307598, 0.9735784562569366, 0.9832863747144654, 0.9900560986039925, 0.988110894152343, 0.9954683821335064, 0.9948453588499953, 0.9729292837616792, 0.9938119088806342, 0.9795696672996804, 0.9804618371711427, 0.9738763699667188, 0.9791090520000477, 0.9785911474035149, 0.9883073610582777, 0.9854332354299316, 0.9948453588499953, 0.9789162666663581, 0.980651502307738, 0.9754426972188168, 0.9948453588499953, 0.9757701812464574, 0.9795696672996804, 0.9713530835404628, 0.9733396536760065, 0.9919277905100807, 0.9753956712763985, 0.9764658386407221, 0.9764658386407221, 0.9948453588499953, 0.9948453588499953, 0.9948453588499953, 0.9913740522002913, 0.9781551174011018, 0.972714363640204, 0.9795696672996804, 0.9913740522002913, 0.9760963743655591, 0.9749964269352283, 0.9826733824952886, 0.9795696672996804, 0.9925716066828889, 0.984696795730381, 0.9907198009147425, 0.9754614394828444, 0.9954866860416177, 0.9827157830169911, 0.9785911474035149, 0.9783594770393792, 0.9781551174011018, 0.9774274283558172, 0.9757701812464574, 0.9743398691510146, 0.99586518076858, 0.9798561170166096, 0.9763451343575967, 0.9871706052339239, 0.9896900600007397, 0.9738384683834522, 0.99586518076858, 0.9851731161393296, 0.9795696672996804, 0.9795696672996804, 0.9827315616458018, 0.9727596179361191, 0.9907198009147425, 0.9795696672996804, 0.9733153976059306, 0.9720793690189895, 0.9961838093442832, 0.9781551174011018, 0.9798561170166096, 0.9798561170166096, 0.9948453588499953, 0.99586518076858, 0.9795696672996804, 0.9764658386407221, 0.9949327518573661, 0.9816292632287023, 0.9827157830169911, 0.9785911474035149, 0.9760009456782024, 0.9795696672996804, 0.9706959781766339, 0.9836411883338958, 0.9720810512856417, 0.9924266908368476, 0.9885877858552207, 0.9861861950658469, 0.9785911474035149, 0.9948453588499953, 0.9960570808130628, 0.9702735934297814, 0.9955685234603959, 0.9785911474035149, 0.9961838093442832, 0.9795696672996804, 0.9795696672996804, 0.9764675643555046, 0.9759184241576643, 0.9795696672996804, 0.9795696672996804, 0.9959768382045068, 0.9795696672996804, 0.9762161846897963, 0.9859940433895055, 0.9796700846535557, 0.9704770066491241, 0.9924602902178553, 0.9939573264046802, 0.99586518076858, 0.9753487857797419, 0.9795696672996804, 0.9948453588499953, 0.9907198009147425, 0.9740716846104296, 0.9795696672996804, 0.9948453588499953, 0.9757360976507162, 0.9928343675336598, 0.9877788098737681, 0.9961838093442832, 0.988110894152343, 0.9948453588499953, 0.9810423375384606, 0.9869263928874819, 0.9948453588499953, 0.9785911474035149, 0.978478817114739, 0.9730575915058327, 0.9785683076907007, 0.9795696672996804, 0.9724478365138544, 0.9851731161393296, 0.9871244057107393, 0.9907198009147425, 0.9948453588499953, 0.9825932679256405, 0.9880146120517819, 0.9948453588499953, 0.9757360976507162, 0.972761068539342, 0.979464784547471, 0.9795696672996804, 0.9757701812464574, 0.9948453588499953, 0.9795696672996804, 0.9785911474035149, 0.9869263928874819, 0.9948453588499953, 0.9780492879542592, 0.9948453588499953, 0.9804618371711427, 0.9795696672996804, 0.9945733758430697, 0.9795696672996804, 0.9948453588499953, 0.9833319952710349, 0.9805492389242242, 0.980705124528044, 0.988176429051679, 0.9795696672996804, 0.9781551174011018, 0.9722670281137197, 0.9795696672996804, 0.9904854006607051, 0.9795696672996804, 0.9948453588499953, 0.9953261062430949, 0.9820469270953408, 0.9951160169060128, 0.9757360976507162, 0.9948453588499953, 0.9948453588499953, 0.9795696672996804, 0.9795696672996804, 0.9749206253704308, 0.9832863747144654, 0.9798561170166096, 0.9948453588499953, 0.9795696672996804, 0.9914721686382536, 0.9843366686777104, 0.9817332720310338, 0.9947391099238052, 0.9781551174011018, 0.9781551174011018, 0.9880671448348856, 0.9795696672996804, 0.9886890993600369, 0.9792651640760136, 0.9799610204161499, 0.9820469270953408, 0.9948453588499953, 0.9705825193071173, 0.9729197168864016, 0.9951160169060128, 0.9955685234603959, 0.9830735258314527, 0.9795696672996804, 0.9795696672996804, 0.9866195538880547, 0.9795696672996804, 0.9769023345794833, 0.9785911474035149, 0.9795696672996804, 0.9743398691510146, 0.9948453588499953, 0.9961838093442832, 0.9738963695591731, 0.9764658386407221, 0.972375282856539, 0.9769650372240735, 0.9753268743163873, 0.9718863840163497, 0.9948453588499953, 0.9795696672996804, 0.9823616270960515, 0.9785911474035149, 0.9795696672996804, 0.9757015262607505, 0.9709222509033052, 0.99586518076858, 0.9795696672996804, 0.9795696672996804, 0.9795696672996804, 0.9948453588499953, 0.970933989072433, 0.9939573264046802, 0.9857362604367412, 0.9784897775132096, 0.9781551174011018, 0.9781551174011018, 0.9798561170166096, 0.974361395314528, 0.9907198009147425, 0.9795696672996804, 0.9758853289948621, 0.97583672360793, 0.972244842559146, 0.9795696672996804, 0.9825602328317534, 0.9795696672996804, 0.9789925950913837, 0.9725624530539524, 0.9955685234603959, 0.9785911474035149, 0.9872671654937859, 0.9853284233606713, 0.9767067207496523, 0.9948453588499953, 0.9739105064089623, 0.9948453588499953, 0.9818105142034877, 0.9948453588499953, 0.9795696672996804, 0.9774967830118354, 0.9948453588499953, 0.9948453588499953, 0.9946697089852989, 0.9708979307659519, 0.9795696672996804, 0.9757002482571867, 0.9795696672996804, 0.9746897378975674, 0.9785911474035149, 0.9763935392202104, 0.9744420379004263, 0.9782903523818546, 0.9770391350629845, 0.9907198009147425, 0.976053192842919, 0.9795696672996804, 0.974989172470021, 0.987113392417081, 0.9857362604367412, 0.9791355727083685, 0.9795696672996804, 0.9945087959564863, 0.9733281717364937, 0.9912560376916589, 0.9725088059542933, 0.9906474377937114, 0.9948453588499953, 0.9910701638441818, 0.9832863747144654, 0.9762429333670422, 0.9785911474035149, 0.9700876579749937, 0.9939472503343121, 0.9903649893451388, 0.9828284979536556, 0.9833718393495036, 0.9948453588499953, 0.9859674358287587, 0.970756698036204, 0.9876124278813619, 0.970307585365997, 0.9781551174011018, 0.9948453588499953, 0.9758772083512182, 0.9757701812464574, 0.9795696672996804, 0.9948453588499953, 0.974894193383944, 0.9793052895729764, 0.9948453588499953, 0.9815760001950835, 0.988110894152343, 0.9764658386407221, 0.9785911474035149, 0.984696795730381, 0.9781551174011018, 0.9781551174011018, 0.99586518076858, 0.9961838093442832, 0.9819749767218687, 0.979205106190792, 0.9785911474035149, 0.9939277597381377, 0.9846647924620976, 0.9783020855351516, 0.9740667154894028, 0.9948453588499953, 0.9785911474035149, 0.9804320251001544, 0.9841343462916508, 0.9948453588499953, 0.9840967926560461, 0.9945214213333285, 0.988110894152343, 0.9740998090293481, 0.9953211277700309, 0.9869263928874819, 0.977313747569167, 0.9867430884570194, 0.9795696672996804, 0.9947348875519898, 0.9910701638441818, 0.9948453588499953, 0.9753487857797419, 0.986839234373947, 0.9948453588499953, 0.9930971819540462, 0.9795696672996804, 0.9721038224735559, 0.9812623948181166, 0.9948453588499953, 0.9948453588499953, 0.9961838093442832, 0.9948453588499953, 0.9866461082110692, 0.9715792059198285, 0.9795696672996804, 0.9948453588499953, 0.9944618054759793, 0.9795696672996804, 0.9786679098079342, 0.9942153680247875, 0.9785911474035149, 0.9722953515024264, 0.9820027053430384, 0.9894467487988772, 0.9781199526641863, 0.9795696672996804, 0.9795696672996804, 0.9799379615227942, 0.9865212910140163, 0.9804618371711427, 0.9736490264570814, 0.9833357987559264, 0.9782750923241166, 0.9798561170166096, 0.99586518076858, 0.9937506754934207, 0.9955685234603959, 0.9785911474035149, 0.9825902812428833, 0.9795696672996804, 0.9939573264046802, 0.9795696672996804, 0.9722625947792458, 0.9927043197729681, 0.988110894152343, 0.9963816263189559, 0.9839491405659644, 0.9948453588499953, 0.9953261062430949, 0.9884593861010235, 0.9799950137897301, 0.9953211277700309, 0.9795696672996804, 0.9948453588499953, 0.9790584354229738, 0.9770402594586475, 0.9804618371711427, 0.9795696672996804, 0.9946697089852989, 0.9795696672996804, 0.9781551174011018, 0.9955685234603959, 0.9948453588499953, 0.9870259058648481, 0.9762429333670422, 0.988110894152343, 0.9785911474035149, 0.9795696672996804, 0.9804618371711427, 0.9869263928874819, 0.9709331905830979, 0.9785911474035149, 0.9961838093442832, 0.9709780141351649, 0.9948453588499953, 0.9948453588499953, 0.9785911474035149, 0.9785911474035149, 0.9712472391865034, 0.9960570808130628, 0.9804532687350892, 0.9795696672996804, 0.9741784467730104, 0.9785911474035149, 0.9795696672996804, 0.9832863747144654, 0.9834033296261672, 0.974428465611344, 0.9948453588499953, 0.9795696672996804, 0.9757701812464574, 0.9744146929225203, 0.977609894154173, 0.9961838093442832, 0.9785911474035149, 0.9795696672996804, 0.9772090013622812, 0.9948453588499953, 0.9728704252898427, 0.9718863840163497, 0.9725229018939415, 0.9816301292580817, 0.9795696672996804, 0.9785911474035149, 0.9744270082559638, 0.9768696430902664, 0.9948453588499953, 0.99586518076858, 0.9795696672996804, 0.9738133481092854, 0.9798561170166096, 0.9871764404202963, 0.9948453588499953, 0.9937506754934207, 0.9785911474035149, 0.9797331135879733, 0.9722252211998609, 0.9855011733291762, 0.9782517591515639, 0.9925869220869017, 0.9867561252463343, 0.9795696672996804, 0.9832863747144654, 0.9757324904622451, 0.9795696672996804, 0.9825285216857897, 0.9948453588499953, 0.9832863747144654, 0.9948453588499953, 0.9755601224402881, 0.9750278158442549, 0.9750278158442549, 0.9881314251113419, 0.9795696672996804, 0.9795696672996804, 0.9747378908245474, 0.99586518076858, 0.9880671448348856, 0.9948453588499953, 0.9948453588499953, 0.9795696672996804, 0.9948453588499953, 0.9781551174011018, 0.9781551174011018, 0.9866180883318768, 0.9864141705671886, 0.975393065541787, 0.9863110792953386, 0.9742613765993345, 0.9785683076907007, 0.9953261062430949, 0.9960570808130628, 0.9747150478129512, 0.979918174834934, 0.9948453588499953, 0.9948453588499953, 0.9707228747335506, 0.9795696672996804, 0.9795696672996804, 0.9785911474035149, 0.9795696672996804, 0.9758465760021742, 0.99586518076858, 0.9860600047120102, 0.9785536257808043, 0.988110894152343, 0.9801654153677918, 0.972919429828634, 0.9781551174011018, 0.9781551174011018, 0.9961791724861926, 0.9867430884570194, 0.9907198009147425, 0.9795696672996804, 0.989836889932137, 0.9910701638441818, 0.9961838093442832, 0.99586518076858, 0.9781551174011018, 0.9744678758569059, 0.9948453588499953, 0.9802873686654486, 0.9948453588499953, 0.9781551174011018, 0.9791440913011595, 0.9730070653374953, 0.9948453588499953, 0.9869263928874819, 0.988110894152343, 0.9948453588499953, 0.9712992567712804, 0.9948453588499953, 0.9948453588499953, 0.988110894152343, 0.9888280359612633, 0.974261825218324, 0.988110894152343, 0.9862394989054312, 0.9868933905998013, 0.9948453588499953, 0.9752081444346444, 0.9708105711792319, 0.9795696672996804, 0.9826763880002624, 0.981225918486915, 0.9802364072760552, 0.9955685234603959, 0.9795696672996804, 0.9955685234603959, 0.9781551174011018, 0.9795696672996804, 0.9786679098079342, 0.9734026604902891, 0.9955685234603959, 0.9798561170166096, 0.9798561170166096, 0.9795696672996804, 0.9778338680855655, 0.9783929904045784, 0.977651684334599, 0.9746408797965697, 0.9785911474035149, 0.9868932464177526, 0.9948453588499953, 0.990316479136534, 0.9747572183506831, 0.9789295555262701, 0.9772320137219129, 0.975614821341584, 0.9799950137897301, 0.9910701638441818, 0.9948453588499953, 0.9910701638441818, 0.9948453588499953, 0.9863033157200394, 0.9960570808130628, 0.9785911474035149, 0.9728658961312093, 0.9770435178940304, 0.9773339116008353, 0.9820706715586139, 0.9823618489474731, 0.9871026856825659, 0.9960570808130628, 0.9760640149724175, 0.9948453588499953, 0.9895688881078291, 0.9738963695591731, 0.9904909103184472, 0.9734631525556032, 0.9795696672996804, 0.9785911474035149, 0.9795696672996804, 0.9795696672996804, 0.9757599781697135, 0.9747896508438448, 0.9869263928874819, 0.9948453588499953, 0.9948453588499953, 0.9839007165326528, 0.9948453588499953, 0.9841617172460834, 0.988110894152343, 0.9778271325781074, 0.9785911474035149, 0.9950947640546488, 0.9764658386407221, 0.9955685234603959, 0.988110894152343, 0.9728365782309829, 0.9728773148410128, 0.9795696672996804, 0.9731197017311248, 0.9865940677150019, 0.9951160169060128, 0.9843722363938815, 0.9887299932886289, 0.9933606168272907, 0.9795696672996804, 0.9760374298711727, 0.9781551174011018, 0.9948453588499953, 0.9960570808130628, 0.973342064077713, 0.9850992662444743, 0.9961838093442832, 0.9795696672996804, 0.9768539478060339, 0.9729596747828307, 0.995621142906186, 0.9785911474035149, 0.9838137071407783, 0.9838838994237136, 0.9948453588499953, 0.9948453588499953, 0.9901921977432404, 0.9815532410205986, 0.9795696672996804, 0.9795696672996804, 0.9778310702771429, 0.9772984969706019, 0.9780273621081659, 0.9733498100863373, 0.9709780141351649, 0.9781551174011018, 0.9781551174011018, 0.9795696672996804, 0.9893474907101353, 0.9705700188259675, 0.9904432009227657, 0.9728773148410128, 0.9960570808130628, 0.9937506754934207, 0.9796064955178334, 0.9785911474035149, 0.9764658386407221, 0.9721463954316714, 0.970166763798639, 0.9733154663468463, 0.9795696672996804, 0.9937506754934207, 0.9818105142034877, 0.9960570808130628, 0.9765470263651576, 0.9785911474035149, 0.9821251498631195, 0.9948453588499953, 0.9857089398073678, 0.9732233751852074, 0.986623041586629, 0.9797486404787978, 0.9948453588499953, 0.9797421173872943, 0.99586518076858, 0.9820027053430384, 0.9795696672996804, 0.9960570808130628, 0.9795696672996804, 0.9795696672996804, 0.9859976581766495, 0.9781551174011018, 0.9781551174011018, 0.9814389720205201, 0.9847791736721273, 0.994796884876198, 0.9898644169398513, 0.9948453588499953, 0.9774110155687209, 0.9707547604967207, 0.9948453588499953, 0.9795696672996804, 0.988110894152343, 0.9948453588499953, 0.9795696672996804, 0.9710311884833535, 0.9787178190362076, 0.9815030586849341, 0.9856361882694438, 0.9795696672996804, 0.99586518076858, 0.9785911474035149, 0.9739575796125678, 0.9791918799549783, 0.9795696672996804, 0.9785911474035149, 0.9941567314527066, 0.9880671448348856, 0.9907198009147425, 0.9795696672996804, 0.9705003344825308, 0.9748219350971514, 0.9792231638473711, 0.985972388719835, 0.9781551174011018, 0.970166763798639, 0.9786205055047422, 0.971049034231845, 0.9770402594586475, 0.9750717076111536, 0.9909170558591567, 0.9791628101029521, 0.9953261062430949, 0.9815030586849341, 0.9948453588499953, 0.9896513767569111, 0.9795696672996804, 0.9781551174011018, 0.9817576344286713, 0.9795696672996804, 0.9817576344286713, 0.9785911474035149, 0.9837024581957017, 0.9926367236860142, 0.9843894948321822, 0.9757701812464574, 0.988110894152343, 0.9880671448348856, 0.9709780141351649, 0.9820811917855117, 0.9770402594586475, 0.9795696672996804, 0.9948453588499953, 0.9795696672996804, 0.9787511696881593, 0.9798561170166096, 0.9948453588499953, 0.9891937268993434, 0.9948453588499953, 0.9786794723671712, 0.9791918799549783, 0.9795696672996804, 0.9907198009147425, 0.9717018988215523, 0.9740404065328875, 0.9953261062430949, 0.9785911474035149, 0.9795696672996804, 0.977847007213917, 0.9806354108641492, 0.9955685234603959, 0.9704626558714883, 0.9948453588499953, 0.9785911474035149, 0.9795696672996804, 0.9707168738001567, 0.9954143080455587, 0.977758208124497, 0.9795696672996804, 0.9794829357884588, 0.9795696672996804, 0.9885877858552207, 0.9781551174011018, 0.9769023345794833, 0.9757701812464574, 0.9725088059542933, 0.9948453588499953, 0.9742307224395479, 0.9785911474035149, 0.9795696672996804, 0.9896753330665822, 0.9953211277700309, 0.9778119276439977, 0.988110894152343, 0.9948453588499953, 0.9795696672996804, 0.9948453588499953, 0.9756553416592112, 0.9912560376916589, 0.9941567314527066, 0.9865963900545749, 0.9795696672996804, 0.9798872547323939, 0.9948453588499953, 0.988110894152343, 0.9961838093442832, 0.9953261062430949, 0.9753487857797419, 0.9785911474035149, 0.9948453588499953, 0.9764658386407221, 0.9819345235195436, 0.9785911474035149, 0.9907198009147425, 0.9785911474035149, 0.9948453588499953, 0.9717912646745812, 0.988110894152343, 0.9880671448348856, 0.9795696672996804, 0.99586518076858, 0.9961712910451499, 0.9798561170166096, 0.9850906142286043, 0.9785911474035149, 0.9921369278282827, 0.9795696672996804, 0.9832863747144654, 0.9948453588499953, 0.9733396536760065, 0.99586518076858, 0.9768416998808196, 0.9795696672996804, 0.9890680410255077, 0.9781551174011018, 0.9781551174011018, 0.9781551174011018, 0.9839159600644125, 0.9823976396871037, 0.9744547908779989, 0.9793528326694072, 0.9957236474950182, 0.9764658386407221, 0.980253165495382, 0.9770402594586475, 0.9785911474035149, 0.9854584475698418, 0.9961838093442832, 0.9709780141351649, 0.97822902076023, 0.9948453588499953, 0.9744146929225203, 0.9785683076907007, 0.9950947640546488, 0.9948453588499953, 0.9795696672996804, 0.9765470263651576, 0.9899134045418084, 0.9785911474035149, 0.9948453588499953, 0.9725088059542933, 0.9795696672996804, 0.9839110106150274, 0.9948453588499953, 0.9795696672996804, 0.99586518076858, 0.9948453588499953, 0.9910701638441818, 0.9705122701654647, 0.988110894152343, 0.9832863747144654, 0.9791918799549783, 0.9750513678136801, 0.9836333267881368, 0.9948453588499953, 0.99586518076858, 0.9795696672996804, 0.9880671448348856, 0.9756699977615334, 0.9785911474035149, 0.9795696672996804, 0.9860176927794508, 0.9880671448348856, 0.9851731161393296, 0.9819345235195436, 0.9728903557838082, 0.9939894225122777, 0.9795696672996804, 0.9948453588499953, 0.9804618371711427, 0.9908289448242579, 0.9845366469223076, 0.9880671448348856, 0.9795696672996804, 0.9816613974585777, 0.9791090520000477, 0.9737887532251412, 0.9837044813298202, 0.9837693421882332, 0.9749948780236002, 0.9704307426152063, 0.9782061872014148, 0.9746826385872076, 0.971478197250241, 0.9937506754934207, 0.9804618371711427, 0.9846647924620976, 0.9910701638441818, 0.9953261062430949, 0.99586518076858, 0.9764658386407221, 0.9948453588499953, 0.9961838093442832, 0.9719057436695039, 0.9961838093442832, 0.9753487857797419, 0.9753487857797419, 0.9733396536760065, 0.9795696672996804, 0.9785911474035149, 0.9701320614873937, 0.9795696672996804, 0.9703713355492505, 0.9911426700746739, 0.9705641384087428, 0.9838060608072647, 0.9801406493288681, 0.9948453588499953, 0.9734075532511015, 0.99586518076858, 0.9769191536245104, 0.9810210119742397, 0.9785911474035149, 0.972862612620436, 0.9795466606083322, 0.99586518076858, 0.9948453588499953, 0.9714699704814804, 0.9785911474035149, 0.9781199526641863, 0.9733924994147728, 0.9719615935080888, 0.9811141695897139, 0.9795696672996804, 0.99586518076858, 0.9825369331905013, 0.9795696672996804, 0.9948453588499953, 0.9939573264046802, 0.9948453588499953, 0.9780966446542888, 0.9795696672996804, 0.9948453588499953, 0.9785911474035149, 0.99586518076858, 0.9904914062869332, 0.988110894152343, 0.9955685234603959, 0.9900734933927771, 0.9948453588499953, 0.9747228908358235, 0.9760115854636354, 0.9709663584447709, 0.982657549475847, 0.9795696672996804, 0.9934573987327249, 0.979775852586672, 0.9750629915453699, 0.9961838093442832, 0.9961838093442832, 0.991525432398493, 0.9887199273807991, 0.9907198009147425, 0.9766146960467103, 0.9795696672996804, 0.9785911474035149, 0.9953261062430949, 0.9837693421882332, 0.9703094258953628, 0.9765575232203824, 0.988110894152343, 0.9776396167841255, 0.9783211736474221, 0.9743800607706707, 0.9755299850098698, 0.9795696672996804, 0.988110894152343, 0.9907198009147425, 0.976275225896626, 0.9950947640546488, 0.9795696672996804, 0.99586518076858, 0.9795696672996804, 0.9795696672996804, 0.9925283754408909, 0.9832863747144654, 0.9887589155755511, 0.9939573264046802, 0.9948453588499953, 0.9948453588499953, 0.9948453588499953, 0.9773842871705288, 0.9792152467862398, 0.988110894152343, 0.9781551174011018, 0.9794252068629047, 0.9948453588499953, 0.9785911474035149, 0.988110894152343, 0.9824752496706989, 0.9948453588499953, 0.9795696672996804, 0.991841608121265, 0.9785911474035149, 0.9786679098079342, 0.9781551174011018, 0.99586518076858, 0.974456914159317, 0.9781551174011018, 0.9798561170166096, 0.9786679098079342, 0.994796884876198, 0.974298470907466, 0.9795696672996804, 0.9948453588499953, 0.9919888163083116, 0.9770402594586475, 0.9750454641077406, 0.9837693421882332, 0.9803052612690272, 0.9821251498631195, 0.9911503802668998, 0.9721463954316714, 0.9751566312714743, 0.9806218528793125, 0.9792326353139067, 0.9953261062430949, 0.9807942469187345, 0.9948453588499953, 0.9707026860948923, 0.9840939221490589, 0.9760607143836079, 0.9850494450305205, 0.9795696672996804, 0.9948453588499953, 0.9804618371711427, 0.9732677660322087, 0.9801111155796598, 0.9743486863881674, 0.9796788977081509, 0.9708173267123705, 0.985564766761074, 0.9781551174011018, 0.9781551174011018, 0.9948453588499953, 0.9948453588499953, 0.9963566519605614, 0.9701389995250835, 0.9963087465539908, 0.9832863747144654, 0.9757341715736099, 0.9759182206451726, 0.9778282912093309, 0.9948453588499953, 0.99586518076858, 0.9937506754934207, 0.9939277597381377, 0.9795696672996804, 0.9795696672996804, 0.9791086073837935, 0.970443913479334, 0.9795696672996804, 0.9948453588499953, 0.9831468363179189, 0.9959831277290937, 0.9866145334631515, 0.9880671448348856, 0.9795696672996804, 0.9795696672996804, 0.9907198009147425, 0.994796884876198, 0.9848682826876987, 0.9746809166060897, 0.9804804964417452, 0.979205106190792, 0.9701474067174699, 0.9785911474035149, 0.9757701812464574, 0.9795696672996804, 0.9795696672996804, 0.9948453588499953, 0.9721640490681533, 0.9795696672996804, 0.9868933905998013, 0.9948453588499953, 0.9795696672996804, 0.9706445816084566, 0.9881060164951991, 0.9919706154316673, 0.9802197105967956, 0.9948453588499953, 0.99586518076858, 0.9795696672996804, 0.9785911474035149, 0.9802737498313843, 0.9785911474035149, 0.9795696672996804, 0.9951858126314836, 0.9705251728054806, 0.9756739360195932, 0.9785911474035149, 0.9948453588499953, 0.9814714490387971, 0.9738264090256415, 0.9866471744043521, 0.9938119088806342, 0.9804189133182563, 0.9795696672996804, 0.9781551174011018, 0.9796981240034394, 0.9736806842850912, 0.9794451865334534, 0.9944994666591849, 0.9779230118414055, 0.9950947640546488, 0.9910701638441818, 0.9795696672996804, 0.9829107907238824, 0.9795696672996804, 0.9842301076798364, 0.99586518076858, 0.9754358202816236, 0.9948453588499953, 0.99586518076858, 0.9880671448348856, 0.9948453588499953, 0.9821251498631195, 0.9961838093442832, 0.9948453588499953, 0.9948453588499953, 0.99586518076858, 0.9704428983829342, 0.9707619526824942, 0.9824756421308639, 0.99586518076858, 0.9784401754420331, 0.980547861369807, 0.9860768092998264, 0.99586518076858, 0.9723190377960619, 0.988110894152343, 0.9937003200913466, 0.9940384123410986, 0.9843894948321822, 0.9817382405637483, 0.9912560376916589, 0.9913740522002913, 0.9795696672996804, 0.9757693749325524, 0.9948453588499953, 0.9795696672996804, 0.9779998437198236, 0.9804618371711427, 0.9795696672996804, 0.9832863747144654, 0.9948453588499953, 0.9788422963770113, 0.9948453588499953, 0.986839234373947, 0.9774110155687209, 0.9719488240076684, 0.9948453588499953, 0.9764658386407221, 0.9785911474035149, 0.9795696672996804, 0.9795696672996804, 0.9910701638441818, 0.9909820403658814, 0.9765311845746084, 0.9822266928364486, 0.9889566853406414, 0.9961838093442832, 0.9795971011007957, 0.9825695845238739, 0.9770402594586475, 0.9754632622850484, 0.9781551174011018, 0.9810004088591059, 0.9752477422220267, 0.972738852029546, 0.9948453588499953, 0.9823819309207577, 0.9781551174011018, 0.9791918799549783, 0.9798561170166096, 0.9832863747144654, 0.9948453588499953, 0.9837693421882332, 0.9816387733265585, 0.9718863840163497, 0.9803598497672352, 0.9795696672996804, 0.9867430884570194, 0.9857767500608465, 0.9951160169060128, 0.9948453588499953, 0.9806288129894983, 0.99586518076858, 0.9948453588499953, 0.9777165618911062, 0.9785911474035149, 0.9795696672996804, 0.9844410804901381, 0.9776341984719157, 0.9948453588499953, 0.9919706154316673, 0.9948453588499953, 0.9948453588499953, 0.9753487857797419, 0.9948453588499953, 0.9781551174011018, 0.9744146929225203, 0.979205106190792, 0.9720793690189895, 0.9948453588499953, 0.9874434045657557, 0.9722720706163899, 0.9735730942177426, 0.9795696672996804, 0.9832863747144654, 0.9948453588499953, 0.985924854819959, 0.9819345235195436, 0.9937506754934207, 0.9795696672996804, 0.986839234373947, 0.9784235954091908, 0.9763711773048886, 0.9794308565726864, 0.9948453588499953, 0.9795696672996804, 0.9785911474035149, 0.9795696672996804, 0.9758772083512182, 0.9705097654298648, 0.9910701638441818, 0.9961838093442832, 0.9757737019796807, 0.9804618371711427, 0.9795696672996804, 0.9937506754934207, 0.9795696672996804, 0.9829367107288687, 0.99586518076858, 0.9791090520000477, 0.9948453588499953, 0.9873983584569422, 0.9951160169060128, 0.9714598640130033, 0.9795696672996804, 0.9853827045913471, 0.9900340578853197, 0.9948453588499953, 0.9756517408916071, 0.9948453588499953, 0.9757701812464574, 0.9796815645243713, 0.99586518076858, 0.9904840570334812, 0.988110894152343, 0.9948453588499953, 0.9785911474035149, 0.9795696672996804, 0.9724680562351747, 0.9906699973884946, 0.9871237502870455, 0.9768971489428229, 0.9808110871501129, 0.988110894152343, 0.9796812044703123, 0.9826095369775243, 0.9948453588499953, 0.9705271651817026, 0.9795696672996804, 0.99586518076858, 0.9795696672996804, 0.9869163878995724, 0.9948453588499953, 0.9786679098079342, 0.9855506008712921, 0.9934573987327249, 0.9731780169008921, 0.9717834890957459, 0.9907198009147425, 0.9948453588499953, 0.9785911474035149, 0.9785911474035149, 0.9869201781311449, 0.9953211277700309, 0.9785911474035149, 0.9847953251223316, 0.9795696672996804, 0.9769464707421867, 0.9948453588499953, 0.9795696672996804, 0.9948453588499953, 0.9804036784501751, 0.9790388454425362, 0.9710323101458757, 0.99586518076858, 0.9809341627117941, 0.977758208124497, 0.97822902076023, 0.9948453588499953, 0.9818105142034877, 0.9960570808130628, 0.9784301674381921, 0.9795696672996804, 0.9719776020579451, 0.9721817133190086, 0.9950947640546488, 0.9948453588499953, 0.9710721711894318, 0.9733498100863373, 0.9919706154316673, 0.9796050944439085, 0.988110894152343, 0.9753487857797419, 0.9795696672996804, 0.9880671448348856, 0.9804618371711427, 0.9948453588499953, 0.995179265611741, 0.9948453588499953, 0.9948453588499953, 0.9725088059542933, 0.9744146929225203, 0.9786679098079342, 0.9781742495405692, 0.9953261062430949, 0.9785911474035149, 0.9795696672996804, 0.9795696672996804, 0.9948453588499953, 0.9953261062430949, 0.9785911474035149, 0.9763205381282279, 0.9871142358436407, 0.9702334934202821, 0.994183717872917, 0.9757701812464574, 0.9853380956084138, 0.9919706154316673, 0.9795696672996804, 0.9750933792858739, 0.9753487857797419, 0.9785911474035149, 0.9727779193118127, 0.9812705897581208, 0.9930971819540462, 0.9948453588499953, 0.9948453588499953, 0.9961838093442832, 0.9948453588499953, 0.9780507818195573, 0.9910701638441818, 0.9766253677296979, 0.9948453588499953, 0.9939573264046802, 0.9948453588499953, 0.9948453588499953, 0.9758599093735083, 0.99586518076858, 0.9744828882029489, 0.99586518076858, 0.9837323450869591, 0.9774110155687209, 0.99586518076858, 0.9851731161393296, 0.9795696672996804, 0.9795696672996804, 0.9810164599737802, 0.9723963061997882, 0.9868865364446012, 0.9729428752857125, 0.9892565106891735, 0.9764008827125465, 0.9805829456518274, 0.9776010852586748, 0.9708199865662375, 0.9816335297183667, 0.994183717872917, 0.9948453588499953, 0.9771674060371018, 0.9896863593523253, 0.9708988740843879, 0.9951614925929722, 0.9795696672996804, 0.9948453588499953, 0.9874970895790788, 0.9795696672996804, 0.9781551174011018, 0.9907198009147425, 0.9725659767863388, 0.9795696672996804, 0.9934573987327249, 0.9869263928874819, 0.9955685234603959, 0.991725324100657, 0.9783594770393792, 0.9853380956084138, 0.9844743666218454, 0.971193395257641, 0.9948453588499953, 0.9859336037048724, 0.9948453588499953, 0.9948453588499953, 0.9854615279342078, 0.9791090520000477, 0.9937506754934207, 0.9894300125928817, 0.9910701638441818, 0.9789874919518209, 0.9795696672996804, 0.9741041959017954, 0.9768933550554962, 0.9774110155687209, 0.9856521536439804, 0.9808357965944644, 0.987799615440806, 0.9795696672996804, 0.987636521174889, 0.974027880185303, 0.9742810091767999, 0.9948453588499953, 0.9937506754934207, 0.9952312406337189, 0.9882518967598999, 0.9913740522002913, 0.99586518076858, 0.9795696672996804, 0.9847492123335481, 0.9954143080455587, 0.9948453588499953, 0.9733153976059306, 0.9785911474035149, 0.9734306975417276, 0.9948453588499953, 0.9787725705100065, 0.9764658386407221, 0.9795696672996804, 0.9907198009147425, 0.9795696672996804, 0.9919888163083116, 0.9785911474035149, 0.9953211277700309, 0.9750615690385106, 0.982676106898864, 0.995621142906186, 0.99586518076858, 0.9781551174011018, 0.9836703226829571, 0.9779998437198236, 0.9960570808130628, 0.9854523627835282, 0.9785911474035149, 0.9795696672996804, 0.9937506754934207, 0.9795696672996804, 0.9869263928874819, 0.9795696672996804, 0.9948453588499953, 0.9721921394295677, 0.9785536257808043, 0.99586518076858, 0.9907198009147425, 0.9832863747144654, 0.9798561170166096, 0.9781551174011018, 0.9939450244895159, 0.9766310482340591, 0.9856613795448875, 0.9948453588499953, 0.993494560279849, 0.9836059999974013, 0.9948453588499953, 0.9785911474035149, 0.9946678067907553, 0.9795696672996804, 0.9781551174011018, 0.9948453588499953, 0.9952312406337189, 0.9845775597266306, 0.9757142269315217, 0.9743969510868152, 0.9836411883338958, 0.988110894152343, 0.9766860920979467, 0.9948453588499953, 0.9785911474035149, 0.9917768489860428, 0.9948453588499953, 0.9931275618756666, 0.9810005568886209, 0.9841911500489223, 0.9705942419212966, 0.9793783143585527, 0.9757701812464574, 0.9788478409283217, 0.9705055414291055, 0.9713365665170013, 0.9948453588499953, 0.989836255280705, 0.9722483729818769, 0.9880671448348856, 0.9812459680045822, 0.99586518076858, 0.9828491386918409, 0.9757663128934475, 0.9795696672996804, 0.9771718945523881, 0.9781661367593493, 0.9948453588499953, 0.9948453588499953, 0.9795696672996804, 0.9941832687144595, 0.9739054876945926, 0.9837693421882332, 0.9798561170166096, 0.9757360976507162, 0.9950951582115951, 0.9948453588499953, 0.9721080831987242, 0.9721080831987242, 0.9807429487645831, 0.994183717872917, 0.9795696672996804, 0.9955685234603959, 0.9720077606850116, 0.9795696672996804, 0.9857260319396178, 0.9801234532082767, 0.9744701692626642, 0.9736989743170228, 0.988110894152343, 0.9869263928874819, 0.9785911474035149, 0.9760399623959456, 0.9889597870885866, 0.9776088259067278, 0.989836255280705, 0.9963087465539908, 0.9795696672996804, 0.9732274837644901, 0.9842699536058437, 0.983393453509925, 0.988110894152343, 0.9948453588499953, 0.9791090520000477, 0.9741658932786943, 0.9948453588499953, 0.9948453588499953, 0.9878320518756383, 0.9824919673006137, 0.9837693421882332, 0.9935943462501252, 0.9824259237762284, 0.9948453588499953, 0.9770402594586475, 0.9907198009147425, 0.979205106190792, 0.9841107282263997, 0.9795696672996804, 0.9744533562248715, 0.9939472503343121, 0.9795696672996804, 0.9785911474035149, 0.99586518076858, 0.9731483672011775, 0.9736056606524703, 0.9747875988413066, 0.9907198009147425, 0.9795696672996804, 0.9795696672996804, 0.9910701638441818, 0.9948274721950653, 0.9731356039912634, 0.9837693421882332, 0.9795696672996804, 0.9738380147696023, 0.9785911474035149, 0.9808371537932199, 0.9723997966796076, 0.9948735151327136, 0.9795696672996804, 0.9898535972734035, 0.9779936821422742, 0.9795696672996804, 0.9795696672996804, 0.9766620358725623, 0.99586518076858, 0.9804618371711427, 0.9919706154316673, 0.9704039802698613, 0.9727856147300923, 0.9770402594586475, 0.9721855220798438, 0.9948453588499953, 0.9887810244854338, 0.9785911474035149, 0.9704611044664841, 0.9907198009147425, 0.9753401121857689, 0.9948453588499953, 0.9920703806342083, 0.9708894748273466, 0.9961838093442832, 0.9948453588499953, 0.9764658386407221, 0.994796884876198, 0.99586518076858, 0.9750629915453699, 0.9954499038333369, 0.9795696672996804, 0.9948453588499953, 0.9747896508438448, 0.9811112707699823, 0.9767666637916997, 0.9781551174011018, 0.9709780141351649, 0.9731356039912634, 0.9907198009147425, 0.990477722464346, 0.9795696672996804, 0.99586518076858, 0.9774773907688371, 0.9753487857797419, 0.9782642238683878, 0.9948453588499953, 0.9961838093442832, 0.97822902076023, 0.9795696672996804, 0.9753487857797419, 0.9795696672996804, 0.9785911474035149, 0.9795696672996804, 0.9795696672996804, 0.9745273736686346, 0.9961838093442832, 0.9865644076314883, 0.9795696672996804, 0.9747896508438448, 0.9786490402024265, 0.9939573264046802, 0.9767905843539108, 0.995621142906186, 0.9955685234603959, 0.9795696672996804, 0.9961838093442832, 0.988110894152343, 0.9799950137897301, 0.99586518076858, 0.9806288129894983, 0.9837693421882332, 0.9748875524500673, 0.9748875524500673, 0.9801684827655345, 0.9758992512031077, 0.9739919158692082, 0.9809912114338818, 0.9948453588499953, 0.9795696672996804, 0.9948453588499953, 0.9802554623263897, 0.9954055693042327, 0.9931270832020606, 0.9709780141351649, 0.9948880275533979, 0.9948453588499953, 0.9712782407999727, 0.99397652114776, 0.9761919935195675, 0.9795696672996804, 0.9948453588499953, 0.9791090520000477, 0.9835608756731018, 0.9916065620356942, 0.9948453588499953]\n",
            "[7, 14, 47, 63, 91, 137, 145, 199, 225, 279, 293, 296, 332, 346, 356, 404, 483, 569, 643, 836, 850, 874, 888, 908, 987, 992, 1016, 1089, 1186, 1297, 1336, 1362, 1386, 1442, 1464, 1480, 1509, 1529, 1545, 1549, 1602, 1618, 1630, 1642, 1644, 1697, 1707, 1876, 1914, 1949, 1981, 1984, 2021, 2022, 2030, 2132, 2150, 2154, 2204, 2212, 2223, 2236, 2237, 2240, 2265, 2340, 2367, 2378, 2381, 2382, 2435, 2436, 2464, 2467, 2566, 2567, 2572, 2584, 2616, 2633, 2634, 2650, 2659, 2664, 2685, 2699, 2773, 2822, 2825, 3016, 3098, 3105, 3106, 3109, 3179, 3258, 3291, 3307, 3385, 3420, 3428, 3440, 3442, 3446, 3447, 3553, 3564, 3610, 3616, 3631, 3653, 3661, 3677, 3690, 3692, 3766, 3783, 3840, 3953, 3956, 3957, 4055, 4069, 4079, 4115, 4149, 4201, 4203, 4256, 4287, 4295, 4312, 4373, 4388, 4399, 4420, 4436, 4449, 4451, 4466, 4482, 4489, 4493, 4516, 4892, 4908, 4941, 4948, 4956, 4961, 4977, 4992, 5015, 5017, 5064, 5091, 5101, 5149, 5192, 5204, 5211, 5233, 5262, 5305, 5369, 5384, 5389, 5472, 5535, 5549, 5585, 5597, 5642, 5647, 5648, 5663, 5667, 5690, 5694, 5764, 5786, 5816, 5821, 5846, 5888, 5924, 5964, 5973, 6000, 6034, 6045, 6095, 6109, 6149, 6151, 6173, 6183, 6213, 6214, 6238, 6261, 6280, 6305, 6371, 6388, 6396, 6447, 6497, 6585, 6644, 6653, 6673, 6693, 6740, 6769, 6812, 6848, 6880, 6925, 6954, 6960, 6968, 6976, 6981, 6984, 6996, 7014, 7051, 7059, 7144, 7196, 7223, 7242, 7284, 7302, 7337, 7377, 7390, 7392, 7467, 7508, 7517, 7520, 7523, 7588, 7644, 7712, 7728, 7757, 7793, 7816, 7824, 7848, 7868, 7901, 7909, 7913, 7928, 8024, 8051, 8101, 8116, 8150, 8152, 8209, 8214, 8268, 8376, 8403, 8463, 8516, 8526, 8555, 8569, 8638, 8641, 8644, 8660, 8664, 8687, 8702, 8710, 8721, 8796, 8833, 8860, 8862, 8882, 8885, 8905, 8918, 8927, 8951, 8994, 9004, 9033, 9089, 9115, 9129, 9163, 9196, 9211, 9251, 9395, 9410, 9427, 9429, 9452, 9453, 9458, 9461, 9468, 9487, 9585, 9639, 9671, 9730, 9734, 9739, 9858, 9867, 9868, 9977, 10007, 10037, 10056, 10065, 10068, 10095, 10123, 10134, 10202, 10216, 10223, 10246, 10248, 10297, 10397, 10482, 10493, 10526, 10580, 10632, 10643, 10677, 10694, 10809, 10847, 10897, 10931, 10937, 10941, 10945, 10947, 10966, 11062, 11168, 11188, 11218, 11266, 11485, 11489, 11490, 11492, 11539, 11664, 11673, 11684, 11688, 11701, 11775, 11781, 11813, 11844, 11879, 11962, 11989, 12084, 12167, 12170, 12181, 12193, 12195, 12205, 12327, 12330, 12361, 12429, 12436, 12455, 12503, 12547, 12587, 12602, 12623, 12634, 12636, 12643, 12685, 12687, 12738, 12760, 12766, 12806, 12823, 12836, 12846, 12940, 12993, 13030, 13070, 13126, 13137, 13164, 13178, 13202, 13207, 13226, 13251, 13271, 13286, 13303, 13313, 13411, 13423, 13445, 13470, 13476, 13514, 13565, 13571, 13604, 13657, 13684, 13723, 13846, 13872, 13891, 13917, 13999, 14009, 14023, 14075, 14107, 14113, 14123, 14124, 14131, 14150, 14241, 14257, 14267, 14317, 14329, 14334, 14340, 14357, 14388, 14408, 14429, 14505, 14544, 14689, 14730, 14751, 14752, 14754, 14899, 14959, 14975, 14996, 15010, 15085, 15145, 15185, 15187, 15209, 15252, 15264, 15276, 15278, 15343, 15449, 15468, 15474, 15475, 15476, 15573, 15651, 15664, 15715, 15729, 15734, 15841, 15855, 15929, 15933, 15971, 16128, 16140, 16187, 16192, 16217, 16221, 16234, 16330, 16370, 16391, 16448, 16500, 16557, 16571, 16617, 16620, 16634, 16658, 16716, 16722, 16724, 16761, 16782, 16785, 16792, 16908, 16983, 17010, 17038, 17045, 17051, 17053, 17137, 17198, 17245, 17268, 17278, 17322, 17339, 17372, 17374, 17383, 17391, 17414, 17415, 17453, 17472, 17492, 17531, 17545, 17563, 17585, 17590, 17629, 17652, 17656, 17668, 17706, 17721, 17760, 17795, 17805, 17828, 17887, 17915, 17962, 17984, 18060, 18063, 18090, 18154, 18160, 18161, 18224, 18225, 18230, 18237, 18244, 18267, 18285, 18295, 18301, 18310, 18316, 18320, 18338, 18361, 18376, 18426, 18447, 18460, 18468, 18495, 18606, 18613, 18631, 18668, 18713, 18724, 18737, 18740, 18749, 18765, 18817, 18823, 18838, 18861, 18878, 18895, 18903, 18922, 18930, 18945, 18953, 18977, 18988, 19001, 19030, 19043, 19055, 19076, 19103, 19225, 19327, 19329, 19385, 19392, 19396, 19398, 19405, 19424, 19455, 19456, 19458, 19463, 19467, 19540, 19605, 19681, 19692, 19732, 19759, 19843, 19861, 19878, 19977, 20035, 20045, 20064, 20101, 20104, 20120, 20202, 20307, 20308, 20383, 20408, 20458, 20516, 20634, 20724, 20809, 20820, 20841, 20858, 20879, 20906, 20952, 20954, 21002, 21056, 21085, 21119, 21166, 21218, 21219, 21233, 21268, 21293, 21336, 21338, 21409, 21442, 21469, 21479, 21486, 21495, 21532, 21559, 21563, 21633, 21665, 21687, 21707, 21723, 21767, 21771, 21787, 21800, 21828, 21831, 21856, 21933, 21948, 21989, 22052, 22110, 22217, 22229, 22246, 22252, 22276, 22300, 22322, 22349, 22501, 22553, 22586, 22602, 22702, 22713, 22737, 22751, 22797, 22824, 22834, 22955, 22992, 23013, 23060, 23077, 23082, 23103, 23118, 23119, 23148, 23168, 23198, 23200, 23225, 23281, 23284, 23303, 23354, 23355, 23416, 23442, 23445, 23466, 23543, 23557, 23570, 23610, 23660, 23723, 23759, 23778, 23797, 23823, 23909, 23920, 23934, 23944, 23955, 23981, 24046, 24062, 24068, 24078, 24220, 24227, 24240, 24244, 24290, 24306, 24509, 24541, 24543, 24613, 24642, 24728, 24736, 24763, 24797, 24811, 24816, 24853, 24854, 24855, 24878, 24937, 24952, 24954, 24977, 24978, 24981, 25061, 25063, 25065, 25097, 25120, 25124, 25207, 25220, 25221, 25230, 25289, 25436, 25511, 25576, 25618, 25650, 25658, 25667, 25707, 25742, 25749, 25779, 25821, 25832, 25860, 25867, 25890, 25909, 25914, 25923, 25942, 25951, 25958, 25983, 25990, 26015, 26028, 26095, 26117, 26120, 26167, 26291, 26436, 26493, 26509, 26532, 26578, 26580, 26581, 26612, 26651, 26785, 26887, 26900, 26914, 26917, 26946, 27071, 27102, 27103, 27118, 27143, 27168, 27187, 27235, 27273, 27332, 27375, 27376, 27409, 27442, 27473, 27483, 27539, 27578, 27582, 27597, 27603, 27622, 27666, 27692, 27744, 27764, 27791, 27854, 27907, 27944, 27980, 28120, 28175, 28220, 28312, 28401, 28457, 28569, 28590, 28640, 28741, 28744, 28788, 28789, 28827, 28845, 28946, 28947, 28948, 28949, 28952, 28963, 28983, 28999, 29027, 29092, 29124, 29147, 29165, 29201, 29241, 29247, 29281, 29355, 29449, 29571, 29624, 29630, 29663, 29674, 29689, 29691, 29692, 29702, 29704, 29714, 29777, 29834, 29967, 30078, 30142, 30183, 30197, 30244, 30312, 30322, 30354, 30361, 30382, 30385, 30391, 30394, 30423, 30436, 30464, 30496, 30522, 30541, 30557, 30563, 30586, 30588, 30599, 30686, 30768, 30796, 30854, 30881, 30884, 30942, 30953, 31001, 31010, 31036, 31040, 31075, 31138, 31339, 31394, 31445, 31482, 31517, 31549, 31566, 31573, 31586, 31591, 31593, 31691, 31706, 31743, 31757, 31764, 31766, 31767, 31781, 31784, 31789, 31793, 31796, 31813, 31833, 31872, 31879, 31889, 31942, 31978, 31984, 32003, 32008, 32073, 32075, 32093, 32256, 32281, 32282, 32283, 32297, 32307, 32327, 32379, 32415, 32450, 32475, 32560, 32590, 32596, 32615, 32640, 32701, 32704, 32764, 32774, 32780, 32784, 32787, 32792, 32885, 32896, 32913, 32920, 32946, 33000, 33021, 33211, 33270, 33361, 33396, 33468, 33532, 33535, 33540, 33543, 33577, 33584, 33605, 33611, 33619, 33623, 33699, 33742, 33751, 33761, 33762, 33812, 33895, 33970, 34014, 34082, 34143, 34160, 34231, 34234, 34245, 34254, 34286, 34302, 34304, 34337, 34376, 34381, 34388, 34427, 34518, 34534, 34540, 34600, 34711, 34725, 34734, 34942, 34971, 34999, 35019, 35021, 35034, 35094, 35124, 35149, 35191, 35201, 35225, 35236, 35239, 35251, 35291, 35370, 35388, 35457, 35501, 35518, 35535, 35537, 35544, 35637, 35761, 35769, 35807, 35811, 35861, 35900, 35909, 36015, 36035, 36064, 36108, 36113, 36135, 36156, 36232, 36277, 36290, 36342, 36400, 36427, 36431, 36435, 36453, 36473, 36509, 36514, 36516, 36551, 36560, 36567, 36599, 36617, 36628, 36638, 36655, 36658, 36661, 36674, 36777, 36790, 36834, 36840, 36900, 36902, 36906, 37052, 37107, 37132, 37136, 37144, 37155, 37171, 37208, 37289, 37314, 37317, 37344, 37421, 37445, 37456, 37472, 37603, 37629, 37634, 37649, 37738, 37756, 37777, 37831, 37980, 38011, 38039, 38070, 38116, 38137, 38168, 38178, 38234, 38249, 38278, 38323, 38388, 38421, 38424, 38446, 38463, 38525, 38527, 38528, 38593, 38621, 38625, 38628, 38644, 38645, 38672, 38688, 38689, 38692, 38724, 38745, 38821, 38868, 38869, 38870, 39000, 39001, 39181, 39228, 39244, 39265, 39318, 39343, 39401, 39411, 39422, 39423, 39424, 39432, 39470, 39477, 39480, 39489, 39494, 39527, 39533, 39537, 39539, 39557, 39559, 39574, 39663, 39697, 39701, 39702, 39757, 39822, 39839, 39840, 39856, 39862, 39904, 39926, 39937, 39973, 40066, 40067, 40083, 40094, 40148, 40154, 40209, 40212, 40216, 40225, 40256, 40316, 40340, 40380, 40435, 40544, 40576, 40577, 40603, 40628, 40634, 40635, 40678, 40692, 40722, 40798, 40862, 40863, 40879, 40890, 40932, 40933, 40959, 41001, 41005, 41035, 41079, 41267, 41269, 41290, 41291, 41305, 41355, 41385, 41398, 41451, 41496, 41566, 41673, 41741, 41793, 41795, 41830, 41865, 41891, 42058, 42103, 42139, 42210, 42212, 42236, 42253, 42258, 42296, 42370, 42395, 42563, 42584, 42643, 42704, 42745, 42757, 42758, 42792, 42829, 42889, 42938, 42944, 42971, 42998, 43040, 43067, 43138, 43216, 43420, 43432, 43444, 43446, 43477, 43483, 43509, 43515, 43525, 43575, 43630, 43673, 43678, 43741, 43785, 43811, 43829, 43847, 43864, 43869, 43873, 43988, 44030, 44077, 44100, 44135, 44154, 44171, 44184, 44188, 44191, 44281, 44284, 44303, 44307, 44312, 44344, 44367, 44429, 44436, 44458, 44511, 44542, 44551, 44562, 44571, 44609, 44667, 44673, 44703, 44711, 44777, 44813, 44869, 44934, 44962, 44965, 44985, 45060, 45062, 45071, 45095, 45098, 45123, 45141, 45152, 45198, 45201, 45210, 45233, 45272, 45383, 45427, 45432, 45433, 45441, 45442, 45472, 45588, 45616, 45633, 45671, 45705, 45744, 45769, 45808, 45817, 45858, 45965, 46089, 46121, 46124, 46128, 46170, 46206, 46219, 46230, 46300, 46337, 46370, 46402, 46407, 46427, 46471, 46512, 46545, 46549, 46554, 46592, 46602, 46630, 46640, 46673, 46750, 46796, 47057, 47117, 47230, 47271, 47277, 47316, 47351, 47364, 47387, 47413, 47423, 47519, 47530, 47552, 47605, 47613, 47637, 47663, 47712, 47758, 47780, 47798, 47800, 47828, 47835, 47879, 47894, 47897, 47966, 47992, 48008, 48040, 48050, 48077, 48078, 48104, 48130, 48142, 48148, 48160, 48182, 48206, 48219, 48232, 48255, 48268, 48293, 48295, 48346, 48354, 48381, 48388, 48415, 48445, 48479, 48513, 48514, 48565, 48586, 48623, 48631, 48755, 48771, 48773, 48774, 48775, 48776, 48803, 48970, 49076, 49189, 49288, 49438, 49455, 49469, 49482, 49515, 49534, 49567, 49630, 49764, 49985, 49997, 50002, 50012, 50065, 50118, 50143, 50169, 50219, 50260, 50274, 50287, 50309, 50325, 50384, 50415, 50433, 50434, 50485, 50527, 50543, 50593, 50594, 50655, 50669, 50670, 50680, 50686, 50692, 50700, 50757, 50785, 50810, 50996, 51035, 51044, 51066, 51104, 51115, 51118, 51120, 51122, 51126, 51131, 51221, 51233, 51258, 51311, 51321, 51341, 51366, 51386, 51403, 51407, 51431, 51451, 51482, 51497, 51522, 51537, 51538, 51571, 51615, 51634, 51680, 51681, 51729, 51731, 51746, 51794, 51829, 51831, 51860, 51899, 51973, 52023, 52129, 52156, 52189, 52206, 52223, 52242, 52244, 52330, 52395, 52472, 52593, 52669, 52677, 52680, 52703, 52713, 52760, 52794, 52795, 52871, 52895, 52916, 52982, 52986, 52992, 53081, 53090, 53111, 53139, 53209, 53224, 53259, 53260, 53297, 53351, 53371, 53399, 53403, 53458, 53508, 53520, 53525, 53578, 53609, 53617, 53629, 53645, 53654, 53674, 53688, 53690, 53711, 53745, 53772, 53825, 53831, 53998, 54000, 54024, 54047, 54065, 54067, 54248, 54249, 54291, 54297, 54300, 54307, 54315, 54366, 54388, 54409, 54426, 54472, 54474, 54478, 54540, 54603, 54636, 54659, 54686, 54752, 54847, 54855, 54922, 54936, 55020, 55320, 55332, 55341, 55352, 55353, 55394, 55445, 55450, 55455, 55523, 55538, 55546, 55577, 55580, 55624, 55640, 55690, 55713, 55723, 55725, 55778, 55799, 55845, 55866, 55874, 55900, 55908, 55928, 55936, 55953, 55955, 55956, 55957, 55983, 56004, 56165, 56167, 56168, 56175, 56212, 56247, 56300, 56317, 56334, 56428, 56442, 56479, 56490, 56531, 56549, 56583, 56606, 56609, 56670, 56760, 56785, 56872, 56890, 56950, 56974, 57077, 57084, 57090, 57095, 57120, 57179, 57181, 57285, 57306, 57341, 57346, 57393, 57459, 57483, 57487, 57571, 57586, 57699, 57841, 57881, 57915, 57945, 57946, 57958, 57963, 57971, 58009, 58015, 58035, 58042, 58045, 58047, 58107, 58110, 58127, 58141, 58156, 58231, 58242, 58260, 58274, 58286, 58292, 58377, 58385, 58424, 58446, 58448, 58466, 58479, 58517, 58520, 58521, 58522, 58561, 58602, 58613, 58617, 58673, 58682, 58684, 58685, 58691, 58695, 58702, 58723, 58786, 58803, 58807, 58808, 58823, 58825, 58826, 58842, 58869, 58887, 58900, 58902, 58904, 58980, 58993, 59036, 59037, 59041, 59071, 59081, 59096, 59098, 59115, 59141, 59152, 59179, 59183, 59196, 59204, 59231, 59254, 59318, 59348, 59362, 59387, 59407, 59418, 59452, 59453, 59455, 59458, 59503, 59520, 59528, 59569, 59593, 59613, 59622, 59649, 59665, 59685, 59714, 59806, 59832, 59873, 59940, 60025, 60136, 60161, 60177, 60212, 60368, 60377, 60405, 60445, 60487, 60537, 60546, 60602, 60630, 60631, 60632, 60635, 60641, 60671, 60687, 60706, 60726, 60745, 60851, 60852, 60872, 60949, 60953, 60973, 61014, 61047, 61078, 61080, 61081, 61179, 61190, 61277, 61279, 61280, 61281, 61293, 61304, 61306, 61321, 61339, 61408, 61425, 61451, 61478, 61493, 61566, 61569, 61632, 61724, 61767, 61858, 61887, 61891, 61897, 61911, 62009, 62017, 62048, 62083, 62091, 62229, 62239, 62264, 62269, 62277, 62279, 62315, 62389, 62403, 62451, 62479, 62480, 62636, 62637, 62695, 62711, 62723, 62764, 62766, 62844, 62847, 62848, 62885, 62897, 62950, 62988, 63013, 63028, 63031, 63068, 63102, 63116, 63140, 63211, 63233, 63268, 63308, 63347, 63371, 63471, 63513, 63526, 63551, 63648, 63650, 63692, 63744, 63745, 63746, 63761, 63775, 63797, 63802, 63818, 63840, 63885, 63905, 63954, 63996, 64022, 64032, 64034, 64066, 64095, 64102, 64127, 64142, 64153, 64168, 64210, 64219, 64325, 64333, 64377, 64409, 64427, 64432, 64452, 64473, 64492, 64494, 64520, 64539, 64555, 64642, 64644, 64646, 64647, 64653, 64658, 64661, 64686, 64741, 64765, 64803, 64806, 64816, 64862, 64864, 64877, 64892, 64902, 64947, 64987, 65050, 65053, 65064, 65107, 65182, 65183, 65200, 65215, 65225, 65248, 65258, 65275, 65283, 65303, 65315, 65340, 65411, 65428, 65441, 65453, 65490, 65497, 65526, 65780, 65849, 65869, 65881, 65917, 65945, 65987, 66034, 66039, 66091, 66114, 66271, 66288, 66304, 66307, 66340, 66433, 66462, 66545, 66649, 66666, 66684, 66734, 66826, 66836, 66837, 66881, 66895, 67011, 67079, 67090, 67091, 67142, 67156, 67158, 67184, 67191, 67194, 67206, 67207, 67222, 67256, 67259, 67261, 67313, 67377, 67381, 67385, 67386, 67402, 67412, 67424, 67431, 67443, 67535, 67583, 67623, 67735, 67756, 67826, 67844, 67870, 67893, 67987, 67999, 68041, 68076, 68159, 68222, 68273, 68333, 68357, 68359, 68381, 68383, 68512, 68601, 68611, 68652, 68685, 68719, 68774, 68789, 68797, 68832, 68879, 68882, 68894, 68907, 68924, 68947, 69048, 69049, 69053, 69064, 69065, 69115, 69134, 69186, 69194, 69212, 69260, 69361, 69421, 69464, 69523, 69535, 69537, 69658, 69683, 69698, 69751, 69761, 69812, 69916, 69928, 69966, 69973, 69998, 70008, 70041, 70059, 70118, 70127, 70142, 70146, 70171, 70234, 70260, 70303, 70337, 70401, 70407, 70418, 70491, 70506, 70511, 70520, 70524, 70558, 70578, 70587, 70629, 70635, 70739, 70776, 70778, 70779, 70809, 70811, 70864, 70879, 70905, 70917, 70975, 70979, 70984, 71018, 71045, 71054, 71073, 71077, 71187, 71223, 71238, 71262, 71302, 71310, 71401, 71417, 71440, 71448, 71459, 71484, 71497, 71500, 71501, 71516, 71522, 71550, 71551, 71618, 71723, 71773, 71785, 71976, 72001, 72015, 72039, 72153, 72211, 72398, 72408, 72425, 72430, 72501, 72506, 72530, 72591, 72655, 72691, 72756, 72866, 72867, 72912, 72954, 72976, 72983, 72985, 73012, 73042, 73060, 73096, 73130, 73141, 73202, 73211, 73267, 73268, 73298, 73316, 73356, 73450, 73451, 73480, 73539, 73544, 73567, 73582, 73593, 73605, 73649, 73738, 73764, 73782, 73796, 73824, 73831, 73865, 73872, 73906, 73914, 73944, 74060, 74082, 74170, 74178, 74200, 74202, 74222, 74234, 74239, 74248, 74252, 74269, 74297, 74304, 74340, 74346, 74383, 74424, 74433, 74450, 74465, 74475, 74494, 74495, 74543, 74589, 74617, 74674, 74691, 74716, 74748, 74784, 74807, 74940, 75002, 75080, 75119, 75130, 75139, 75187, 75191, 75211, 75252, 75255, 75279, 75359, 75386, 75503, 75506, 75510, 75563, 75604, 75605, 75621, 75625, 75638, 75657, 75720, 75922, 75986, 76056, 76061, 76080, 76082, 76167, 76200, 76205, 76230, 76263, 76280, 76327, 76335, 76364, 76394, 76462, 76463, 76493, 76496, 76576, 76578, 76641, 76674, 76781, 76796, 76814, 76828, 76845, 76848, 76883, 76896, 76929, 76959, 77074, 77086, 77144, 77200, 77324, 77363, 77367, 77382, 77401, 77413, 77444, 77449, 77456, 77498, 77506, 77507, 77533, 77535, 77547, 77578, 77583, 77635, 77639, 77640, 77644, 77689, 77695, 77699, 77744, 77746, 77790, 77819, 77846, 77879, 77883, 77885, 77925, 77988, 78010, 78014, 78029, 78033, 78102, 78133, 78163, 78174, 78272, 78274, 78275, 78276, 78333, 78341, 78373, 78395, 78414, 78431, 78446, 78487, 78519, 78588, 78602, 78607, 78644, 78777, 78780, 78932, 78939, 78952, 79002, 79007, 79018, 79092, 79174, 79183, 79194, 79220, 79294, 79323, 79327, 79359, 79437, 79451, 79455, 79467, 79558, 79595, 79624, 79670, 79679, 79688, 79692, 79705, 79714, 79722, 79727, 79738, 79743, 79782, 79790, 79808, 79818, 79833, 79868, 79869, 79878, 79900, 79928, 79948, 79964, 80043, 80057, 80074, 80101, 80272, 80580, 80597, 80614, 80702, 80726, 80749, 80795, 80888, 80907, 80928, 80941, 80999, 81001, 81026, 81031, 81060, 81083, 81091, 81310, 81320, 81339, 81353, 81383, 81405, 81443, 81446, 81472, 81554, 81601, 81620, 81624, 81638, 81678, 81715, 81740, 81783, 81785, 81807, 81954, 81963, 82017, 82051, 82052, 82062, 82097, 82115, 82121, 82191, 82192, 82257, 82271, 82299, 82349, 82361, 82371, 82445, 82516, 82518, 82519, 82551, 82552, 82553, 82567, 82822, 82876, 82946, 83131, 83166, 83170, 83180, 83191, 83243, 83269, 83282, 83344, 83348, 83448, 83450, 83500, 83503, 83646, 83680, 83707, 83710, 83716, 83732, 83742, 83804, 83838, 83856, 83884, 83903, 83908, 83926, 83952, 83972, 84010, 84018, 84021, 84027, 84044, 84058, 84128, 84131, 84162, 84191, 84208, 84219, 84236, 84240, 84242, 84267, 84274, 84318, 84322, 84343, 84358, 84376, 84401, 84408, 84446, 84451, 84499, 84546, 84637, 84671, 84675, 84693, 84712, 84729, 84789, 84847, 84861, 84871, 84883, 84932, 84967, 84968, 85020, 85024, 85038, 85063, 85081, 85092, 85160, 85181, 85183, 85298, 85299, 85309, 85363, 85410, 85461, 85489, 85598, 85633, 85742, 85784, 85804, 85849, 85946, 85971, 85982, 85983, 86001, 86005, 86025, 86033, 86066, 86129, 86130, 86159, 86250, 86262, 86295, 86319, 86372, 86393, 86398, 86430, 86489, 86513, 86609, 86636, 86669, 86677, 86678, 86715, 86717, 86726, 86755, 86767, 86815, 86878, 86927, 86943, 87001, 87017, 87088, 87093, 87164, 87188, 87201, 87218, 87229, 87268, 87343, 87357, 87372, 87374, 87396, 87398, 87431, 87478, 87536, 87550, 87620, 87623, 87677, 87702, 87797, 87807, 87846, 87861, 87873, 87915, 87940, 87953, 87958, 87977, 87980, 88077, 88152, 88163, 88177, 88245, 88304, 88324, 88388, 88405, 88433, 88442, 88451, 88491, 88520, 88528, 88556, 88561, 88585, 88587, 88588, 88591, 88666, 88768, 88881, 88932, 88989, 88993, 89000, 89055, 89068, 89080, 89111, 89185, 89234, 89261, 89269, 89305, 89380, 89401, 89467, 89529, 89548, 89681, 89691, 89809, 89911, 89912, 89956, 89998, 90067, 90082, 90089, 90093, 90095, 90120, 90129, 90187, 90287, 90294, 90331, 90361, 90388, 90404, 90431, 90561, 90716, 90730, 90819, 90835, 90838, 90908, 90962, 90988, 90990, 91015, 91017, 91038, 91083, 91090, 91106, 91123, 91128, 91134, 91162, 91163, 91234, 91319, 91331, 91395, 91407, 91468, 91500, 91517, 91547, 91565, 91566, 91646, 91652, 91686, 91713, 91732, 91797, 91823, 91880, 91930, 91931, 91962, 92031, 92052, 92073, 92082, 92107, 92164, 92181, 92185, 92186, 92239, 92253, 92289, 92335, 92336, 92338, 92340, 92341, 92408, 92412, 92418, 92434, 92450, 92451, 92536, 92565, 92582, 92590, 92595, 92620, 92631, 92646, 92652, 92668, 92704, 92713, 92715, 92791, 92849, 92871, 92923, 92959, 92962, 92967, 93141, 93171, 93176, 93186, 93246, 93262, 93314, 93365, 93367, 93368, 93384, 93473, 93508, 93575, 93597, 93598, 93664, 93677, 93686, 93711, 93729, 93730, 93794, 93812, 93867, 93956, 94056, 94103, 94128, 94133, 94154, 94182, 94185, 94197, 94201, 94206, 94244, 94296, 94317, 94488, 94496, 94510, 94641, 94659, 94691, 94714, 94767, 94774, 94810, 94817, 94860, 94866, 95018, 95054, 95146, 95271, 95326, 95361, 95379, 95404, 95441, 95446, 95447, 95478, 95482, 95499, 95544, 95576, 95599, 95690, 95701, 95846, 95889, 96039, 96040, 96043, 96097, 96102, 96146, 96170, 96197, 96199, 96212, 96275, 96281, 96339, 96364, 96442, 96477, 96496, 96528, 96589, 96598, 96602, 96629, 96643, 96707, 96797, 96805, 96864, 96907, 96988, 96992, 97049, 97058, 97059, 97154, 97334, 97342, 97347, 97357, 97362, 97384, 97406, 97409, 97411, 97443, 97477, 97480, 97481, 97505, 97506, 97525, 97573, 97577, 97591, 97631, 97671, 97675, 97700, 97757, 97831, 97832, 97833, 97834, 97835, 97846, 97945, 97967, 97968, 97997, 98018, 98037, 98083, 98132, 98141, 98173, 98298, 98364, 98375, 98474, 98503, 98517, 98523, 98534, 98539, 98548, 98551, 98626, 98695, 98717, 98760, 98774, 98783, 98809, 98820, 98834, 98924, 98927, 98934, 98935, 98948, 98966, 99117, 99124, 99163, 99189, 99220, 99245, 99252, 99258, 99288, 99290, 99292, 99342, 99367, 99424, 99440, 99444, 99448, 99478, 99531, 99559, 99571, 99621, 99631, 99660, 99790, 99811, 99838, 99841, 99869, 99968, 100001, 100023, 100026, 100040, 100090, 100109, 100120, 100174, 100216, 100281, 100321, 100324, 100326, 100353, 100430, 100431, 100468, 100525, 100531, 100549, 100593, 100594, 100605, 100696, 100718, 100798, 100855, 100866, 100878, 100902, 100923, 100926, 100942, 101101, 101120, 101129, 101142, 101146, 101155, 101201, 101220, 101235, 101256, 101277, 101343, 101351, 101387, 101416, 101428, 101438, 101567, 101585, 101623, 101640, 101645, 101694, 101695, 101716, 101758, 101769, 101770, 101799, 101830, 101833, 101903, 101928, 101929, 101972, 101973, 101975, 102023, 102035, 102044, 102081, 102108, 102176, 102185, 102207, 102238, 102243, 102297, 102299, 102300, 102328, 102389, 102400, 102402, 102427, 102438, 102447, 102449, 102503, 102530, 102579, 102620, 102647, 102664, 102701, 102717, 102720, 102773, 102797, 102860, 102932, 102939, 102959, 102976, 102991, 103091, 103136, 103142, 103151, 103176, 103205, 103208, 103259, 103282, 103285, 103310, 103312, 103340, 103407, 103423, 103455, 103461, 103524, 103555, 103571, 103599, 103602, 103603, 103605, 103710, 103761, 103785, 103796, 103798, 103823, 103840, 103851, 103937, 103959, 104000, 104003, 104044, 104059, 104066, 104119, 104121, 104122, 104123, 104180, 104295, 104321, 104359, 104364, 104369, 104383, 104438, 104484, 104488, 104497, 104545, 104551, 104678, 104709, 104720, 104744, 104798, 104801, 104835, 104914, 104926, 104970, 104995, 105005, 105019, 105030, 105050, 105059, 105060, 105128, 105151, 105160, 105180, 105195, 105198, 105260, 105263, 105366, 105371, 105390, 105402, 105409, 105411, 105469, 105473, 105537, 105630, 105656, 105690, 105703, 105709, 105797, 105808, 105817, 105829, 105862, 105901, 105920, 105945, 106004, 106011, 106025, 106044, 106104, 106111, 106125, 106149, 106362, 106367, 106397, 106403, 106461, 106464, 106566, 106700, 106710, 106740, 106758, 106852, 106882, 106883, 106917, 106963, 106988, 107001, 107003, 107006, 107009, 107059, 107064, 107116, 107130, 107131, 107150, 107158, 107174, 107197, 107199, 107225, 107251, 107298, 107335, 107338, 107347, 107383, 107402, 107443, 107601, 107608, 107680, 107687, 107689, 107690, 107691, 107739, 107824, 107835, 107912, 107948, 107974, 107988, 108015, 108193, 108234, 108239, 108261, 108267, 108324, 108332, 108380, 108468, 108495, 108510, 108546, 108569, 108591, 108610, 108690, 108709, 108729, 108778, 108827, 108861, 108881, 108923, 108973, 108999, 109038, 109063, 109078, 109088, 109135, 109377, 109428, 109462, 109467, 109476, 109493, 109497, 109549, 109580, 109596, 109690, 109709, 109727, 109770, 109804, 109805, 109811, 109820, 109829, 109853, 109890, 109903, 109963, 110039, 110068, 110120, 110123, 110135, 110214, 110215, 110237, 110292, 110330, 110358, 110366, 110430, 110437, 110441, 110460, 110500, 110523, 110669, 110730, 110736, 110823, 110832, 110836, 110887, 110889, 110921, 110934, 110938, 110988, 110999, 111009, 111014, 111026, 111079, 111088, 111103, 111105, 111136, 111170, 111208, 111229, 111301, 111316, 111356, 111434, 111711, 111726, 111752, 111893, 111915, 112001, 112070, 112122, 112152, 112202, 112204, 112216, 112231, 112239, 112242, 112256, 112274, 112295, 112296, 112384, 112407, 112463, 112473, 112508, 112535, 112560, 112592, 112644, 112729, 112855, 112957, 112983, 112993, 113035, 113036, 113038, 113081, 113119, 113152, 113160, 113175, 113302, 113415, 113437, 113438, 113454, 113467, 113507, 113509, 113516, 113528, 113538, 113564, 113645, 113664, 113728, 113748, 113777, 113784, 113798, 113855, 113924, 114021, 114040, 114095, 114122, 114203, 114227, 114230, 114294, 114320, 114390, 114445, 114495, 114522, 114525, 114566, 114610, 114650, 114675, 114679, 114723, 114731, 114738, 114762, 114785, 114806, 114815, 114837, 114838, 114860, 114972, 114986, 114999, 115069, 115091, 115113, 115187, 115199, 115217, 115226, 115287, 115327, 115334, 115367, 115378, 115412, 115448, 115556, 115662, 115664, 115672, 115692, 115766, 115803, 115844, 115851, 115865, 115885, 115894, 115919, 115936, 115937, 115995, 115997, 115999, 116000, 116001, 116059, 116095, 116145, 116176, 116195, 116200, 116229, 116253, 116262, 116273, 116354, 116389, 116402, 116498, 116512, 116526, 116565, 116694, 116757, 116758, 116759, 116813, 116816, 116829, 116851, 116881, 116889, 116905, 116919, 116990, 116992, 117008, 117080, 117086, 117092, 117115, 117151, 117152, 117153, 117154, 117207, 117230, 117236, 117250, 117251, 117266, 117279, 117344, 117345, 117349, 117357, 117392, 117424, 117558, 117574, 117620, 117652, 117675, 117759, 117763, 117765, 117766, 117839, 117870, 117894, 117905, 117956, 117961, 118007, 118030, 118041, 118043, 118110, 118131, 118253, 118293, 118297, 118316, 118320, 118369, 118402, 118404, 118436, 118437, 118438, 118563, 118592, 118658, 118667, 118670, 118673, 118680, 118707, 118718, 118728, 118751, 118763, 118827, 118856, 118898, 119005, 119010, 119084, 119136, 119156, 119278, 119280, 119282, 119310, 119340, 119356, 119377, 119414, 119435, 119442, 119477, 119496, 119608, 119610, 119626, 119782, 119799, 119809, 119812, 119850, 119904, 119937, 119946, 119980, 119988, 119998, 120015, 120042, 120115, 120124, 120141, 120170, 120172, 120174, 120194, 120207, 120230, 120251, 120285, 120392, 120395, 120463, 120481, 120576, 120608, 120661, 120692, 120694, 120695, 120713, 120785, 120806, 120826, 120907, 120954, 120989, 121008, 121036, 121101, 121188, 121190, 121207, 121223, 121239, 121261, 121384, 121385, 121501, 121536, 121542, 121559, 121561, 121563, 121633, 121759, 121930, 121961, 122077, 122130, 122131, 122135, 122182, 122217, 122218, 122243, 122263, 122328, 122338, 122341, 122354, 122370, 122389, 122433, 122439, 122447, 122577, 122586, 122625, 122666, 122708, 122730, 122756, 122791, 122802, 122823, 122833, 122838, 122963, 122964, 122986, 122994, 123128, 123129, 123253, 123274, 123277, 123278, 123299, 123332, 123352, 123460, 123502, 123567, 123587, 123602, 123627, 123664, 123677, 123711, 123714, 123718, 123849, 123855, 123880, 123882, 123945, 123949, 123983, 124137, 124150, 124151, 124162, 124209, 124273, 124277, 124289, 124297, 124306, 124307, 124316, 124338, 124339, 124369, 124498, 124611, 124637, 124639, 124679, 124702, 124731, 124744, 124746, 124748, 124778, 124794, 124837, 124881, 124900, 124935, 124951, 124952, 125030, 125031, 125148, 125171, 125190, 125201, 125204, 125251, 125275, 125319, 125370, 125387, 125408, 125410, 125428, 125464, 125489, 125500, 125564, 125571, 125686, 125744, 125788, 125823, 125868, 125879, 125903, 125936, 125958, 125959, 125982, 125992, 126108, 126136, 126138, 126145, 126149, 126150, 126157, 126203, 126262, 126280, 126298, 126334, 126379, 126386, 126389, 126460, 126517, 126567, 126610, 126631, 126649, 126671, 126691, 126710, 126727, 126839, 126852, 126879, 126884, 126886, 126888, 127006, 127021, 127024, 127060, 127066, 127092, 127143, 127148, 127199, 127206, 127218, 127280, 127326, 127449, 127477, 127480, 127492, 127532, 127541, 127542, 127584, 127605, 127610, 127618, 127634, 127647, 127648, 127657, 127706, 127759, 127775, 127819, 127858, 127884, 127887, 127900, 127909, 127927, 127983, 127999, 128110, 128126, 128127, 128167, 128203, 128208, 128257, 128280, 128307, 128344, 128385, 128418, 128471, 128486, 128528, 128538, 128543, 128577, 128581, 128614, 128660, 128712, 128785, 128787, 128806, 128816, 128952, 128966, 129028, 129030, 129065, 129067, 129090, 129091, 129131, 129157, 129183, 129237, 129303, 129340, 129380, 129388, 129406, 129415, 129442, 129454, 129468, 129494, 129562, 129631, 129644, 129653, 129674, 129807, 129832, 129857, 129873, 129884, 129898, 129905, 129932, 129937, 129950, 129966, 129968, 129969, 129970, 129972, 130026, 130092, 130137, 130147, 130181, 130204, 130241, 130272, 130293, 130330, 130337, 130356, 130389, 130390, 130410, 130413, 130419, 130430, 130469, 130471, 130516, 130553, 130580, 130587, 130624, 130654, 130684, 130697, 130848, 130895, 130939, 130944, 130956, 131024, 131029, 131061, 131099, 131118, 131179, 131180, 131212, 131240, 131314, 131316, 131332, 131425, 131470, 131474, 131503, 131539, 131545, 131547, 131548, 131559, 131571, 131582, 131602, 131604, 131605, 131635, 131681, 131746, 131764, 131796, 131809, 131813, 131817, 131830, 131839, 131897, 131903, 131928, 131935, 131950, 132023, 132027, 132070, 132083, 132123, 132209, 132225, 132236, 132239, 132273, 132286, 132298, 132315, 132336, 132356, 132483, 132494, 132506, 132513, 132516, 132539, 132563, 132598, 132664, 132665, 132668, 132676, 132711, 132716, 132778, 132782, 132799, 132906, 132910, 132953, 132995, 133021, 133068, 133075, 133124, 133132, 133154, 133156, 133176, 133378, 133404, 133427, 133466, 133496, 133521, 133528, 133539, 133542, 133567, 133574, 133602, 133606, 133621, 133742, 133753, 133768, 133775, 133782, 133808, 133830, 133843, 133851, 133994, 134017, 134035, 134043, 134046, 134052, 134070, 134155, 134254, 134264, 134281, 134286, 134292, 134295, 134312, 134313, 134336, 134378, 134420, 134437, 134439, 134448, 134561, 134574, 134578, 134596, 134608, 134620, 134668, 134722, 134731, 134755, 134783, 134879, 134905, 134963, 134965, 134966, 135021, 135086, 135102, 135124, 135135, 135324, 135447, 135481, 135503, 135545, 135617, 135648, 135674, 135718, 135723, 135739, 135774, 135775, 135808, 135812, 135813, 135814, 135928, 135938, 135973, 136004, 136026, 136047, 136085, 136094, 136096, 136144, 136207, 136209, 136216, 136219, 136224, 136265, 136292, 136309, 136341, 136373, 136417, 136469, 136518, 136598, 136678, 136688, 136767, 136775, 136835, 136856, 136879, 136911, 136932, 136973, 136985, 136996, 137027, 137046, 137089, 137096, 137113, 137141, 137142, 137148, 137157, 137160, 137186, 137198, 137214, 137227, 137240, 137274, 137283, 137323, 137330, 137339, 137343, 137348, 137435, 137441, 137474, 137526, 137529, 137536, 137627, 137631, 137651, 137689, 137716, 137734, 137747, 137750, 137761, 137798, 137804, 137817, 137882, 137920, 137945, 137981, 137984, 138115, 138130, 138150, 138167, 138215, 138232, 138279, 138326, 138328, 138329, 138394, 138417, 138455, 138481, 138505, 138511, 138513, 138524, 138563, 138596, 138616, 138665, 138667, 138702, 138706, 138938, 138949, 139025, 139049, 139143, 139160, 139163, 139216, 139265, 139275, 139332, 139336, 139391, 139438, 139509, 139532, 139636, 139678, 139717, 139741, 139814, 139864, 139902, 139930, 139945, 140019, 140027, 140040, 140074, 140277, 140284, 140286, 140345, 140384, 140417, 140535, 140583, 140611, 140622, 140664, 140701, 140713, 140735, 140757, 140803, 140844, 141222, 141283, 141404, 141407, 141426, 141450, 141464, 141465, 141466, 141500, 141509, 141568, 141588, 141620, 141624, 141644, 141652, 141658, 141670, 141696, 141711, 141737, 141746, 141755, 141759, 141802, 141863, 141867, 141895, 141909, 141918, 141925, 141959, 141971, 141990, 142033, 142063, 142104, 142107, 142122, 142151, 142186, 142188, 142226, 142285, 142304, 142330, 142363, 142388, 142394, 142420, 142493, 142519, 142630, 142662, 142674, 142675, 142688, 142718, 142732, 142736, 142737, 142758, 142767, 142781, 142824, 142825, 142828, 142848, 142849, 142856, 142879, 142975, 143017, 143035, 143037, 143061, 143070, 143114, 143151, 143169, 143178, 143195, 143219, 143221, 143246, 143258, 143260, 143261, 143406, 143425, 143477, 143479, 143490, 143500, 143523, 143554, 143563, 143757, 143786, 143793, 143805, 143918, 143923, 143945, 144042, 144079, 144092, 144096, 144120, 144128, 144188, 144193, 144196, 144316, 144338, 144344, 144346, 144373, 144391, 144414, 144490, 144537, 144560, 144603, 144689, 144727, 144754, 144842, 144858, 144862, 144883, 144886, 144901, 145070, 145081, 145092, 145102, 145108, 145111, 145157, 145172, 145182, 145222, 145240, 145243, 145247, 145253, 145278, 145336, 145365, 145384, 145389, 145393, 145432, 145458, 145467, 145482, 145514, 145605, 145626, 145667, 145678, 145682, 145685, 145709, 145726, 145745, 145778, 145824, 145839, 145845, 145899, 145918, 145945, 146003, 146095, 146110, 146129, 146166, 146210, 146224, 146252, 146255, 146269, 146270, 146324, 146404, 146459, 146478, 146488, 146523, 146525, 146537, 146542, 146552, 146558, 146582, 146588, 146590, 146632, 146662, 146681, 146686, 146704, 146739, 146756, 146811, 146841, 146846, 146866, 146880, 146901, 146927, 146936, 146947, 146950, 146962, 146964, 146970, 147107, 147140, 147192, 147194, 147195, 147241, 147422, 147492, 147518, 147535, 147537, 147733, 147785, 147800, 147810, 147818, 147821, 147902, 147918, 147930, 147944, 147947, 147950, 147963, 147964, 147965, 148070, 148086, 148106, 148121, 148133, 148160, 148184, 148223, 148233, 148251, 148252, 148254, 148263, 148297, 148306, 148311, 148313, 148314, 148356, 148384, 148417, 148437, 148448, 148497, 148535, 148560, 148774, 148830, 148833, 148842, 148846, 148847, 148867, 148876, 148877, 148904, 148915, 148916, 148940, 148957, 148982, 148987, 149014, 149022, 149056, 149062, 149097, 149101, 149124, 149212, 149238, 149240, 149283, 149300, 149395, 149433, 149469, 149486, 149578, 149614, 149647, 149696, 149727, 149836, 149875, 149885, 149894, 149911, 149916, 149919, 149950, 149980, 150185, 150213, 150254, 150289, 150303, 150304, 150341, 150416, 150417, 150443, 150493, 150495, 150587, 150669, 150713, 150745, 150750, 150762, 150777, 150867, 150893, 150915, 150916, 150918, 150998, 151005, 151088, 151199, 151203, 151242, 151256, 151287, 151312, 151333, 151396, 151421, 151503, 151534, 151535, 151554, 151562, 151625, 151633, 151635, 151661, 151693, 151696, 151758, 151812, 151988, 152060, 152102, 152110, 152246, 152271, 152303, 152330, 152344, 152490, 152499, 152539, 152586, 152683, 152704, 152715, 152768, 152866, 152879, 153011, 153070, 153185, 153218, 153228, 153257, 153338, 153372, 153381, 153641, 153647, 153716, 153825, 153871, 153897, 153940, 153942, 153974, 153980, 154066, 154091, 154105, 154177, 154186, 154227, 154235, 154349, 154366, 154401, 154412, 154441, 154442, 154443, 154444, 154493, 154496, 154537, 154550, 154695, 154801, 154833, 154894, 154910, 154983, 154984, 154985, 155145, 155196, 155217, 155262, 155322, 155351, 155425, 155471, 155513, 155617, 155618, 155654, 155663, 155682, 155721, 155724, 155752, 155833, 155855, 155885, 155932, 155934, 155952, 155958, 155972, 156001, 156022, 156134, 156140, 156152, 156165, 156188, 156195, 156208, 156294, 156569, 156577, 156631, 156659, 156681, 156685, 156723, 156729, 156741, 156751, 156835, 156880, 156927, 156956, 156975, 156984, 156990, 156992, 157018, 157079, 157126, 157127, 157196, 157206, 157259, 157262, 157282, 157284, 157322, 157373, 157387, 157532, 157534, 157538, 157600, 157606, 157612, 157627, 157646, 157647, 157658, 157672, 157674, 157687, 157713, 157857, 158051, 158109, 158123, 158145, 158147, 158148, 158170, 158241, 158267, 158272, 158273, 158334, 158391, 158583, 158611, 158647, 158659, 158699, 158747, 158753, 158786, 158789, 158805, 158815, 158892, 158931, 158951, 158955, 159008, 159078, 159083, 159165, 159228, 159230, 159259, 159350, 159359, 159674, 159784, 159787, 159797, 159880, 159927, 159933, 159967, 160059, 160111, 160116, 160132, 160180, 160250, 160266, 160268, 160280, 160308, 160345, 160429, 160551, 160575, 160598, 160633, 160645, 160756, 160839, 160856, 160872, 160892, 160896, 160947, 160992, 161013, 161051, 161052, 161054, 161087, 161175, 161191, 161206, 161247, 161280, 161322, 161382, 161455, 161484, 161613, 161614, 161615, 161638, 161647, 161689, 161690, 161705, 161728, 161729, 161750, 161773, 161814, 161889, 161899, 161923, 161930, 161932, 161933, 161999, 162008, 162051, 162061, 162097, 162177, 162233, 162238, 162271, 162295, 162309, 162318, 162343, 162358, 162378, 162380, 162395, 162442, 162472, 162507, 162537, 162598, 162625, 162689, 162809, 162819, 162820, 162847, 162890, 162893, 162929, 162968, 162978, 163016, 163041, 163091, 163121, 163150, 163201, 163203, 163215, 163290, 163352, 163359, 163447, 163527, 163531, 163533, 163744, 163752, 163755, 163801, 163816, 163836, 163840, 163938, 163963, 163973, 164045, 164072, 164091, 164112, 164189, 164204, 164240, 164259, 164311, 164358, 164443, 164478, 164500, 164504, 164508, 164527, 164569, 164573, 164594, 164662, 164666, 164744, 164796, 164806, 164868, 164884, 164904, 164921, 164933, 164971, 164981, 165049, 165076, 165105, 165116, 165182, 165220, 165251, 165280, 165282, 165339, 165348, 165375, 165397, 165497, 165515, 165523, 165536, 165551, 165576, 165625, 165628, 165633, 165671, 165688, 165706, 165713, 165890, 165915, 165984, 165991, 166033, 166045, 166076, 166149, 166180, 166259, 166272, 166283, 166290, 166294, 166364, 166424, 166450, 166456, 166464, 166531, 166550, 166561, 166567, 166579, 166610, 166717, 166749, 166789, 166793, 166797, 166839, 166853, 166860, 166872, 166883, 166946, 167101, 167192, 167225, 167259, 167293, 167352, 167396, 167441, 167473, 167505, 167562, 167568, 167624, 167642, 167659, 167662, 167663, 167700, 167720, 167726, 167814, 167823, 167849, 167910, 167974, 167980, 167995, 168000, 168002, 168045, 168047, 168048, 168098, 168108, 168115, 168118, 168129, 168143, 168170, 168328, 168429, 168510, 168553, 168554, 168558, 168593, 168654, 168785, 168964, 168965, 168990, 169123, 169140, 169149, 169163, 169214, 169222, 169225, 169277, 169298, 169328, 169344, 169372, 169421, 169441, 169464, 169504, 169523, 169544, 169552, 169588, 169679, 169740, 169763, 169808, 169812, 169852, 169885, 169911, 169917, 170010, 170025, 170037, 170047, 170074, 170098, 170172, 170177, 170192, 170216, 170243, 170286, 170346, 170360, 170367, 170388, 170421, 170460, 170482, 170494, 170505, 170591, 170595, 170642, 170655, 170659, 170791, 170848, 170851, 170984, 170994, 171000, 171015, 171018, 171020, 171021, 171022, 171038, 171041, 171073, 171130, 171134, 171149, 171152, 171208, 171230, 171240, 171266, 171273, 171369, 171432, 171504, 171530, 171560, 171578, 171604, 171699, 171708, 171714, 171717, 171732, 171734, 171769, 171776, 171784, 171838, 171891, 171913, 171955, 172114, 172121, 172124, 172137, 172201, 172220, 172222, 172245, 172282, 172336, 172348, 172350, 172382, 172402, 172432, 172449, 172484, 172538, 172709, 172718, 172738, 172742, 172798, 172852, 172888, 172895, 172902, 172911, 172980, 173012, 173015, 173095, 173117, 173118, 173120, 173137, 173195, 173380, 173421, 173457, 173458, 173459, 173513, 173539, 173576, 173623, 173669, 173677, 173688, 173700, 173766, 173804, 173820, 173821, 173843, 173880, 173962, 173998, 174014, 174032, 174112, 174194, 174312, 174351, 174394, 174462, 174482, 174484, 174486, 174507, 174525, 174537, 174731, 174749, 174793, 174812, 174827, 174837, 174898, 174927, 175013, 175041, 175046, 175047, 175067, 175072, 175142, 175166, 175183, 175187, 175189, 175271, 175279, 175306, 175308, 175336, 175344, 175352, 175355, 175414, 175422, 175457, 175488, 175516, 175562, 175608, 175636, 175683, 175688, 175709, 175711, 175780, 175781, 175798, 175819, 175826, 175881, 175958, 175988, 176005, 176023, 176029, 176047, 176062, 176080, 176105, 176127, 176128, 176144, 176168, 176170, 176201, 176240, 176271, 176276, 176278, 176313, 176318, 176338, 176420, 176535, 176599, 176665, 176700, 176803, 176820, 176835, 176842, 176845, 176874, 176890, 176931, 176986, 176991, 177023, 177027, 177064, 177466, 177597, 177723, 177761, 177781, 177809, 177891, 177911, 177944, 177955, 177974, 178000, 178004, 178006, 178048, 178071, 178078, 178092, 178129, 178157, 178218, 178282, 178299, 178321, 178327, 178350, 178366, 178369, 178391, 178415, 178490, 178581, 178638, 178705, 178808, 178821, 178832, 178837, 178843, 178877, 178894, 178896, 178959, 179007, 179015, 179018, 179029, 179077, 179181, 179279, 179301, 179322, 179340, 179369, 179377, 179378, 179384, 179405, 179416, 179421, 179435, 179440, 179493, 179494, 179533, 179539, 179540, 179682, 179737, 179811, 179855, 179876, 179878, 179888, 179891, 179893, 179900, 179921, 179929, 179961, 179989, 180010, 180027, 180062, 180130, 180143, 180167, 180177, 180221, 180222, 180242, 180249, 180297, 180554, 180562, 180572, 180575, 180596, 180632, 180637, 180678, 180735, 180737, 180760, 180770, 180803, 180848, 180876, 180888, 181098, 181135, 181142, 181180, 181231, 181274, 181361, 181368, 181391, 181482, 181508, 181557, 181560, 181580, 181582, 181642, 181684, 181749, 181791, 181799, 181853, 181875, 181912, 181920, 181929, 181950, 182001, 182005, 182051, 182143, 182144, 182195, 182238, 182244, 182258, 182301, 182347, 182377, 182385, 182477, 182506, 182579, 182631, 182637, 182737, 182762, 182770, 182776, 182816, 182917, 183096, 183135, 183143, 183314, 183394, 183451, 183456, 183475, 183477, 183483, 183488, 183656, 183704, 183804, 183813, 183821, 183833, 183860, 183880, 183884, 183888, 183958, 184019, 184022, 184024, 184026, 184033, 184066, 184083, 184114, 184138, 184156, 184190, 184222, 184257, 184296, 184326, 184385, 184525, 184561, 184563, 184589, 184703, 184712, 184777, 184824, 184851, 184868, 184980, 184993, 185035, 185038, 185061, 185091, 185100, 185158, 185192, 185276, 185291, 185294, 185295, 185328, 185358, 185381, 185384, 185406, 185470, 185477, 185555, 185592, 185622, 185668, 185730, 185739, 185750, 185758, 185767, 185774, 185783, 185799, 185829, 185840, 185856, 185876, 185881, 185904, 185906, 186015, 186046, 186127, 186146, 186210, 186225, 186255, 186286, 186296, 186392, 186446, 186469, 186499, 186523, 186525, 186541, 186579, 186595, 186606, 186721, 186803, 187016, 187449, 187525, 187579, 187610, 187612, 187684, 187751, 187776, 187804, 187864, 187921, 187989, 188031, 188119, 188144, 188148, 188174, 188185, 188275, 188278, 188399, 188400, 188417, 188436, 188488, 188492, 188564, 188575, 188613, 188666, 188687, 188690, 188706, 188743, 188764, 188779, 188812, 188886, 188887, 188937, 188939, 188980, 189052, 189072, 189099, 189109, 189142, 189196, 189234, 189263, 189329, 189330, 189375, 189391, 189408, 189413, 189441, 189447, 189488, 189508, 189568, 189586, 189595, 189626, 189660, 189665, 189698, 189704, 189775, 189825, 189838, 189846, 189893, 189930, 189941, 189987, 190021, 190028, 190051, 190073, 190105, 190136, 190149, 190181, 190182, 190190, 190193, 190198, 190243, 190261, 190281, 190315, 190323, 190401, 190404, 190432, 190463, 190485, 190487, 190510, 190523, 190527, 190606, 190767, 190832, 190858, 190884, 190895, 190937, 190959]\n",
            "<class 'list'>\n",
            "5853\n",
            "5853\n",
            "5853\n",
            "5853\n",
            "#######3train len 4416\n",
            "UL  5853\n",
            "train_1 10269\n"
          ],
          "name": "stdout"
        }
      ]
    },
    {
      "cell_type": "code",
      "metadata": {
        "id": "LDSt4X_Vr6vg"
      },
      "source": [
        "del frame_1"
      ],
      "execution_count": 40,
      "outputs": []
    },
    {
      "cell_type": "code",
      "metadata": {
        "id": "5U__rx-uslvF"
      },
      "source": [
        "del train1\n",
        "del train2\n",
        "del train3\n",
        "del train4\n",
        "del train5\n",
        "del train6\n",
        "del train7\n",
        "del train8\n",
        "del train9\n",
        "del train10\n",
        "del train_highKappa"
      ],
      "execution_count": 41,
      "outputs": []
    },
    {
      "cell_type": "code",
      "metadata": {
        "id": "QkcJ2Z-YshrJ",
        "colab": {
          "base_uri": "https://localhost:8080/"
        },
        "outputId": "d3ad4174-ba30-412d-a2c8-67af030128c9"
      },
      "source": [
        "len(train_1)"
      ],
      "execution_count": 42,
      "outputs": [
        {
          "output_type": "execute_result",
          "data": {
            "text/plain": [
              "10269"
            ]
          },
          "metadata": {
            "tags": []
          },
          "execution_count": 42
        }
      ]
    },
    {
      "cell_type": "code",
      "metadata": {
        "id": "fxp_bdG_qUCP",
        "colab": {
          "base_uri": "https://localhost:8080/",
          "height": 402
        },
        "outputId": "41644b62-9877-41d5-9f81-1f63171dc2d1"
      },
      "source": [
        "from imblearn.over_sampling import SMOTE\n",
        "from collections import Counter\n",
        "from matplotlib import pyplot\n",
        "from sklearn.preprocessing import LabelEncoder\n",
        "data = train_1.values\n",
        "\n",
        "\n",
        "# split into input and output elements\n",
        "X, y = data[:, :-1], data[:, -1]\n",
        "# label encode the target variable\n",
        "y = LabelEncoder().fit_transform(y)\n",
        "print(y)\n",
        "# summarize distribution\n",
        "counter = Counter(y)\n",
        "print(y)\n",
        "for k,v in counter.items():\n",
        "\tper = v / len(y) * 100\n",
        "\tprint('Class=%s, n=%d (%.3f%%)' % (k, v, per))\n",
        "# plot the distribution\n",
        "pyplot.bar(counter.keys(), counter.values())\n",
        "pyplot.show()"
      ],
      "execution_count": 43,
      "outputs": [
        {
          "output_type": "stream",
          "text": [
            "[3 3 5 ... 1 1 1]\n",
            "[3 3 5 ... 1 1 1]\n",
            "Class=3, n=1601 (15.591%)\n",
            "Class=5, n=472 (4.596%)\n",
            "Class=2, n=3230 (31.454%)\n",
            "Class=0, n=834 (8.122%)\n",
            "Class=1, n=3670 (35.739%)\n",
            "Class=4, n=462 (4.499%)\n"
          ],
          "name": "stdout"
        },
        {
          "output_type": "display_data",
          "data": {
            "image/png": "[encoded data removed]",
            "text/plain": [
              "<Figure size 432x288 with 1 Axes>"
            ]
          },
          "metadata": {
            "tags": [],
            "needs_background": "light"
          }
        }
      ]
    },
    {
      "cell_type": "code",
      "metadata": {
        "id": "9zVkxbmJsUF8"
      },
      "source": [
        ""
      ],
      "execution_count": 43,
      "outputs": []
    },
    {
      "cell_type": "code",
      "metadata": {
        "colab": {
          "base_uri": "https://localhost:8080/"
        },
        "id": "DT6_zztRtHAW",
        "outputId": "ca2685d1-fbc4-4d29-bb1a-40b75fbc8380"
      },
      "source": [
        "from sklearn.feature_extraction.text import TfidfVectorizer\n",
        "\n",
        "tfidf_vect = TfidfVectorizer(analyzer = clean_text)\n",
        "X_tfidf = tfidf_vect.fit_transform(train_1['text'])\n",
        "print(X_tfidf.shape)"
      ],
      "execution_count": 44,
      "outputs": [
        {
          "output_type": "stream",
          "text": [
            "(10269, 9668)\n"
          ],
          "name": "stdout"
        }
      ]
    },
    {
      "cell_type": "code",
      "metadata": {
        "colab": {
          "base_uri": "https://localhost:8080/"
        },
        "id": "ENxxae7mtHAf",
        "outputId": "f4434c18-fc35-46da-f7de-ffeed2d60061"
      },
      "source": [
        "X_tfidf_df=pd.DataFrame(X_tfidf.toarray())\n",
        "X_tfidf_df.columns=tfidf_vect.get_feature_names()\n",
        "X_tfidf_df.head()\n",
        "X_tfidf_df.shape"
      ],
      "execution_count": 45,
      "outputs": [
        {
          "output_type": "execute_result",
          "data": {
            "text/plain": [
              "(10269, 9668)"
            ]
          },
          "metadata": {
            "tags": []
          },
          "execution_count": 45
        }
      ]
    },
    {
      "cell_type": "code",
      "metadata": {
        "id": "cUCntzpctTjI",
        "colab": {
          "base_uri": "https://localhost:8080/"
        },
        "outputId": "f6bb004b-8b2c-4751-f75c-117a8584a074"
      },
      "source": [
        "X_tfidf_df.shape"
      ],
      "execution_count": 46,
      "outputs": [
        {
          "output_type": "execute_result",
          "data": {
            "text/plain": [
              "(10269, 9668)"
            ]
          },
          "metadata": {
            "tags": []
          },
          "execution_count": 46
        }
      ]
    },
    {
      "cell_type": "code",
      "metadata": {
        "colab": {
          "base_uri": "https://localhost:8080/",
          "height": 422
        },
        "id": "3OUNDn5ltHAg",
        "outputId": "16f05136-1592-4998-9958-d4625ce3823d"
      },
      "source": [
        "from imblearn.over_sampling import SMOTE\n",
        "from imblearn.under_sampling import RandomUnderSampler\n",
        "\n",
        "#undersampling_Dict={'Facts': 550, 'Invalid': 218, 'Analysis': 520, 'Rule/Law/Holding': 1000, 'Issue': 179, 'Conclusion': 240}\n",
        "undersampling_Dict={ 'Facts': 2500, 'Conclusion': 2500 }\n",
        "oversample = SMOTE(\"minority\")\n",
        "undersample = RandomUnderSampler(sampling_strategy=undersampling_Dict,random_state=42)\n",
        "#X, y = oversample.fit_sample(X_tfidf_df, train['Target'])\n",
        "X, y = undersample.fit_resample(X_tfidf_df, train_1['Target'])\n",
        "# summarize distribution\n",
        "counter = Counter(y)\n",
        "for k,v in counter.items():\n",
        "\tper = v / len(y) * 100\n",
        "\tprint('Class=%s, n=%d (%.3f%%)' % (k, v, per))\n",
        "# plot the distribution\n",
        "pyplot.bar(counter.keys(), counter.values())\n",
        "pyplot.show()\n",
        "\n"
      ],
      "execution_count": 47,
      "outputs": [
        {
          "output_type": "stream",
          "text": [
            "/usr/local/lib/python3.7/dist-packages/sklearn/utils/deprecation.py:87: FutureWarning: Function safe_indexing is deprecated; safe_indexing is deprecated in version 0.22 and will be removed in version 0.24.\n",
            "  warnings.warn(msg, category=FutureWarning)\n"
          ],
          "name": "stderr"
        },
        {
          "output_type": "stream",
          "text": [
            "Class=Analysis, n=834 (9.965%)\n",
            "Class=Conclusion, n=2500 (29.872%)\n",
            "Class=Facts, n=2500 (29.872%)\n",
            "Class=Invalid, n=1601 (19.130%)\n",
            "Class=Issue, n=462 (5.520%)\n",
            "Class=Rule/Law/Holding, n=472 (5.640%)\n"
          ],
          "name": "stdout"
        },
        {
          "output_type": "display_data",
          "data": {
            "image/png": "[encoded data removed]",
            "text/plain": [
              "<Figure size 432x288 with 1 Axes>"
            ]
          },
          "metadata": {
            "tags": [],
            "needs_background": "light"
          }
        }
      ]
    },
    {
      "cell_type": "code",
      "metadata": {
        "colab": {
          "base_uri": "https://localhost:8080/",
          "height": 525
        },
        "id": "71Hwv1HGtHAg",
        "outputId": "dd3ecb7a-0237-44df-cdda-ab2f54943e62"
      },
      "source": [
        "from imblearn.over_sampling import SMOTE\n",
        "oversample = SMOTE(random_state=777,k_neighbors=20)\n",
        "X, y = oversample.fit_resample(X, y)\n",
        "# summarize distribution\n",
        "counter = Counter(y)\n",
        "for k,v in counter.items():\n",
        "\tper = v / len(y) * 100\n",
        "\tprint('Class=%s, n=%d (%.3f%%)' % (k, v, per))\n",
        "# plot the distribution\n",
        "pyplot.bar(counter.keys(), counter.values())\n",
        "pyplot.show()"
      ],
      "execution_count": 48,
      "outputs": [
        {
          "output_type": "stream",
          "text": [
            "/usr/local/lib/python3.7/dist-packages/sklearn/utils/deprecation.py:87: FutureWarning: Function safe_indexing is deprecated; safe_indexing is deprecated in version 0.22 and will be removed in version 0.24.\n",
            "  warnings.warn(msg, category=FutureWarning)\n",
            "/usr/local/lib/python3.7/dist-packages/sklearn/utils/deprecation.py:87: FutureWarning: Function safe_indexing is deprecated; safe_indexing is deprecated in version 0.22 and will be removed in version 0.24.\n",
            "  warnings.warn(msg, category=FutureWarning)\n",
            "/usr/local/lib/python3.7/dist-packages/sklearn/utils/deprecation.py:87: FutureWarning: Function safe_indexing is deprecated; safe_indexing is deprecated in version 0.22 and will be removed in version 0.24.\n",
            "  warnings.warn(msg, category=FutureWarning)\n",
            "/usr/local/lib/python3.7/dist-packages/sklearn/utils/deprecation.py:87: FutureWarning: Function safe_indexing is deprecated; safe_indexing is deprecated in version 0.22 and will be removed in version 0.24.\n",
            "  warnings.warn(msg, category=FutureWarning)\n"
          ],
          "name": "stderr"
        },
        {
          "output_type": "stream",
          "text": [
            "Class=Analysis, n=2500 (16.667%)\n",
            "Class=Conclusion, n=2500 (16.667%)\n",
            "Class=Facts, n=2500 (16.667%)\n",
            "Class=Invalid, n=2500 (16.667%)\n",
            "Class=Issue, n=2500 (16.667%)\n",
            "Class=Rule/Law/Holding, n=2500 (16.667%)\n"
          ],
          "name": "stdout"
        },
        {
          "output_type": "display_data",
          "data": {
            "image/png": "[encoded data removed]",
            "text/plain": [
              "<Figure size 432x288 with 1 Axes>"
            ]
          },
          "metadata": {
            "tags": [],
            "needs_background": "light"
          }
        }
      ]
    },
    {
      "cell_type": "code",
      "metadata": {
        "id": "9Qh9j30UfY1j"
      },
      "source": [
        "test = pd.read_csv(r'/content/drive/My Drive/Research/test_data.csv')\n",
        "\n",
        "test['Target']=test['Target'].replace(['Others'],'Invalid')\n",
        "test['Sentence'] = test['Sentence'].apply(lambda x: \" \".join(x.lower() for x in str(x).split()))\n",
        "test['Sentence'] = test['Sentence'].str.replace('[^\\w\\s]','')\n",
        "from nltk.corpus import stopwords\n",
        "words = stopwords.words('english')\n",
        "test['Sentence'] = test['Sentence'].apply(lambda x: \" \".join(x for x in x.split() if x not in words))\n",
        "t_p = tfidf_vect.transform(test['Sentence'])"
      ],
      "execution_count": 49,
      "outputs": []
    },
    {
      "cell_type": "code",
      "metadata": {
        "id": "RqREiKWSdhGW",
        "outputId": "114dd9bb-e857-423c-87dd-7da14c1be6e9",
        "colab": {
          "base_uri": "https://localhost:8080/"
        }
      },
      "source": [
        "import numpy as np\n",
        "from collections import Counter\n",
        "from sklearn.datasets import make_classification\n",
        "from sklearn.ensemble import RandomForestClassifier\n",
        "from sklearn.pipeline import make_pipeline\n",
        "from sklearn.model_selection import train_test_split\n",
        "from sklearn.metrics import confusion_matrix\n",
        "from sklearn.base import BaseEstimator, ClassifierMixin\n",
        "from sklearn.metrics import accuracy_score\n",
        "from sklearn.metrics import average_precision_score\n",
        "from sklearn.metrics import precision_score\n",
        "from sklearn.metrics import recall_score\n",
        "from sklearn.metrics import f1_score\n",
        "from sklearn.metrics import cohen_kappa_score\n",
        "from sklearn.metrics import roc_auc_score\n",
        "from sklearn.metrics import confusion_matrix\n",
        "from sklearn.metrics import classification_report\n",
        "import lightgbm as lgb\n",
        "from sklearn import svm\n",
        "\n",
        "\n",
        "#X, y = make_classification(random_state=1)\n",
        "counter = Counter(y)\n",
        "print(counter)\n",
        "#X_train, x_val, Y_train, y_val = train_test_split(X_tfidf,train['Target'],test_size=0.26,random_state=42)\n",
        "X_train, x_val, Y_train, y_val = train_test_split(X,y,test_size=0.20,random_state=42)\n",
        "print(\"@@@@@@2\",len(X_train))\n",
        "print(\"@@@@@@2\",len(x_val))\n",
        "classifier_1 = lgb.LGBMClassifier()\n",
        "classifier_1.fit(X_train, Y_train)\n",
        "\n",
        "cv = KFold(n_splits=5, random_state=1, shuffle=True)\n",
        "scores_f1 = cross_val_score(classifier_1,x_val ,y_val, scoring = 'f1_weighted', cv=cv, n_jobs=-1).mean()\n",
        "print(\"cross validation scores supervised \",scores_f1)\n",
        "\n",
        "y_pred = classifier_1.predict(x_val)\n",
        "#print(np.unique(y_pred))\n",
        "#print(type(y_pred))\n",
        "\n",
        "Accuracy_score = accuracy_score(y_val,y_pred)\n",
        "\n",
        "print('Validation Accuracy_score: %f' % Accuracy_score)\n",
        "test_pred = classifier_1.predict(t_p)\n",
        "acc_test = accuracy_score(test['Target'],test_pred)\n",
        "print('Accuracy test data', acc_test)\n",
        "classification_report = classification_report(test['Target'],test_pred,digits=4)\n",
        "print(classification_report)\n",
        "matrix = confusion_matrix( y_val,y_pred)\n",
        "print(matrix)\n"
      ],
      "execution_count": 50,
      "outputs": [
        {
          "output_type": "stream",
          "text": [
            "Counter({'Analysis': 2500, 'Conclusion': 2500, 'Facts': 2500, 'Invalid': 2500, 'Issue': 2500, 'Rule/Law/Holding': 2500})\n",
            "@@@@@@2 12000\n",
            "@@@@@@2 3000\n",
            "cross validation scores supervised  0.8400040476724872\n",
            "Validation Accuracy_score: 0.904667\n",
            "Accuracy test data 0.6506717850287908\n",
            "                  precision    recall  f1-score   support\n",
            "\n",
            "        Analysis     0.4400    0.4286    0.4342        77\n",
            "      Conclusion     0.6923    0.6923    0.6923        26\n",
            "           Facts     0.7565    0.7678    0.7621       267\n",
            "         Invalid     0.4896    0.5663    0.5251        83\n",
            "           Issue     0.8824    0.4412    0.5882        34\n",
            "Rule/Law/Holding     0.5833    0.6176    0.6000        34\n",
            "\n",
            "        accuracy                         0.6507       521\n",
            "       macro avg     0.6407    0.5856    0.6003       521\n",
            "    weighted avg     0.6609    0.6507    0.6505       521\n",
            "\n",
            "[[430   6  41  11   8   5]\n",
            " [  7 483   6   2   0   2]\n",
            " [ 31   3 450  31   6   6]\n",
            " [ 16   4  45 400   6   8]\n",
            " [  4   0  11   2 480   5]\n",
            " [  7   0   8   5   0 471]]\n"
          ],
          "name": "stdout"
        }
      ]
    },
    {
      "cell_type": "code",
      "metadata": {
        "id": "blPXMm4RefdG"
      },
      "source": [
        ""
      ],
      "execution_count": 50,
      "outputs": []
    }
  ]
}