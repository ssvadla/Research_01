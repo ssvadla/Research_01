{
  "nbformat": 4,
  "nbformat_minor": 0,
  "metadata": {
    "colab": {
      "name": "Labeled_data_tsv_creation.ipynb",
      "provenance": [],
      "authorship_tag": "ABX9TyPGWasUvG+8eFpuMT2mAE3s",
      "include_colab_link": true
    },
    "kernelspec": {
      "name": "python3",
      "display_name": "Python 3"
    },
    "language_info": {
      "name": "python"
    }
  },
  "cells": [
    {
      "cell_type": "markdown",
      "metadata": {
        "id": "view-in-github",
        "colab_type": "text"
      },
      "source": [
        "<a href=\"https://colab.research.google.com/github/ssvadla/Research_01/blob/main/Labeled_data_tsv_creation.ipynb\" target=\"_parent\"><img src=\"https://colab.research.google.com/assets/colab-badge.svg\" alt=\"Open In Colab\"/></a>"
      ]
    },
    {
      "cell_type": "code",
      "metadata": {
        "id": "sjfvB7rVqL_e"
      },
      "source": [
        ""
      ],
      "execution_count": null,
      "outputs": []
    },
    {
      "cell_type": "code",
      "metadata": {
        "colab": {
          "base_uri": "https://localhost:8080/",
          "height": 223
        },
        "id": "dKpWktcaIwIV",
        "outputId": "07a8388e-da17-4a19-8ec9-a0807ce92d43"
      },
      "source": [
        "import pandas as pd\n",
        "from sklearn.model_selection import cross_val_score\n",
        "from google.colab import drive\n",
        "\n",
        "drive.mount('/content/drive')\n",
        "\n",
        "train1 = pd.read_csv('/content/drive/My Drive/Research/train_data1.csv')\n",
        "train2 = pd.read_csv('/content/drive/My Drive/Research/train_data2.csv')\n",
        "train3 = pd.read_csv('/content/drive/My Drive/Research/train_data3.csv')\n",
        "train4 = pd.read_csv('/content/drive/My Drive/Research/train_data4.csv')\n",
        "train5 = pd.read_csv('/content/drive/My Drive/Research/train_data5.csv')\n",
        "train6 = pd.read_csv('/content/drive/My Drive/Research/train_data6.csv')\n",
        "train7 = pd.read_csv('/content/drive/My Drive/Research/train_data7.csv')\n",
        "train8 = pd.read_csv('/content/drive/My Drive/Research/train_data8.csv')\n",
        "train9 = pd.read_csv('/content/drive/My Drive/Research/train_data9.csv')\n",
        "train10 = pd.read_csv('/content/drive/My Drive/Research/train_data10.csv')\n",
        "train_highKappa = pd.read_csv('/content/drive/My Drive/Research/train_data_highkappa.csv')\n",
        "train1.head()"
      ],
      "execution_count": 1,
      "outputs": [
        {
          "output_type": "stream",
          "name": "stdout",
          "text": [
            "Drive already mounted at /content/drive; to attempt to forcibly remount, call drive.mount(\"/content/drive\", force_remount=True).\n"
          ]
        },
        {
          "output_type": "execute_result",
          "data": {
            "text/html": [
              "<div>\n",
              "<style scoped>\n",
              "    .dataframe tbody tr th:only-of-type {\n",
              "        vertical-align: middle;\n",
              "    }\n",
              "\n",
              "    .dataframe tbody tr th {\n",
              "        vertical-align: top;\n",
              "    }\n",
              "\n",
              "    .dataframe thead th {\n",
              "        text-align: right;\n",
              "    }\n",
              "</style>\n",
              "<table border=\"1\" class=\"dataframe\">\n",
              "  <thead>\n",
              "    <tr style=\"text-align: right;\">\n",
              "      <th></th>\n",
              "      <th>Unnamed: 0</th>\n",
              "      <th>Sentence</th>\n",
              "      <th>Target</th>\n",
              "    </tr>\n",
              "  </thead>\n",
              "  <tbody>\n",
              "    <tr>\n",
              "      <th>0</th>\n",
              "      <td>659</td>\n",
              "      <td>Appellant had stated to the officers that she ...</td>\n",
              "      <td>Invalid</td>\n",
              "    </tr>\n",
              "    <tr>\n",
              "      <th>1</th>\n",
              "      <td>3456</td>\n",
              "      <td>We shall discuss the facts more fully in conne...</td>\n",
              "      <td>Others</td>\n",
              "    </tr>\n",
              "    <tr>\n",
              "      <th>2</th>\n",
              "      <td>2043</td>\n",
              "      <td>â€œPerjury is a false statement, either writte...</td>\n",
              "      <td>Invalid</td>\n",
              "    </tr>\n",
              "    <tr>\n",
              "      <th>3</th>\n",
              "      <td>3344</td>\n",
              "      <td>The offense is felony theft by false pretext; ...</td>\n",
              "      <td>Issue</td>\n",
              "    </tr>\n",
              "    <tr>\n",
              "      <th>4</th>\n",
              "      <td>3231</td>\n",
              "      <td>Numerous contentions urging the commission of ...</td>\n",
              "      <td>Issue</td>\n",
              "    </tr>\n",
              "  </tbody>\n",
              "</table>\n",
              "</div>"
            ],
            "text/plain": [
              "   Unnamed: 0                                           Sentence   Target\n",
              "0         659  Appellant had stated to the officers that she ...  Invalid\n",
              "1        3456  We shall discuss the facts more fully in conne...   Others\n",
              "2        2043  â€œPerjury is a false statement, either writte...  Invalid\n",
              "3        3344  The offense is felony theft by false pretext; ...    Issue\n",
              "4        3231  Numerous contentions urging the commission of ...    Issue"
            ]
          },
          "metadata": {},
          "execution_count": 1
        }
      ]
    },
    {
      "cell_type": "code",
      "metadata": {
        "id": "c13Q_U4xOVv7"
      },
      "source": [
        "train = train1\n",
        "train_list = [train2,train3,train4,train5,train6,train7,train8,train9,train10,train_highKappa]\n",
        "for i in train_list:\n",
        "  #print(i)\n",
        "  train = train.append(i)\n",
        "\n"
      ],
      "execution_count": 2,
      "outputs": []
    },
    {
      "cell_type": "code",
      "metadata": {
        "id": "4vzqrFjJK-SB",
        "colab": {
          "base_uri": "https://localhost:8080/"
        },
        "outputId": "00c9cf8f-9d34-40fd-9049-116ac955e8d1"
      },
      "source": [
        "train.sort_values(\"Sentence\", inplace = True)\n",
        "print(len(train))\n"
      ],
      "execution_count": 3,
      "outputs": [
        {
          "output_type": "stream",
          "name": "stdout",
          "text": [
            "37711\n"
          ]
        }
      ]
    },
    {
      "cell_type": "code",
      "metadata": {
        "id": "sGhA6QWYLoUe"
      },
      "source": [
        "new_train = train.drop_duplicates(subset =\"Sentence\")\n"
      ],
      "execution_count": 4,
      "outputs": []
    },
    {
      "cell_type": "code",
      "metadata": {
        "id": "RbPp_HOCRuCe"
      },
      "source": [
        "\n",
        "train = new_train"
      ],
      "execution_count": 5,
      "outputs": []
    },
    {
      "cell_type": "code",
      "metadata": {
        "colab": {
          "base_uri": "https://localhost:8080/"
        },
        "id": "P4hONinM3_7t",
        "outputId": "9ea79f6a-8f90-41ae-865a-7e5ca892ce21"
      },
      "source": [
        "train['Target'].unique()"
      ],
      "execution_count": 6,
      "outputs": [
        {
          "output_type": "execute_result",
          "data": {
            "text/plain": [
              "array(['Invalid', 'Rule/Law/Holding', 'Facts', 'Analysis', 'Others',\n",
              "       'Conclusion', 'Issue'], dtype=object)"
            ]
          },
          "metadata": {},
          "execution_count": 6
        }
      ]
    },
    {
      "cell_type": "code",
      "metadata": {
        "colab": {
          "base_uri": "https://localhost:8080/"
        },
        "id": "NH-MTzyJ397k",
        "outputId": "dd37dfdf-e002-4039-eaa4-097167e8d7f5"
      },
      "source": [
        "train['Target']=train['Target'].replace(['Others'],'Invalid')\n",
        "train['Target'].unique()"
      ],
      "execution_count": 7,
      "outputs": [
        {
          "output_type": "execute_result",
          "data": {
            "text/plain": [
              "array(['Invalid', 'Rule/Law/Holding', 'Facts', 'Analysis', 'Conclusion',\n",
              "       'Issue'], dtype=object)"
            ]
          },
          "metadata": {},
          "execution_count": 7
        }
      ]
    },
    {
      "cell_type": "code",
      "metadata": {
        "colab": {
          "base_uri": "https://localhost:8080/"
        },
        "id": "t0g3MAVSuue5",
        "outputId": "ede3e69c-5a53-48e0-962d-fe46611c6807"
      },
      "source": [
        "train.columns"
      ],
      "execution_count": 8,
      "outputs": [
        {
          "output_type": "execute_result",
          "data": {
            "text/plain": [
              "Index(['Unnamed: 0', 'Sentence', 'Target'], dtype='object')"
            ]
          },
          "metadata": {},
          "execution_count": 8
        }
      ]
    },
    {
      "cell_type": "code",
      "metadata": {
        "id": "-aXK-SPMuv6b"
      },
      "source": [
        "del train['Unnamed: 0']"
      ],
      "execution_count": 9,
      "outputs": []
    },
    {
      "cell_type": "code",
      "metadata": {
        "colab": {
          "base_uri": "https://localhost:8080/"
        },
        "id": "wGMUnXQCu7I8",
        "outputId": "107920f6-f21d-401e-c7c1-61f2bf1faf9c"
      },
      "source": [
        "train.columns"
      ],
      "execution_count": 10,
      "outputs": [
        {
          "output_type": "execute_result",
          "data": {
            "text/plain": [
              "Index(['Sentence', 'Target'], dtype='object')"
            ]
          },
          "metadata": {},
          "execution_count": 10
        }
      ]
    },
    {
      "cell_type": "code",
      "metadata": {
        "id": "6FtG00hNE8BD"
      },
      "source": [
        "train['fine_label utterance'] = train['Target'] + '\\t' + train['Sentence'].str.replace('\"','')"
      ],
      "execution_count": 11,
      "outputs": []
    },
    {
      "cell_type": "code",
      "metadata": {
        "colab": {
          "base_uri": "https://localhost:8080/"
        },
        "id": "UH5tLFNpFRDt",
        "outputId": "b5679914-9716-442f-bff5-5515b1f894d8"
      },
      "source": [
        "train.columns"
      ],
      "execution_count": 12,
      "outputs": [
        {
          "output_type": "execute_result",
          "data": {
            "text/plain": [
              "Index(['Sentence', 'Target', 'fine_label utterance'], dtype='object')"
            ]
          },
          "metadata": {},
          "execution_count": 12
        }
      ]
    },
    {
      "cell_type": "code",
      "metadata": {
        "colab": {
          "base_uri": "https://localhost:8080/"
        },
        "id": "8ncyaRosFV9T",
        "outputId": "6c7a702a-6386-4b6e-c78f-fd960eca95b8"
      },
      "source": [
        "print(train.head())"
      ],
      "execution_count": 13,
      "outputs": [
        {
          "output_type": "stream",
          "name": "stdout",
          "text": [
            "                                               Sentence  ...                               fine_label utterance\n",
            "1364  \"(I)n the First Amendment area 'government may...  ...  Invalid\\t(I)n the First Amendment area 'govern...\n",
            "1833  \"... that nowhere in the statute was it stated...  ...  Invalid\\t... that nowhere in the statute was i...\n",
            "2431  \"Although a statute may be neither vague, over...  ...  Rule/Law/Holding\\tAlthough a statute may be ne...\n",
            "2245  \"For even when pursuing a legitimate interest,...  ...  Rule/Law/Holding\\tFor even when pursuing a leg...\n",
            "1561  \"If an indictment has been found or accusation...  ...  Facts\\tIf an indictment has been found or accu...\n",
            "\n",
            "[5 rows x 3 columns]\n"
          ]
        }
      ]
    },
    {
      "cell_type": "code",
      "metadata": {
        "colab": {
          "base_uri": "https://localhost:8080/"
        },
        "id": "VzFqkhTCPo5v",
        "outputId": "35cebeaf-aadf-4c3d-cb65-97f4e59bbfca"
      },
      "source": [
        "print(train['fine_label utterance'])"
      ],
      "execution_count": 13,
      "outputs": [
        {
          "output_type": "stream",
          "name": "stdout",
          "text": [
            "1364    Invalid\\t(I)n the First Amendment area 'govern...\n",
            "1833    Invalid\\t... that nowhere in the statute was i...\n",
            "2431    Rule/Law/Holding\\tAlthough a statute may be ne...\n",
            "2245    Rule/Law/Holding\\tFor even when pursuing a leg...\n",
            "1561    Facts\\tIf an indictment has been found or accu...\n",
            "                              ...                        \n",
            "1731    Analysis\\t“The statements and conduct of prose...\n",
            "2149    Facts\\t“There is nothing in the record to sugg...\n",
            "1256    Facts\\t“There was a material change in the pen...\n",
            "2850    Invalid\\t“by inviting and encouraging and indu...\n",
            "2179    Facts\\t• On January 3, Fred Beavers accompanie...\n",
            "Name: fine_label utterance, Length: 4416, dtype: object\n"
          ]
        }
      ]
    },
    {
      "cell_type": "code",
      "metadata": {
        "id": "QPpVijKKSQYp",
        "colab": {
          "base_uri": "https://localhost:8080/"
        },
        "outputId": "c5406c76-4e27-4a62-81ab-00685676b976"
      },
      "source": [
        "train.columns"
      ],
      "execution_count": 14,
      "outputs": [
        {
          "output_type": "execute_result",
          "data": {
            "text/plain": [
              "Index(['Sentence', 'Target', 'fine_label utterance'], dtype='object')"
            ]
          },
          "metadata": {},
          "execution_count": 14
        }
      ]
    },
    {
      "cell_type": "code",
      "metadata": {
        "id": "TZQpzb1rPFMR"
      },
      "source": [
        "for i in train['fine_label utterance']:\n",
        "  print(i)"
      ],
      "execution_count": null,
      "outputs": []
    },
    {
      "cell_type": "code",
      "metadata": {
        "colab": {
          "base_uri": "https://localhost:8080/"
        },
        "id": "qHbZ-ZPmLMZQ",
        "outputId": "47672595-2c48-4573-a161-4cfe858ea2df"
      },
      "source": [
        "stri = \"hello\\tWorld\"\n",
        "print(stri)"
      ],
      "execution_count": null,
      "outputs": [
        {
          "output_type": "stream",
          "text": [
            "hello\tWorld\n"
          ],
          "name": "stdout"
        }
      ]
    },
    {
      "cell_type": "code",
      "metadata": {
        "id": "ZxQ-xfHMOiL5"
      },
      "source": [
        "train.to_csv('/content/drive/My Drive/Research/Chen_data/Lableled_W_index_.tsv', sep = '\\t')"
      ],
      "execution_count": null,
      "outputs": []
    },
    {
      "cell_type": "code",
      "metadata": {
        "id": "y-TTzm8iFnKc"
      },
      "source": [
        "del train['Sentence']"
      ],
      "execution_count": 15,
      "outputs": []
    },
    {
      "cell_type": "code",
      "metadata": {
        "id": "qQ-dTS4JFqSC"
      },
      "source": [
        "del train['Target']"
      ],
      "execution_count": 16,
      "outputs": []
    },
    {
      "cell_type": "code",
      "metadata": {
        "id": "4xi2h-5cFqcv"
      },
      "source": [
        "train.to_csv('/content/drive/My Drive/Research/Chen_data/Lableled_WO_index_final_hello.tsv', sep = '\\t',index=False)"
      ],
      "execution_count": 17,
      "outputs": []
    },
    {
      "cell_type": "code",
      "metadata": {
        "id": "uVnC3Lu3Gk9k"
      },
      "source": [
        "train.reset_index(inplace = True)"
      ],
      "execution_count": null,
      "outputs": []
    },
    {
      "cell_type": "code",
      "metadata": {
        "colab": {
          "base_uri": "https://localhost:8080/"
        },
        "id": "oA_XtU9yGplM",
        "outputId": "637bf07c-3116-43d8-e7b3-ecdcbdec8124"
      },
      "source": [
        "train.columns"
      ],
      "execution_count": null,
      "outputs": [
        {
          "output_type": "execute_result",
          "data": {
            "text/plain": [
              "Index(['fine_label utterance'], dtype='object')"
            ]
          },
          "metadata": {},
          "execution_count": 26
        }
      ]
    },
    {
      "cell_type": "code",
      "metadata": {
        "id": "KZhlkaRxGraC"
      },
      "source": [
        "del train['index']"
      ],
      "execution_count": null,
      "outputs": []
    },
    {
      "cell_type": "code",
      "metadata": {
        "id": "OZUcoA9jGT8p"
      },
      "source": [
        "train.to_csv('/content/drive/My Drive/Research/Chen_data/Lableled_W_index.tsv', sep = '\\t')"
      ],
      "execution_count": null,
      "outputs": []
    },
    {
      "cell_type": "code",
      "metadata": {
        "id": "daLK3qmpwIzT"
      },
      "source": [
        "final_train = train"
      ],
      "execution_count": 9,
      "outputs": []
    },
    {
      "cell_type": "code",
      "metadata": {
        "id": "diiL3wSiu8x3"
      },
      "source": [
        "final_train['fine_label'] = train['Target']"
      ],
      "execution_count": 10,
      "outputs": []
    },
    {
      "cell_type": "code",
      "metadata": {
        "colab": {
          "base_uri": "https://localhost:8080/"
        },
        "id": "SwcOd-s-wGdf",
        "outputId": "8ee374b3-3c43-43ab-b881-10cf282cd4a4"
      },
      "source": [
        "final_train.columns"
      ],
      "execution_count": 11,
      "outputs": [
        {
          "output_type": "execute_result",
          "data": {
            "text/plain": [
              "Index(['Unnamed: 0', 'Sentence', 'Target', 'fine_label'], dtype='object')"
            ]
          },
          "metadata": {},
          "execution_count": 11
        }
      ]
    },
    {
      "cell_type": "code",
      "metadata": {
        "colab": {
          "base_uri": "https://localhost:8080/",
          "height": 165
        },
        "id": "MQ17Iici8fgv",
        "outputId": "505e5b25-b9db-49a3-b9da-56e254413825"
      },
      "source": [
        "p"
      ],
      "execution_count": null,
      "outputs": [
        {
          "output_type": "error",
          "ename": "NameError",
          "evalue": "ignored",
          "traceback": [
            "\u001b[0;31m---------------------------------------------------------------------------\u001b[0m",
            "\u001b[0;31mNameError\u001b[0m                                 Traceback (most recent call last)",
            "\u001b[0;32m<ipython-input-47-6c10289a8da7>\u001b[0m in \u001b[0;36m<module>\u001b[0;34m()\u001b[0m\n\u001b[0;32m----> 1\u001b[0;31m \u001b[0mp\u001b[0m\u001b[0;34m\u001b[0m\u001b[0;34m\u001b[0m\u001b[0m\n\u001b[0m",
            "\u001b[0;31mNameError\u001b[0m: name 'p' is not defined"
          ]
        }
      ]
    },
    {
      "cell_type": "code",
      "metadata": {
        "id": "5jrYtDzfwNhY"
      },
      "source": [
        "del final_train['Sentence']"
      ],
      "execution_count": 12,
      "outputs": []
    },
    {
      "cell_type": "code",
      "metadata": {
        "id": "P8UaBfb-wSmn"
      },
      "source": [
        "del final_train['Target']"
      ],
      "execution_count": 13,
      "outputs": []
    },
    {
      "cell_type": "code",
      "metadata": {
        "colab": {
          "base_uri": "https://localhost:8080/"
        },
        "id": "Pxqy0GQmwVYE",
        "outputId": "8d6c61f2-5c4f-46dc-86a9-d4cb5cecaffc"
      },
      "source": [
        "final_train.columns"
      ],
      "execution_count": 14,
      "outputs": [
        {
          "output_type": "execute_result",
          "data": {
            "text/plain": [
              "Index(['Unnamed: 0', 'fine_label'], dtype='object')"
            ]
          },
          "metadata": {},
          "execution_count": 14
        }
      ]
    },
    {
      "cell_type": "code",
      "metadata": {
        "id": "sK357jJLyR8h"
      },
      "source": [
        ""
      ],
      "execution_count": null,
      "outputs": []
    },
    {
      "cell_type": "code",
      "metadata": {
        "id": "9ZFLYV3TwXJh"
      },
      "source": [
        "final_train['utterance'] = train['Sentence']"
      ],
      "execution_count": null,
      "outputs": []
    },
    {
      "cell_type": "code",
      "metadata": {
        "colab": {
          "base_uri": "https://localhost:8080/"
        },
        "id": "UcnC4MAXyOKP",
        "outputId": "77f84689-5637-4350-d45a-4496e131793c"
      },
      "source": [
        "final_train.shape"
      ],
      "execution_count": null,
      "outputs": [
        {
          "output_type": "execute_result",
          "data": {
            "text/plain": [
              "(4416, 2)"
            ]
          },
          "metadata": {},
          "execution_count": 52
        }
      ]
    },
    {
      "cell_type": "code",
      "metadata": {
        "colab": {
          "base_uri": "https://localhost:8080/"
        },
        "id": "WDX4FLWKAZOy",
        "outputId": "b56b0a11-8b04-4d11-d93b-23c87b5015b4"
      },
      "source": [
        "for i in final_train:\n",
        "  print(i)"
      ],
      "execution_count": null,
      "outputs": [
        {
          "output_type": "stream",
          "text": [
            "fine_label\n",
            "utterance\n"
          ],
          "name": "stdout"
        }
      ]
    },
    {
      "cell_type": "code",
      "metadata": {
        "id": "O6kQR91h87Ck"
      },
      "source": [
        "final_train.to_csv('/content/drive/My Drive/Research/Chen_data/Lableled_data_1.tsv', sep = '\\t',index=False)"
      ],
      "execution_count": null,
      "outputs": []
    },
    {
      "cell_type": "code",
      "metadata": {
        "id": "E6Biyabo-AxX"
      },
      "source": [
        "final_train['new'] = final_train['fine_label']+'\\t'+final_train['utterance']"
      ],
      "execution_count": null,
      "outputs": []
    },
    {
      "cell_type": "code",
      "metadata": {
        "colab": {
          "base_uri": "https://localhost:8080/",
          "height": 205
        },
        "id": "jW8u00ojA2Js",
        "outputId": "18061380-5ade-4bdf-b24e-d67580ed845d"
      },
      "source": [
        "final_train.head()"
      ],
      "execution_count": null,
      "outputs": [
        {
          "output_type": "execute_result",
          "data": {
            "text/html": [
              "<div>\n",
              "<style scoped>\n",
              "    .dataframe tbody tr th:only-of-type {\n",
              "        vertical-align: middle;\n",
              "    }\n",
              "\n",
              "    .dataframe tbody tr th {\n",
              "        vertical-align: top;\n",
              "    }\n",
              "\n",
              "    .dataframe thead th {\n",
              "        text-align: right;\n",
              "    }\n",
              "</style>\n",
              "<table border=\"1\" class=\"dataframe\">\n",
              "  <thead>\n",
              "    <tr style=\"text-align: right;\">\n",
              "      <th></th>\n",
              "      <th>fine_label</th>\n",
              "      <th>utterance</th>\n",
              "      <th>new</th>\n",
              "    </tr>\n",
              "  </thead>\n",
              "  <tbody>\n",
              "    <tr>\n",
              "      <th>1364</th>\n",
              "      <td>Invalid</td>\n",
              "      <td>\"(I)n the First Amendment area 'government may...</td>\n",
              "      <td>Invalid\"(I)n the First Amendment area 'governm...</td>\n",
              "    </tr>\n",
              "    <tr>\n",
              "      <th>1833</th>\n",
              "      <td>Invalid</td>\n",
              "      <td>\"... that nowhere in the statute was it stated...</td>\n",
              "      <td>Invalid\"... that nowhere in the statute was it...</td>\n",
              "    </tr>\n",
              "    <tr>\n",
              "      <th>2431</th>\n",
              "      <td>Rule/Law/Holding</td>\n",
              "      <td>\"Although a statute may be neither vague, over...</td>\n",
              "      <td>Rule/Law/Holding\"Although a statute may be nei...</td>\n",
              "    </tr>\n",
              "    <tr>\n",
              "      <th>2245</th>\n",
              "      <td>Rule/Law/Holding</td>\n",
              "      <td>\"For even when pursuing a legitimate interest,...</td>\n",
              "      <td>Rule/Law/Holding\"For even when pursuing a legi...</td>\n",
              "    </tr>\n",
              "    <tr>\n",
              "      <th>1561</th>\n",
              "      <td>Facts</td>\n",
              "      <td>\"If an indictment has been found or accusation...</td>\n",
              "      <td>Facts\"If an indictment has been found or accus...</td>\n",
              "    </tr>\n",
              "  </tbody>\n",
              "</table>\n",
              "</div>"
            ],
            "text/plain": [
              "            fine_label  ...                                                new\n",
              "1364           Invalid  ...  Invalid\"(I)n the First Amendment area 'governm...\n",
              "1833           Invalid  ...  Invalid\"... that nowhere in the statute was it...\n",
              "2431  Rule/Law/Holding  ...  Rule/Law/Holding\"Although a statute may be nei...\n",
              "2245  Rule/Law/Holding  ...  Rule/Law/Holding\"For even when pursuing a legi...\n",
              "1561             Facts  ...  Facts\"If an indictment has been found or accus...\n",
              "\n",
              "[5 rows x 3 columns]"
            ]
          },
          "metadata": {},
          "execution_count": 58
        }
      ]
    },
    {
      "cell_type": "code",
      "metadata": {
        "colab": {
          "base_uri": "https://localhost:8080/"
        },
        "id": "_9ZhfkbcA5eO",
        "outputId": "917dcb1e-7516-4926-e1aa-08c435ee4eb6"
      },
      "source": [
        "final_train.columns"
      ],
      "execution_count": null,
      "outputs": [
        {
          "output_type": "execute_result",
          "data": {
            "text/plain": [
              "Index(['fine_label', 'utterance', 'new'], dtype='object')"
            ]
          },
          "metadata": {},
          "execution_count": 59
        }
      ]
    },
    {
      "cell_type": "code",
      "metadata": {
        "id": "M2jy5jrcBEgV"
      },
      "source": [
        "del final_train['fine_label']"
      ],
      "execution_count": null,
      "outputs": []
    },
    {
      "cell_type": "code",
      "metadata": {
        "id": "wK-1afStBPDT"
      },
      "source": [
        "del final_train['utterance']"
      ],
      "execution_count": null,
      "outputs": []
    },
    {
      "cell_type": "code",
      "metadata": {
        "colab": {
          "base_uri": "https://localhost:8080/"
        },
        "id": "hm3fLBJQBRBY",
        "outputId": "6fd9007a-b90c-4464-f918-7c95f1b2cf4b"
      },
      "source": [
        "final_train.columns"
      ],
      "execution_count": null,
      "outputs": [
        {
          "output_type": "execute_result",
          "data": {
            "text/plain": [
              "Index(['new'], dtype='object')"
            ]
          },
          "metadata": {},
          "execution_count": 62
        }
      ]
    },
    {
      "cell_type": "code",
      "metadata": {
        "colab": {
          "base_uri": "https://localhost:8080/",
          "height": 205
        },
        "id": "RIvuuF0WBUQI",
        "outputId": "aaa35fc6-db5b-4b4a-fc6c-47b5c07b85a0"
      },
      "source": [
        "final_train.head()"
      ],
      "execution_count": null,
      "outputs": [
        {
          "output_type": "execute_result",
          "data": {
            "text/html": [
              "<div>\n",
              "<style scoped>\n",
              "    .dataframe tbody tr th:only-of-type {\n",
              "        vertical-align: middle;\n",
              "    }\n",
              "\n",
              "    .dataframe tbody tr th {\n",
              "        vertical-align: top;\n",
              "    }\n",
              "\n",
              "    .dataframe thead th {\n",
              "        text-align: right;\n",
              "    }\n",
              "</style>\n",
              "<table border=\"1\" class=\"dataframe\">\n",
              "  <thead>\n",
              "    <tr style=\"text-align: right;\">\n",
              "      <th></th>\n",
              "      <th>new</th>\n",
              "    </tr>\n",
              "  </thead>\n",
              "  <tbody>\n",
              "    <tr>\n",
              "      <th>1364</th>\n",
              "      <td>Invalid\"(I)n the First Amendment area 'governm...</td>\n",
              "    </tr>\n",
              "    <tr>\n",
              "      <th>1833</th>\n",
              "      <td>Invalid\"... that nowhere in the statute was it...</td>\n",
              "    </tr>\n",
              "    <tr>\n",
              "      <th>2431</th>\n",
              "      <td>Rule/Law/Holding\"Although a statute may be nei...</td>\n",
              "    </tr>\n",
              "    <tr>\n",
              "      <th>2245</th>\n",
              "      <td>Rule/Law/Holding\"For even when pursuing a legi...</td>\n",
              "    </tr>\n",
              "    <tr>\n",
              "      <th>1561</th>\n",
              "      <td>Facts\"If an indictment has been found or accus...</td>\n",
              "    </tr>\n",
              "  </tbody>\n",
              "</table>\n",
              "</div>"
            ],
            "text/plain": [
              "                                                    new\n",
              "1364  Invalid\"(I)n the First Amendment area 'governm...\n",
              "1833  Invalid\"... that nowhere in the statute was it...\n",
              "2431  Rule/Law/Holding\"Although a statute may be nei...\n",
              "2245  Rule/Law/Holding\"For even when pursuing a legi...\n",
              "1561  Facts\"If an indictment has been found or accus..."
            ]
          },
          "metadata": {},
          "execution_count": 63
        }
      ]
    },
    {
      "cell_type": "code",
      "metadata": {
        "id": "Z3zh59d_BcGi"
      },
      "source": [
        "hello = pd.DataFrame(['fine_label utterance'] ,columns=final_train.columns)"
      ],
      "execution_count": null,
      "outputs": []
    },
    {
      "cell_type": "code",
      "metadata": {
        "colab": {
          "base_uri": "https://localhost:8080/",
          "height": 81
        },
        "id": "dXWnju3nB3Yp",
        "outputId": "9ad2c491-c627-4c99-e81f-52d1996911b8"
      },
      "source": [
        "hello.head()"
      ],
      "execution_count": null,
      "outputs": [
        {
          "output_type": "execute_result",
          "data": {
            "text/html": [
              "<div>\n",
              "<style scoped>\n",
              "    .dataframe tbody tr th:only-of-type {\n",
              "        vertical-align: middle;\n",
              "    }\n",
              "\n",
              "    .dataframe tbody tr th {\n",
              "        vertical-align: top;\n",
              "    }\n",
              "\n",
              "    .dataframe thead th {\n",
              "        text-align: right;\n",
              "    }\n",
              "</style>\n",
              "<table border=\"1\" class=\"dataframe\">\n",
              "  <thead>\n",
              "    <tr style=\"text-align: right;\">\n",
              "      <th></th>\n",
              "      <th>new</th>\n",
              "    </tr>\n",
              "  </thead>\n",
              "  <tbody>\n",
              "    <tr>\n",
              "      <th>0</th>\n",
              "      <td>fine_label utterance</td>\n",
              "    </tr>\n",
              "  </tbody>\n",
              "</table>\n",
              "</div>"
            ],
            "text/plain": [
              "                    new\n",
              "0  fine_label utterance"
            ]
          },
          "metadata": {},
          "execution_count": 71
        }
      ]
    },
    {
      "cell_type": "code",
      "metadata": {
        "id": "WsERk5grB6g-"
      },
      "source": [
        "labelled_data = hello.append(final_train)"
      ],
      "execution_count": null,
      "outputs": []
    },
    {
      "cell_type": "code",
      "metadata": {
        "colab": {
          "base_uri": "https://localhost:8080/"
        },
        "id": "W5rPAUAiCKFf",
        "outputId": "69d25ca6-ee73-4696-e294-f51dae29c380"
      },
      "source": [
        "labelled_data.columns"
      ],
      "execution_count": null,
      "outputs": [
        {
          "output_type": "execute_result",
          "data": {
            "text/plain": [
              "Index(['new'], dtype='object')"
            ]
          },
          "metadata": {},
          "execution_count": 75
        }
      ]
    },
    {
      "cell_type": "code",
      "metadata": {
        "id": "p-OvupN3Ckzc"
      },
      "source": [
        "labelled_data.to_csv('/content/drive/My Drive/Research/Chen_data/Lableled_data_2.tsv', sep = '\\t',index=False)"
      ],
      "execution_count": null,
      "outputs": []
    },
    {
      "cell_type": "code",
      "metadata": {
        "colab": {
          "base_uri": "https://localhost:8080/",
          "height": 205
        },
        "id": "jWake-7FCu5V",
        "outputId": "80fcfb24-8803-49f7-f2bd-94d766b19c30"
      },
      "source": [
        "final_train.head()"
      ],
      "execution_count": null,
      "outputs": [
        {
          "output_type": "execute_result",
          "data": {
            "text/html": [
              "<div>\n",
              "<style scoped>\n",
              "    .dataframe tbody tr th:only-of-type {\n",
              "        vertical-align: middle;\n",
              "    }\n",
              "\n",
              "    .dataframe tbody tr th {\n",
              "        vertical-align: top;\n",
              "    }\n",
              "\n",
              "    .dataframe thead th {\n",
              "        text-align: right;\n",
              "    }\n",
              "</style>\n",
              "<table border=\"1\" class=\"dataframe\">\n",
              "  <thead>\n",
              "    <tr style=\"text-align: right;\">\n",
              "      <th></th>\n",
              "      <th>new</th>\n",
              "    </tr>\n",
              "  </thead>\n",
              "  <tbody>\n",
              "    <tr>\n",
              "      <th>1364</th>\n",
              "      <td>Invalid\"(I)n the First Amendment area 'governm...</td>\n",
              "    </tr>\n",
              "    <tr>\n",
              "      <th>1833</th>\n",
              "      <td>Invalid\"... that nowhere in the statute was it...</td>\n",
              "    </tr>\n",
              "    <tr>\n",
              "      <th>2431</th>\n",
              "      <td>Rule/Law/Holding\"Although a statute may be nei...</td>\n",
              "    </tr>\n",
              "    <tr>\n",
              "      <th>2245</th>\n",
              "      <td>Rule/Law/Holding\"For even when pursuing a legi...</td>\n",
              "    </tr>\n",
              "    <tr>\n",
              "      <th>1561</th>\n",
              "      <td>Facts\"If an indictment has been found or accus...</td>\n",
              "    </tr>\n",
              "  </tbody>\n",
              "</table>\n",
              "</div>"
            ],
            "text/plain": [
              "                                                    new\n",
              "1364  Invalid\"(I)n the First Amendment area 'governm...\n",
              "1833  Invalid\"... that nowhere in the statute was it...\n",
              "2431  Rule/Law/Holding\"Although a statute may be nei...\n",
              "2245  Rule/Law/Holding\"For even when pursuing a legi...\n",
              "1561  Facts\"If an indictment has been found or accus..."
            ]
          },
          "metadata": {},
          "execution_count": 77
        }
      ]
    },
    {
      "cell_type": "code",
      "metadata": {
        "id": "-GU4UoYgDHjw"
      },
      "source": [
        "final_train['fine_label utterance'] = final_train['new']"
      ],
      "execution_count": null,
      "outputs": []
    },
    {
      "cell_type": "code",
      "metadata": {
        "colab": {
          "base_uri": "https://localhost:8080/"
        },
        "id": "K2gElNLHDPby",
        "outputId": "f8df82b2-2fa5-429e-d27e-dcaadd870f60"
      },
      "source": [
        "final_train.columns"
      ],
      "execution_count": null,
      "outputs": [
        {
          "output_type": "execute_result",
          "data": {
            "text/plain": [
              "Index(['new', 'fine_label utterance'], dtype='object')"
            ]
          },
          "metadata": {},
          "execution_count": 79
        }
      ]
    },
    {
      "cell_type": "code",
      "metadata": {
        "id": "ctTWhgeeDRUR"
      },
      "source": [
        "del final_train['new']"
      ],
      "execution_count": null,
      "outputs": []
    },
    {
      "cell_type": "code",
      "metadata": {
        "id": "TEL-QCS_Du9d"
      },
      "source": [
        ""
      ],
      "execution_count": null,
      "outputs": []
    },
    {
      "cell_type": "code",
      "metadata": {
        "id": "gdJgajVtDVaY"
      },
      "source": [
        "final_labeled_data = pd.DataFrame(final_train, columns= final_train.columns)"
      ],
      "execution_count": null,
      "outputs": []
    },
    {
      "cell_type": "code",
      "metadata": {
        "colab": {
          "base_uri": "https://localhost:8080/"
        },
        "id": "VQHR7tNYDlyQ",
        "outputId": "00496b0b-dc7b-4bd8-e979-9fa972f71fe8"
      },
      "source": [
        "final_labeled_data.columns"
      ],
      "execution_count": null,
      "outputs": [
        {
          "output_type": "execute_result",
          "data": {
            "text/plain": [
              "Index(['fine_label utterance'], dtype='object')"
            ]
          },
          "metadata": {},
          "execution_count": 88
        }
      ]
    },
    {
      "cell_type": "code",
      "metadata": {
        "colab": {
          "base_uri": "https://localhost:8080/",
          "height": 205
        },
        "id": "_mRgrypZDoHn",
        "outputId": "cf7c9c95-e055-4733-d3d1-5ea4bc004a5d"
      },
      "source": [
        "final_labeled_data.head()"
      ],
      "execution_count": null,
      "outputs": [
        {
          "output_type": "execute_result",
          "data": {
            "text/html": [
              "<div>\n",
              "<style scoped>\n",
              "    .dataframe tbody tr th:only-of-type {\n",
              "        vertical-align: middle;\n",
              "    }\n",
              "\n",
              "    .dataframe tbody tr th {\n",
              "        vertical-align: top;\n",
              "    }\n",
              "\n",
              "    .dataframe thead th {\n",
              "        text-align: right;\n",
              "    }\n",
              "</style>\n",
              "<table border=\"1\" class=\"dataframe\">\n",
              "  <thead>\n",
              "    <tr style=\"text-align: right;\">\n",
              "      <th></th>\n",
              "      <th>fine_label utterance</th>\n",
              "    </tr>\n",
              "  </thead>\n",
              "  <tbody>\n",
              "    <tr>\n",
              "      <th>0</th>\n",
              "      <td>Invalid\"(I)n the First Amendment area 'governm...</td>\n",
              "    </tr>\n",
              "    <tr>\n",
              "      <th>1</th>\n",
              "      <td>Invalid\"... that nowhere in the statute was it...</td>\n",
              "    </tr>\n",
              "    <tr>\n",
              "      <th>2</th>\n",
              "      <td>Rule/Law/Holding\"Although a statute may be nei...</td>\n",
              "    </tr>\n",
              "    <tr>\n",
              "      <th>3</th>\n",
              "      <td>Rule/Law/Holding\"For even when pursuing a legi...</td>\n",
              "    </tr>\n",
              "    <tr>\n",
              "      <th>4</th>\n",
              "      <td>Facts\"If an indictment has been found or accus...</td>\n",
              "    </tr>\n",
              "  </tbody>\n",
              "</table>\n",
              "</div>"
            ],
            "text/plain": [
              "                                fine_label utterance\n",
              "0  Invalid\"(I)n the First Amendment area 'governm...\n",
              "1  Invalid\"... that nowhere in the statute was it...\n",
              "2  Rule/Law/Holding\"Although a statute may be nei...\n",
              "3  Rule/Law/Holding\"For even when pursuing a legi...\n",
              "4  Facts\"If an indictment has been found or accus..."
            ]
          },
          "metadata": {},
          "execution_count": 89
        }
      ]
    },
    {
      "cell_type": "code",
      "metadata": {
        "id": "-S0CogPADrWu"
      },
      "source": [
        "final_labeled_data.reset_index(inplace = True)"
      ],
      "execution_count": null,
      "outputs": []
    },
    {
      "cell_type": "code",
      "metadata": {
        "id": "KPjh55JpD-si"
      },
      "source": [
        "del final_labeled_data['index']"
      ],
      "execution_count": null,
      "outputs": []
    },
    {
      "cell_type": "code",
      "metadata": {
        "id": "yJuazbWMEGbr"
      },
      "source": [
        "final_labeled_data.to_csv('/content/drive/My Drive/Research/Chen_data/Lableled_data_3.tsv', sep = '\\t')"
      ],
      "execution_count": null,
      "outputs": []
    },
    {
      "cell_type": "code",
      "metadata": {
        "id": "QYZXFLOPEcpa"
      },
      "source": [
        ""
      ],
      "execution_count": null,
      "outputs": []
    }
  ]
}