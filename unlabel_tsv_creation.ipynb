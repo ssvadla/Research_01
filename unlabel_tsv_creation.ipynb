{
  "nbformat": 4,
  "nbformat_minor": 0,
  "metadata": {
    "colab": {
      "name": "unlabel_tsv_creation.ipynb",
      "provenance": [],
      "authorship_tag": "ABX9TyMdifuYs3rnvFDlt2JGsRCi",
      "include_colab_link": true
    },
    "kernelspec": {
      "name": "python3",
      "display_name": "Python 3"
    },
    "language_info": {
      "name": "python"
    }
  },
  "cells": [
    {
      "cell_type": "markdown",
      "metadata": {
        "id": "view-in-github",
        "colab_type": "text"
      },
      "source": [
        "<a href=\"https://colab.research.google.com/github/ssvadla/Research_01/blob/main/unlabel_tsv_creation.ipynb\" target=\"_parent\"><img src=\"https://colab.research.google.com/assets/colab-badge.svg\" alt=\"Open In Colab\"/></a>"
      ]
    },
    {
      "cell_type": "code",
      "metadata": {
        "id": "CS7h0ZwqZV9K"
      },
      "source": [
        "x = 0.5"
      ],
      "execution_count": 27,
      "outputs": []
    },
    {
      "cell_type": "code",
      "metadata": {
        "colab": {
          "base_uri": "https://localhost:8080/"
        },
        "id": "PbqRDZIXZB4Y",
        "outputId": "4517f7ab-aeb1-4c19-d066-409612a78de6"
      },
      "source": [
        "(4416 / x ) - 4416"
      ],
      "execution_count": 28,
      "outputs": [
        {
          "output_type": "execute_result",
          "data": {
            "text/plain": [
              "4416.0"
            ]
          },
          "metadata": {},
          "execution_count": 28
        }
      ]
    },
    {
      "cell_type": "code",
      "metadata": {
        "colab": {
          "base_uri": "https://localhost:8080/"
        },
        "id": "boNRS4KgaZgq",
        "outputId": "f1f7b9b1-9968-454a-a701-08e26400dd38"
      },
      "source": [
        "import pandas as pd\n",
        "from google.colab import drive\n",
        "drive.mount('/content/drive')\n"
      ],
      "execution_count": 31,
      "outputs": [
        {
          "output_type": "stream",
          "text": [
            "Mounted at /content/drive\n"
          ],
          "name": "stdout"
        }
      ]
    },
    {
      "cell_type": "code",
      "metadata": {
        "id": "khHQfjhkZRVy"
      },
      "source": [
        "unlabel = pd.read_csv(r'/content/drive/My Drive/Research/Unlabeled_data.csv')"
      ],
      "execution_count": 32,
      "outputs": []
    },
    {
      "cell_type": "code",
      "metadata": {
        "colab": {
          "base_uri": "https://localhost:8080/"
        },
        "id": "WIfQCeK0acSh",
        "outputId": "8e2ab558-2239-4ec1-f235-5ab55643654c"
      },
      "source": [
        "unlabel.columns"
      ],
      "execution_count": 36,
      "outputs": [
        {
          "output_type": "execute_result",
          "data": {
            "text/plain": [
              "Index(['text'], dtype='object')"
            ]
          },
          "metadata": {},
          "execution_count": 36
        }
      ]
    },
    {
      "cell_type": "code",
      "metadata": {
        "id": "HWflHtOaavtV"
      },
      "source": [
        "del unlabel['Complete']"
      ],
      "execution_count": 34,
      "outputs": []
    },
    {
      "cell_type": "code",
      "metadata": {
        "id": "_Wh3jaEcbmc3"
      },
      "source": [
        "del unlabel['Unnamed: 0']"
      ],
      "execution_count": 35,
      "outputs": []
    },
    {
      "cell_type": "code",
      "metadata": {
        "id": "iRIeaZKFbo7V"
      },
      "source": [
        "unlabel['Target'] = \"UNK_UNK\""
      ],
      "execution_count": 37,
      "outputs": []
    },
    {
      "cell_type": "code",
      "metadata": {
        "colab": {
          "base_uri": "https://localhost:8080/",
          "height": 205
        },
        "id": "1I3XzDW7b277",
        "outputId": "407302b3-74a4-471d-8cca-ea84394dfeab"
      },
      "source": [
        "unlabel.head()"
      ],
      "execution_count": 38,
      "outputs": [
        {
          "output_type": "execute_result",
          "data": {
            "text/html": [
              "<div>\n",
              "<style scoped>\n",
              "    .dataframe tbody tr th:only-of-type {\n",
              "        vertical-align: middle;\n",
              "    }\n",
              "\n",
              "    .dataframe tbody tr th {\n",
              "        vertical-align: top;\n",
              "    }\n",
              "\n",
              "    .dataframe thead th {\n",
              "        text-align: right;\n",
              "    }\n",
              "</style>\n",
              "<table border=\"1\" class=\"dataframe\">\n",
              "  <thead>\n",
              "    <tr style=\"text-align: right;\">\n",
              "      <th></th>\n",
              "      <th>text</th>\n",
              "      <th>Target</th>\n",
              "    </tr>\n",
              "  </thead>\n",
              "  <tbody>\n",
              "    <tr>\n",
              "      <th>0</th>\n",
              "      <td>No motion for rehearing filed.</td>\n",
              "      <td>UNK_UNK</td>\n",
              "    </tr>\n",
              "    <tr>\n",
              "      <th>1</th>\n",
              "      <td>— Relator is under accusation of killing her h...</td>\n",
              "      <td>UNK_UNK</td>\n",
              "    </tr>\n",
              "    <tr>\n",
              "      <th>2</th>\n",
              "      <td>From an order of the District Judge of the 39t...</td>\n",
              "      <td>UNK_UNK</td>\n",
              "    </tr>\n",
              "    <tr>\n",
              "      <th>3</th>\n",
              "      <td>Relator and her husband had been married for a...</td>\n",
              "      <td>UNK_UNK</td>\n",
              "    </tr>\n",
              "    <tr>\n",
              "      <th>4</th>\n",
              "      <td>The evidence indicates that their family relat...</td>\n",
              "      <td>UNK_UNK</td>\n",
              "    </tr>\n",
              "  </tbody>\n",
              "</table>\n",
              "</div>"
            ],
            "text/plain": [
              "                                                text   Target\n",
              "0                     No motion for rehearing filed.  UNK_UNK\n",
              "1  — Relator is under accusation of killing her h...  UNK_UNK\n",
              "2  From an order of the District Judge of the 39t...  UNK_UNK\n",
              "3  Relator and her husband had been married for a...  UNK_UNK\n",
              "4  The evidence indicates that their family relat...  UNK_UNK"
            ]
          },
          "metadata": {},
          "execution_count": 38
        }
      ]
    },
    {
      "cell_type": "code",
      "metadata": {
        "id": "WSThXFEnb-am"
      },
      "source": [
        "unlabel['fine_label utterance'] = unlabel['Target'] + '\\t' + unlabel['text']"
      ],
      "execution_count": 40,
      "outputs": []
    },
    {
      "cell_type": "code",
      "metadata": {
        "colab": {
          "base_uri": "https://localhost:8080/",
          "height": 205
        },
        "id": "QT68IRN-cPEF",
        "outputId": "8a8718e5-4726-4d22-9218-79a566348e87"
      },
      "source": [
        "unlabel.head()"
      ],
      "execution_count": 41,
      "outputs": [
        {
          "output_type": "execute_result",
          "data": {
            "text/html": [
              "<div>\n",
              "<style scoped>\n",
              "    .dataframe tbody tr th:only-of-type {\n",
              "        vertical-align: middle;\n",
              "    }\n",
              "\n",
              "    .dataframe tbody tr th {\n",
              "        vertical-align: top;\n",
              "    }\n",
              "\n",
              "    .dataframe thead th {\n",
              "        text-align: right;\n",
              "    }\n",
              "</style>\n",
              "<table border=\"1\" class=\"dataframe\">\n",
              "  <thead>\n",
              "    <tr style=\"text-align: right;\">\n",
              "      <th></th>\n",
              "      <th>text</th>\n",
              "      <th>Target</th>\n",
              "      <th>fine_label utterance</th>\n",
              "    </tr>\n",
              "  </thead>\n",
              "  <tbody>\n",
              "    <tr>\n",
              "      <th>0</th>\n",
              "      <td>No motion for rehearing filed.</td>\n",
              "      <td>UNK_UNK</td>\n",
              "      <td>UNK_UNK\\tNo motion for rehearing filed.</td>\n",
              "    </tr>\n",
              "    <tr>\n",
              "      <th>1</th>\n",
              "      <td>— Relator is under accusation of killing her h...</td>\n",
              "      <td>UNK_UNK</td>\n",
              "      <td>UNK_UNK\\t— Relator is under accusation of kill...</td>\n",
              "    </tr>\n",
              "    <tr>\n",
              "      <th>2</th>\n",
              "      <td>From an order of the District Judge of the 39t...</td>\n",
              "      <td>UNK_UNK</td>\n",
              "      <td>UNK_UNK\\tFrom an order of the District Judge o...</td>\n",
              "    </tr>\n",
              "    <tr>\n",
              "      <th>3</th>\n",
              "      <td>Relator and her husband had been married for a...</td>\n",
              "      <td>UNK_UNK</td>\n",
              "      <td>UNK_UNK\\tRelator and her husband had been marr...</td>\n",
              "    </tr>\n",
              "    <tr>\n",
              "      <th>4</th>\n",
              "      <td>The evidence indicates that their family relat...</td>\n",
              "      <td>UNK_UNK</td>\n",
              "      <td>UNK_UNK\\tThe evidence indicates that their fam...</td>\n",
              "    </tr>\n",
              "  </tbody>\n",
              "</table>\n",
              "</div>"
            ],
            "text/plain": [
              "                                                text  ...                               fine_label utterance\n",
              "0                     No motion for rehearing filed.  ...            UNK_UNK\\tNo motion for rehearing filed.\n",
              "1  — Relator is under accusation of killing her h...  ...  UNK_UNK\\t— Relator is under accusation of kill...\n",
              "2  From an order of the District Judge of the 39t...  ...  UNK_UNK\\tFrom an order of the District Judge o...\n",
              "3  Relator and her husband had been married for a...  ...  UNK_UNK\\tRelator and her husband had been marr...\n",
              "4  The evidence indicates that their family relat...  ...  UNK_UNK\\tThe evidence indicates that their fam...\n",
              "\n",
              "[5 rows x 3 columns]"
            ]
          },
          "metadata": {},
          "execution_count": 41
        }
      ]
    },
    {
      "cell_type": "code",
      "metadata": {
        "colab": {
          "base_uri": "https://localhost:8080/"
        },
        "id": "18dsJ_-PcTJR",
        "outputId": "b592a3a2-ff9d-4ffa-f2c8-b98d996bc356"
      },
      "source": [
        "print(unlabel['fine_label utterance'])"
      ],
      "execution_count": 42,
      "outputs": [
        {
          "output_type": "stream",
          "text": [
            "0                   UNK_UNK\\tNo motion for rehearing filed.\n",
            "1         UNK_UNK\\t— Relator is under accusation of kill...\n",
            "2         UNK_UNK\\tFrom an order of the District Judge o...\n",
            "3         UNK_UNK\\tRelator and her husband had been marr...\n",
            "4         UNK_UNK\\tThe evidence indicates that their fam...\n",
            "                                ...                        \n",
            "537698                UNK_UNK\\tThe opinion states the case.\n",
            "537699    UNK_UNK\\tAppellant was convicted in the county...\n",
            "537700    UNK_UNK\\tThe record is before us without any s...\n",
            "537701    UNK_UNK\\tThe charge of the court appears to ha...\n",
            "537702    UNK_UNK\\t■ No error appearing in the record, a...\n",
            "Name: fine_label utterance, Length: 537703, dtype: object\n"
          ],
          "name": "stdout"
        }
      ]
    },
    {
      "cell_type": "code",
      "metadata": {
        "id": "_56J6dTDelSj"
      },
      "source": [
        "size = "
      ],
      "execution_count": 43,
      "outputs": []
    },
    {
      "cell_type": "code",
      "metadata": {
        "id": "qRQRRF7Uevcf"
      },
      "source": [
        "size = 4416"
      ],
      "execution_count": 183,
      "outputs": []
    },
    {
      "cell_type": "code",
      "metadata": {
        "id": "DUSoKxrqddvQ"
      },
      "source": [
        "unlabel_1 = unlabel.sample(size)"
      ],
      "execution_count": 184,
      "outputs": []
    },
    {
      "cell_type": "code",
      "metadata": {
        "colab": {
          "base_uri": "https://localhost:8080/"
        },
        "id": "z4c8A91vewSJ",
        "outputId": "ed280bf2-902a-4a4d-b320-abc0c2bd2814"
      },
      "source": [
        "len(unlabel_1)"
      ],
      "execution_count": 185,
      "outputs": [
        {
          "output_type": "execute_result",
          "data": {
            "text/plain": [
              "4416"
            ]
          },
          "metadata": {},
          "execution_count": 185
        }
      ]
    },
    {
      "cell_type": "code",
      "metadata": {
        "colab": {
          "base_uri": "https://localhost:8080/"
        },
        "id": "-5KytkKnezVB",
        "outputId": "6223cf30-b394-4547-f7d8-04074db69f57"
      },
      "source": [
        "type(unlabel_1)"
      ],
      "execution_count": 186,
      "outputs": [
        {
          "output_type": "execute_result",
          "data": {
            "text/plain": [
              "pandas.core.frame.DataFrame"
            ]
          },
          "metadata": {},
          "execution_count": 186
        }
      ]
    },
    {
      "cell_type": "code",
      "metadata": {
        "colab": {
          "base_uri": "https://localhost:8080/",
          "height": 205
        },
        "id": "B0ZUwrM3e26Z",
        "outputId": "57e53dba-0bf4-4106-960d-133e95b3435b"
      },
      "source": [
        "unlabel_1.head()"
      ],
      "execution_count": 187,
      "outputs": [
        {
          "output_type": "execute_result",
          "data": {
            "text/html": [
              "<div>\n",
              "<style scoped>\n",
              "    .dataframe tbody tr th:only-of-type {\n",
              "        vertical-align: middle;\n",
              "    }\n",
              "\n",
              "    .dataframe tbody tr th {\n",
              "        vertical-align: top;\n",
              "    }\n",
              "\n",
              "    .dataframe thead th {\n",
              "        text-align: right;\n",
              "    }\n",
              "</style>\n",
              "<table border=\"1\" class=\"dataframe\">\n",
              "  <thead>\n",
              "    <tr style=\"text-align: right;\">\n",
              "      <th></th>\n",
              "      <th>text</th>\n",
              "      <th>Target</th>\n",
              "      <th>fine_label utterance</th>\n",
              "    </tr>\n",
              "  </thead>\n",
              "  <tbody>\n",
              "    <tr>\n",
              "      <th>422358</th>\n",
              "      <td>Debating the correctness of our opinion that b...</td>\n",
              "      <td>UNK_UNK</td>\n",
              "      <td>UNK_UNK\\tDebating the correctness of our opini...</td>\n",
              "    </tr>\n",
              "    <tr>\n",
              "      <th>208913</th>\n",
              "      <td>They went -to the lot and after taking several...</td>\n",
              "      <td>UNK_UNK</td>\n",
              "      <td>UNK_UNK\\tThey went -to the lot and after takin...</td>\n",
              "    </tr>\n",
              "    <tr>\n",
              "      <th>236293</th>\n",
              "      <td>In the statement, appellant stated that on the...</td>\n",
              "      <td>UNK_UNK</td>\n",
              "      <td>UNK_UNK\\tIn the statement, appellant stated th...</td>\n",
              "    </tr>\n",
              "    <tr>\n",
              "      <th>194721</th>\n",
              "      <td>He introduced a physician who testified that a...</td>\n",
              "      <td>UNK_UNK</td>\n",
              "      <td>UNK_UNK\\tHe introduced a physician who testifi...</td>\n",
              "    </tr>\n",
              "    <tr>\n",
              "      <th>74098</th>\n",
              "      <td>Such showing is wholly insufficient.</td>\n",
              "      <td>UNK_UNK</td>\n",
              "      <td>UNK_UNK\\tSuch showing is wholly insufficient.</td>\n",
              "    </tr>\n",
              "  </tbody>\n",
              "</table>\n",
              "</div>"
            ],
            "text/plain": [
              "                                                     text  ...                               fine_label utterance\n",
              "422358  Debating the correctness of our opinion that b...  ...  UNK_UNK\\tDebating the correctness of our opini...\n",
              "208913  They went -to the lot and after taking several...  ...  UNK_UNK\\tThey went -to the lot and after takin...\n",
              "236293  In the statement, appellant stated that on the...  ...  UNK_UNK\\tIn the statement, appellant stated th...\n",
              "194721  He introduced a physician who testified that a...  ...  UNK_UNK\\tHe introduced a physician who testifi...\n",
              "74098                Such showing is wholly insufficient.  ...      UNK_UNK\\tSuch showing is wholly insufficient.\n",
              "\n",
              "[5 rows x 3 columns]"
            ]
          },
          "metadata": {},
          "execution_count": 187
        }
      ]
    },
    {
      "cell_type": "code",
      "metadata": {
        "id": "AHJ2rNV_fi2U"
      },
      "source": [
        "del unlabel_1['Target']"
      ],
      "execution_count": 188,
      "outputs": []
    },
    {
      "cell_type": "code",
      "metadata": {
        "id": "jEIU3pqGfnD3"
      },
      "source": [
        "del unlabel_1['text']"
      ],
      "execution_count": 189,
      "outputs": []
    },
    {
      "cell_type": "code",
      "metadata": {
        "colab": {
          "base_uri": "https://localhost:8080/",
          "height": 422
        },
        "id": "gQ91BYSEfvQR",
        "outputId": "b8cd0546-2e4e-4a74-c6fd-79f7f55e220d"
      },
      "source": [
        "unlabel_1.reset_index()"
      ],
      "execution_count": 190,
      "outputs": [
        {
          "output_type": "execute_result",
          "data": {
            "text/html": [
              "<div>\n",
              "<style scoped>\n",
              "    .dataframe tbody tr th:only-of-type {\n",
              "        vertical-align: middle;\n",
              "    }\n",
              "\n",
              "    .dataframe tbody tr th {\n",
              "        vertical-align: top;\n",
              "    }\n",
              "\n",
              "    .dataframe thead th {\n",
              "        text-align: right;\n",
              "    }\n",
              "</style>\n",
              "<table border=\"1\" class=\"dataframe\">\n",
              "  <thead>\n",
              "    <tr style=\"text-align: right;\">\n",
              "      <th></th>\n",
              "      <th>index</th>\n",
              "      <th>fine_label utterance</th>\n",
              "    </tr>\n",
              "  </thead>\n",
              "  <tbody>\n",
              "    <tr>\n",
              "      <th>0</th>\n",
              "      <td>422358</td>\n",
              "      <td>UNK_UNK\\tDebating the correctness of our opini...</td>\n",
              "    </tr>\n",
              "    <tr>\n",
              "      <th>1</th>\n",
              "      <td>208913</td>\n",
              "      <td>UNK_UNK\\tThey went -to the lot and after takin...</td>\n",
              "    </tr>\n",
              "    <tr>\n",
              "      <th>2</th>\n",
              "      <td>236293</td>\n",
              "      <td>UNK_UNK\\tIn the statement, appellant stated th...</td>\n",
              "    </tr>\n",
              "    <tr>\n",
              "      <th>3</th>\n",
              "      <td>194721</td>\n",
              "      <td>UNK_UNK\\tHe introduced a physician who testifi...</td>\n",
              "    </tr>\n",
              "    <tr>\n",
              "      <th>4</th>\n",
              "      <td>74098</td>\n",
              "      <td>UNK_UNK\\tSuch showing is wholly insufficient.</td>\n",
              "    </tr>\n",
              "    <tr>\n",
              "      <th>...</th>\n",
              "      <td>...</td>\n",
              "      <td>...</td>\n",
              "    </tr>\n",
              "    <tr>\n",
              "      <th>4411</th>\n",
              "      <td>530804</td>\n",
              "      <td>UNK_UNK\\tFurther he testified that he agreed t...</td>\n",
              "    </tr>\n",
              "    <tr>\n",
              "      <th>4412</th>\n",
              "      <td>153083</td>\n",
              "      <td>UNK_UNK\\tThe charge of the court is on the wei...</td>\n",
              "    </tr>\n",
              "    <tr>\n",
              "      <th>4413</th>\n",
              "      <td>377344</td>\n",
              "      <td>UNK_UNK\\tWe see no possible injury that could ...</td>\n",
              "    </tr>\n",
              "    <tr>\n",
              "      <th>4414</th>\n",
              "      <td>461082</td>\n",
              "      <td>UNK_UNK\\tThe opinion states the case.</td>\n",
              "    </tr>\n",
              "    <tr>\n",
              "      <th>4415</th>\n",
              "      <td>178913</td>\n",
              "      <td>UNK_UNK\\tHe would then order the beer from Dal...</td>\n",
              "    </tr>\n",
              "  </tbody>\n",
              "</table>\n",
              "<p>4416 rows × 2 columns</p>\n",
              "</div>"
            ],
            "text/plain": [
              "       index                               fine_label utterance\n",
              "0     422358  UNK_UNK\\tDebating the correctness of our opini...\n",
              "1     208913  UNK_UNK\\tThey went -to the lot and after takin...\n",
              "2     236293  UNK_UNK\\tIn the statement, appellant stated th...\n",
              "3     194721  UNK_UNK\\tHe introduced a physician who testifi...\n",
              "4      74098      UNK_UNK\\tSuch showing is wholly insufficient.\n",
              "...      ...                                                ...\n",
              "4411  530804  UNK_UNK\\tFurther he testified that he agreed t...\n",
              "4412  153083  UNK_UNK\\tThe charge of the court is on the wei...\n",
              "4413  377344  UNK_UNK\\tWe see no possible injury that could ...\n",
              "4414  461082              UNK_UNK\\tThe opinion states the case.\n",
              "4415  178913  UNK_UNK\\tHe would then order the beer from Dal...\n",
              "\n",
              "[4416 rows x 2 columns]"
            ]
          },
          "metadata": {},
          "execution_count": 190
        }
      ]
    },
    {
      "cell_type": "code",
      "metadata": {
        "colab": {
          "base_uri": "https://localhost:8080/"
        },
        "id": "KKvl4RwVf19y",
        "outputId": "3bf4efd9-ff05-4cc0-ad9f-5667a52d6c6c"
      },
      "source": [
        "unlabel_1.columns"
      ],
      "execution_count": 191,
      "outputs": [
        {
          "output_type": "execute_result",
          "data": {
            "text/plain": [
              "Index(['fine_label utterance'], dtype='object')"
            ]
          },
          "metadata": {},
          "execution_count": 191
        }
      ]
    },
    {
      "cell_type": "code",
      "metadata": {
        "id": "kh3m7Fs3cWhQ"
      },
      "source": [
        "unlabel_1.to_csv('/content/drive/My Drive/Research/Chen_data/Unlabled_50.tsv', sep = '\\t',index=False)"
      ],
      "execution_count": 192,
      "outputs": []
    },
    {
      "cell_type": "code",
      "metadata": {
        "colab": {
          "base_uri": "https://localhost:8080/"
        },
        "id": "j1PHnLpVe661",
        "outputId": "44ccaa9d-6768-4875-e62b-70558fe1c7c7"
      },
      "source": [
        "len(unlabel_1)"
      ],
      "execution_count": 193,
      "outputs": [
        {
          "output_type": "execute_result",
          "data": {
            "text/plain": [
              "4416"
            ]
          },
          "metadata": {},
          "execution_count": 193
        }
      ]
    },
    {
      "cell_type": "code",
      "metadata": {
        "id": "JCbb19lag9-R"
      },
      "source": [
        ""
      ],
      "execution_count": null,
      "outputs": []
    }
  ]
}